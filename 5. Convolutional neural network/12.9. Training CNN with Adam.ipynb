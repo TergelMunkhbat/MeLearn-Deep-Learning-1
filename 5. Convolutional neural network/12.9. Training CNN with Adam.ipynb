{
  "nbformat": 4,
  "nbformat_minor": 0,
  "metadata": {
    "colab": {
      "name": "12.9. Training CNN.ipynb",
      "provenance": [],
      "collapsed_sections": []
    },
    "kernelspec": {
      "name": "python3",
      "display_name": "Python 3"
    },
    "language_info": {
      "name": "python"
    },
    "accelerator": "GPU"
  },
  "cells": [
    {
      "cell_type": "markdown",
      "metadata": {
        "id": "JxxykYwKmLnP"
      },
      "source": [
        "\n",
        "# Training CNN"
      ]
    },
    {
      "cell_type": "markdown",
      "metadata": {
        "id": "vTP_ldignDPv"
      },
      "source": [
        "## Import Modules"
      ]
    },
    {
      "cell_type": "code",
      "metadata": {
        "id": "m31wCvYZmk8u"
      },
      "source": [
        "import os\n",
        "import torch\n",
        "import torch.optim as optim\n",
        "import torch.nn as nn\n",
        "import torch.nn.functional as F\n",
        "import torchvision\n",
        "from torchvision import transforms"
      ],
      "execution_count": null,
      "outputs": []
    },
    {
      "cell_type": "markdown",
      "metadata": {
        "id": "zy9138B0nQ8X"
      },
      "source": [
        "## Connect to Google Drive"
      ]
    },
    {
      "cell_type": "code",
      "metadata": {
        "id": "-jFcwYnmnO1I",
        "colab": {
          "base_uri": "https://localhost:8080/"
        },
        "outputId": "1d3b28b4-fd3c-4024-dcab-c12d3b72c95d"
      },
      "source": [
        "from google.colab import drive\n",
        "\n",
        "drive.mount('/gdrive')\n",
        "gdrive_root = '/gdrive/My Drive/Experiments'"
      ],
      "execution_count": null,
      "outputs": [
        {
          "output_type": "stream",
          "name": "stdout",
          "text": [
            "Drive already mounted at /gdrive; to attempt to forcibly remount, call drive.mount(\"/gdrive\", force_remount=True).\n"
          ]
        }
      ]
    },
    {
      "cell_type": "markdown",
      "metadata": {
        "id": "ZCdVsolEpCod"
      },
      "source": [
        "## Set Hyperparameters"
      ]
    },
    {
      "cell_type": "code",
      "metadata": {
        "id": "Tw2_9u99oSt-"
      },
      "source": [
        "#########################\n",
        "max_epoch = 10\n",
        "learning_rate = 0.001\n",
        "batch_size = 128\n",
        "#########################\n",
        "device = 'cuda'"
      ],
      "execution_count": null,
      "outputs": []
    },
    {
      "cell_type": "markdown",
      "metadata": {
        "id": "bV-mv4UFq71p"
      },
      "source": [
        "## Construct Data"
      ]
    },
    {
      "cell_type": "code",
      "metadata": {
        "id": "RyJKWZ5gqxa2",
        "colab": {
          "base_uri": "https://localhost:8080/"
        },
        "outputId": "b7d5a013-ac38-4262-dcde-92f59fdb199f"
      },
      "source": [
        "data_dir = os.path.join(gdrive_root, 'MeLearn')\n",
        "\n",
        "train_dataset = torchvision.datasets.FashionMNIST(root=data_dir, train=True, download=True, transform=transforms.ToTensor())\n",
        "train_loader = torch.utils.data.DataLoader(train_dataset, batch_size=batch_size, shuffle=True)\n",
        "\n",
        "test_dataset = torchvision.datasets.FashionMNIST(root=data_dir, train=False, download=True, transform=transforms.ToTensor())\n",
        "test_loader = torch.utils.data.DataLoader(test_dataset, batch_size=batch_size, shuffle=False)\n",
        "\n",
        "classes = ('T-shirt', 'Trouser', 'Pullover', 'Dress', 'Coat',\n",
        "           'Sandal', 'Shirt', 'Sneaker', 'Bag', 'Ankle boot')"
      ],
      "execution_count": null,
      "outputs": [
        {
          "output_type": "stream",
          "name": "stderr",
          "text": [
            "/usr/local/lib/python3.7/dist-packages/torchvision/datasets/mnist.py:498: UserWarning: The given NumPy array is not writeable, and PyTorch does not support non-writeable tensors. This means you can write to the underlying (supposedly non-writeable) NumPy array using the tensor. You may want to copy the array to protect its data or make it writeable before converting it to a tensor. This type of warning will be suppressed for the rest of this program. (Triggered internally at  /pytorch/torch/csrc/utils/tensor_numpy.cpp:180.)\n",
            "  return torch.from_numpy(parsed.astype(m[2], copy=False)).view(*s)\n"
          ]
        }
      ]
    },
    {
      "cell_type": "markdown",
      "metadata": {
        "id": "QerJA9eltCJU"
      },
      "source": [
        "## Define a Model"
      ]
    },
    {
      "cell_type": "code",
      "metadata": {
        "id": "6mDTKuT7s2SR"
      },
      "source": [
        "class Classifier(nn.Module):\n",
        "  def __init__(self):\n",
        "    super(Classifier, self).__init__()\n",
        "    ##################################\n",
        "    # First 2D convolutional layer, taking in 1 input channel (image),\n",
        "    # outputting 32 activation maps, with a square kernel size of 3\n",
        "    self.conv1 = nn.Conv2d(1, 32, 3)\n",
        "    # Second 2D convolutional layer, taking in the 32 input channel,\n",
        "    # outputting 64 activation maps, with a square kernel size of 3\n",
        "    self.conv2 = nn.Conv2d(32, 64, 3)\n",
        "\n",
        "    #For regularization, using dropout layers\n",
        "    self.dropout1 = nn.Dropout2d(0.25)\n",
        "    self.dropout2 = nn.Dropout2d(0.5)\n",
        "\n",
        "    # First fully connected layer\n",
        "    self.fc1 = nn.Linear(9216, 128)\n",
        "    # Second fully connected layer that outputs our 10 labels\n",
        "    self.fc2 = nn.Linear(128, 10)\n",
        "    ##################################\n",
        "\n",
        "  def forward(self, x):\n",
        "    ##################################\n",
        "    # stack the components\n",
        "    # Pass data through conv1 with the ReLU activation function\n",
        "    x = self.conv1(x)\n",
        "    x = F.relu(x)\n",
        "\n",
        "    # Passing through conv2 with the ReLU activation function\n",
        "    x = self.conv2(x)\n",
        "    x = F.relu(x)\n",
        "    # Run max pooling over x\n",
        "    x = F.max_pool2d(x, 2)\n",
        "\n",
        "    # Pass data through dropout1\n",
        "    x = self.dropout1(x)\n",
        "\n",
        "    # Flatten x\n",
        "    x = torch.flatten(x, 1)\n",
        "\n",
        "    # Pass data through fc1 with the ReLU\n",
        "    x = self.fc1(x)\n",
        "    x = F.relu(x)\n",
        "    # Pass data through dropout2\n",
        "    x = self.dropout2(x)\n",
        "\n",
        "    # Pass data through fc2\n",
        "    output = self.fc2(x)\n",
        "    ##################################\n",
        "    return output"
      ],
      "execution_count": null,
      "outputs": []
    },
    {
      "cell_type": "markdown",
      "metadata": {
        "id": "-2HiReHwvNfb"
      },
      "source": [
        "## Initilize the model and optimizer"
      ]
    },
    {
      "cell_type": "code",
      "metadata": {
        "id": "us4b3UDRvRsX",
        "colab": {
          "base_uri": "https://localhost:8080/"
        },
        "outputId": "4de8adc5-2dd2-4a1f-bd9f-daed4870e1dd"
      },
      "source": [
        "model = Classifier().to(device)\n",
        "print('Model Structure')\n",
        "print(model)\n",
        "\n",
        "softmax_cce = nn.CrossEntropyLoss(reduction='sum')\n",
        "optimizer = optim.Adam(model.parameters(), lr=learning_rate)"
      ],
      "execution_count": null,
      "outputs": [
        {
          "output_type": "stream",
          "name": "stdout",
          "text": [
            "Model Structure\n",
            "Classifier(\n",
            "  (conv1): Conv2d(1, 32, kernel_size=(3, 3), stride=(1, 1))\n",
            "  (conv2): Conv2d(32, 64, kernel_size=(3, 3), stride=(1, 1))\n",
            "  (dropout1): Dropout2d(p=0.25, inplace=False)\n",
            "  (dropout2): Dropout2d(p=0.5, inplace=False)\n",
            "  (fc1): Linear(in_features=9216, out_features=128, bias=True)\n",
            "  (fc2): Linear(in_features=128, out_features=10, bias=True)\n",
            ")\n"
          ]
        }
      ]
    },
    {
      "cell_type": "markdown",
      "metadata": {
        "id": "efuZ3RGjxE7L"
      },
      "source": [
        "## Define the Training Procedure"
      ]
    },
    {
      "cell_type": "code",
      "metadata": {
        "id": "UIoXOvLFvs04"
      },
      "source": [
        "train_loss_history = []\n",
        "def train(epoch):\n",
        "  model.train()\n",
        "  train_loss = 0\n",
        "  train_accuracy = 0\n",
        "  for i, (x, y) in enumerate(train_loader):\n",
        "    inputs = x.to(device)\n",
        "    labels = y.to(device)\n",
        "    ####################################\n",
        "    #Setting manually the gradients to 0\n",
        "    optimizer.zero_grad()\n",
        "    #Calculate the predicted output\n",
        "    output = model(inputs)\n",
        "    #Calculate the loss\n",
        "    loss = softmax_cce(output, labels)\n",
        "    train_loss += loss.item()\n",
        "    #Calculate the accuracy\n",
        "    pred = output.argmax(dim=1, keepdims=True)\n",
        "    train_accuracy += pred.eq(labels.view_as(pred)).sum().item()\n",
        "    #Calculate gradients\n",
        "    loss.backward()\n",
        "    #Perform optimzation step\n",
        "    optimizer.step()\n",
        "    ####################################\n",
        "\n",
        "  train_loss /= len(train_loader.dataset)\n",
        "  train_accuracy /= len(train_loader.dataset)\n",
        "  print(f'epoch: {epoch}, train loss: {train_loss:.4f}, train accuracy {train_accuracy:.4f}')\n",
        "  train_loss_history.append(train_loss)"
      ],
      "execution_count": null,
      "outputs": []
    },
    {
      "cell_type": "markdown",
      "metadata": {
        "id": "PFvhOeFOyo0T"
      },
      "source": [
        "## Define the Testing Procedure"
      ]
    },
    {
      "cell_type": "code",
      "metadata": {
        "id": "2yanmrAOxA35"
      },
      "source": [
        "test_loss_history = []\n",
        "def test(epoch):\n",
        "  model.eval()\n",
        "  test_loss = 0\n",
        "  test_accuracy = 0\n",
        "  for i, (x, y) in enumerate(test_loader):\n",
        "    inputs = x.to(device)\n",
        "    labels = y.to(device)\n",
        "    ####################################\n",
        "    output = model(inputs)\n",
        "    test_loss += softmax_cce(output, labels).item()\n",
        "    pred = output.argmax(dim=1, keepdim=True)\n",
        "    test_accuracy += pred.eq(labels.view_as(pred)).sum().item()\n",
        "    ####################################\n",
        "  \n",
        "  test_loss /= len(test_loader.dataset)\n",
        "  test_accuracy /= len(test_loader.dataset)\n",
        "  print(f'epoch: {epoch}, test loss: {test_loss:.4f}, test accuracy {test_accuracy:.4f}')\n",
        "  test_loss_history.append(test_loss)"
      ],
      "execution_count": null,
      "outputs": []
    },
    {
      "cell_type": "markdown",
      "metadata": {
        "id": "4F5pjS3bz7kf"
      },
      "source": [
        "## Training the model"
      ]
    },
    {
      "cell_type": "code",
      "metadata": {
        "colab": {
          "base_uri": "https://localhost:8080/"
        },
        "id": "8esvmSxKz9YK",
        "outputId": "2556d23a-1a0c-44a4-8081-ecfc0904d0b2"
      },
      "source": [
        "# Training\n",
        "for epoch in range(max_epoch):\n",
        "  train(epoch)\n",
        "  test(epoch)"
      ],
      "execution_count": null,
      "outputs": [
        {
          "output_type": "stream",
          "name": "stderr",
          "text": [
            "/usr/local/lib/python3.7/dist-packages/torch/nn/functional.py:718: UserWarning: Named tensors and all their associated APIs are an experimental feature and subject to change. Please do not use them for anything important until they are released as stable. (Triggered internally at  /pytorch/c10/core/TensorImpl.h:1156.)\n",
            "  return torch.max_pool2d(input, kernel_size, stride, padding, dilation, ceil_mode)\n"
          ]
        },
        {
          "output_type": "stream",
          "name": "stdout",
          "text": [
            "epoch: 0, train loss: 0.5693, train accuracy 0.7929\n",
            "epoch: 0, test loss: 0.3720, test accuracy 0.8638\n",
            "epoch: 1, train loss: 0.3806, train accuracy 0.8652\n",
            "epoch: 1, test loss: 0.3104, test accuracy 0.8876\n",
            "epoch: 2, train loss: 0.3308, train accuracy 0.8809\n",
            "epoch: 2, test loss: 0.2862, test accuracy 0.8964\n",
            "epoch: 3, train loss: 0.2984, train accuracy 0.8932\n",
            "epoch: 3, test loss: 0.2618, test accuracy 0.9038\n",
            "epoch: 4, train loss: 0.2724, train accuracy 0.9009\n",
            "epoch: 4, test loss: 0.2540, test accuracy 0.9058\n",
            "epoch: 5, train loss: 0.2519, train accuracy 0.9080\n",
            "epoch: 5, test loss: 0.2452, test accuracy 0.9101\n",
            "epoch: 6, train loss: 0.2337, train accuracy 0.9139\n",
            "epoch: 6, test loss: 0.2338, test accuracy 0.9145\n",
            "epoch: 7, train loss: 0.2188, train accuracy 0.9194\n",
            "epoch: 7, test loss: 0.2250, test accuracy 0.9189\n",
            "epoch: 8, train loss: 0.2055, train accuracy 0.9245\n",
            "epoch: 8, test loss: 0.2189, test accuracy 0.9223\n",
            "epoch: 9, train loss: 0.1937, train accuracy 0.9266\n",
            "epoch: 9, test loss: 0.2194, test accuracy 0.9245\n"
          ]
        }
      ]
    },
    {
      "cell_type": "code",
      "metadata": {
        "colab": {
          "base_uri": "https://localhost:8080/",
          "height": 283
        },
        "id": "2hwda7lj7YDb",
        "outputId": "928f8dc5-754a-443e-e106-034604843c3e"
      },
      "source": [
        "import matplotlib.pyplot as plt\n",
        "plt.plot(train_loss_history, label='training error')\n",
        "plt.plot(test_loss_history, label='validation error')\n",
        "plt.legend()"
      ],
      "execution_count": null,
      "outputs": [
        {
          "output_type": "execute_result",
          "data": {
            "text/plain": [
              "<matplotlib.legend.Legend at 0x7fc1f9459090>"
            ]
          },
          "metadata": {},
          "execution_count": 13
        },
        {
          "output_type": "display_data",
          "data": {
            "image/png": "[encoded data removed]",
            "text/plain": [
              "<Figure size 432x288 with 1 Axes>"
            ]
          },
          "metadata": {
            "needs_background": "light"
          }
        }
      ]
    },
    {
      "cell_type": "markdown",
      "metadata": {
        "id": "G-d93MGJ8XVP"
      },
      "source": [
        "## Classify a given data"
      ]
    },
    {
      "cell_type": "code",
      "metadata": {
        "colab": {
          "base_uri": "https://localhost:8080/",
          "height": 300
        },
        "id": "RnQOaa4c7-kL",
        "outputId": "1fb84d49-dc47-4ad3-ab1f-fd4d88b67362"
      },
      "source": [
        "import random\n",
        "import numpy as np\n",
        "\n",
        "model.eval()\n",
        "random_idx = random.randint(0, len(test_loader.dataset))\n",
        "test_input, test_label = test_dataset.__getitem__(random_idx)\n",
        "test_prediction = F.softmax(model(test_input.unsqueeze(0).to(device)), dim=1).argmax().item()\n",
        "print('label : %s' % classes[test_label])\n",
        "print('prediction : %s' % classes[test_prediction])\n",
        "\n",
        "# functions to show an image\n",
        "def imshow(img):\n",
        "    npimg = img.numpy()\n",
        "    plt.imshow(np.transpose(npimg, (1, 2, 0)))\n",
        "\n",
        "# show images\n",
        "imshow(torchvision.utils.make_grid(test_input))"
      ],
      "execution_count": null,
      "outputs": [
        {
          "output_type": "stream",
          "name": "stdout",
          "text": [
            "label : Sandal\n",
            "prediction : Sandal\n"
          ]
        },
        {
          "output_type": "display_data",
          "data": {
            "image/png": "[encoded data removed]",
            "text/plain": [
              "<Figure size 432x288 with 1 Axes>"
            ]
          },
          "metadata": {
            "needs_background": "light"
          }
        }
      ]
    },
    {
      "cell_type": "code",
      "metadata": {
        "id": "JX8vPWdzZ4mR"
      },
      "source": [
        ""
      ],
      "execution_count": null,
      "outputs": []
    }
  ]
}
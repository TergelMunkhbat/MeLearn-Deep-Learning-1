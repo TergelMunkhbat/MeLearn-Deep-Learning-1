{
 "cells": [
  {
   "cell_type": "markdown",
   "id": "211f9c01",
   "metadata": {},
   "source": [
    "# Deep Learning - 1"
   ]
  },
  {
   "cell_type": "markdown",
   "id": "649f7822",
   "metadata": {},
   "source": [
    "## Chapter 1: The Simplest Neural network"
   ]
  },
  {
   "cell_type": "markdown",
   "id": "592d6d6e",
   "metadata": {},
   "source": [
    "### Linear regression"
   ]
  },
  {
   "cell_type": "markdown",
   "id": "b0a24843",
   "metadata": {},
   "source": [
    "---------------"
   ]
  },
  {
   "cell_type": "markdown",
   "id": "68ba858a",
   "metadata": {},
   "source": [
    "<img src=\"Images/Data.PNG\" alt=\"Drawing\" style=\"width: 300px;\"/>"
   ]
  },
  {
   "cell_type": "markdown",
   "id": "7c43cbb9",
   "metadata": {},
   "source": [
    "### Data"
   ]
  },
  {
   "cell_type": "code",
   "execution_count": 46,
   "id": "79771ebd",
   "metadata": {},
   "outputs": [],
   "source": [
    "coronavirus_cases = [2, 1, 3]\n",
    "tourists = [1, 2, 1]"
   ]
  },
  {
   "cell_type": "markdown",
   "id": "5883cc3b",
   "metadata": {},
   "source": [
    "<img src=\"Images/Model.PNG\" alt=\"Drawing\" style=\"width: 300px;\"/>"
   ]
  },
  {
   "cell_type": "markdown",
   "id": "31367f76",
   "metadata": {},
   "source": [
    "### Model"
   ]
  },
  {
   "cell_type": "code",
   "execution_count": 47,
   "id": "58cf49ee",
   "metadata": {},
   "outputs": [],
   "source": [
    "def neural_network(input: float, weigth: float, bias: float) -> float:\n",
    "    \"\"\"\n",
    "    The simplest neural network\n",
    "    It multiplies the input by a weight, and then adds a bias\n",
    "    \"\"\"\n",
    "    output = input * weight + bias\n",
    "    return output"
   ]
  },
  {
   "cell_type": "markdown",
   "id": "02f0ca82",
   "metadata": {},
   "source": [
    "### Import"
   ]
  },
  {
   "cell_type": "code",
   "execution_count": 48,
   "id": "fa303a52",
   "metadata": {},
   "outputs": [],
   "source": [
    "import numpy as np"
   ]
  },
  {
   "cell_type": "markdown",
   "id": "bd1d9c01",
   "metadata": {},
   "source": [
    "### Parameters"
   ]
  },
  {
   "cell_type": "code",
   "execution_count": 49,
   "id": "c3b55470",
   "metadata": {},
   "outputs": [
    {
     "name": "stdout",
     "output_type": "stream",
     "text": [
      "weight: 0.009115394302071533 bias: 0\n"
     ]
    }
   ],
   "source": [
    "weight = np.random.rand()\n",
    "bias = 0\n",
    "print(f'weight: {weight} bias: {bias}')"
   ]
  },
  {
   "cell_type": "markdown",
   "id": "a13a8d13",
   "metadata": {},
   "source": [
    "### Hyperparameters"
   ]
  },
  {
   "cell_type": "code",
   "execution_count": 50,
   "id": "ceade302",
   "metadata": {},
   "outputs": [],
   "source": [
    "epoch = 300\n",
    "alpha = 0.01"
   ]
  },
  {
   "cell_type": "markdown",
   "id": "57f5a8f3",
   "metadata": {},
   "source": [
    "### Optimizing the parameters"
   ]
  },
  {
   "cell_type": "code",
   "execution_count": 51,
   "id": "f924ab61",
   "metadata": {
    "scrolled": true
   },
   "outputs": [
    {
     "name": "stdout",
     "output_type": "stream",
     "text": [
      "Давталт: 0 \tНийт алдаа: 1.7198976749256605\n",
      "Давталт: 10 \tНийт алдаа: 0.6568936610093419\n",
      "Давталт: 20 \tНийт алдаа: 0.5718331435168236\n",
      "Давталт: 30 \tНийт алдаа: 0.4996057094935672\n",
      "Давталт: 40 \tНийт алдаа: 0.4375399115416389\n",
      "Давталт: 50 \tНийт алдаа: 0.3842060586785114\n",
      "Давталт: 60 \tНийт алдаа: 0.3383806059166924\n",
      "Давталт: 70 \tНийт алдаа: 0.2990111921407316\n",
      "Давталт: 80 \tНийт алдаа: 0.2651926189230315\n",
      "Давталт: 90 \tНийт алдаа: 0.2361462936799038\n",
      "Давталт: 100 \tНийт алдаа: 0.21120254432326305\n",
      "Давталт: 110 \tНийт алдаа: 0.1897854027522226\n",
      "Давталт: 120 \tНийт алдаа: 0.17139951263230904\n",
      "Давталт: 130 \tНийт алдаа: 0.15561886501140143\n",
      "Давталт: 140 \tНийт алдаа: 0.1420771066844312\n",
      "Давталт: 150 \tНийт алдаа: 0.1304592018109676\n",
      "Давталт: 160 \tНийт алдаа: 0.12049425791632931\n",
      "Давталт: 170 \tНийт алдаа: 0.11194935376051036\n",
      "Давталт: 180 \tНийт алдаа: 0.10462422923608848\n",
      "Давталт: 190 \tНийт алдаа: 0.09834671696932712\n",
      "Давталт: 200 \tНийт алдаа: 0.09296881208928387\n",
      "Давталт: 210 \tНийт алдаа: 0.0883632910776827\n",
      "Давталт: 220 \tНийт алдаа: 0.08442080304443911\n",
      "Давталт: 230 \tНийт алдаа: 0.081047367471265\n",
      "Давталт: 240 \tНийт алдаа: 0.0781622216707163\n",
      "Давталт: 250 \tНийт алдаа: 0.075695969128631\n",
      "Давталт: 260 \tНийт алдаа: 0.07358898671330939\n",
      "Давталт: 270 \tНийт алдаа: 0.07179005459921402\n",
      "Давталт: 280 \tНийт алдаа: 0.07025517779908445\n",
      "Давталт: 290 \tНийт алдаа: 0.06894657254033904\n",
      "\n",
      "Weight: -0.3967789295060476 and Bias 2.1117759878413436\n"
     ]
    }
   ],
   "source": [
    "for iteration in range(epoch):\n",
    "    error = 0\n",
    "    for i in range(len(coronavirus_cases)):\n",
    "        input = coronavirus_cases[i]\n",
    "        true = tourists[i]\n",
    "\n",
    "        prediction = neural_network(input, weight, bias)\n",
    "        error += (prediction - true) ** 2 / len(coronavirus_cases)\n",
    "        \n",
    "        #Stochastic gradient descent\n",
    "        # w_new = w_old - 2 * (pred - true) * input\n",
    "        # b_new = b_old - 2 * (pred - true)\n",
    "        delta = prediction - true #Direction\n",
    "        weight_delta = 2 * delta * input #Weight Amount\n",
    "        bias_delta = 2 * delta #Bias Amount\n",
    "        \n",
    "        weight -= weight_delta * alpha\n",
    "        bias -= bias_delta * alpha\n",
    "        \n",
    "    if not iteration % 10:    \n",
    "        print(f'Давталт: {iteration} \\tНийт алдаа: {error}')\n",
    "print(f'\\nWeight: {weight} and Bias {bias}')"
   ]
  },
  {
   "cell_type": "code",
   "execution_count": 26,
   "id": "c1ccf8b9",
   "metadata": {},
   "outputs": [],
   "source": [
    "import matplotlib.pyplot as plt"
   ]
  },
  {
   "cell_type": "code",
   "execution_count": 52,
   "id": "207ca8dd",
   "metadata": {
    "scrolled": false
   },
   "outputs": [
    {
     "data": {
      "text/plain": [
       "[<matplotlib.lines.Line2D at 0x222ff268610>]"
      ]
     },
     "execution_count": 52,
     "metadata": {},
     "output_type": "execute_result"
    },
    {
     "data": {
      "image/png": "[encoded data removed]",
      "text/plain": [
       "<Figure size 432x288 with 1 Axes>"
      ]
     },
     "metadata": {
      "needs_background": "light"
     },
     "output_type": "display_data"
    }
   ],
   "source": [
    "x = np.arange(-2, 4, 0.001)\n",
    "y = neural_network(x, weight, bias)\n",
    "\n",
    "plt.xlabel('Coronavirus cases')\n",
    "plt.ylabel('Tourists')\n",
    "plt.grid()\n",
    "plt.plot(x,y)\n",
    "plt.plot(coronavirus_cases, tourists, 'o')"
   ]
  },
  {
   "cell_type": "markdown",
   "id": "123492e4",
   "metadata": {},
   "source": [
    "### Usage"
   ]
  },
  {
   "cell_type": "code",
   "execution_count": 56,
   "id": "ebfa4337",
   "metadata": {},
   "outputs": [
    {
     "name": "stdout",
     "output_type": "stream",
     "text": [
      "Таамаг: 10.047354577962295\n"
     ]
    }
   ],
   "source": [
    "test_input = -20\n",
    "test_prediction = neural_network(test_input, weight, bias)\n",
    "print(f'Таамаг: {test_prediction}')"
   ]
  }
 ],
 "metadata": {
  "kernelspec": {
   "display_name": "Python 3",
   "language": "python",
   "name": "python3"
  },
  "language_info": {
   "codemirror_mode": {
    "name": "ipython",
    "version": 3
   },
   "file_extension": ".py",
   "mimetype": "text/x-python",
   "name": "python",
   "nbconvert_exporter": "python",
   "pygments_lexer": "ipython3",
   "version": "3.9.5"
  }
 },
 "nbformat": 4,
 "nbformat_minor": 5
}

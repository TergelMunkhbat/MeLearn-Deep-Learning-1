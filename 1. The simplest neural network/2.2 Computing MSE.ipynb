{
 "cells": [
  {
   "cell_type": "markdown",
   "id": "211f9c01",
   "metadata": {},
   "source": [
    "# Deep Learning - 1"
   ]
  },
  {
   "cell_type": "markdown",
   "id": "649f7822",
   "metadata": {},
   "source": [
    "## Chapter 1: The Simplest Neural network"
   ]
  },
  {
   "cell_type": "markdown",
   "id": "592d6d6e",
   "metadata": {},
   "source": [
    "### Computing MSE"
   ]
  },
  {
   "cell_type": "markdown",
   "id": "b0a24843",
   "metadata": {},
   "source": [
    "---------------"
   ]
  },
  {
   "cell_type": "markdown",
   "id": "68ba858a",
   "metadata": {},
   "source": [
    "<img src=\"Images/Data.PNG\" alt=\"Drawing\" style=\"width: 300px;\"/>"
   ]
  },
  {
   "cell_type": "markdown",
   "id": "7c43cbb9",
   "metadata": {},
   "source": [
    "### Data"
   ]
  },
  {
   "cell_type": "code",
   "execution_count": 1,
   "id": "79771ebd",
   "metadata": {},
   "outputs": [],
   "source": [
    "coronavirus_cases = [2, 1]\n",
    "tourists = [1, 2]"
   ]
  },
  {
   "cell_type": "markdown",
   "id": "5883cc3b",
   "metadata": {},
   "source": [
    "<img src=\"Images/Model.PNG\" alt=\"Drawing\" style=\"width: 300px;\"/>"
   ]
  },
  {
   "cell_type": "markdown",
   "id": "31367f76",
   "metadata": {},
   "source": [
    "### Model"
   ]
  },
  {
   "cell_type": "code",
   "execution_count": 2,
   "id": "58cf49ee",
   "metadata": {},
   "outputs": [],
   "source": [
    "def neural_network(input: float, weigth: float, bias: float) -> float:\n",
    "    \"\"\"\n",
    "    The simplest neural network\n",
    "    It multiplies the input by a weight, and then adds a bias\n",
    "    \"\"\"\n",
    "    output = input * weight + bias\n",
    "    return output"
   ]
  },
  {
   "cell_type": "markdown",
   "id": "bd1d9c01",
   "metadata": {},
   "source": [
    "### Parameters"
   ]
  },
  {
   "cell_type": "code",
   "execution_count": 19,
   "id": "c3b55470",
   "metadata": {},
   "outputs": [],
   "source": [
    "weight = -1\n",
    "bias = 3"
   ]
  },
  {
   "cell_type": "markdown",
   "id": "57f5a8f3",
   "metadata": {},
   "source": [
    "### Error"
   ]
  },
  {
   "cell_type": "code",
   "execution_count": 20,
   "id": "f924ab61",
   "metadata": {},
   "outputs": [
    {
     "name": "stdout",
     "output_type": "stream",
     "text": [
      "Таамаг: 1 \tҮнэн утга: 1\n",
      "Таамаг: 2 \tҮнэн утга: 2\n",
      "Нийт алдаа: 0.0\n"
     ]
    }
   ],
   "source": [
    "error = 0\n",
    "for i in range(len(coronavirus_cases)):\n",
    "    input = coronavirus_cases[i]\n",
    "    true = tourists[i]\n",
    "    \n",
    "    prediction = neural_network(input, weight, bias)\n",
    "    print(f'Таамаг: {prediction} \\tҮнэн утга: {true}')\n",
    "    \n",
    "    error += (prediction - true) ** 2 / len(coronavirus_cases)\n",
    "print(f'Нийт алдаа: {error}')"
   ]
  },
  {
   "cell_type": "code",
   "execution_count": null,
   "id": "47159aa7",
   "metadata": {},
   "outputs": [],
   "source": []
  }
 ],
 "metadata": {
  "kernelspec": {
   "display_name": "Python 3",
   "language": "python",
   "name": "python3"
  },
  "language_info": {
   "codemirror_mode": {
    "name": "ipython",
    "version": 3
   },
   "file_extension": ".py",
   "mimetype": "text/x-python",
   "name": "python",
   "nbconvert_exporter": "python",
   "pygments_lexer": "ipython3",
   "version": "3.9.5"
  }
 },
 "nbformat": 4,
 "nbformat_minor": 5
}

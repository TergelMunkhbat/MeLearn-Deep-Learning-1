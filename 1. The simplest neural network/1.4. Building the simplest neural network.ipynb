{
 "cells": [
  {
   "cell_type": "markdown",
   "id": "211f9c01",
   "metadata": {},
   "source": [
    "# Deep Learning - 1"
   ]
  },
  {
   "cell_type": "markdown",
   "id": "649f7822",
   "metadata": {},
   "source": [
    "## Chapter 1: The Simplest Neural network"
   ]
  },
  {
   "cell_type": "markdown",
   "id": "592d6d6e",
   "metadata": {},
   "source": [
    "### Building the simplest neural network in Python"
   ]
  },
  {
   "cell_type": "markdown",
   "id": "b0a24843",
   "metadata": {},
   "source": [
    "---------------"
   ]
  },
  {
   "cell_type": "markdown",
   "id": "68ba858a",
   "metadata": {},
   "source": [
    "<img src=\"Images/Data.PNG\" alt=\"Drawing\" style=\"width: 300px;\"/>"
   ]
  },
  {
   "cell_type": "markdown",
   "id": "7c43cbb9",
   "metadata": {},
   "source": [
    "### Data"
   ]
  },
  {
   "cell_type": "code",
   "execution_count": 1,
   "id": "79771ebd",
   "metadata": {},
   "outputs": [],
   "source": [
    "coronavirus_cases = [2, 1]\n",
    "tourists = [1, 2]"
   ]
  },
  {
   "cell_type": "markdown",
   "id": "5883cc3b",
   "metadata": {},
   "source": [
    "<img src=\"Images/Model.PNG\" alt=\"Drawing\" style=\"width: 300px;\"/>"
   ]
  },
  {
   "cell_type": "markdown",
   "id": "31367f76",
   "metadata": {},
   "source": [
    "### Model"
   ]
  },
  {
   "cell_type": "code",
   "execution_count": 3,
   "id": "58cf49ee",
   "metadata": {},
   "outputs": [],
   "source": [
    "def neural_network(input: float, weigth: float, bias: float) -> float:\n",
    "    \"\"\"\n",
    "    The simplest neural network\n",
    "    It multiplies the input by a weight, and then adds a bias\n",
    "    \"\"\"\n",
    "    output = input * weight + bias\n",
    "    return output"
   ]
  },
  {
   "cell_type": "markdown",
   "id": "bd1d9c01",
   "metadata": {},
   "source": [
    "### Parameters"
   ]
  },
  {
   "cell_type": "code",
   "execution_count": 10,
   "id": "c3b55470",
   "metadata": {},
   "outputs": [],
   "source": [
    "weight = 0.5756983457\n",
    "bias = 0"
   ]
  },
  {
   "cell_type": "markdown",
   "id": "59f83ee1",
   "metadata": {},
   "source": [
    "### Usage"
   ]
  },
  {
   "cell_type": "code",
   "execution_count": 11,
   "id": "d6392aee",
   "metadata": {},
   "outputs": [
    {
     "name": "stdout",
     "output_type": "stream",
     "text": [
      "Таамаг: 1.1513966914 \n",
      "Үнэн утга: 1\n"
     ]
    }
   ],
   "source": [
    "index = 0\n",
    "input = coronavirus_cases[index]\n",
    "prediction = neural_network(input, weight, bias)\n",
    "true = tourists[index]\n",
    "print(f'Таамаг: {prediction} \\nҮнэн утга: {true}')"
   ]
  },
  {
   "cell_type": "code",
   "execution_count": null,
   "id": "f924ab61",
   "metadata": {},
   "outputs": [],
   "source": []
  }
 ],
 "metadata": {
  "kernelspec": {
   "display_name": "Python 3",
   "language": "python",
   "name": "python3"
  },
  "language_info": {
   "codemirror_mode": {
    "name": "ipython",
    "version": 3
   },
   "file_extension": ".py",
   "mimetype": "text/x-python",
   "name": "python",
   "nbconvert_exporter": "python",
   "pygments_lexer": "ipython3",
   "version": "3.9.5"
  }
 },
 "nbformat": 4,
 "nbformat_minor": 5
}

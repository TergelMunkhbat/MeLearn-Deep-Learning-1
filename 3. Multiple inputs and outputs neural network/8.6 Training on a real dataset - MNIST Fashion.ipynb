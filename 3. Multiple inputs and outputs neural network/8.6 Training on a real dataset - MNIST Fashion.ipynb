{
 "cells": [
  {
   "cell_type": "markdown",
   "id": "211f9c01",
   "metadata": {},
   "source": [
    "# Deep Learning - 1"
   ]
  },
  {
   "cell_type": "markdown",
   "id": "649f7822",
   "metadata": {},
   "source": [
    "## Chapter 3: Multiple inputs & multiple outputs Neural Network"
   ]
  },
  {
   "cell_type": "markdown",
   "id": "592d6d6e",
   "metadata": {},
   "source": [
    "### Training on a real dataset - MNIST Fashion"
   ]
  },
  {
   "cell_type": "markdown",
   "id": "b0a24843",
   "metadata": {},
   "source": [
    "---------------"
   ]
  },
  {
   "cell_type": "markdown",
   "id": "02f0ca82",
   "metadata": {},
   "source": [
    "### Import"
   ]
  },
  {
   "cell_type": "code",
   "execution_count": 1,
   "id": "fca357a3",
   "metadata": {},
   "outputs": [],
   "source": [
    "import numpy as np\n",
    "import os\n",
    "import cv2\n",
    "import matplotlib.pyplot as plt"
   ]
  },
  {
   "cell_type": "markdown",
   "id": "c2b879cc",
   "metadata": {},
   "source": [
    "### Model"
   ]
  },
  {
   "cell_type": "markdown",
   "id": "a83e1ef8",
   "metadata": {},
   "source": [
    "#### Neural network"
   ]
  },
  {
   "cell_type": "markdown",
   "id": "a0a494e6",
   "metadata": {},
   "source": [
    "<img src=\"images/layer.png\" alt=\"Drawing\" width=\"300\"/>"
   ]
  },
  {
   "cell_type": "code",
   "execution_count": 2,
   "id": "d55c27a3",
   "metadata": {},
   "outputs": [],
   "source": [
    "class Layer:\n",
    "    \"\"\"Representing a neural network layer\"\"\"\n",
    "    \n",
    "    def __init__(self, n_inputs, n_outputs):\n",
    "        \"\"\"Initlize weights and bias\"\"\"\n",
    "        self.weights = np.random.randn(n_inputs, n_outputs)\n",
    "        self.biases = np.zeros((1, n_outputs))\n",
    "    \n",
    "    def forward(self, inputs):\n",
    "        \"\"\"\n",
    "        It multiplies the inputs by the weights \n",
    "        and then sums them, and then sums bias.\n",
    "        \"\"\"\n",
    "        #To calculate gradient, remembering input values\n",
    "        self.inputs = inputs\n",
    "        #Calculate outputs' values\n",
    "        self.output = np.dot(inputs, self.weights) + self.biases\n",
    "    \n",
    "    def backward(self, dvalues):\n",
    "        \"\"\"Gradient with respect to parameters\"\"\"\n",
    "        self.dweights = np.dot(self.inputs.T, dvalues)\n",
    "        self.dbiases = np.sum(dvalues, axis=0, keepdims=True)"
   ]
  },
  {
   "cell_type": "markdown",
   "id": "09103fd1",
   "metadata": {},
   "source": [
    "### Activation functions"
   ]
  },
  {
   "cell_type": "markdown",
   "id": "149c787f",
   "metadata": {},
   "source": [
    "#### Softmax Activation function"
   ]
  },
  {
   "cell_type": "markdown",
   "id": "a31d7786",
   "metadata": {},
   "source": [
    "<img src=\"images/softmax.png\" alt=\"Drawing\" width=\"500\"/>"
   ]
  },
  {
   "cell_type": "code",
   "execution_count": 3,
   "id": "820a4706",
   "metadata": {},
   "outputs": [],
   "source": [
    "class Activation_Softmax:\n",
    "    \"\"\"Softmax activation\"\"\"\n",
    "    \n",
    "    def forward(self, inputs):\n",
    "        \"\"\"Forward pass\"\"\"\n",
    "        \n",
    "        #Compute e^x for each element of inputs\n",
    "        #Due to the overflow error, \n",
    "        #Maximum value of per sample subtract from each row\n",
    "        exp_values = np.exp(inputs - np.max(inputs, axis=1,\n",
    "                                           keepdims=True))\n",
    "        \n",
    "        #Normalize them for each batch\n",
    "        self.output = exp_values / np.sum(exp_values, \n",
    "                                          axis=1, keepdims=True)\n",
    "    \n",
    "    def backward(self, dvalues):\n",
    "        \"\"\"Gradient softmax\"\"\"\n",
    "        \n",
    "        #Initialize an array\n",
    "        self.dresults = np.zeros(dvalues.shape)\n",
    "        \n",
    "        for i in range(len(dvalues)):\n",
    "            #Reshape the single output\n",
    "            single_output = self.output[i].reshape(-1, 1)\n",
    "            \n",
    "            #Calculate Jacobian matrix of the single output\n",
    "            jacobian_matrix = np.diagflat(single_output) - \\\n",
    "                                np.dot(single_output, single_output.T)\n",
    "            \n",
    "            #Multiply the Jacobian matrix by the loss function derivative\n",
    "            self.dresults[i] = np.dot(jacobian_matrix, dvalues[i])"
   ]
  },
  {
   "cell_type": "markdown",
   "id": "325b26d3",
   "metadata": {},
   "source": [
    "### Loss"
   ]
  },
  {
   "cell_type": "markdown",
   "id": "b268858f",
   "metadata": {},
   "source": [
    "#### MSE"
   ]
  },
  {
   "cell_type": "code",
   "execution_count": 4,
   "id": "5529a656",
   "metadata": {},
   "outputs": [],
   "source": [
    "class Loss_MSE():\n",
    "    \"\"\"MSE Loss function\"\"\"\n",
    "    \n",
    "    def forward(self, y_pred, y_true):\n",
    "        \"\"\"Forward pass\"\"\"     \n",
    "        error = np.mean((y_pred - y_true) ** 2)\n",
    "        return error\n",
    "    \n",
    "    def backward(self, y_pred, y_true):\n",
    "        \"\"\"Derivative of MSE with respect to preds\"\"\"\n",
    "        \n",
    "        #Number of samples\n",
    "        samples = len(y_pred)\n",
    "        \n",
    "        #Number of output nodes\n",
    "        outputs = len(y_pred[0])\n",
    "        \n",
    "        #Derivative of MSE\n",
    "        self.dresults = 2 * (y_pred - y_true) / (outputs * samples)"
   ]
  },
  {
   "cell_type": "markdown",
   "id": "9a8e8970",
   "metadata": {},
   "source": [
    "#### Categorical Cross-entropy"
   ]
  },
  {
   "cell_type": "code",
   "execution_count": 5,
   "id": "07e2403a",
   "metadata": {},
   "outputs": [],
   "source": [
    "class Loss_CategoricalCrossEntropy():\n",
    "    \"\"\"Cross entropy Loss function\"\"\"\n",
    "    \n",
    "    def forward(self, y_pred, y_true):\n",
    "        \"\"\"Forward pass\"\"\"\n",
    "        y_pred += 1e-10\n",
    "        y_pred = np.clip(y_pred, None, 1)\n",
    "        true_prediction = np.sum(y_pred * y_true, axis=1)\n",
    "        error = np.mean(-np.log(true_prediction)) \n",
    "        return error\n",
    "    \n",
    "    def backward(self, y_pred, y_true):\n",
    "        \"\"\"Derivative of CCE with respect to preds\"\"\"\n",
    "        \n",
    "        #Number of samples\n",
    "        samples = len(y_pred)\n",
    "        \n",
    "        self.dresults = -y_true / (y_pred * samples)"
   ]
  },
  {
   "cell_type": "markdown",
   "id": "38650268",
   "metadata": {},
   "source": [
    "#### Categorical Cross-entropy + Softmax "
   ]
  },
  {
   "cell_type": "code",
   "execution_count": 6,
   "id": "24017a33",
   "metadata": {},
   "outputs": [],
   "source": [
    "class Loss_CategoricalCrossEntropy_Activation_SoftMax:\n",
    "    \"\"\"Cateogircal cross entropy loss and SoftMax function\"\"\"\n",
    "    \n",
    "    def __init__(self):\n",
    "        \"\"\"Initialize Softmax and CCE loss\"\"\"\n",
    "        self.activation = Activation_Softmax()\n",
    "        self.loss = Loss_CategoricalCrossEntropy()\n",
    "        \n",
    "    def forward(self, inputs, y_true):\n",
    "        \"\"\"Forward pass\"\"\"\n",
    "        self.activation.forward(inputs)\n",
    "        return self.loss.forward(self.activation.output, y_true)\n",
    "    \n",
    "    def backward(self, y_pred, y_true):\n",
    "        \"\"\"Gradient of Categorical cross entropy + Softmax activation\"\"\"\n",
    "        samples = len(y_pred)\n",
    "        \n",
    "        self.dresults = (y_pred - y_true) / samples        "
   ]
  },
  {
   "cell_type": "markdown",
   "id": "ae60fe79",
   "metadata": {},
   "source": [
    "### Accuracy"
   ]
  },
  {
   "cell_type": "code",
   "execution_count": 7,
   "id": "8e5b134b",
   "metadata": {},
   "outputs": [],
   "source": [
    "class Accuracy_Categorical:\n",
    "    \"\"\"Accuracy calculation for classification\"\"\"\n",
    "    \n",
    "    def calculate(self, y_pred, y_true):\n",
    "        \"\"\"Calculate the accuracy\"\"\"\n",
    "        \n",
    "        true = np.argmax(y_true, axis=1)\n",
    "        pred = np.argmax(y_pred, axis=1)\n",
    "        comparisons = true == pred\n",
    "        \n",
    "        accuracy = np.mean(comparisons)\n",
    "        \n",
    "        return accuracy"
   ]
  },
  {
   "cell_type": "markdown",
   "id": "3d926f58",
   "metadata": {},
   "source": [
    "### Optimizer"
   ]
  },
  {
   "cell_type": "markdown",
   "id": "aa8a3dfc",
   "metadata": {},
   "source": [
    "#### Gradient descent "
   ]
  },
  {
   "cell_type": "code",
   "execution_count": 8,
   "id": "e4d350dd",
   "metadata": {},
   "outputs": [],
   "source": [
    "class Optimizer_GD:\n",
    "    \"\"\"Gradient descent optimizer\"\"\"\n",
    "    \n",
    "    def __init__(self, alpha=1.):\n",
    "        \"\"\"Initialize hyperparameters\"\"\"\n",
    "        self.alpha = alpha\n",
    "\n",
    "    def update_parameters(self, layer):\n",
    "        \"\"\"Update parameters\"\"\"\n",
    "        weights_delta = layer.dweights * self.alpha\n",
    "        biases_delta = layer.dbiases * self.alpha\n",
    "        \n",
    "        #Update parameters\n",
    "        layer.weights -= weights_delta\n",
    "        layer.biases -= biases_delta"
   ]
  },
  {
   "cell_type": "markdown",
   "id": "3e6ba5dc",
   "metadata": {},
   "source": [
    "### Scaler"
   ]
  },
  {
   "cell_type": "markdown",
   "id": "9912b52d",
   "metadata": {},
   "source": [
    "#### Standard Scaler"
   ]
  },
  {
   "cell_type": "code",
   "execution_count": 9,
   "id": "b97eddea",
   "metadata": {},
   "outputs": [],
   "source": [
    "class Scaler_Standard:\n",
    "    \"\"\"Standard scaler\"\"\"\n",
    "    \n",
    "    def fit(self, data):\n",
    "        \"\"\"Find mean and std values\"\"\"\n",
    "        self.means = data.mean(axis=0)\n",
    "        self.stds = data.std(axis=0)\n",
    "        return self\n",
    "    \n",
    "    def transform(self, data):\n",
    "        \"\"\"Transforming data\"\"\"\n",
    "        return (data - self.means) / self.stds\n",
    "    \n",
    "    def fit_transform(self, data):\n",
    "        \"\"\"Fit and transform data\"\"\"\n",
    "        return self.fit(data).transform(data)"
   ]
  },
  {
   "cell_type": "markdown",
   "id": "6c850cf2",
   "metadata": {},
   "source": [
    "#### MinMax Scaler"
   ]
  },
  {
   "cell_type": "code",
   "execution_count": 10,
   "id": "7e5c1fdd",
   "metadata": {},
   "outputs": [],
   "source": [
    "class Scaler_MinMax:\n",
    "    \"\"\"MinMax scaler\"\"\"\n",
    "    \n",
    "    def __init__(self, feature_range=(0,1)):\n",
    "        \"\"\"Initialize the feature range\"\"\"\n",
    "        self.low, self.high = feature_range\n",
    "    \n",
    "    def fit(self, data):\n",
    "        \"\"\"Find min and max values\"\"\"\n",
    "        self.min = data.min(axis=0)\n",
    "        self.max = data.max(axis=0)\n",
    "        return self\n",
    "    \n",
    "    def transform(self, data):\n",
    "        \"\"\"Transforming data\"\"\"\n",
    "        data_std = (data - self.min) / (self.max - self.min)\n",
    "        return data_std * (self.high - self.low) + self.low\n",
    "    \n",
    "    def fit_transform(self, data):\n",
    "        \"\"\"Fit and transform data\"\"\"\n",
    "        return self.fit(data).transform(data)"
   ]
  },
  {
   "cell_type": "markdown",
   "id": "cfa52189",
   "metadata": {},
   "source": [
    "#### Robust Scaler"
   ]
  },
  {
   "cell_type": "code",
   "execution_count": 11,
   "id": "e867d610",
   "metadata": {},
   "outputs": [],
   "source": [
    "class Scaler_Robust:\n",
    "    \"\"\"Robust scaler\"\"\"\n",
    "    \n",
    "    def fit(self, data):\n",
    "        \"\"\"Find median and iqr values\"\"\"\n",
    "        self.medians = np.median(data, axis=0)\n",
    "        self.p75, self.p25 = np.percentile(data, [75 ,25], axis=0)\n",
    "        self.iqr = self.p75 - self.p25\n",
    "        return self\n",
    "    \n",
    "    def transform(self, data):\n",
    "        \"\"\"Transforming data\"\"\"\n",
    "        return (data - self.medians) / self.iqr\n",
    "    \n",
    "    def fit_transform(self, data):\n",
    "        \"\"\"Fit and transform data\"\"\"\n",
    "        return self.fit(data).transform(data)"
   ]
  },
  {
   "cell_type": "markdown",
   "id": "4d3c0507",
   "metadata": {},
   "source": [
    "---------------"
   ]
  },
  {
   "cell_type": "markdown",
   "id": "7059a12c",
   "metadata": {},
   "source": [
    "### Construct Data"
   ]
  },
  {
   "cell_type": "code",
   "execution_count": 12,
   "id": "b843abf7",
   "metadata": {},
   "outputs": [],
   "source": [
    "classes = ('T-shirt', 'Trouser', 'Pullover', 'Dress', 'Coat',\n",
    "           'Sandal', 'Shirt', 'Sneaker', 'Bag', 'Ankle boot')"
   ]
  },
  {
   "cell_type": "code",
   "execution_count": 13,
   "id": "f662e780",
   "metadata": {},
   "outputs": [
    {
     "name": "stdout",
     "output_type": "stream",
     "text": [
      "1000\n"
     ]
    }
   ],
   "source": [
    "#60.000 sapmles and \n",
    "# 60.000 train images - 6.000 per class \n",
    "# 10.000 test images - 1.000 per class\n",
    "files = os.listdir('./dataset/test/1')\n",
    "print(len(files))"
   ]
  },
  {
   "cell_type": "code",
   "execution_count": 14,
   "id": "80626de8",
   "metadata": {
    "scrolled": false
   },
   "outputs": [
    {
     "name": "stdout",
     "output_type": "stream",
     "text": [
      "[[  0   0   0   0   0   0  12  36  30  29  28  25  35  33  38  34  29  32  34  36  43   0   0   0   0   0   0   0]\n",
      " [  0   0   0   0   0   0  40  66  50  50  49  43  20  18  12  40  60  55  51  45  71  16   0   0   0   0   0   0]\n",
      " [  0   0   0   0   0   0  41  62  56  66  61  39  89  89 112  40  57  65  65  64  76  27   0   0   0   0   0   0]\n",
      " [  0   0   0   0   0   0  64  50  54  64  57  76 214 218 215 186  68  67  61  36  77  45   0   0   0   0   0   0]\n",
      " [  0   0   0   0   0   0 121  52  59  61  52  17 194  75  36 184  49  46  46  43  77 117   0   0   0   0   0   0]\n",
      " [  0   0   0   0   0   0  86  38  59  52  45  39 203  18  18 177  71  57  48  45  48  80   0   0   0   0   0   0]\n",
      " [  0   0   0   0   0   9  77  36  45  43  23  54 200   9   9 158 110  35  34  40  34  82   7   0   0   0   0   0]\n",
      " [  0   0   0   0   0  33  76  35  50  61  43 113 188  30  35 133 181  56  61  45  39  80  28   0   0   0   0   0]\n",
      " [  0   0   0   0   0  44  71  36  49  54  72 139 109  40  56  76 178  64  35  45  27  72  46   0   0   0   0   0]\n",
      " [  0   0   0   0   0  48  62  40  50  45  66  59  45  23  38  45  34  88 172  32  25  68  61   0   0   0   0   0]\n",
      " [  0   0   0   0   0  67  57  36  45  61  77  25  38  40  50  54   7  96 254  61   6  56  68   0   0   0   0   0]\n",
      " [  0   0   0   0   0  77  59  39  32  82  43  43  43  41  54  56  41   0 226 192   0  48  72   0   0   0   0   0]\n",
      " [  0   0   0   0   0  70  48  39  73  76  38  44  40  44  45  59  56   2 142  98  18  45  70   0   0   0   0   0]\n",
      " [  0   0   0   0   0  73  46  55  72  39  44  39  45  56  59  54  52  32  19  64  43  41  80   0   0   0   0   0]\n",
      " [  0   0   0   0   0  71  46  48  35  44  41  40  56  14  16  62  61  44  46  62  40  46  78   0   0   0   0   0]\n",
      " [  0   0   0   0   0  70  46  41  50  51  45  65  19   0   0  14  70  51  52  45  44  41  76   0   0   0   0   0]\n",
      " [  0   0   0   0   0  73  49  45  43  46  43  61   1   0   0   0  57  49  36  44  41  41  80   0   0   0   0   0]\n",
      " [  0   0   0   0   0  73  48  48  54  45  57  56   0   0   0   0  44  64  41  45  33  45  83   0   0   0   0   0]\n",
      " [  0   0   0   0   0  77  50  41  46  45  49  48   0   0   0   0  28  61  41  46  39  43  77   0   0   0   0   0]\n",
      " [  0   0   0   0   0  65  55  35  49  44  54  38   0   0   0   0  19  56  41  55  35  46  70   0   0   0   0   0]\n",
      " [  0   0   0   0   0  61  72  41  49  44  56  24   0   0   0   0  16  60  33  39  38  59  65   0   0   0   0   0]\n",
      " [  0   0   0   0   0  54  64  34  45  46  52  19   0   0   0   0  11  56  39  48  36  61  51   0   0   0   0   0]\n",
      " [  0   0   0   0   0  41  76  33  44  46  57  17   0   0   0   0   8  52  40  44  33  71  39   0   0   0   0   0]\n",
      " [  0   0   0   0   0  39  71  38  52  48  60  14   0   0   0   0  13  52  43  44  33  78  30   0   0   0   0   0]\n",
      " [  0   0   0   0   0  39  78  33  46  36  59  35   0   0   1   0  20  55  44  49  24  50  25   0   0   0   0   0]\n",
      " [  0   0   0   0   0   9  66  36  38  35  51  33   0   0   1   0   8  52  45  20  50 186   0   0   0   0   0   0]\n",
      " [  0   0   0   0   0   0  35  51  44  43  51  12   0   1   0   0   0  51  54   6 123 232   0   0   0   0   0   0]\n",
      " [  0   0   0   0   0   0  17  24  19  17  28   6   0   0   0   0   0  25  23   0 118 107   0   0   0   0   0   0]]\n"
     ]
    }
   ],
   "source": [
    "np.set_printoptions(linewidth=150)\n",
    "\n",
    "sample_image = cv2.imread('./dataset/train/1/0121.png',\n",
    "                       cv2.IMREAD_UNCHANGED)\n",
    "print(sample_image)"
   ]
  },
  {
   "cell_type": "code",
   "execution_count": 15,
   "id": "03a14d1b",
   "metadata": {},
   "outputs": [],
   "source": [
    "def load_dataset(path):\n",
    "    \"\"\"\n",
    "    Load the MNIST fashion dataset\n",
    "    Cover the labels into one-hot vectors\n",
    "    \"\"\"\n",
    "\n",
    "    labels = os.listdir(os.path.join(path))\n",
    "    \n",
    "    X = []\n",
    "    Y = []\n",
    "    \n",
    "    for label in labels:\n",
    "        for file in os.listdir(os.path.join(path, label)):\n",
    "            image = cv2.imread(os.path.join(path, label, file),\n",
    "                                  cv2.IMREAD_UNCHANGED)\n",
    "            X.append(image)\n",
    "            Y.append(label)\n",
    "    \n",
    "    \n",
    "    X = np.array(X)\n",
    "    Y = np.array(Y).astype('uint8')\n",
    "    Y = np.eye(len(labels))[Y].astype('uint8')\n",
    "    \n",
    "    return X, Y"
   ]
  },
  {
   "cell_type": "code",
   "execution_count": 16,
   "id": "2b7862d7",
   "metadata": {},
   "outputs": [],
   "source": [
    "train_dataset, train_labels = load_dataset('./dataset/train')\n",
    "test_dataset, test_labels = load_dataset('./dataset/test')"
   ]
  },
  {
   "cell_type": "code",
   "execution_count": 17,
   "id": "a5b886cf",
   "metadata": {},
   "outputs": [
    {
     "data": {
      "text/plain": [
       "(60000, 28, 28)"
      ]
     },
     "execution_count": 17,
     "metadata": {},
     "output_type": "execute_result"
    }
   ],
   "source": [
    "train_dataset.shape"
   ]
  },
  {
   "cell_type": "markdown",
   "id": "829b3d72",
   "metadata": {},
   "source": [
    "#### Flatten the every image"
   ]
  },
  {
   "cell_type": "code",
   "execution_count": 18,
   "id": "cacffd6c",
   "metadata": {},
   "outputs": [],
   "source": [
    "train_dataset = train_dataset.reshape(len(train_dataset), -1)\n",
    "test_dataset = test_dataset.reshape(len(test_dataset), -1)"
   ]
  },
  {
   "cell_type": "code",
   "execution_count": 19,
   "id": "29d2ae4e",
   "metadata": {},
   "outputs": [
    {
     "data": {
      "text/plain": [
       "(10000, 784)"
      ]
     },
     "execution_count": 19,
     "metadata": {},
     "output_type": "execute_result"
    }
   ],
   "source": [
    "test_dataset.shape"
   ]
  },
  {
   "cell_type": "markdown",
   "id": "4516efe3",
   "metadata": {},
   "source": [
    "#### Data shuffling"
   ]
  },
  {
   "cell_type": "code",
   "execution_count": 20,
   "id": "4d885db9",
   "metadata": {},
   "outputs": [],
   "source": [
    "indexes = np.array(range(len(train_dataset)))\n",
    "np.random.shuffle(indexes)\n",
    "\n",
    "train_dataset = train_dataset[indexes]\n",
    "train_labels = train_labels[indexes]"
   ]
  },
  {
   "cell_type": "code",
   "execution_count": 21,
   "id": "f9ae4c5d",
   "metadata": {
    "scrolled": true
   },
   "outputs": [
    {
     "name": "stdout",
     "output_type": "stream",
     "text": [
      "[[0 1 0 0 0 0 0 0 0 0]\n",
      " [0 0 1 0 0 0 0 0 0 0]\n",
      " [0 0 0 0 0 0 0 0 0 1]\n",
      " [0 1 0 0 0 0 0 0 0 0]\n",
      " [0 0 0 0 0 0 1 0 0 0]\n",
      " [0 0 0 0 0 1 0 0 0 0]\n",
      " [0 0 0 1 0 0 0 0 0 0]\n",
      " [0 0 0 0 0 0 0 0 1 0]\n",
      " [0 0 0 0 0 1 0 0 0 0]\n",
      " [0 0 1 0 0 0 0 0 0 0]\n",
      " [0 0 0 0 0 0 0 0 1 0]\n",
      " [0 0 0 0 0 0 0 1 0 0]\n",
      " [0 0 0 0 0 0 0 0 1 0]\n",
      " [0 0 0 0 0 0 0 0 1 0]\n",
      " [0 0 0 0 0 0 0 1 0 0]]\n"
     ]
    }
   ],
   "source": [
    "print(train_labels[:15])"
   ]
  },
  {
   "cell_type": "markdown",
   "id": "66358c0c",
   "metadata": {},
   "source": [
    "### Data Pre-Processing"
   ]
  },
  {
   "cell_type": "code",
   "execution_count": 22,
   "id": "d1b2deb6",
   "metadata": {},
   "outputs": [],
   "source": [
    "scaler = Scaler_MinMax((-1,1))\n",
    "scaler.min = 0\n",
    "scaler.max = 255\n",
    "train_dataset = scaler.transform(train_dataset)\n",
    "test_dataset = scaler.transform(test_dataset)"
   ]
  },
  {
   "cell_type": "code",
   "execution_count": 23,
   "id": "eef779a0",
   "metadata": {},
   "outputs": [
    {
     "data": {
      "text/plain": [
       "-1.0"
      ]
     },
     "execution_count": 23,
     "metadata": {},
     "output_type": "execute_result"
    }
   ],
   "source": [
    "train_dataset.min()"
   ]
  },
  {
   "cell_type": "markdown",
   "id": "8145680b",
   "metadata": {},
   "source": [
    "### Set Hyperparameters"
   ]
  },
  {
   "cell_type": "code",
   "execution_count": 24,
   "id": "eabaef6d",
   "metadata": {},
   "outputs": [],
   "source": [
    "max_epoch = 500\n",
    "alpha = 0.005\n",
    "batch_size = 128"
   ]
  },
  {
   "cell_type": "markdown",
   "id": "515d0a1b",
   "metadata": {},
   "source": [
    "### Initialize the model"
   ]
  },
  {
   "cell_type": "code",
   "execution_count": 25,
   "id": "4c5ac970",
   "metadata": {},
   "outputs": [],
   "source": [
    "layer1 = Layer(784, 10)"
   ]
  },
  {
   "cell_type": "markdown",
   "id": "06ccf4b5",
   "metadata": {},
   "source": [
    "### Initlize optimizer and loss function"
   ]
  },
  {
   "cell_type": "code",
   "execution_count": 26,
   "id": "329ded87",
   "metadata": {},
   "outputs": [],
   "source": [
    "loss = Loss_CategoricalCrossEntropy_Activation_SoftMax()\n",
    "accuracy = Accuracy_Categorical()\n",
    "optimizer = Optimizer_GD(alpha=alpha)"
   ]
  },
  {
   "cell_type": "markdown",
   "id": "440c16f0",
   "metadata": {},
   "source": [
    "### Training the model"
   ]
  },
  {
   "cell_type": "code",
   "execution_count": 27,
   "id": "e090a644",
   "metadata": {
    "scrolled": true
   },
   "outputs": [],
   "source": [
    "train_steps = len(train_dataset) // batch_size\n",
    "if train_steps * batch_size < len(train_dataset):\n",
    "    train_steps += 1"
   ]
  },
  {
   "cell_type": "code",
   "execution_count": 28,
   "id": "7e6898c3",
   "metadata": {
    "scrolled": true
   },
   "outputs": [
    {
     "name": "stdout",
     "output_type": "stream",
     "text": [
      "epoch: 0, Train error: 11.928, Train accuracy: 0.201\n",
      "epoch: 1, Train error: 6.196, Train accuracy: 0.422\n",
      "epoch: 2, Train error: 4.697, Train accuracy: 0.518\n",
      "epoch: 3, Train error: 3.987, Train accuracy: 0.569\n",
      "epoch: 4, Train error: 3.584, Train accuracy: 0.601\n",
      "epoch: 5, Train error: 3.327, Train accuracy: 0.623\n",
      "epoch: 6, Train error: 3.144, Train accuracy: 0.640\n",
      "epoch: 7, Train error: 3.002, Train accuracy: 0.653\n",
      "epoch: 8, Train error: 2.885, Train accuracy: 0.663\n",
      "epoch: 9, Train error: 2.786, Train accuracy: 0.671\n",
      "epoch: 10, Train error: 2.700, Train accuracy: 0.678\n",
      "epoch: 11, Train error: 2.624, Train accuracy: 0.683\n",
      "epoch: 12, Train error: 2.556, Train accuracy: 0.688\n",
      "epoch: 13, Train error: 2.495, Train accuracy: 0.693\n",
      "epoch: 14, Train error: 2.440, Train accuracy: 0.698\n",
      "epoch: 15, Train error: 2.389, Train accuracy: 0.702\n",
      "epoch: 16, Train error: 2.343, Train accuracy: 0.705\n",
      "epoch: 17, Train error: 2.300, Train accuracy: 0.709\n",
      "epoch: 18, Train error: 2.260, Train accuracy: 0.712\n",
      "epoch: 19, Train error: 2.223, Train accuracy: 0.714\n",
      "epoch: 20, Train error: 2.188, Train accuracy: 0.717\n",
      "epoch: 21, Train error: 2.155, Train accuracy: 0.719\n",
      "epoch: 22, Train error: 2.125, Train accuracy: 0.722\n",
      "epoch: 23, Train error: 2.096, Train accuracy: 0.725\n",
      "epoch: 24, Train error: 2.068, Train accuracy: 0.727\n",
      "epoch: 25, Train error: 2.042, Train accuracy: 0.729\n",
      "epoch: 26, Train error: 2.018, Train accuracy: 0.731\n",
      "epoch: 27, Train error: 1.994, Train accuracy: 0.733\n",
      "epoch: 28, Train error: 1.972, Train accuracy: 0.734\n",
      "epoch: 29, Train error: 1.951, Train accuracy: 0.736\n",
      "epoch: 30, Train error: 1.930, Train accuracy: 0.737\n",
      "epoch: 31, Train error: 1.910, Train accuracy: 0.739\n",
      "epoch: 32, Train error: 1.892, Train accuracy: 0.740\n",
      "epoch: 33, Train error: 1.873, Train accuracy: 0.742\n",
      "epoch: 34, Train error: 1.856, Train accuracy: 0.743\n",
      "epoch: 35, Train error: 1.839, Train accuracy: 0.744\n",
      "epoch: 36, Train error: 1.823, Train accuracy: 0.746\n",
      "epoch: 37, Train error: 1.807, Train accuracy: 0.747\n",
      "epoch: 38, Train error: 1.792, Train accuracy: 0.748\n",
      "epoch: 39, Train error: 1.778, Train accuracy: 0.749\n",
      "epoch: 40, Train error: 1.764, Train accuracy: 0.750\n",
      "epoch: 41, Train error: 1.750, Train accuracy: 0.751\n",
      "epoch: 42, Train error: 1.737, Train accuracy: 0.752\n",
      "epoch: 43, Train error: 1.724, Train accuracy: 0.753\n",
      "epoch: 44, Train error: 1.711, Train accuracy: 0.754\n",
      "epoch: 45, Train error: 1.699, Train accuracy: 0.754\n",
      "epoch: 46, Train error: 1.687, Train accuracy: 0.755\n",
      "epoch: 47, Train error: 1.676, Train accuracy: 0.756\n",
      "epoch: 48, Train error: 1.665, Train accuracy: 0.757\n",
      "epoch: 49, Train error: 1.654, Train accuracy: 0.758\n",
      "epoch: 50, Train error: 1.643, Train accuracy: 0.759\n",
      "epoch: 51, Train error: 1.633, Train accuracy: 0.760\n",
      "epoch: 52, Train error: 1.623, Train accuracy: 0.761\n",
      "epoch: 53, Train error: 1.613, Train accuracy: 0.762\n",
      "epoch: 54, Train error: 1.603, Train accuracy: 0.762\n",
      "epoch: 55, Train error: 1.594, Train accuracy: 0.763\n",
      "epoch: 56, Train error: 1.585, Train accuracy: 0.764\n",
      "epoch: 57, Train error: 1.576, Train accuracy: 0.765\n",
      "epoch: 58, Train error: 1.567, Train accuracy: 0.765\n",
      "epoch: 59, Train error: 1.558, Train accuracy: 0.766\n",
      "epoch: 60, Train error: 1.550, Train accuracy: 0.766\n",
      "epoch: 61, Train error: 1.542, Train accuracy: 0.767\n",
      "epoch: 62, Train error: 1.533, Train accuracy: 0.768\n",
      "epoch: 63, Train error: 1.525, Train accuracy: 0.768\n",
      "epoch: 64, Train error: 1.518, Train accuracy: 0.769\n",
      "epoch: 65, Train error: 1.510, Train accuracy: 0.769\n",
      "epoch: 66, Train error: 1.503, Train accuracy: 0.770\n",
      "epoch: 67, Train error: 1.495, Train accuracy: 0.771\n",
      "epoch: 68, Train error: 1.488, Train accuracy: 0.772\n",
      "epoch: 69, Train error: 1.481, Train accuracy: 0.772\n",
      "epoch: 70, Train error: 1.474, Train accuracy: 0.773\n",
      "epoch: 71, Train error: 1.467, Train accuracy: 0.773\n",
      "epoch: 72, Train error: 1.460, Train accuracy: 0.774\n",
      "epoch: 73, Train error: 1.454, Train accuracy: 0.774\n",
      "epoch: 74, Train error: 1.447, Train accuracy: 0.775\n",
      "epoch: 75, Train error: 1.441, Train accuracy: 0.775\n",
      "epoch: 76, Train error: 1.434, Train accuracy: 0.775\n",
      "epoch: 77, Train error: 1.428, Train accuracy: 0.776\n",
      "epoch: 78, Train error: 1.422, Train accuracy: 0.776\n",
      "epoch: 79, Train error: 1.416, Train accuracy: 0.777\n",
      "epoch: 80, Train error: 1.410, Train accuracy: 0.777\n",
      "epoch: 81, Train error: 1.404, Train accuracy: 0.777\n",
      "epoch: 82, Train error: 1.398, Train accuracy: 0.778\n",
      "epoch: 83, Train error: 1.393, Train accuracy: 0.778\n",
      "epoch: 84, Train error: 1.387, Train accuracy: 0.778\n",
      "epoch: 85, Train error: 1.381, Train accuracy: 0.779\n",
      "epoch: 86, Train error: 1.376, Train accuracy: 0.779\n",
      "epoch: 87, Train error: 1.371, Train accuracy: 0.780\n",
      "epoch: 88, Train error: 1.365, Train accuracy: 0.780\n",
      "epoch: 89, Train error: 1.360, Train accuracy: 0.780\n",
      "epoch: 90, Train error: 1.355, Train accuracy: 0.781\n",
      "epoch: 91, Train error: 1.350, Train accuracy: 0.781\n",
      "epoch: 92, Train error: 1.345, Train accuracy: 0.782\n",
      "epoch: 93, Train error: 1.340, Train accuracy: 0.782\n",
      "epoch: 94, Train error: 1.335, Train accuracy: 0.783\n",
      "epoch: 95, Train error: 1.330, Train accuracy: 0.783\n",
      "epoch: 96, Train error: 1.325, Train accuracy: 0.783\n",
      "epoch: 97, Train error: 1.320, Train accuracy: 0.784\n",
      "epoch: 98, Train error: 1.316, Train accuracy: 0.784\n",
      "epoch: 99, Train error: 1.311, Train accuracy: 0.784\n",
      "epoch: 100, Train error: 1.306, Train accuracy: 0.785\n",
      "epoch: 101, Train error: 1.302, Train accuracy: 0.785\n",
      "epoch: 102, Train error: 1.297, Train accuracy: 0.785\n",
      "epoch: 103, Train error: 1.293, Train accuracy: 0.786\n",
      "epoch: 104, Train error: 1.289, Train accuracy: 0.786\n",
      "epoch: 105, Train error: 1.284, Train accuracy: 0.786\n",
      "epoch: 106, Train error: 1.280, Train accuracy: 0.786\n",
      "epoch: 107, Train error: 1.276, Train accuracy: 0.787\n",
      "epoch: 108, Train error: 1.271, Train accuracy: 0.787\n",
      "epoch: 109, Train error: 1.267, Train accuracy: 0.787\n",
      "epoch: 110, Train error: 1.263, Train accuracy: 0.788\n",
      "epoch: 111, Train error: 1.259, Train accuracy: 0.788\n",
      "epoch: 112, Train error: 1.255, Train accuracy: 0.788\n",
      "epoch: 113, Train error: 1.251, Train accuracy: 0.789\n",
      "epoch: 114, Train error: 1.247, Train accuracy: 0.789\n",
      "epoch: 115, Train error: 1.243, Train accuracy: 0.789\n",
      "epoch: 116, Train error: 1.240, Train accuracy: 0.789\n",
      "epoch: 117, Train error: 1.236, Train accuracy: 0.790\n",
      "epoch: 118, Train error: 1.232, Train accuracy: 0.790\n",
      "epoch: 119, Train error: 1.228, Train accuracy: 0.790\n",
      "epoch: 120, Train error: 1.224, Train accuracy: 0.790\n",
      "epoch: 121, Train error: 1.221, Train accuracy: 0.791\n",
      "epoch: 122, Train error: 1.217, Train accuracy: 0.791\n",
      "epoch: 123, Train error: 1.214, Train accuracy: 0.791\n",
      "epoch: 124, Train error: 1.210, Train accuracy: 0.792\n",
      "epoch: 125, Train error: 1.207, Train accuracy: 0.792\n",
      "epoch: 126, Train error: 1.203, Train accuracy: 0.792\n",
      "epoch: 127, Train error: 1.200, Train accuracy: 0.792\n",
      "epoch: 128, Train error: 1.196, Train accuracy: 0.792\n",
      "epoch: 129, Train error: 1.193, Train accuracy: 0.793\n",
      "epoch: 130, Train error: 1.189, Train accuracy: 0.793\n",
      "epoch: 131, Train error: 1.186, Train accuracy: 0.793\n",
      "epoch: 132, Train error: 1.183, Train accuracy: 0.794\n",
      "epoch: 133, Train error: 1.179, Train accuracy: 0.794\n",
      "epoch: 134, Train error: 1.176, Train accuracy: 0.794\n",
      "epoch: 135, Train error: 1.173, Train accuracy: 0.794\n",
      "epoch: 136, Train error: 1.170, Train accuracy: 0.795\n",
      "epoch: 137, Train error: 1.167, Train accuracy: 0.795\n",
      "epoch: 138, Train error: 1.163, Train accuracy: 0.795\n",
      "epoch: 139, Train error: 1.160, Train accuracy: 0.795\n",
      "epoch: 140, Train error: 1.157, Train accuracy: 0.796\n",
      "epoch: 141, Train error: 1.154, Train accuracy: 0.796\n",
      "epoch: 142, Train error: 1.151, Train accuracy: 0.796\n",
      "epoch: 143, Train error: 1.148, Train accuracy: 0.796\n",
      "epoch: 144, Train error: 1.145, Train accuracy: 0.797\n",
      "epoch: 145, Train error: 1.142, Train accuracy: 0.797\n",
      "epoch: 146, Train error: 1.139, Train accuracy: 0.797\n",
      "epoch: 147, Train error: 1.136, Train accuracy: 0.797\n",
      "epoch: 148, Train error: 1.133, Train accuracy: 0.798\n",
      "epoch: 149, Train error: 1.131, Train accuracy: 0.798\n",
      "epoch: 150, Train error: 1.128, Train accuracy: 0.798\n",
      "epoch: 151, Train error: 1.125, Train accuracy: 0.798\n",
      "epoch: 152, Train error: 1.122, Train accuracy: 0.798\n",
      "epoch: 153, Train error: 1.119, Train accuracy: 0.798\n"
     ]
    },
    {
     "name": "stdout",
     "output_type": "stream",
     "text": [
      "epoch: 154, Train error: 1.117, Train accuracy: 0.799\n",
      "epoch: 155, Train error: 1.114, Train accuracy: 0.799\n",
      "epoch: 156, Train error: 1.111, Train accuracy: 0.799\n",
      "epoch: 157, Train error: 1.108, Train accuracy: 0.799\n",
      "epoch: 158, Train error: 1.106, Train accuracy: 0.799\n",
      "epoch: 159, Train error: 1.103, Train accuracy: 0.800\n",
      "epoch: 160, Train error: 1.100, Train accuracy: 0.800\n",
      "epoch: 161, Train error: 1.098, Train accuracy: 0.800\n",
      "epoch: 162, Train error: 1.095, Train accuracy: 0.800\n",
      "epoch: 163, Train error: 1.093, Train accuracy: 0.800\n",
      "epoch: 164, Train error: 1.090, Train accuracy: 0.800\n",
      "epoch: 165, Train error: 1.088, Train accuracy: 0.801\n",
      "epoch: 166, Train error: 1.085, Train accuracy: 0.801\n",
      "epoch: 167, Train error: 1.082, Train accuracy: 0.801\n",
      "epoch: 168, Train error: 1.080, Train accuracy: 0.801\n",
      "epoch: 169, Train error: 1.078, Train accuracy: 0.801\n",
      "epoch: 170, Train error: 1.075, Train accuracy: 0.801\n",
      "epoch: 171, Train error: 1.073, Train accuracy: 0.802\n",
      "epoch: 172, Train error: 1.070, Train accuracy: 0.802\n",
      "epoch: 173, Train error: 1.068, Train accuracy: 0.802\n",
      "epoch: 174, Train error: 1.065, Train accuracy: 0.802\n",
      "epoch: 175, Train error: 1.063, Train accuracy: 0.802\n",
      "epoch: 176, Train error: 1.061, Train accuracy: 0.802\n",
      "epoch: 177, Train error: 1.058, Train accuracy: 0.802\n",
      "epoch: 178, Train error: 1.056, Train accuracy: 0.802\n",
      "epoch: 179, Train error: 1.054, Train accuracy: 0.803\n",
      "epoch: 180, Train error: 1.052, Train accuracy: 0.803\n",
      "epoch: 181, Train error: 1.049, Train accuracy: 0.803\n",
      "epoch: 182, Train error: 1.047, Train accuracy: 0.803\n",
      "epoch: 183, Train error: 1.045, Train accuracy: 0.803\n",
      "epoch: 184, Train error: 1.043, Train accuracy: 0.803\n",
      "epoch: 185, Train error: 1.040, Train accuracy: 0.803\n",
      "epoch: 186, Train error: 1.038, Train accuracy: 0.803\n",
      "epoch: 187, Train error: 1.036, Train accuracy: 0.803\n",
      "epoch: 188, Train error: 1.034, Train accuracy: 0.804\n",
      "epoch: 189, Train error: 1.032, Train accuracy: 0.804\n",
      "epoch: 190, Train error: 1.030, Train accuracy: 0.804\n",
      "epoch: 191, Train error: 1.027, Train accuracy: 0.804\n",
      "epoch: 192, Train error: 1.025, Train accuracy: 0.804\n",
      "epoch: 193, Train error: 1.023, Train accuracy: 0.804\n",
      "epoch: 194, Train error: 1.021, Train accuracy: 0.804\n",
      "epoch: 195, Train error: 1.019, Train accuracy: 0.805\n",
      "epoch: 196, Train error: 1.017, Train accuracy: 0.805\n",
      "epoch: 197, Train error: 1.015, Train accuracy: 0.805\n",
      "epoch: 198, Train error: 1.013, Train accuracy: 0.805\n",
      "epoch: 199, Train error: 1.011, Train accuracy: 0.805\n",
      "epoch: 200, Train error: 1.009, Train accuracy: 0.805\n",
      "epoch: 201, Train error: 1.007, Train accuracy: 0.805\n",
      "epoch: 202, Train error: 1.005, Train accuracy: 0.805\n",
      "epoch: 203, Train error: 1.003, Train accuracy: 0.805\n",
      "epoch: 204, Train error: 1.001, Train accuracy: 0.805\n",
      "epoch: 205, Train error: 0.999, Train accuracy: 0.806\n",
      "epoch: 206, Train error: 0.997, Train accuracy: 0.806\n",
      "epoch: 207, Train error: 0.995, Train accuracy: 0.806\n",
      "epoch: 208, Train error: 0.993, Train accuracy: 0.806\n",
      "epoch: 209, Train error: 0.991, Train accuracy: 0.806\n",
      "epoch: 210, Train error: 0.989, Train accuracy: 0.806\n",
      "epoch: 211, Train error: 0.988, Train accuracy: 0.807\n",
      "epoch: 212, Train error: 0.986, Train accuracy: 0.807\n",
      "epoch: 213, Train error: 0.984, Train accuracy: 0.807\n",
      "epoch: 214, Train error: 0.982, Train accuracy: 0.807\n",
      "epoch: 215, Train error: 0.980, Train accuracy: 0.807\n",
      "epoch: 216, Train error: 0.978, Train accuracy: 0.807\n",
      "epoch: 217, Train error: 0.977, Train accuracy: 0.807\n",
      "epoch: 218, Train error: 0.975, Train accuracy: 0.808\n",
      "epoch: 219, Train error: 0.973, Train accuracy: 0.808\n",
      "epoch: 220, Train error: 0.971, Train accuracy: 0.808\n",
      "epoch: 221, Train error: 0.969, Train accuracy: 0.808\n",
      "epoch: 222, Train error: 0.968, Train accuracy: 0.808\n",
      "epoch: 223, Train error: 0.966, Train accuracy: 0.808\n",
      "epoch: 224, Train error: 0.964, Train accuracy: 0.808\n",
      "epoch: 225, Train error: 0.962, Train accuracy: 0.809\n",
      "epoch: 226, Train error: 0.961, Train accuracy: 0.809\n",
      "epoch: 227, Train error: 0.959, Train accuracy: 0.809\n",
      "epoch: 228, Train error: 0.957, Train accuracy: 0.809\n",
      "epoch: 229, Train error: 0.956, Train accuracy: 0.809\n",
      "epoch: 230, Train error: 0.954, Train accuracy: 0.809\n",
      "epoch: 231, Train error: 0.952, Train accuracy: 0.809\n",
      "epoch: 232, Train error: 0.951, Train accuracy: 0.809\n",
      "epoch: 233, Train error: 0.949, Train accuracy: 0.809\n",
      "epoch: 234, Train error: 0.947, Train accuracy: 0.810\n",
      "epoch: 235, Train error: 0.946, Train accuracy: 0.810\n",
      "epoch: 236, Train error: 0.944, Train accuracy: 0.810\n",
      "epoch: 237, Train error: 0.942, Train accuracy: 0.810\n",
      "epoch: 238, Train error: 0.941, Train accuracy: 0.810\n",
      "epoch: 239, Train error: 0.939, Train accuracy: 0.810\n",
      "epoch: 240, Train error: 0.937, Train accuracy: 0.810\n",
      "epoch: 241, Train error: 0.936, Train accuracy: 0.810\n",
      "epoch: 242, Train error: 0.934, Train accuracy: 0.810\n",
      "epoch: 243, Train error: 0.933, Train accuracy: 0.810\n",
      "epoch: 244, Train error: 0.931, Train accuracy: 0.810\n",
      "epoch: 245, Train error: 0.930, Train accuracy: 0.810\n",
      "epoch: 246, Train error: 0.928, Train accuracy: 0.810\n",
      "epoch: 247, Train error: 0.926, Train accuracy: 0.811\n",
      "epoch: 248, Train error: 0.925, Train accuracy: 0.811\n",
      "epoch: 249, Train error: 0.923, Train accuracy: 0.811\n",
      "epoch: 250, Train error: 0.922, Train accuracy: 0.811\n",
      "epoch: 251, Train error: 0.920, Train accuracy: 0.811\n",
      "epoch: 252, Train error: 0.919, Train accuracy: 0.811\n",
      "epoch: 253, Train error: 0.917, Train accuracy: 0.811\n",
      "epoch: 254, Train error: 0.916, Train accuracy: 0.811\n",
      "epoch: 255, Train error: 0.914, Train accuracy: 0.812\n",
      "epoch: 256, Train error: 0.913, Train accuracy: 0.812\n",
      "epoch: 257, Train error: 0.911, Train accuracy: 0.812\n",
      "epoch: 258, Train error: 0.910, Train accuracy: 0.812\n",
      "epoch: 259, Train error: 0.908, Train accuracy: 0.812\n",
      "epoch: 260, Train error: 0.907, Train accuracy: 0.812\n",
      "epoch: 261, Train error: 0.906, Train accuracy: 0.812\n",
      "epoch: 262, Train error: 0.904, Train accuracy: 0.812\n",
      "epoch: 263, Train error: 0.903, Train accuracy: 0.812\n",
      "epoch: 264, Train error: 0.901, Train accuracy: 0.812\n",
      "epoch: 265, Train error: 0.900, Train accuracy: 0.813\n",
      "epoch: 266, Train error: 0.898, Train accuracy: 0.813\n",
      "epoch: 267, Train error: 0.897, Train accuracy: 0.813\n",
      "epoch: 268, Train error: 0.896, Train accuracy: 0.813\n",
      "epoch: 269, Train error: 0.894, Train accuracy: 0.813\n",
      "epoch: 270, Train error: 0.893, Train accuracy: 0.813\n",
      "epoch: 271, Train error: 0.891, Train accuracy: 0.813\n",
      "epoch: 272, Train error: 0.890, Train accuracy: 0.813\n",
      "epoch: 273, Train error: 0.889, Train accuracy: 0.813\n",
      "epoch: 274, Train error: 0.887, Train accuracy: 0.813\n",
      "epoch: 275, Train error: 0.886, Train accuracy: 0.814\n",
      "epoch: 276, Train error: 0.885, Train accuracy: 0.814\n",
      "epoch: 277, Train error: 0.883, Train accuracy: 0.814\n",
      "epoch: 278, Train error: 0.882, Train accuracy: 0.814\n",
      "epoch: 279, Train error: 0.881, Train accuracy: 0.814\n",
      "epoch: 280, Train error: 0.879, Train accuracy: 0.814\n",
      "epoch: 281, Train error: 0.878, Train accuracy: 0.814\n",
      "epoch: 282, Train error: 0.877, Train accuracy: 0.814\n",
      "epoch: 283, Train error: 0.875, Train accuracy: 0.814\n",
      "epoch: 284, Train error: 0.874, Train accuracy: 0.814\n",
      "epoch: 285, Train error: 0.873, Train accuracy: 0.814\n",
      "epoch: 286, Train error: 0.872, Train accuracy: 0.815\n",
      "epoch: 287, Train error: 0.870, Train accuracy: 0.815\n",
      "epoch: 288, Train error: 0.869, Train accuracy: 0.815\n",
      "epoch: 289, Train error: 0.868, Train accuracy: 0.815\n",
      "epoch: 290, Train error: 0.866, Train accuracy: 0.815\n",
      "epoch: 291, Train error: 0.865, Train accuracy: 0.815\n",
      "epoch: 292, Train error: 0.864, Train accuracy: 0.815\n",
      "epoch: 293, Train error: 0.863, Train accuracy: 0.815\n",
      "epoch: 294, Train error: 0.861, Train accuracy: 0.815\n",
      "epoch: 295, Train error: 0.860, Train accuracy: 0.815\n",
      "epoch: 296, Train error: 0.859, Train accuracy: 0.815\n",
      "epoch: 297, Train error: 0.858, Train accuracy: 0.816\n",
      "epoch: 298, Train error: 0.856, Train accuracy: 0.816\n",
      "epoch: 299, Train error: 0.855, Train accuracy: 0.816\n",
      "epoch: 300, Train error: 0.854, Train accuracy: 0.816\n",
      "epoch: 301, Train error: 0.853, Train accuracy: 0.816\n",
      "epoch: 302, Train error: 0.852, Train accuracy: 0.816\n",
      "epoch: 303, Train error: 0.850, Train accuracy: 0.816\n",
      "epoch: 304, Train error: 0.849, Train accuracy: 0.816\n",
      "epoch: 305, Train error: 0.848, Train accuracy: 0.816\n"
     ]
    },
    {
     "name": "stdout",
     "output_type": "stream",
     "text": [
      "epoch: 306, Train error: 0.847, Train accuracy: 0.817\n",
      "epoch: 307, Train error: 0.846, Train accuracy: 0.817\n",
      "epoch: 308, Train error: 0.845, Train accuracy: 0.817\n",
      "epoch: 309, Train error: 0.843, Train accuracy: 0.817\n",
      "epoch: 310, Train error: 0.842, Train accuracy: 0.817\n",
      "epoch: 311, Train error: 0.841, Train accuracy: 0.817\n",
      "epoch: 312, Train error: 0.840, Train accuracy: 0.817\n",
      "epoch: 313, Train error: 0.839, Train accuracy: 0.817\n",
      "epoch: 314, Train error: 0.838, Train accuracy: 0.817\n",
      "epoch: 315, Train error: 0.836, Train accuracy: 0.818\n",
      "epoch: 316, Train error: 0.835, Train accuracy: 0.818\n",
      "epoch: 317, Train error: 0.834, Train accuracy: 0.818\n",
      "epoch: 318, Train error: 0.833, Train accuracy: 0.818\n",
      "epoch: 319, Train error: 0.832, Train accuracy: 0.818\n",
      "epoch: 320, Train error: 0.831, Train accuracy: 0.818\n",
      "epoch: 321, Train error: 0.830, Train accuracy: 0.818\n",
      "epoch: 322, Train error: 0.829, Train accuracy: 0.818\n",
      "epoch: 323, Train error: 0.827, Train accuracy: 0.818\n",
      "epoch: 324, Train error: 0.826, Train accuracy: 0.818\n",
      "epoch: 325, Train error: 0.825, Train accuracy: 0.818\n",
      "epoch: 326, Train error: 0.824, Train accuracy: 0.819\n",
      "epoch: 327, Train error: 0.823, Train accuracy: 0.819\n",
      "epoch: 328, Train error: 0.822, Train accuracy: 0.819\n",
      "epoch: 329, Train error: 0.821, Train accuracy: 0.819\n",
      "epoch: 330, Train error: 0.820, Train accuracy: 0.819\n",
      "epoch: 331, Train error: 0.819, Train accuracy: 0.819\n",
      "epoch: 332, Train error: 0.818, Train accuracy: 0.819\n",
      "epoch: 333, Train error: 0.817, Train accuracy: 0.819\n",
      "epoch: 334, Train error: 0.816, Train accuracy: 0.819\n",
      "epoch: 335, Train error: 0.815, Train accuracy: 0.819\n",
      "epoch: 336, Train error: 0.813, Train accuracy: 0.819\n",
      "epoch: 337, Train error: 0.812, Train accuracy: 0.819\n",
      "epoch: 338, Train error: 0.811, Train accuracy: 0.819\n",
      "epoch: 339, Train error: 0.810, Train accuracy: 0.820\n",
      "epoch: 340, Train error: 0.809, Train accuracy: 0.820\n",
      "epoch: 341, Train error: 0.808, Train accuracy: 0.820\n",
      "epoch: 342, Train error: 0.807, Train accuracy: 0.820\n",
      "epoch: 343, Train error: 0.806, Train accuracy: 0.820\n",
      "epoch: 344, Train error: 0.805, Train accuracy: 0.820\n",
      "epoch: 345, Train error: 0.804, Train accuracy: 0.820\n",
      "epoch: 346, Train error: 0.803, Train accuracy: 0.820\n",
      "epoch: 347, Train error: 0.802, Train accuracy: 0.820\n",
      "epoch: 348, Train error: 0.801, Train accuracy: 0.820\n",
      "epoch: 349, Train error: 0.800, Train accuracy: 0.820\n",
      "epoch: 350, Train error: 0.799, Train accuracy: 0.820\n",
      "epoch: 351, Train error: 0.798, Train accuracy: 0.820\n",
      "epoch: 352, Train error: 0.797, Train accuracy: 0.821\n",
      "epoch: 353, Train error: 0.796, Train accuracy: 0.821\n",
      "epoch: 354, Train error: 0.795, Train accuracy: 0.821\n",
      "epoch: 355, Train error: 0.794, Train accuracy: 0.821\n",
      "epoch: 356, Train error: 0.793, Train accuracy: 0.821\n",
      "epoch: 357, Train error: 0.792, Train accuracy: 0.821\n",
      "epoch: 358, Train error: 0.791, Train accuracy: 0.821\n",
      "epoch: 359, Train error: 0.790, Train accuracy: 0.821\n",
      "epoch: 360, Train error: 0.789, Train accuracy: 0.821\n",
      "epoch: 361, Train error: 0.788, Train accuracy: 0.821\n",
      "epoch: 362, Train error: 0.787, Train accuracy: 0.821\n",
      "epoch: 363, Train error: 0.787, Train accuracy: 0.821\n",
      "epoch: 364, Train error: 0.786, Train accuracy: 0.821\n",
      "epoch: 365, Train error: 0.785, Train accuracy: 0.821\n",
      "epoch: 366, Train error: 0.784, Train accuracy: 0.821\n",
      "epoch: 367, Train error: 0.783, Train accuracy: 0.821\n",
      "epoch: 368, Train error: 0.782, Train accuracy: 0.821\n",
      "epoch: 369, Train error: 0.781, Train accuracy: 0.822\n",
      "epoch: 370, Train error: 0.780, Train accuracy: 0.822\n",
      "epoch: 371, Train error: 0.779, Train accuracy: 0.822\n",
      "epoch: 372, Train error: 0.778, Train accuracy: 0.822\n",
      "epoch: 373, Train error: 0.777, Train accuracy: 0.822\n",
      "epoch: 374, Train error: 0.776, Train accuracy: 0.822\n",
      "epoch: 375, Train error: 0.775, Train accuracy: 0.822\n",
      "epoch: 376, Train error: 0.774, Train accuracy: 0.822\n",
      "epoch: 377, Train error: 0.774, Train accuracy: 0.822\n",
      "epoch: 378, Train error: 0.773, Train accuracy: 0.822\n",
      "epoch: 379, Train error: 0.772, Train accuracy: 0.822\n",
      "epoch: 380, Train error: 0.771, Train accuracy: 0.822\n",
      "epoch: 381, Train error: 0.770, Train accuracy: 0.822\n",
      "epoch: 382, Train error: 0.769, Train accuracy: 0.822\n",
      "epoch: 383, Train error: 0.768, Train accuracy: 0.822\n",
      "epoch: 384, Train error: 0.767, Train accuracy: 0.822\n",
      "epoch: 385, Train error: 0.766, Train accuracy: 0.822\n",
      "epoch: 386, Train error: 0.766, Train accuracy: 0.823\n",
      "epoch: 387, Train error: 0.765, Train accuracy: 0.823\n",
      "epoch: 388, Train error: 0.764, Train accuracy: 0.823\n",
      "epoch: 389, Train error: 0.763, Train accuracy: 0.823\n",
      "epoch: 390, Train error: 0.762, Train accuracy: 0.823\n",
      "epoch: 391, Train error: 0.761, Train accuracy: 0.823\n",
      "epoch: 392, Train error: 0.760, Train accuracy: 0.823\n",
      "epoch: 393, Train error: 0.759, Train accuracy: 0.823\n",
      "epoch: 394, Train error: 0.759, Train accuracy: 0.823\n",
      "epoch: 395, Train error: 0.758, Train accuracy: 0.823\n",
      "epoch: 396, Train error: 0.757, Train accuracy: 0.823\n",
      "epoch: 397, Train error: 0.756, Train accuracy: 0.823\n",
      "epoch: 398, Train error: 0.755, Train accuracy: 0.823\n",
      "epoch: 399, Train error: 0.754, Train accuracy: 0.824\n",
      "epoch: 400, Train error: 0.754, Train accuracy: 0.824\n",
      "epoch: 401, Train error: 0.753, Train accuracy: 0.824\n",
      "epoch: 402, Train error: 0.752, Train accuracy: 0.824\n",
      "epoch: 403, Train error: 0.751, Train accuracy: 0.824\n",
      "epoch: 404, Train error: 0.750, Train accuracy: 0.824\n",
      "epoch: 405, Train error: 0.749, Train accuracy: 0.824\n",
      "epoch: 406, Train error: 0.749, Train accuracy: 0.824\n",
      "epoch: 407, Train error: 0.748, Train accuracy: 0.824\n",
      "epoch: 408, Train error: 0.747, Train accuracy: 0.824\n",
      "epoch: 409, Train error: 0.746, Train accuracy: 0.824\n",
      "epoch: 410, Train error: 0.745, Train accuracy: 0.824\n",
      "epoch: 411, Train error: 0.745, Train accuracy: 0.824\n",
      "epoch: 412, Train error: 0.744, Train accuracy: 0.824\n",
      "epoch: 413, Train error: 0.743, Train accuracy: 0.824\n",
      "epoch: 414, Train error: 0.742, Train accuracy: 0.824\n",
      "epoch: 415, Train error: 0.741, Train accuracy: 0.824\n",
      "epoch: 416, Train error: 0.741, Train accuracy: 0.825\n",
      "epoch: 417, Train error: 0.740, Train accuracy: 0.825\n",
      "epoch: 418, Train error: 0.739, Train accuracy: 0.825\n",
      "epoch: 419, Train error: 0.738, Train accuracy: 0.825\n",
      "epoch: 420, Train error: 0.737, Train accuracy: 0.825\n",
      "epoch: 421, Train error: 0.737, Train accuracy: 0.825\n",
      "epoch: 422, Train error: 0.736, Train accuracy: 0.825\n",
      "epoch: 423, Train error: 0.735, Train accuracy: 0.825\n",
      "epoch: 424, Train error: 0.734, Train accuracy: 0.825\n",
      "epoch: 425, Train error: 0.733, Train accuracy: 0.825\n",
      "epoch: 426, Train error: 0.733, Train accuracy: 0.825\n",
      "epoch: 427, Train error: 0.732, Train accuracy: 0.825\n",
      "epoch: 428, Train error: 0.731, Train accuracy: 0.825\n",
      "epoch: 429, Train error: 0.730, Train accuracy: 0.825\n",
      "epoch: 430, Train error: 0.730, Train accuracy: 0.825\n",
      "epoch: 431, Train error: 0.729, Train accuracy: 0.825\n",
      "epoch: 432, Train error: 0.728, Train accuracy: 0.826\n",
      "epoch: 433, Train error: 0.727, Train accuracy: 0.826\n",
      "epoch: 434, Train error: 0.727, Train accuracy: 0.826\n",
      "epoch: 435, Train error: 0.726, Train accuracy: 0.826\n",
      "epoch: 436, Train error: 0.725, Train accuracy: 0.826\n",
      "epoch: 437, Train error: 0.724, Train accuracy: 0.826\n",
      "epoch: 438, Train error: 0.724, Train accuracy: 0.826\n",
      "epoch: 439, Train error: 0.723, Train accuracy: 0.826\n",
      "epoch: 440, Train error: 0.722, Train accuracy: 0.826\n",
      "epoch: 441, Train error: 0.721, Train accuracy: 0.826\n",
      "epoch: 442, Train error: 0.721, Train accuracy: 0.826\n",
      "epoch: 443, Train error: 0.720, Train accuracy: 0.826\n",
      "epoch: 444, Train error: 0.719, Train accuracy: 0.826\n",
      "epoch: 445, Train error: 0.719, Train accuracy: 0.826\n",
      "epoch: 446, Train error: 0.718, Train accuracy: 0.826\n",
      "epoch: 447, Train error: 0.717, Train accuracy: 0.826\n",
      "epoch: 448, Train error: 0.716, Train accuracy: 0.826\n",
      "epoch: 449, Train error: 0.716, Train accuracy: 0.827\n",
      "epoch: 450, Train error: 0.715, Train accuracy: 0.827\n",
      "epoch: 451, Train error: 0.714, Train accuracy: 0.827\n",
      "epoch: 452, Train error: 0.714, Train accuracy: 0.827\n",
      "epoch: 453, Train error: 0.713, Train accuracy: 0.827\n",
      "epoch: 454, Train error: 0.712, Train accuracy: 0.827\n",
      "epoch: 455, Train error: 0.711, Train accuracy: 0.827\n",
      "epoch: 456, Train error: 0.711, Train accuracy: 0.827\n",
      "epoch: 457, Train error: 0.710, Train accuracy: 0.827\n"
     ]
    },
    {
     "name": "stdout",
     "output_type": "stream",
     "text": [
      "epoch: 458, Train error: 0.709, Train accuracy: 0.827\n",
      "epoch: 459, Train error: 0.709, Train accuracy: 0.827\n",
      "epoch: 460, Train error: 0.708, Train accuracy: 0.827\n",
      "epoch: 461, Train error: 0.707, Train accuracy: 0.827\n",
      "epoch: 462, Train error: 0.707, Train accuracy: 0.827\n",
      "epoch: 463, Train error: 0.706, Train accuracy: 0.827\n",
      "epoch: 464, Train error: 0.705, Train accuracy: 0.828\n",
      "epoch: 465, Train error: 0.704, Train accuracy: 0.828\n",
      "epoch: 466, Train error: 0.704, Train accuracy: 0.828\n",
      "epoch: 467, Train error: 0.703, Train accuracy: 0.828\n",
      "epoch: 468, Train error: 0.702, Train accuracy: 0.828\n",
      "epoch: 469, Train error: 0.702, Train accuracy: 0.828\n",
      "epoch: 470, Train error: 0.701, Train accuracy: 0.828\n",
      "epoch: 471, Train error: 0.700, Train accuracy: 0.828\n",
      "epoch: 472, Train error: 0.700, Train accuracy: 0.828\n",
      "epoch: 473, Train error: 0.699, Train accuracy: 0.828\n",
      "epoch: 474, Train error: 0.698, Train accuracy: 0.828\n",
      "epoch: 475, Train error: 0.698, Train accuracy: 0.828\n",
      "epoch: 476, Train error: 0.697, Train accuracy: 0.828\n",
      "epoch: 477, Train error: 0.696, Train accuracy: 0.828\n",
      "epoch: 478, Train error: 0.696, Train accuracy: 0.828\n",
      "epoch: 479, Train error: 0.695, Train accuracy: 0.828\n",
      "epoch: 480, Train error: 0.694, Train accuracy: 0.828\n",
      "epoch: 481, Train error: 0.694, Train accuracy: 0.828\n",
      "epoch: 482, Train error: 0.693, Train accuracy: 0.828\n",
      "epoch: 483, Train error: 0.693, Train accuracy: 0.828\n",
      "epoch: 484, Train error: 0.692, Train accuracy: 0.829\n",
      "epoch: 485, Train error: 0.691, Train accuracy: 0.829\n",
      "epoch: 486, Train error: 0.691, Train accuracy: 0.828\n",
      "epoch: 487, Train error: 0.690, Train accuracy: 0.828\n",
      "epoch: 488, Train error: 0.689, Train accuracy: 0.829\n",
      "epoch: 489, Train error: 0.689, Train accuracy: 0.829\n",
      "epoch: 490, Train error: 0.688, Train accuracy: 0.829\n",
      "epoch: 491, Train error: 0.687, Train accuracy: 0.829\n",
      "epoch: 492, Train error: 0.687, Train accuracy: 0.829\n",
      "epoch: 493, Train error: 0.686, Train accuracy: 0.829\n",
      "epoch: 494, Train error: 0.686, Train accuracy: 0.829\n",
      "epoch: 495, Train error: 0.685, Train accuracy: 0.829\n",
      "epoch: 496, Train error: 0.684, Train accuracy: 0.829\n",
      "epoch: 497, Train error: 0.684, Train accuracy: 0.829\n",
      "epoch: 498, Train error: 0.683, Train accuracy: 0.829\n",
      "epoch: 499, Train error: 0.682, Train accuracy: 0.829\n"
     ]
    }
   ],
   "source": [
    "for epoch in range(max_epoch):\n",
    "    train_error = 0\n",
    "    train_accuracy = 0\n",
    "    \n",
    "    for i in range(train_steps):\n",
    "        batch_start = i * batch_size\n",
    "        batch_end = (i+1) * batch_size\n",
    "        \n",
    "        input = train_dataset[batch_start:batch_end]\n",
    "        true = train_labels[batch_start:batch_end]\n",
    "        \n",
    "        #Forward pass\n",
    "        layer1.forward(input)\n",
    "        train_error += loss.forward(layer1.output, true) / train_steps\n",
    "        train_accuracy += accuracy.calculate(layer1.output, true) / train_steps\n",
    "        \n",
    "        #Backward pass\n",
    "        loss.backward(loss.activation.output, true)\n",
    "        layer1.backward(loss.dresults)\n",
    "        \n",
    "        optimizer.update_parameters(layer1)\n",
    "    \n",
    "    print(f'epoch: {epoch},',\n",
    "          f'Train error: {train_error:.3f},',\n",
    "          f'Train accuracy: {train_accuracy:.3f}')"
   ]
  },
  {
   "cell_type": "markdown",
   "id": "3b236fa4",
   "metadata": {},
   "source": [
    "### Testing the model"
   ]
  },
  {
   "cell_type": "code",
   "execution_count": 29,
   "id": "3253f918",
   "metadata": {},
   "outputs": [],
   "source": [
    "test_steps = len(test_dataset) // batch_size\n",
    "if test_steps * batch_size < len(test_dataset):\n",
    "    test_steps += 1"
   ]
  },
  {
   "cell_type": "code",
   "execution_count": 30,
   "id": "66c60452",
   "metadata": {},
   "outputs": [],
   "source": [
    "test_error = 0\n",
    "test_accuracy = 0\n",
    "\n",
    "for i in range(test_steps):\n",
    "    batch_start = i * batch_size\n",
    "    batch_end = (i+1) * batch_size\n",
    "    \n",
    "    input = test_dataset[batch_start:batch_end]\n",
    "    true = test_labels[batch_start:batch_end]\n",
    "    \n",
    "    layer1.forward(input)\n",
    "    test_error += loss.forward(layer1.output, true) / test_steps\n",
    "    test_accuracy += accuracy.calculate(layer1.output, true) / test_steps"
   ]
  },
  {
   "cell_type": "code",
   "execution_count": 31,
   "id": "7df841a0",
   "metadata": {},
   "outputs": [
    {
     "name": "stdout",
     "output_type": "stream",
     "text": [
      "Test error: 0.836, Test accuracy: 0.809\n"
     ]
    }
   ],
   "source": [
    "print(f'Test error: {test_error:.3f},',\n",
    "      f'Test accuracy: {test_accuracy:.3f}')"
   ]
  },
  {
   "cell_type": "code",
   "execution_count": 36,
   "id": "e68d083d",
   "metadata": {},
   "outputs": [
    {
     "data": {
      "text/plain": [
       "5522"
      ]
     },
     "execution_count": 36,
     "metadata": {},
     "output_type": "execute_result"
    }
   ],
   "source": [
    "random_idx = np.random.randint(len(test_dataset))\n",
    "random_idx"
   ]
  },
  {
   "cell_type": "code",
   "execution_count": 37,
   "id": "ae004f4e",
   "metadata": {},
   "outputs": [],
   "source": [
    "test_input = test_dataset[random_idx]\n",
    "test_label = test_labels[random_idx]"
   ]
  },
  {
   "cell_type": "code",
   "execution_count": 38,
   "id": "fe60cf07",
   "metadata": {},
   "outputs": [
    {
     "data": {
      "text/plain": [
       "1.8040760970466247e-06"
      ]
     },
     "execution_count": 38,
     "metadata": {},
     "output_type": "execute_result"
    }
   ],
   "source": [
    "layer1.forward(test_input)\n",
    "loss.forward(layer1.output, test_label)"
   ]
  },
  {
   "cell_type": "code",
   "execution_count": 39,
   "id": "0f5f96f0",
   "metadata": {},
   "outputs": [
    {
     "name": "stdout",
     "output_type": "stream",
     "text": [
      "true: 5 class: Sandal \n",
      "pred: 5 class: Sandal\n"
     ]
    },
    {
     "data": {
      "image/png": "[encoded data removed]",
      "text/plain": [
       "<Figure size 432x288 with 1 Axes>"
      ]
     },
     "metadata": {
      "needs_background": "light"
     },
     "output_type": "display_data"
    }
   ],
   "source": [
    "test_label = np.argmax(test_label)\n",
    "test_pred = np.argmax(loss.activation.output)\n",
    "print(f'true: {test_label}',\n",
    "      f'class: {classes[test_label]}',\n",
    "      f'\\npred: {test_pred}',\n",
    "      f'class: {classes[test_pred]}')\n",
    "img = test_input.reshape((28, 28))\n",
    "plt.imshow(img, cmap='gray')\n",
    "plt.show()"
   ]
  }
 ],
 "metadata": {
  "kernelspec": {
   "display_name": "Python 3",
   "language": "python",
   "name": "python3"
  },
  "language_info": {
   "codemirror_mode": {
    "name": "ipython",
    "version": 3
   },
   "file_extension": ".py",
   "mimetype": "text/x-python",
   "name": "python",
   "nbconvert_exporter": "python",
   "pygments_lexer": "ipython3",
   "version": "3.9.5"
  }
 },
 "nbformat": 4,
 "nbformat_minor": 5
}

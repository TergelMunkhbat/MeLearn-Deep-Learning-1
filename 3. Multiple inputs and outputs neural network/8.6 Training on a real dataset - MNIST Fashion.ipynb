{
 "cells": [
  {
   "cell_type": "markdown",
   "id": "211f9c01",
   "metadata": {},
   "source": [
    "# Deep Learning - 1"
   ]
  },
  {
   "cell_type": "markdown",
   "id": "649f7822",
   "metadata": {},
   "source": [
    "## Chapter 3: Multiple inputs Neural Network"
   ]
  },
  {
   "cell_type": "markdown",
   "id": "592d6d6e",
   "metadata": {},
   "source": [
    "### Training on a real dataset - MNIST Fashion"
   ]
  },
  {
   "cell_type": "markdown",
   "id": "b0a24843",
   "metadata": {},
   "source": [
    "---------------"
   ]
  },
  {
   "cell_type": "markdown",
   "id": "02f0ca82",
   "metadata": {},
   "source": [
    "### Import"
   ]
  },
  {
   "cell_type": "code",
   "execution_count": 38,
   "id": "fca357a3",
   "metadata": {},
   "outputs": [],
   "source": [
    "import numpy as np\n",
    "import os\n",
    "import cv2\n",
    "import matplotlib.pyplot as plt"
   ]
  },
  {
   "cell_type": "markdown",
   "id": "c2b879cc",
   "metadata": {},
   "source": [
    "### Model"
   ]
  },
  {
   "cell_type": "markdown",
   "id": "a83e1ef8",
   "metadata": {},
   "source": [
    "#### Neural network"
   ]
  },
  {
   "cell_type": "markdown",
   "id": "a0a494e6",
   "metadata": {},
   "source": [
    "<img src=\"images/layer.png\" alt=\"Drawing\" width=\"300\"/>"
   ]
  },
  {
   "cell_type": "code",
   "execution_count": 2,
   "id": "d55c27a3",
   "metadata": {},
   "outputs": [],
   "source": [
    "class Layer:\n",
    "    \"\"\"Representing a neural network layer\"\"\"\n",
    "    \n",
    "    def __init__(self, n_inputs, n_outputs):\n",
    "        \"\"\"Initlize weights and bias\"\"\"\n",
    "        self.weights = np.random.randn(n_inputs, n_outputs)\n",
    "        self.biases = np.zeros((1, n_outputs))\n",
    "    \n",
    "    def forward(self, inputs):\n",
    "        \"\"\"\n",
    "        It multiplies the inputs by the weights \n",
    "        and then sums them, and then sums bias.\n",
    "        \"\"\"\n",
    "        #To calculate gradient, remembering input values\n",
    "        self.inputs = inputs\n",
    "        #Calculate outputs' values\n",
    "        self.output = np.dot(inputs, self.weights) + self.biases\n",
    "    \n",
    "    def backward(self, dvalues):\n",
    "        \"\"\"Gradient with respect to parameters\"\"\"\n",
    "        self.dweights = np.dot(self.inputs.T, dvalues)\n",
    "        self.dbiases = np.sum(dvalues, axis=0, keepdims=True)"
   ]
  },
  {
   "cell_type": "markdown",
   "id": "09103fd1",
   "metadata": {},
   "source": [
    "### Activation functions"
   ]
  },
  {
   "cell_type": "markdown",
   "id": "149c787f",
   "metadata": {},
   "source": [
    "#### Softmax Activation function"
   ]
  },
  {
   "cell_type": "markdown",
   "id": "a31d7786",
   "metadata": {},
   "source": [
    "<img src=\"images/softmax.png\" alt=\"Drawing\" width=\"500\"/>"
   ]
  },
  {
   "cell_type": "code",
   "execution_count": 3,
   "id": "820a4706",
   "metadata": {},
   "outputs": [],
   "source": [
    "class Activation_Softmax:\n",
    "    \"\"\"Softmax activation\"\"\"\n",
    "    \n",
    "    def forward(self, inputs):\n",
    "        \"\"\"Forward pass\"\"\"\n",
    "        \n",
    "        #Compute e^x for each element of inputs\n",
    "        #Due to the overflow error, \n",
    "        #Maximum value of per sample subtract from each row\n",
    "        exp_values = np.exp(inputs - np.max(inputs, axis=1,\n",
    "                                           keepdims=True))\n",
    "        \n",
    "        #Normalize them for each batch\n",
    "        self.output = exp_values / np.sum(exp_values, \n",
    "                                          axis=1, keepdims=True)\n",
    "    \n",
    "    def backward(self, dvalues):\n",
    "        \"\"\"Gradient softmax\"\"\"\n",
    "        \n",
    "        #Initialize an array\n",
    "        self.dresults = np.zeros(dvalues.shape)\n",
    "        \n",
    "        for i in range(len(dvalues)):\n",
    "            #Reshape the single output\n",
    "            single_output = self.output[i].reshape(-1, 1)\n",
    "            \n",
    "            #Calculate Jacobian matrix of the single output\n",
    "            jacobian_matrix = np.diagflat(single_output) - \\\n",
    "                                np.dot(single_output, single_output.T)\n",
    "            \n",
    "            #Multiply the Jacobian matrix by the loss function derivative\n",
    "            self.dresults[i] = np.dot(jacobian_matrix, dvalues[i])"
   ]
  },
  {
   "cell_type": "markdown",
   "id": "325b26d3",
   "metadata": {},
   "source": [
    "### Loss"
   ]
  },
  {
   "cell_type": "markdown",
   "id": "b268858f",
   "metadata": {},
   "source": [
    "#### MSE"
   ]
  },
  {
   "cell_type": "code",
   "execution_count": 4,
   "id": "5529a656",
   "metadata": {},
   "outputs": [],
   "source": [
    "class Loss_MSE():\n",
    "    \"\"\"MSE Loss function\"\"\"\n",
    "    \n",
    "    def forward(self, y_pred, y_true):\n",
    "        \"\"\"Forward pass\"\"\"     \n",
    "        error = np.mean((y_pred - y_true) ** 2)\n",
    "        return error\n",
    "    \n",
    "    def backward(self, y_pred, y_true):\n",
    "        \"\"\"Derivative of MSE with respect to preds\"\"\"\n",
    "        \n",
    "        #Number of samples\n",
    "        samples = len(y_pred)\n",
    "        \n",
    "        #Number of output nodes\n",
    "        outputs = len(y_pred[0])\n",
    "        \n",
    "        #Derivative of MSE\n",
    "        self.dresults = 2 * (y_pred - y_true) / (outputs * samples)"
   ]
  },
  {
   "cell_type": "markdown",
   "id": "9a8e8970",
   "metadata": {},
   "source": [
    "#### Categorical Cross-entropy"
   ]
  },
  {
   "cell_type": "code",
   "execution_count": 5,
   "id": "07e2403a",
   "metadata": {},
   "outputs": [],
   "source": [
    "class Loss_CategoricalCrossEntropy():\n",
    "    \"\"\"Cross entropy Loss function\"\"\"\n",
    "    \n",
    "    def forward(self, y_pred, y_true):\n",
    "        \"\"\"Forward pass\"\"\"\n",
    "        y_pred += 1e-10\n",
    "        y_pred = np.clip(y_pred, None, 1)\n",
    "        true_prediction = np.sum(y_pred * y_true, axis=1)\n",
    "        error = np.mean(-np.log(true_prediction)) \n",
    "        return error\n",
    "    \n",
    "    def backward(self, y_pred, y_true):\n",
    "        \"\"\"Derivative of CCE with respect to preds\"\"\"\n",
    "        \n",
    "        #Number of samples\n",
    "        samples = len(y_pred)\n",
    "        \n",
    "        self.dresults = -y_true / (y_pred * samples)"
   ]
  },
  {
   "cell_type": "markdown",
   "id": "38650268",
   "metadata": {},
   "source": [
    "#### Categorical Cross-entropy + Softmax "
   ]
  },
  {
   "cell_type": "code",
   "execution_count": 6,
   "id": "24017a33",
   "metadata": {},
   "outputs": [],
   "source": [
    "class Loss_CategoricalCrossEntropy_Activation_SoftMax:\n",
    "    \"\"\"Cateogircal cross entropy loss and SoftMax function\"\"\"\n",
    "    \n",
    "    def __init__(self):\n",
    "        \"\"\"Initialize Softmax and CCE loss\"\"\"\n",
    "        self.activation = Activation_Softmax()\n",
    "        self.loss = Loss_CategoricalCrossEntropy()\n",
    "        \n",
    "    def forward(self, inputs, y_true):\n",
    "        \"\"\"Forward pass\"\"\"\n",
    "        self.activation.forward(inputs)\n",
    "        return self.loss.forward(self.activation.output, y_true)\n",
    "    \n",
    "    def backward(self, y_pred, y_true):\n",
    "        \"\"\"Gradient of Categorical cross entropy + Softmax activation\"\"\"\n",
    "        samples = len(y_pred)\n",
    "        \n",
    "        self.dresults = (y_pred - y_true) / samples        "
   ]
  },
  {
   "cell_type": "markdown",
   "id": "ae60fe79",
   "metadata": {},
   "source": [
    "### Accuracy"
   ]
  },
  {
   "cell_type": "code",
   "execution_count": 7,
   "id": "8e5b134b",
   "metadata": {},
   "outputs": [],
   "source": [
    "class Accuracy_Categorical:\n",
    "    \"\"\"Accuracy calculation for classification\"\"\"\n",
    "    \n",
    "    def calculate(self, y_pred, y_true):\n",
    "        \"\"\"Calculate the accuracy\"\"\"\n",
    "        \n",
    "        true = np.argmax(y_true, axis=1)\n",
    "        pred = np.argmax(y_pred, axis=1)\n",
    "        comparisons = true == pred\n",
    "        \n",
    "        accuracy = np.mean(comparisons)\n",
    "        \n",
    "        return accuracy"
   ]
  },
  {
   "cell_type": "markdown",
   "id": "3d926f58",
   "metadata": {},
   "source": [
    "### Optimizer"
   ]
  },
  {
   "cell_type": "markdown",
   "id": "aa8a3dfc",
   "metadata": {},
   "source": [
    "#### Gradient descent "
   ]
  },
  {
   "cell_type": "code",
   "execution_count": 8,
   "id": "e4d350dd",
   "metadata": {},
   "outputs": [],
   "source": [
    "class Optimizer_GD:\n",
    "    \"\"\"Gradient descent optimizer\"\"\"\n",
    "    \n",
    "    def __init__(self, alpha=1.):\n",
    "        \"\"\"Initialize hyperparameters\"\"\"\n",
    "        self.alpha = alpha\n",
    "\n",
    "    def update_parameters(self, layer):\n",
    "        \"\"\"Update parameters\"\"\"\n",
    "        weights_delta = layer.dweights * self.alpha\n",
    "        biases_delta = layer.dbiases * self.alpha\n",
    "        \n",
    "        #Update parameters\n",
    "        layer.weights -= weights_delta\n",
    "        layer.biases -= biases_delta"
   ]
  },
  {
   "cell_type": "markdown",
   "id": "3e6ba5dc",
   "metadata": {},
   "source": [
    "### Scaler"
   ]
  },
  {
   "cell_type": "markdown",
   "id": "9912b52d",
   "metadata": {},
   "source": [
    "#### Standard Scaler"
   ]
  },
  {
   "cell_type": "code",
   "execution_count": 9,
   "id": "b97eddea",
   "metadata": {},
   "outputs": [],
   "source": [
    "class Scaler_Standard:\n",
    "    \"\"\"Standard scaler\"\"\"\n",
    "    \n",
    "    def fit(self, data):\n",
    "        \"\"\"Find mean and std values\"\"\"\n",
    "        self.means = data.mean(axis=0)\n",
    "        self.stds = data.std(axis=0)\n",
    "        return self\n",
    "    \n",
    "    def transform(self, data):\n",
    "        \"\"\"Transforming data\"\"\"\n",
    "        return (data - self.means) / self.stds\n",
    "    \n",
    "    def fit_transform(self, data):\n",
    "        \"\"\"Fit and transform data\"\"\"\n",
    "        return self.fit(data).transform(data)"
   ]
  },
  {
   "cell_type": "markdown",
   "id": "6c850cf2",
   "metadata": {},
   "source": [
    "#### MinMax Scaler"
   ]
  },
  {
   "cell_type": "code",
   "execution_count": 10,
   "id": "7e5c1fdd",
   "metadata": {},
   "outputs": [],
   "source": [
    "class Scaler_MinMax:\n",
    "    \"\"\"MinMax scaler\"\"\"\n",
    "    \n",
    "    def __init__(self, feature_range=(0,1)):\n",
    "        \"\"\"Initialize the feature range\"\"\"\n",
    "        self.low, self.high = feature_range\n",
    "    \n",
    "    def fit(self, data):\n",
    "        \"\"\"Find min and max values\"\"\"\n",
    "        self.min = data.min(axis=0)\n",
    "        self.max = data.max(axis=0)\n",
    "        return self\n",
    "    \n",
    "    def transform(self, data):\n",
    "        \"\"\"Transforming data\"\"\"\n",
    "        data_std = (data - self.min) / (self.max - self.min)\n",
    "        return data_std * (self.high - self.low) + self.low\n",
    "    \n",
    "    def fit_transform(self, data):\n",
    "        \"\"\"Fit and transform data\"\"\"\n",
    "        return self.fit(data).transform(data)"
   ]
  },
  {
   "cell_type": "markdown",
   "id": "cfa52189",
   "metadata": {},
   "source": [
    "#### Robust Scaler"
   ]
  },
  {
   "cell_type": "code",
   "execution_count": 11,
   "id": "e867d610",
   "metadata": {},
   "outputs": [],
   "source": [
    "class Scaler_Robust:\n",
    "    \"\"\"Robust scaler\"\"\"\n",
    "    \n",
    "    def fit(self, data):\n",
    "        \"\"\"Find median and iqr values\"\"\"\n",
    "        self.medians = np.median(data, axis=0)\n",
    "        self.p75, self.p25 = np.percentile(data, [75 ,25], axis=0)\n",
    "        self.iqr = self.p75 - self.p25\n",
    "        return self\n",
    "    \n",
    "    def transform(self, data):\n",
    "        \"\"\"Transforming data\"\"\"\n",
    "        return (data - self.medians) / self.iqr\n",
    "    \n",
    "    def fit_transform(self, data):\n",
    "        \"\"\"Fit and transform data\"\"\"\n",
    "        return self.fit(data).transform(data)"
   ]
  },
  {
   "cell_type": "markdown",
   "id": "4d3c0507",
   "metadata": {},
   "source": [
    "---------------"
   ]
  },
  {
   "cell_type": "markdown",
   "id": "7059a12c",
   "metadata": {},
   "source": [
    "### Construct Data"
   ]
  },
  {
   "cell_type": "code",
   "execution_count": 12,
   "id": "b843abf7",
   "metadata": {},
   "outputs": [],
   "source": [
    "classes = ('T-shirt', 'Trouser', 'Pullover', 'Dress', 'Coat',\n",
    "           'Sandal', 'Shirt', 'Sneaker', 'Bag', 'Ankle boot')"
   ]
  },
  {
   "cell_type": "code",
   "execution_count": 13,
   "id": "f662e780",
   "metadata": {},
   "outputs": [
    {
     "name": "stdout",
     "output_type": "stream",
     "text": [
      "6000\n"
     ]
    }
   ],
   "source": [
    "#60.000 sapmles and 6.000 per class\n",
    "files = os.listdir('./dataset/train/0')\n",
    "print(len(files))"
   ]
  },
  {
   "cell_type": "code",
   "execution_count": 14,
   "id": "80626de8",
   "metadata": {
    "scrolled": true
   },
   "outputs": [
    {
     "name": "stdout",
     "output_type": "stream",
     "text": [
      "[[  0   0   0   0   0   1   0   0   0   0  41 188 103  54  48  43  87 168 133  16   0   0   0   0   0   0   0   0]\n",
      " [  0   0   0   1   0   0   0  49 136 219 216 228 236 255 255 255 255 217 215 254 231 160  45   0   0   0   0   0]\n",
      " [  0   0   0   0   0  14 176 222 224 212 203 198 196 200 215 204 202 201 201 201 209 218 224 164   0   0   0   0]\n",
      " [  0   0   0   0   0 188 219 200 198 202 198 199 199 201 196 198 198 200 200 200 200 201 200 225  41   0   0   0]\n",
      " [  0   0   0   0  51 219 199 203 203 212 238 248 250 245 249 246 247 252 248 235 207 203 203 222 140   0   0   0]\n",
      " [  0   0   0   0 116 226 206 204 207 204 101  75  47  73  48  50  45  51  63 113 222 202 206 220 224   0   0   0]\n",
      " [  0   0   0   0 200 222 209 203 215 200   0  70  98   0 103  59  68  71  49   0 219 206 214 210 250  38   0   0]\n",
      " [  0   0   0   0 247 218 212 210 215 214   0 254 243 139 255 174 251 255 205   0 215 217 214 208 220  95   0   0]\n",
      " [  0   0   0  45 226 214 214 215 224 205   0  42  35  60  16  17  12  13  70   0 189 216 212 206 212 156   0   0]\n",
      " [  0   0   0 164 235 214 211 220 216 201  52  71  89  94  83  78  70  76  92  87 206 207 222 213 219 208   0   0]\n",
      " [  0   0   0 106 187 223 237 248 211 198 252 250 248 245 248 252 253 250 252 239 201 212 225 215 193 113   0   0]\n",
      " [  0   0   0   0   0  17  54 159 222 193 208 192 197 200 200 200 200 201 203 195 210 165   0   0   0   0   0   0]\n",
      " [  0   0   0   0   0   0   0  47 225 192 214 203 206 204 204 205 206 204 212 197 218 107   0   0   0   0   0   0]\n",
      " [  0   0   0   0   1   6   0  46 212 195 212 202 206 205 204 205 206 204 212 200 218  91   0   3   1   0   0   0]\n",
      " [  0   0   0   0   0   1   0  11 197 199 205 202 205 206 204 205 207 204 205 205 218  77   0   5   0   0   0   0]\n",
      " [  0   0   0   0   0   3   0   2 191 198 201 205 206 205 205 206 209 206 199 209 219  74   0   5   0   0   0   0]\n",
      " [  0   0   0   0   0   2   0   0 188 197 200 207 207 204 207 207 210 208 198 207 221  72   0   4   0   0   0   0]\n",
      " [  0   0   0   0   0   2   0   0 215 198 203 206 208 205 207 207 210 208 200 202 222  75   0   4   0   0   0   0]\n",
      " [  0   0   0   0   0   1   0   0 212 198 209 206 209 206 208 207 211 206 205 198 221  80   0   3   0   0   0   0]\n",
      " [  0   0   0   0   0   1   0   0 204 201 205 208 207 205 211 205 210 210 209 195 221  96   0   3   0   0   0   0]\n",
      " [  0   0   0   0   0   1   0   0 202 201 205 209 207 205 213 206 210 209 210 194 217 105   0   2   0   0   0   0]\n",
      " [  0   0   0   0   0   1   0   0 204 204 205 208 207 205 215 207 210 208 211 193 213 115   0   2   0   0   0   0]\n",
      " [  0   0   0   0   0   0   0   0 204 207 207 208 206 206 215 210 210 207 212 195 210 118   0   2   0   0   0   0]\n",
      " [  0   0   0   0   0   1   0   0 198 208 208 208 204 207 212 212 210 207 211 196 207 121   0   1   0   0   0   0]\n",
      " [  0   0   0   0   0   1   0   0 198 210 207 208 206 209 213 212 211 207 210 197 207 124   0   1   0   0   0   0]\n",
      " [  0   0   0   0   0   0   0   0 172 210 203 201 199 204 207 205 204 201 205 197 206 127   0   0   0   0   0   0]\n",
      " [  0   0   0   0   0   0   0   0 188 221 214 234 236 238 244 244 244 240 243 214 224 162   0   2   0   0   0   0]\n",
      " [  0   0   0   0   0   1   0   0 139 146 130 135 135 137 125 124 125 121 119 114 130  76   0   0   0   0   0   0]]\n"
     ]
    }
   ],
   "source": [
    "np.set_printoptions(linewidth=150)\n",
    "\n",
    "sample_image = cv2.imread('./dataset/train/0/0000.png',\n",
    "                       cv2.IMREAD_UNCHANGED)\n",
    "print(sample_image)"
   ]
  },
  {
   "cell_type": "code",
   "execution_count": 15,
   "id": "03a14d1b",
   "metadata": {},
   "outputs": [],
   "source": [
    "def load_dataset(path):\n",
    "    \"\"\"\n",
    "    Load the MNIST fashion dataset\n",
    "    Cover the labels into one-hot vectors\n",
    "    \"\"\"\n",
    "\n",
    "    labels = os.listdir(os.path.join(path))\n",
    "    \n",
    "    X = []\n",
    "    Y = []\n",
    "    \n",
    "    for label in labels:\n",
    "        for file in os.listdir(os.path.join(path, label)):\n",
    "            image = cv2.imread(os.path.join(path, label, file),\n",
    "                                  cv2.IMREAD_UNCHANGED)\n",
    "            X.append(image)\n",
    "            Y.append(label)\n",
    "    \n",
    "    \n",
    "    X = np.array(X)\n",
    "    Y = np.array(Y).astype('uint8')\n",
    "    Y = np.eye(len(labels))[Y].astype('uint8')\n",
    "    \n",
    "    return X, Y"
   ]
  },
  {
   "cell_type": "code",
   "execution_count": 16,
   "id": "2b7862d7",
   "metadata": {},
   "outputs": [],
   "source": [
    "train_dataset, train_labels = load_dataset('./dataset/train')\n",
    "test_dataset, test_labels = load_dataset('./dataset/test')"
   ]
  },
  {
   "cell_type": "code",
   "execution_count": 17,
   "id": "a5b886cf",
   "metadata": {},
   "outputs": [
    {
     "data": {
      "text/plain": [
       "(60000, 28, 28)"
      ]
     },
     "execution_count": 17,
     "metadata": {},
     "output_type": "execute_result"
    }
   ],
   "source": [
    "train_dataset.shape"
   ]
  },
  {
   "cell_type": "markdown",
   "id": "829b3d72",
   "metadata": {},
   "source": [
    "#### Flatten the every image"
   ]
  },
  {
   "cell_type": "code",
   "execution_count": 18,
   "id": "cacffd6c",
   "metadata": {},
   "outputs": [],
   "source": [
    "train_dataset = train_dataset.reshape(len(train_dataset), -1)\n",
    "test_dataset = test_dataset.reshape(len(test_dataset), -1)"
   ]
  },
  {
   "cell_type": "code",
   "execution_count": 19,
   "id": "29d2ae4e",
   "metadata": {},
   "outputs": [
    {
     "data": {
      "text/plain": [
       "(60000, 784)"
      ]
     },
     "execution_count": 19,
     "metadata": {},
     "output_type": "execute_result"
    }
   ],
   "source": [
    "train_dataset.shape"
   ]
  },
  {
   "cell_type": "markdown",
   "id": "4516efe3",
   "metadata": {},
   "source": [
    "#### Data shuffling"
   ]
  },
  {
   "cell_type": "code",
   "execution_count": 20,
   "id": "4d885db9",
   "metadata": {},
   "outputs": [],
   "source": [
    "indexes = np.array(range(len(train_dataset)))\n",
    "np.random.shuffle(indexes)\n",
    "\n",
    "train_dataset = train_dataset[indexes]\n",
    "train_labels = train_labels[indexes]"
   ]
  },
  {
   "cell_type": "code",
   "execution_count": 21,
   "id": "f9ae4c5d",
   "metadata": {
    "scrolled": true
   },
   "outputs": [
    {
     "name": "stdout",
     "output_type": "stream",
     "text": [
      "[[0 0 0 0 0 0 1 0 0 0]\n",
      " [0 0 0 0 0 0 0 0 1 0]\n",
      " [0 0 0 0 0 0 0 1 0 0]\n",
      " [0 0 0 0 0 0 0 0 0 1]\n",
      " [0 0 0 0 0 0 0 1 0 0]\n",
      " [0 0 0 0 0 0 0 1 0 0]\n",
      " [0 0 1 0 0 0 0 0 0 0]\n",
      " [0 0 0 0 1 0 0 0 0 0]\n",
      " [0 0 0 1 0 0 0 0 0 0]\n",
      " [0 0 0 0 0 1 0 0 0 0]\n",
      " [0 0 0 1 0 0 0 0 0 0]\n",
      " [0 0 0 0 0 1 0 0 0 0]\n",
      " [0 0 0 0 0 0 0 1 0 0]\n",
      " [0 0 0 0 0 0 1 0 0 0]\n",
      " [0 1 0 0 0 0 0 0 0 0]]\n"
     ]
    }
   ],
   "source": [
    "print(train_labels[:15])"
   ]
  },
  {
   "cell_type": "markdown",
   "id": "66358c0c",
   "metadata": {},
   "source": [
    "### Data Pre-Processing"
   ]
  },
  {
   "cell_type": "code",
   "execution_count": 22,
   "id": "d1b2deb6",
   "metadata": {},
   "outputs": [],
   "source": [
    "scaler = Scaler_MinMax((-1,1))\n",
    "scaler.min = 0\n",
    "scaler.max = 255\n",
    "train_dataset = scaler.transform(train_dataset)\n",
    "test_dataset = scaler.transform(test_dataset)"
   ]
  },
  {
   "cell_type": "code",
   "execution_count": 23,
   "id": "eef779a0",
   "metadata": {},
   "outputs": [
    {
     "data": {
      "text/plain": [
       "1.0"
      ]
     },
     "execution_count": 23,
     "metadata": {},
     "output_type": "execute_result"
    }
   ],
   "source": [
    "train_dataset.max()"
   ]
  },
  {
   "cell_type": "markdown",
   "id": "8145680b",
   "metadata": {},
   "source": [
    "### Set Hyperparameters"
   ]
  },
  {
   "cell_type": "code",
   "execution_count": 24,
   "id": "eabaef6d",
   "metadata": {},
   "outputs": [],
   "source": [
    "max_epoch = 500\n",
    "alpha = 0.005\n",
    "batch_size = 128"
   ]
  },
  {
   "cell_type": "markdown",
   "id": "515d0a1b",
   "metadata": {},
   "source": [
    "### Initialize the model"
   ]
  },
  {
   "cell_type": "code",
   "execution_count": 25,
   "id": "4c5ac970",
   "metadata": {},
   "outputs": [],
   "source": [
    "layer1 = Layer(784, 10)"
   ]
  },
  {
   "cell_type": "markdown",
   "id": "06ccf4b5",
   "metadata": {},
   "source": [
    "### Initlize optimizer and loss function"
   ]
  },
  {
   "cell_type": "code",
   "execution_count": 26,
   "id": "329ded87",
   "metadata": {},
   "outputs": [],
   "source": [
    "loss = Loss_CategoricalCrossEntropy_Activation_SoftMax()\n",
    "accuracy = Accuracy_Categorical()\n",
    "optimizer = Optimizer_GD(alpha=alpha)"
   ]
  },
  {
   "cell_type": "markdown",
   "id": "440c16f0",
   "metadata": {},
   "source": [
    "### Training the model"
   ]
  },
  {
   "cell_type": "code",
   "execution_count": 27,
   "id": "e090a644",
   "metadata": {
    "scrolled": true
   },
   "outputs": [],
   "source": [
    "train_steps = len(train_dataset) // batch_size\n",
    "if train_steps * batch_size < len(train_dataset):\n",
    "    train_steps += 1"
   ]
  },
  {
   "cell_type": "code",
   "execution_count": 28,
   "id": "7e6898c3",
   "metadata": {
    "scrolled": true
   },
   "outputs": [
    {
     "name": "stdout",
     "output_type": "stream",
     "text": [
      "epoch: 0, Train error: 8.311, Train accuracy: 0.125\n",
      "epoch: 1, Train error: 6.004, Train accuracy: 0.129\n",
      "epoch: 2, Train error: 5.068, Train accuracy: 0.137\n",
      "epoch: 3, Train error: 4.487, Train accuracy: 0.145\n",
      "epoch: 4, Train error: 4.078, Train accuracy: 0.151\n",
      "epoch: 5, Train error: 3.771, Train accuracy: 0.157\n",
      "epoch: 6, Train error: 3.529, Train accuracy: 0.164\n",
      "epoch: 7, Train error: 3.334, Train accuracy: 0.169\n",
      "epoch: 8, Train error: 3.172, Train accuracy: 0.177\n",
      "epoch: 9, Train error: 3.036, Train accuracy: 0.183\n",
      "epoch: 10, Train error: 2.919, Train accuracy: 0.189\n",
      "epoch: 11, Train error: 2.819, Train accuracy: 0.196\n",
      "epoch: 12, Train error: 2.732, Train accuracy: 0.203\n",
      "epoch: 13, Train error: 2.656, Train accuracy: 0.209\n",
      "epoch: 14, Train error: 2.588, Train accuracy: 0.216\n",
      "epoch: 15, Train error: 2.529, Train accuracy: 0.223\n",
      "epoch: 16, Train error: 2.475, Train accuracy: 0.230\n",
      "epoch: 17, Train error: 2.428, Train accuracy: 0.237\n",
      "epoch: 18, Train error: 2.385, Train accuracy: 0.245\n",
      "epoch: 19, Train error: 2.346, Train accuracy: 0.252\n",
      "epoch: 20, Train error: 2.311, Train accuracy: 0.259\n",
      "epoch: 21, Train error: 2.279, Train accuracy: 0.266\n",
      "epoch: 22, Train error: 2.249, Train accuracy: 0.274\n",
      "epoch: 23, Train error: 2.223, Train accuracy: 0.281\n",
      "epoch: 24, Train error: 2.198, Train accuracy: 0.289\n",
      "epoch: 25, Train error: 2.176, Train accuracy: 0.297\n",
      "epoch: 26, Train error: 2.155, Train accuracy: 0.305\n",
      "epoch: 27, Train error: 2.136, Train accuracy: 0.313\n",
      "epoch: 28, Train error: 2.118, Train accuracy: 0.320\n",
      "epoch: 29, Train error: 2.102, Train accuracy: 0.328\n",
      "epoch: 30, Train error: 2.086, Train accuracy: 0.335\n",
      "epoch: 31, Train error: 2.072, Train accuracy: 0.342\n",
      "epoch: 32, Train error: 2.059, Train accuracy: 0.350\n",
      "epoch: 33, Train error: 2.046, Train accuracy: 0.358\n",
      "epoch: 34, Train error: 2.035, Train accuracy: 0.366\n",
      "epoch: 35, Train error: 2.024, Train accuracy: 0.373\n",
      "epoch: 36, Train error: 2.014, Train accuracy: 0.381\n",
      "epoch: 37, Train error: 2.004, Train accuracy: 0.388\n",
      "epoch: 38, Train error: 1.995, Train accuracy: 0.395\n",
      "epoch: 39, Train error: 1.987, Train accuracy: 0.402\n",
      "epoch: 40, Train error: 1.979, Train accuracy: 0.409\n",
      "epoch: 41, Train error: 1.971, Train accuracy: 0.416\n",
      "epoch: 42, Train error: 1.964, Train accuracy: 0.422\n",
      "epoch: 43, Train error: 1.957, Train accuracy: 0.429\n",
      "epoch: 44, Train error: 1.951, Train accuracy: 0.436\n",
      "epoch: 45, Train error: 1.945, Train accuracy: 0.443\n",
      "epoch: 46, Train error: 1.939, Train accuracy: 0.449\n",
      "epoch: 47, Train error: 1.934, Train accuracy: 0.455\n",
      "epoch: 48, Train error: 1.929, Train accuracy: 0.462\n",
      "epoch: 49, Train error: 1.924, Train accuracy: 0.468\n",
      "epoch: 50, Train error: 1.919, Train accuracy: 0.474\n",
      "epoch: 51, Train error: 1.915, Train accuracy: 0.480\n",
      "epoch: 52, Train error: 1.910, Train accuracy: 0.486\n",
      "epoch: 53, Train error: 1.906, Train accuracy: 0.493\n",
      "epoch: 54, Train error: 1.902, Train accuracy: 0.498\n",
      "epoch: 55, Train error: 1.899, Train accuracy: 0.504\n",
      "epoch: 56, Train error: 1.895, Train accuracy: 0.510\n",
      "epoch: 57, Train error: 1.892, Train accuracy: 0.516\n",
      "epoch: 58, Train error: 1.889, Train accuracy: 0.522\n",
      "epoch: 59, Train error: 1.886, Train accuracy: 0.527\n",
      "epoch: 60, Train error: 1.883, Train accuracy: 0.533\n",
      "epoch: 61, Train error: 1.880, Train accuracy: 0.538\n",
      "epoch: 62, Train error: 1.877, Train accuracy: 0.544\n",
      "epoch: 63, Train error: 1.874, Train accuracy: 0.549\n",
      "epoch: 64, Train error: 1.872, Train accuracy: 0.553\n",
      "epoch: 65, Train error: 1.870, Train accuracy: 0.558\n",
      "epoch: 66, Train error: 1.867, Train accuracy: 0.563\n",
      "epoch: 67, Train error: 1.865, Train accuracy: 0.567\n",
      "epoch: 68, Train error: 1.863, Train accuracy: 0.572\n",
      "epoch: 69, Train error: 1.861, Train accuracy: 0.577\n",
      "epoch: 70, Train error: 1.859, Train accuracy: 0.581\n",
      "epoch: 71, Train error: 1.857, Train accuracy: 0.586\n",
      "epoch: 72, Train error: 1.855, Train accuracy: 0.590\n",
      "epoch: 73, Train error: 1.853, Train accuracy: 0.594\n",
      "epoch: 74, Train error: 1.852, Train accuracy: 0.598\n",
      "epoch: 75, Train error: 1.850, Train accuracy: 0.602\n",
      "epoch: 76, Train error: 1.849, Train accuracy: 0.606\n",
      "epoch: 77, Train error: 1.847, Train accuracy: 0.610\n",
      "epoch: 78, Train error: 1.846, Train accuracy: 0.614\n",
      "epoch: 79, Train error: 1.844, Train accuracy: 0.617\n",
      "epoch: 80, Train error: 1.843, Train accuracy: 0.621\n",
      "epoch: 81, Train error: 1.841, Train accuracy: 0.625\n",
      "epoch: 82, Train error: 1.840, Train accuracy: 0.628\n",
      "epoch: 83, Train error: 1.839, Train accuracy: 0.631\n",
      "epoch: 84, Train error: 1.838, Train accuracy: 0.634\n",
      "epoch: 85, Train error: 1.837, Train accuracy: 0.638\n",
      "epoch: 86, Train error: 1.835, Train accuracy: 0.641\n",
      "epoch: 87, Train error: 1.834, Train accuracy: 0.645\n",
      "epoch: 88, Train error: 1.833, Train accuracy: 0.648\n",
      "epoch: 89, Train error: 1.832, Train accuracy: 0.650\n",
      "epoch: 90, Train error: 1.831, Train accuracy: 0.654\n",
      "epoch: 91, Train error: 1.830, Train accuracy: 0.657\n",
      "epoch: 92, Train error: 1.829, Train accuracy: 0.660\n",
      "epoch: 93, Train error: 1.828, Train accuracy: 0.663\n",
      "epoch: 94, Train error: 1.828, Train accuracy: 0.666\n",
      "epoch: 95, Train error: 1.827, Train accuracy: 0.668\n",
      "epoch: 96, Train error: 1.826, Train accuracy: 0.671\n",
      "epoch: 97, Train error: 1.825, Train accuracy: 0.674\n",
      "epoch: 98, Train error: 1.824, Train accuracy: 0.677\n",
      "epoch: 99, Train error: 1.824, Train accuracy: 0.680\n",
      "epoch: 100, Train error: 1.823, Train accuracy: 0.682\n",
      "epoch: 101, Train error: 1.822, Train accuracy: 0.685\n",
      "epoch: 102, Train error: 1.821, Train accuracy: 0.687\n",
      "epoch: 103, Train error: 1.821, Train accuracy: 0.689\n",
      "epoch: 104, Train error: 1.820, Train accuracy: 0.691\n",
      "epoch: 105, Train error: 1.819, Train accuracy: 0.694\n",
      "epoch: 106, Train error: 1.819, Train accuracy: 0.696\n",
      "epoch: 107, Train error: 1.818, Train accuracy: 0.698\n",
      "epoch: 108, Train error: 1.818, Train accuracy: 0.701\n",
      "epoch: 109, Train error: 1.817, Train accuracy: 0.703\n",
      "epoch: 110, Train error: 1.816, Train accuracy: 0.705\n",
      "epoch: 111, Train error: 1.816, Train accuracy: 0.707\n",
      "epoch: 112, Train error: 1.815, Train accuracy: 0.709\n",
      "epoch: 113, Train error: 1.815, Train accuracy: 0.711\n",
      "epoch: 114, Train error: 1.814, Train accuracy: 0.713\n",
      "epoch: 115, Train error: 1.814, Train accuracy: 0.714\n",
      "epoch: 116, Train error: 1.813, Train accuracy: 0.716\n",
      "epoch: 117, Train error: 1.813, Train accuracy: 0.717\n",
      "epoch: 118, Train error: 1.812, Train accuracy: 0.719\n",
      "epoch: 119, Train error: 1.812, Train accuracy: 0.721\n",
      "epoch: 120, Train error: 1.812, Train accuracy: 0.723\n",
      "epoch: 121, Train error: 1.811, Train accuracy: 0.724\n",
      "epoch: 122, Train error: 1.811, Train accuracy: 0.725\n",
      "epoch: 123, Train error: 1.810, Train accuracy: 0.727\n",
      "epoch: 124, Train error: 1.810, Train accuracy: 0.729\n",
      "epoch: 125, Train error: 1.810, Train accuracy: 0.730\n",
      "epoch: 126, Train error: 1.809, Train accuracy: 0.731\n",
      "epoch: 127, Train error: 1.809, Train accuracy: 0.733\n",
      "epoch: 128, Train error: 1.808, Train accuracy: 0.734\n",
      "epoch: 129, Train error: 1.808, Train accuracy: 0.736\n",
      "epoch: 130, Train error: 1.808, Train accuracy: 0.737\n",
      "epoch: 131, Train error: 1.807, Train accuracy: 0.738\n",
      "epoch: 132, Train error: 1.807, Train accuracy: 0.739\n",
      "epoch: 133, Train error: 1.807, Train accuracy: 0.740\n",
      "epoch: 134, Train error: 1.806, Train accuracy: 0.741\n",
      "epoch: 135, Train error: 1.806, Train accuracy: 0.743\n",
      "epoch: 136, Train error: 1.806, Train accuracy: 0.744\n",
      "epoch: 137, Train error: 1.806, Train accuracy: 0.745\n",
      "epoch: 138, Train error: 1.805, Train accuracy: 0.746\n",
      "epoch: 139, Train error: 1.805, Train accuracy: 0.747\n",
      "epoch: 140, Train error: 1.805, Train accuracy: 0.748\n",
      "epoch: 141, Train error: 1.804, Train accuracy: 0.749\n",
      "epoch: 142, Train error: 1.804, Train accuracy: 0.750\n",
      "epoch: 143, Train error: 1.804, Train accuracy: 0.751\n",
      "epoch: 144, Train error: 1.804, Train accuracy: 0.752\n",
      "epoch: 145, Train error: 1.803, Train accuracy: 0.753\n",
      "epoch: 146, Train error: 1.803, Train accuracy: 0.754\n",
      "epoch: 147, Train error: 1.803, Train accuracy: 0.755\n",
      "epoch: 148, Train error: 1.803, Train accuracy: 0.756\n",
      "epoch: 149, Train error: 1.802, Train accuracy: 0.757\n",
      "epoch: 150, Train error: 1.802, Train accuracy: 0.758\n",
      "epoch: 151, Train error: 1.802, Train accuracy: 0.759\n",
      "epoch: 152, Train error: 1.802, Train accuracy: 0.760\n",
      "epoch: 153, Train error: 1.802, Train accuracy: 0.761\n"
     ]
    },
    {
     "name": "stdout",
     "output_type": "stream",
     "text": [
      "epoch: 154, Train error: 1.801, Train accuracy: 0.762\n",
      "epoch: 155, Train error: 1.801, Train accuracy: 0.763\n",
      "epoch: 156, Train error: 1.801, Train accuracy: 0.764\n",
      "epoch: 157, Train error: 1.801, Train accuracy: 0.764\n",
      "epoch: 158, Train error: 1.801, Train accuracy: 0.765\n",
      "epoch: 159, Train error: 1.800, Train accuracy: 0.766\n",
      "epoch: 160, Train error: 1.800, Train accuracy: 0.767\n",
      "epoch: 161, Train error: 1.800, Train accuracy: 0.768\n",
      "epoch: 162, Train error: 1.800, Train accuracy: 0.768\n",
      "epoch: 163, Train error: 1.800, Train accuracy: 0.769\n",
      "epoch: 164, Train error: 1.800, Train accuracy: 0.770\n",
      "epoch: 165, Train error: 1.799, Train accuracy: 0.770\n",
      "epoch: 166, Train error: 1.799, Train accuracy: 0.771\n",
      "epoch: 167, Train error: 1.799, Train accuracy: 0.772\n",
      "epoch: 168, Train error: 1.799, Train accuracy: 0.772\n",
      "epoch: 169, Train error: 1.799, Train accuracy: 0.773\n",
      "epoch: 170, Train error: 1.799, Train accuracy: 0.774\n",
      "epoch: 171, Train error: 1.798, Train accuracy: 0.774\n",
      "epoch: 172, Train error: 1.798, Train accuracy: 0.775\n",
      "epoch: 173, Train error: 1.798, Train accuracy: 0.775\n",
      "epoch: 174, Train error: 1.798, Train accuracy: 0.776\n",
      "epoch: 175, Train error: 1.798, Train accuracy: 0.777\n",
      "epoch: 176, Train error: 1.798, Train accuracy: 0.777\n",
      "epoch: 177, Train error: 1.798, Train accuracy: 0.778\n",
      "epoch: 178, Train error: 1.797, Train accuracy: 0.779\n",
      "epoch: 179, Train error: 1.797, Train accuracy: 0.779\n",
      "epoch: 180, Train error: 1.797, Train accuracy: 0.780\n",
      "epoch: 181, Train error: 1.797, Train accuracy: 0.781\n",
      "epoch: 182, Train error: 1.797, Train accuracy: 0.781\n",
      "epoch: 183, Train error: 1.797, Train accuracy: 0.782\n",
      "epoch: 184, Train error: 1.797, Train accuracy: 0.782\n",
      "epoch: 185, Train error: 1.796, Train accuracy: 0.783\n",
      "epoch: 186, Train error: 1.796, Train accuracy: 0.783\n",
      "epoch: 187, Train error: 1.796, Train accuracy: 0.784\n",
      "epoch: 188, Train error: 1.796, Train accuracy: 0.784\n",
      "epoch: 189, Train error: 1.796, Train accuracy: 0.785\n",
      "epoch: 190, Train error: 1.796, Train accuracy: 0.785\n",
      "epoch: 191, Train error: 1.796, Train accuracy: 0.785\n",
      "epoch: 192, Train error: 1.796, Train accuracy: 0.786\n",
      "epoch: 193, Train error: 1.796, Train accuracy: 0.787\n",
      "epoch: 194, Train error: 1.795, Train accuracy: 0.787\n",
      "epoch: 195, Train error: 1.795, Train accuracy: 0.787\n",
      "epoch: 196, Train error: 1.795, Train accuracy: 0.788\n",
      "epoch: 197, Train error: 1.795, Train accuracy: 0.788\n",
      "epoch: 198, Train error: 1.795, Train accuracy: 0.789\n",
      "epoch: 199, Train error: 1.795, Train accuracy: 0.789\n",
      "epoch: 200, Train error: 1.795, Train accuracy: 0.790\n",
      "epoch: 201, Train error: 1.795, Train accuracy: 0.790\n",
      "epoch: 202, Train error: 1.795, Train accuracy: 0.791\n",
      "epoch: 203, Train error: 1.795, Train accuracy: 0.791\n",
      "epoch: 204, Train error: 1.794, Train accuracy: 0.791\n",
      "epoch: 205, Train error: 1.794, Train accuracy: 0.792\n",
      "epoch: 206, Train error: 1.794, Train accuracy: 0.792\n",
      "epoch: 207, Train error: 1.794, Train accuracy: 0.793\n",
      "epoch: 208, Train error: 1.794, Train accuracy: 0.793\n",
      "epoch: 209, Train error: 1.794, Train accuracy: 0.793\n",
      "epoch: 210, Train error: 1.794, Train accuracy: 0.794\n",
      "epoch: 211, Train error: 1.794, Train accuracy: 0.794\n",
      "epoch: 212, Train error: 1.794, Train accuracy: 0.795\n",
      "epoch: 213, Train error: 1.794, Train accuracy: 0.795\n",
      "epoch: 214, Train error: 1.794, Train accuracy: 0.795\n",
      "epoch: 215, Train error: 1.794, Train accuracy: 0.796\n",
      "epoch: 216, Train error: 1.793, Train accuracy: 0.796\n",
      "epoch: 217, Train error: 1.793, Train accuracy: 0.796\n",
      "epoch: 218, Train error: 1.793, Train accuracy: 0.796\n",
      "epoch: 219, Train error: 1.793, Train accuracy: 0.796\n",
      "epoch: 220, Train error: 1.793, Train accuracy: 0.797\n",
      "epoch: 221, Train error: 1.793, Train accuracy: 0.797\n",
      "epoch: 222, Train error: 1.793, Train accuracy: 0.797\n",
      "epoch: 223, Train error: 1.793, Train accuracy: 0.797\n",
      "epoch: 224, Train error: 1.793, Train accuracy: 0.798\n",
      "epoch: 225, Train error: 1.793, Train accuracy: 0.798\n",
      "epoch: 226, Train error: 1.793, Train accuracy: 0.798\n",
      "epoch: 227, Train error: 1.793, Train accuracy: 0.799\n",
      "epoch: 228, Train error: 1.793, Train accuracy: 0.799\n",
      "epoch: 229, Train error: 1.793, Train accuracy: 0.799\n",
      "epoch: 230, Train error: 1.793, Train accuracy: 0.800\n",
      "epoch: 231, Train error: 1.792, Train accuracy: 0.800\n",
      "epoch: 232, Train error: 1.792, Train accuracy: 0.800\n",
      "epoch: 233, Train error: 1.792, Train accuracy: 0.800\n",
      "epoch: 234, Train error: 1.792, Train accuracy: 0.801\n",
      "epoch: 235, Train error: 1.792, Train accuracy: 0.801\n",
      "epoch: 236, Train error: 1.792, Train accuracy: 0.801\n",
      "epoch: 237, Train error: 1.792, Train accuracy: 0.802\n",
      "epoch: 238, Train error: 1.792, Train accuracy: 0.802\n",
      "epoch: 239, Train error: 1.792, Train accuracy: 0.802\n",
      "epoch: 240, Train error: 1.792, Train accuracy: 0.802\n",
      "epoch: 241, Train error: 1.792, Train accuracy: 0.802\n",
      "epoch: 242, Train error: 1.792, Train accuracy: 0.803\n",
      "epoch: 243, Train error: 1.792, Train accuracy: 0.803\n",
      "epoch: 244, Train error: 1.792, Train accuracy: 0.803\n",
      "epoch: 245, Train error: 1.792, Train accuracy: 0.804\n",
      "epoch: 246, Train error: 1.792, Train accuracy: 0.804\n",
      "epoch: 247, Train error: 1.792, Train accuracy: 0.804\n",
      "epoch: 248, Train error: 1.792, Train accuracy: 0.804\n",
      "epoch: 249, Train error: 1.791, Train accuracy: 0.804\n",
      "epoch: 250, Train error: 1.791, Train accuracy: 0.804\n",
      "epoch: 251, Train error: 1.791, Train accuracy: 0.804\n",
      "epoch: 252, Train error: 1.791, Train accuracy: 0.805\n",
      "epoch: 253, Train error: 1.791, Train accuracy: 0.805\n",
      "epoch: 254, Train error: 1.791, Train accuracy: 0.805\n",
      "epoch: 255, Train error: 1.791, Train accuracy: 0.805\n",
      "epoch: 256, Train error: 1.791, Train accuracy: 0.805\n",
      "epoch: 257, Train error: 1.791, Train accuracy: 0.806\n",
      "epoch: 258, Train error: 1.791, Train accuracy: 0.806\n",
      "epoch: 259, Train error: 1.791, Train accuracy: 0.806\n",
      "epoch: 260, Train error: 1.791, Train accuracy: 0.806\n",
      "epoch: 261, Train error: 1.791, Train accuracy: 0.806\n",
      "epoch: 262, Train error: 1.791, Train accuracy: 0.806\n",
      "epoch: 263, Train error: 1.791, Train accuracy: 0.807\n",
      "epoch: 264, Train error: 1.791, Train accuracy: 0.807\n",
      "epoch: 265, Train error: 1.791, Train accuracy: 0.807\n",
      "epoch: 266, Train error: 1.791, Train accuracy: 0.807\n",
      "epoch: 267, Train error: 1.791, Train accuracy: 0.807\n",
      "epoch: 268, Train error: 1.791, Train accuracy: 0.807\n",
      "epoch: 269, Train error: 1.791, Train accuracy: 0.808\n",
      "epoch: 270, Train error: 1.791, Train accuracy: 0.808\n",
      "epoch: 271, Train error: 1.790, Train accuracy: 0.808\n",
      "epoch: 272, Train error: 1.790, Train accuracy: 0.808\n",
      "epoch: 273, Train error: 1.790, Train accuracy: 0.808\n",
      "epoch: 274, Train error: 1.790, Train accuracy: 0.808\n",
      "epoch: 275, Train error: 1.790, Train accuracy: 0.809\n",
      "epoch: 276, Train error: 1.790, Train accuracy: 0.809\n",
      "epoch: 277, Train error: 1.790, Train accuracy: 0.809\n",
      "epoch: 278, Train error: 1.790, Train accuracy: 0.809\n",
      "epoch: 279, Train error: 1.790, Train accuracy: 0.809\n",
      "epoch: 280, Train error: 1.790, Train accuracy: 0.809\n",
      "epoch: 281, Train error: 1.790, Train accuracy: 0.809\n",
      "epoch: 282, Train error: 1.790, Train accuracy: 0.809\n",
      "epoch: 283, Train error: 1.790, Train accuracy: 0.810\n",
      "epoch: 284, Train error: 1.790, Train accuracy: 0.810\n",
      "epoch: 285, Train error: 1.790, Train accuracy: 0.810\n",
      "epoch: 286, Train error: 1.790, Train accuracy: 0.810\n",
      "epoch: 287, Train error: 1.790, Train accuracy: 0.810\n",
      "epoch: 288, Train error: 1.790, Train accuracy: 0.810\n",
      "epoch: 289, Train error: 1.790, Train accuracy: 0.810\n",
      "epoch: 290, Train error: 1.790, Train accuracy: 0.810\n",
      "epoch: 291, Train error: 1.790, Train accuracy: 0.810\n",
      "epoch: 292, Train error: 1.790, Train accuracy: 0.810\n",
      "epoch: 293, Train error: 1.790, Train accuracy: 0.810\n",
      "epoch: 294, Train error: 1.790, Train accuracy: 0.811\n",
      "epoch: 295, Train error: 1.790, Train accuracy: 0.811\n",
      "epoch: 296, Train error: 1.790, Train accuracy: 0.811\n",
      "epoch: 297, Train error: 1.790, Train accuracy: 0.811\n",
      "epoch: 298, Train error: 1.790, Train accuracy: 0.811\n",
      "epoch: 299, Train error: 1.790, Train accuracy: 0.811\n",
      "epoch: 300, Train error: 1.789, Train accuracy: 0.811\n",
      "epoch: 301, Train error: 1.789, Train accuracy: 0.811\n",
      "epoch: 302, Train error: 1.789, Train accuracy: 0.811\n",
      "epoch: 303, Train error: 1.789, Train accuracy: 0.812\n",
      "epoch: 304, Train error: 1.789, Train accuracy: 0.812\n",
      "epoch: 305, Train error: 1.789, Train accuracy: 0.812\n"
     ]
    },
    {
     "name": "stdout",
     "output_type": "stream",
     "text": [
      "epoch: 306, Train error: 1.789, Train accuracy: 0.812\n",
      "epoch: 307, Train error: 1.789, Train accuracy: 0.812\n",
      "epoch: 308, Train error: 1.789, Train accuracy: 0.812\n",
      "epoch: 309, Train error: 1.789, Train accuracy: 0.812\n",
      "epoch: 310, Train error: 1.789, Train accuracy: 0.812\n",
      "epoch: 311, Train error: 1.789, Train accuracy: 0.812\n",
      "epoch: 312, Train error: 1.789, Train accuracy: 0.812\n",
      "epoch: 313, Train error: 1.789, Train accuracy: 0.812\n",
      "epoch: 314, Train error: 1.789, Train accuracy: 0.813\n",
      "epoch: 315, Train error: 1.789, Train accuracy: 0.813\n",
      "epoch: 316, Train error: 1.789, Train accuracy: 0.813\n",
      "epoch: 317, Train error: 1.789, Train accuracy: 0.813\n",
      "epoch: 318, Train error: 1.789, Train accuracy: 0.813\n",
      "epoch: 319, Train error: 1.789, Train accuracy: 0.813\n",
      "epoch: 320, Train error: 1.789, Train accuracy: 0.813\n",
      "epoch: 321, Train error: 1.789, Train accuracy: 0.813\n",
      "epoch: 322, Train error: 1.789, Train accuracy: 0.813\n",
      "epoch: 323, Train error: 1.789, Train accuracy: 0.813\n",
      "epoch: 324, Train error: 1.789, Train accuracy: 0.813\n",
      "epoch: 325, Train error: 1.789, Train accuracy: 0.813\n",
      "epoch: 326, Train error: 1.789, Train accuracy: 0.814\n",
      "epoch: 327, Train error: 1.789, Train accuracy: 0.814\n",
      "epoch: 328, Train error: 1.789, Train accuracy: 0.814\n",
      "epoch: 329, Train error: 1.789, Train accuracy: 0.814\n",
      "epoch: 330, Train error: 1.789, Train accuracy: 0.814\n",
      "epoch: 331, Train error: 1.789, Train accuracy: 0.814\n",
      "epoch: 332, Train error: 1.789, Train accuracy: 0.814\n",
      "epoch: 333, Train error: 1.789, Train accuracy: 0.814\n",
      "epoch: 334, Train error: 1.789, Train accuracy: 0.814\n",
      "epoch: 335, Train error: 1.789, Train accuracy: 0.814\n",
      "epoch: 336, Train error: 1.789, Train accuracy: 0.814\n",
      "epoch: 337, Train error: 1.789, Train accuracy: 0.814\n",
      "epoch: 338, Train error: 1.789, Train accuracy: 0.814\n",
      "epoch: 339, Train error: 1.789, Train accuracy: 0.814\n",
      "epoch: 340, Train error: 1.789, Train accuracy: 0.814\n",
      "epoch: 341, Train error: 1.788, Train accuracy: 0.815\n",
      "epoch: 342, Train error: 1.788, Train accuracy: 0.815\n",
      "epoch: 343, Train error: 1.788, Train accuracy: 0.815\n",
      "epoch: 344, Train error: 1.788, Train accuracy: 0.815\n",
      "epoch: 345, Train error: 1.788, Train accuracy: 0.815\n",
      "epoch: 346, Train error: 1.788, Train accuracy: 0.815\n",
      "epoch: 347, Train error: 1.788, Train accuracy: 0.815\n",
      "epoch: 348, Train error: 1.788, Train accuracy: 0.815\n",
      "epoch: 349, Train error: 1.788, Train accuracy: 0.815\n",
      "epoch: 350, Train error: 1.788, Train accuracy: 0.815\n",
      "epoch: 351, Train error: 1.788, Train accuracy: 0.815\n",
      "epoch: 352, Train error: 1.788, Train accuracy: 0.815\n",
      "epoch: 353, Train error: 1.788, Train accuracy: 0.815\n",
      "epoch: 354, Train error: 1.788, Train accuracy: 0.815\n",
      "epoch: 355, Train error: 1.788, Train accuracy: 0.815\n",
      "epoch: 356, Train error: 1.788, Train accuracy: 0.816\n",
      "epoch: 357, Train error: 1.788, Train accuracy: 0.816\n",
      "epoch: 358, Train error: 1.788, Train accuracy: 0.816\n",
      "epoch: 359, Train error: 1.788, Train accuracy: 0.816\n",
      "epoch: 360, Train error: 1.788, Train accuracy: 0.816\n",
      "epoch: 361, Train error: 1.788, Train accuracy: 0.816\n",
      "epoch: 362, Train error: 1.788, Train accuracy: 0.816\n",
      "epoch: 363, Train error: 1.788, Train accuracy: 0.816\n",
      "epoch: 364, Train error: 1.788, Train accuracy: 0.816\n",
      "epoch: 365, Train error: 1.788, Train accuracy: 0.816\n",
      "epoch: 366, Train error: 1.788, Train accuracy: 0.816\n",
      "epoch: 367, Train error: 1.788, Train accuracy: 0.816\n",
      "epoch: 368, Train error: 1.788, Train accuracy: 0.816\n",
      "epoch: 369, Train error: 1.788, Train accuracy: 0.816\n",
      "epoch: 370, Train error: 1.788, Train accuracy: 0.816\n",
      "epoch: 371, Train error: 1.788, Train accuracy: 0.816\n",
      "epoch: 372, Train error: 1.788, Train accuracy: 0.816\n",
      "epoch: 373, Train error: 1.788, Train accuracy: 0.816\n",
      "epoch: 374, Train error: 1.788, Train accuracy: 0.816\n",
      "epoch: 375, Train error: 1.788, Train accuracy: 0.816\n",
      "epoch: 376, Train error: 1.788, Train accuracy: 0.816\n",
      "epoch: 377, Train error: 1.788, Train accuracy: 0.816\n",
      "epoch: 378, Train error: 1.788, Train accuracy: 0.816\n",
      "epoch: 379, Train error: 1.788, Train accuracy: 0.816\n",
      "epoch: 380, Train error: 1.788, Train accuracy: 0.816\n",
      "epoch: 381, Train error: 1.788, Train accuracy: 0.816\n",
      "epoch: 382, Train error: 1.788, Train accuracy: 0.817\n",
      "epoch: 383, Train error: 1.788, Train accuracy: 0.817\n",
      "epoch: 384, Train error: 1.788, Train accuracy: 0.817\n",
      "epoch: 385, Train error: 1.788, Train accuracy: 0.817\n",
      "epoch: 386, Train error: 1.788, Train accuracy: 0.817\n",
      "epoch: 387, Train error: 1.788, Train accuracy: 0.817\n",
      "epoch: 388, Train error: 1.788, Train accuracy: 0.817\n",
      "epoch: 389, Train error: 1.788, Train accuracy: 0.817\n",
      "epoch: 390, Train error: 1.788, Train accuracy: 0.817\n",
      "epoch: 391, Train error: 1.788, Train accuracy: 0.817\n",
      "epoch: 392, Train error: 1.788, Train accuracy: 0.817\n",
      "epoch: 393, Train error: 1.788, Train accuracy: 0.817\n",
      "epoch: 394, Train error: 1.788, Train accuracy: 0.817\n",
      "epoch: 395, Train error: 1.788, Train accuracy: 0.817\n",
      "epoch: 396, Train error: 1.788, Train accuracy: 0.817\n",
      "epoch: 397, Train error: 1.788, Train accuracy: 0.817\n",
      "epoch: 398, Train error: 1.788, Train accuracy: 0.818\n",
      "epoch: 399, Train error: 1.788, Train accuracy: 0.818\n",
      "epoch: 400, Train error: 1.788, Train accuracy: 0.818\n",
      "epoch: 401, Train error: 1.788, Train accuracy: 0.818\n",
      "epoch: 402, Train error: 1.788, Train accuracy: 0.818\n",
      "epoch: 403, Train error: 1.788, Train accuracy: 0.818\n",
      "epoch: 404, Train error: 1.787, Train accuracy: 0.818\n",
      "epoch: 405, Train error: 1.787, Train accuracy: 0.818\n",
      "epoch: 406, Train error: 1.787, Train accuracy: 0.818\n",
      "epoch: 407, Train error: 1.787, Train accuracy: 0.818\n",
      "epoch: 408, Train error: 1.787, Train accuracy: 0.818\n",
      "epoch: 409, Train error: 1.787, Train accuracy: 0.818\n",
      "epoch: 410, Train error: 1.787, Train accuracy: 0.818\n",
      "epoch: 411, Train error: 1.787, Train accuracy: 0.818\n",
      "epoch: 412, Train error: 1.787, Train accuracy: 0.818\n",
      "epoch: 413, Train error: 1.787, Train accuracy: 0.818\n",
      "epoch: 414, Train error: 1.787, Train accuracy: 0.818\n",
      "epoch: 415, Train error: 1.787, Train accuracy: 0.818\n",
      "epoch: 416, Train error: 1.787, Train accuracy: 0.818\n",
      "epoch: 417, Train error: 1.787, Train accuracy: 0.818\n",
      "epoch: 418, Train error: 1.787, Train accuracy: 0.818\n",
      "epoch: 419, Train error: 1.787, Train accuracy: 0.818\n",
      "epoch: 420, Train error: 1.787, Train accuracy: 0.818\n",
      "epoch: 421, Train error: 1.787, Train accuracy: 0.818\n",
      "epoch: 422, Train error: 1.787, Train accuracy: 0.818\n",
      "epoch: 423, Train error: 1.787, Train accuracy: 0.818\n",
      "epoch: 424, Train error: 1.787, Train accuracy: 0.819\n",
      "epoch: 425, Train error: 1.787, Train accuracy: 0.819\n",
      "epoch: 426, Train error: 1.787, Train accuracy: 0.819\n",
      "epoch: 427, Train error: 1.787, Train accuracy: 0.819\n",
      "epoch: 428, Train error: 1.787, Train accuracy: 0.819\n",
      "epoch: 429, Train error: 1.787, Train accuracy: 0.819\n",
      "epoch: 430, Train error: 1.787, Train accuracy: 0.819\n",
      "epoch: 431, Train error: 1.787, Train accuracy: 0.819\n",
      "epoch: 432, Train error: 1.787, Train accuracy: 0.819\n",
      "epoch: 433, Train error: 1.787, Train accuracy: 0.819\n",
      "epoch: 434, Train error: 1.787, Train accuracy: 0.819\n",
      "epoch: 435, Train error: 1.787, Train accuracy: 0.819\n",
      "epoch: 436, Train error: 1.787, Train accuracy: 0.819\n",
      "epoch: 437, Train error: 1.787, Train accuracy: 0.819\n",
      "epoch: 438, Train error: 1.787, Train accuracy: 0.819\n",
      "epoch: 439, Train error: 1.787, Train accuracy: 0.819\n",
      "epoch: 440, Train error: 1.787, Train accuracy: 0.819\n",
      "epoch: 441, Train error: 1.787, Train accuracy: 0.819\n",
      "epoch: 442, Train error: 1.787, Train accuracy: 0.819\n",
      "epoch: 443, Train error: 1.787, Train accuracy: 0.819\n",
      "epoch: 444, Train error: 1.787, Train accuracy: 0.819\n",
      "epoch: 445, Train error: 1.787, Train accuracy: 0.819\n",
      "epoch: 446, Train error: 1.787, Train accuracy: 0.819\n",
      "epoch: 447, Train error: 1.787, Train accuracy: 0.819\n",
      "epoch: 448, Train error: 1.787, Train accuracy: 0.819\n",
      "epoch: 449, Train error: 1.787, Train accuracy: 0.819\n",
      "epoch: 450, Train error: 1.787, Train accuracy: 0.819\n",
      "epoch: 451, Train error: 1.787, Train accuracy: 0.819\n",
      "epoch: 452, Train error: 1.787, Train accuracy: 0.819\n",
      "epoch: 453, Train error: 1.787, Train accuracy: 0.819\n",
      "epoch: 454, Train error: 1.787, Train accuracy: 0.819\n",
      "epoch: 455, Train error: 1.787, Train accuracy: 0.819\n",
      "epoch: 456, Train error: 1.787, Train accuracy: 0.819\n",
      "epoch: 457, Train error: 1.787, Train accuracy: 0.819\n"
     ]
    },
    {
     "name": "stdout",
     "output_type": "stream",
     "text": [
      "epoch: 458, Train error: 1.787, Train accuracy: 0.819\n",
      "epoch: 459, Train error: 1.787, Train accuracy: 0.820\n",
      "epoch: 460, Train error: 1.787, Train accuracy: 0.820\n",
      "epoch: 461, Train error: 1.787, Train accuracy: 0.820\n",
      "epoch: 462, Train error: 1.787, Train accuracy: 0.820\n",
      "epoch: 463, Train error: 1.787, Train accuracy: 0.820\n",
      "epoch: 464, Train error: 1.787, Train accuracy: 0.820\n",
      "epoch: 465, Train error: 1.787, Train accuracy: 0.820\n",
      "epoch: 466, Train error: 1.787, Train accuracy: 0.820\n",
      "epoch: 467, Train error: 1.787, Train accuracy: 0.820\n",
      "epoch: 468, Train error: 1.787, Train accuracy: 0.820\n",
      "epoch: 469, Train error: 1.787, Train accuracy: 0.820\n",
      "epoch: 470, Train error: 1.787, Train accuracy: 0.820\n",
      "epoch: 471, Train error: 1.787, Train accuracy: 0.820\n",
      "epoch: 472, Train error: 1.787, Train accuracy: 0.820\n",
      "epoch: 473, Train error: 1.787, Train accuracy: 0.820\n",
      "epoch: 474, Train error: 1.787, Train accuracy: 0.820\n",
      "epoch: 475, Train error: 1.787, Train accuracy: 0.820\n",
      "epoch: 476, Train error: 1.787, Train accuracy: 0.820\n",
      "epoch: 477, Train error: 1.787, Train accuracy: 0.820\n",
      "epoch: 478, Train error: 1.787, Train accuracy: 0.820\n",
      "epoch: 479, Train error: 1.787, Train accuracy: 0.820\n",
      "epoch: 480, Train error: 1.787, Train accuracy: 0.820\n",
      "epoch: 481, Train error: 1.787, Train accuracy: 0.820\n",
      "epoch: 482, Train error: 1.787, Train accuracy: 0.820\n",
      "epoch: 483, Train error: 1.787, Train accuracy: 0.820\n",
      "epoch: 484, Train error: 1.787, Train accuracy: 0.820\n",
      "epoch: 485, Train error: 1.787, Train accuracy: 0.820\n",
      "epoch: 486, Train error: 1.787, Train accuracy: 0.820\n",
      "epoch: 487, Train error: 1.787, Train accuracy: 0.820\n",
      "epoch: 488, Train error: 1.787, Train accuracy: 0.820\n",
      "epoch: 489, Train error: 1.787, Train accuracy: 0.820\n",
      "epoch: 490, Train error: 1.787, Train accuracy: 0.820\n",
      "epoch: 491, Train error: 1.787, Train accuracy: 0.820\n",
      "epoch: 492, Train error: 1.787, Train accuracy: 0.820\n",
      "epoch: 493, Train error: 1.787, Train accuracy: 0.820\n",
      "epoch: 494, Train error: 1.787, Train accuracy: 0.820\n",
      "epoch: 495, Train error: 1.787, Train accuracy: 0.820\n",
      "epoch: 496, Train error: 1.787, Train accuracy: 0.820\n",
      "epoch: 497, Train error: 1.787, Train accuracy: 0.820\n",
      "epoch: 498, Train error: 1.787, Train accuracy: 0.820\n",
      "epoch: 499, Train error: 1.787, Train accuracy: 0.820\n"
     ]
    }
   ],
   "source": [
    "for epoch in range(max_epoch):\n",
    "    train_error = 0\n",
    "    train_accuracy = 0\n",
    "    \n",
    "    for i in range(train_steps):\n",
    "        batch_start = i * batch_size\n",
    "        batch_end = (i+1) * batch_size\n",
    "        \n",
    "        input = train_dataset[batch_start:batch_end]\n",
    "        true = train_labels[batch_start:batch_end]\n",
    "        \n",
    "        #Forward pass\n",
    "        layer1.forward(input)\n",
    "        train_error += loss.forward(layer1.output, true) / train_steps\n",
    "        train_accuracy += accuracy.calculate(layer1.output, true) / train_steps\n",
    "        \n",
    "        #Backward pass\n",
    "        loss.backward(layer1.output, true)\n",
    "        layer1.backward(loss.dresults)\n",
    "        \n",
    "        optimizer.update_parameters(layer1)\n",
    "    \n",
    "    print(f'epoch: {epoch},',\n",
    "          f'Train error: {train_error:.3f},',\n",
    "          f'Train accuracy: {train_accuracy:.3f}')"
   ]
  },
  {
   "cell_type": "markdown",
   "id": "3b236fa4",
   "metadata": {},
   "source": [
    "### Testing the model"
   ]
  },
  {
   "cell_type": "code",
   "execution_count": 36,
   "id": "3253f918",
   "metadata": {},
   "outputs": [],
   "source": [
    "test_steps = len(test_dataset) // batch_size\n",
    "if test_steps * batch_size < len(test_dataset):\n",
    "    test_steps += 1"
   ]
  },
  {
   "cell_type": "code",
   "execution_count": 37,
   "id": "66c60452",
   "metadata": {},
   "outputs": [],
   "source": [
    "test_error = 0\n",
    "test_accuracy = 0\n",
    "\n",
    "for i in range(test_steps):\n",
    "    batch_start = i * batch_size\n",
    "    batch_end = (i+1) * batch_size\n",
    "    \n",
    "    input = test_dataset[batch_start:batch_end]\n",
    "    true = test_labels[batch_start:batch_end]\n",
    "    \n",
    "    layer1.forward(input)\n",
    "    test_error += loss.forward(layer1.output, true) / test_steps\n",
    "    test_accuracy += accuracy.calculate(layer1.output, true) / test_steps"
   ]
  },
  {
   "cell_type": "code",
   "execution_count": 40,
   "id": "7df841a0",
   "metadata": {},
   "outputs": [
    {
     "name": "stdout",
     "output_type": "stream",
     "text": [
      "Test error: 1.794, Test accuracy: 0.809\n"
     ]
    }
   ],
   "source": [
    "print(f'Test error: {test_error:.3f},',\n",
    "      f'Test accuracy: {test_accuracy:.3f}')"
   ]
  },
  {
   "cell_type": "code",
   "execution_count": 41,
   "id": "e68d083d",
   "metadata": {},
   "outputs": [
    {
     "data": {
      "text/plain": [
       "1032"
      ]
     },
     "execution_count": 41,
     "metadata": {},
     "output_type": "execute_result"
    }
   ],
   "source": [
    "random_idx = np.random.randint(len(test_dataset))\n",
    "random_idx"
   ]
  },
  {
   "cell_type": "code",
   "execution_count": 42,
   "id": "ae004f4e",
   "metadata": {},
   "outputs": [],
   "source": [
    "test_input = test_dataset[random_idx]\n",
    "test_label = test_labels[random_idx]"
   ]
  },
  {
   "cell_type": "code",
   "execution_count": 43,
   "id": "fe60cf07",
   "metadata": {},
   "outputs": [
    {
     "data": {
      "text/plain": [
       "1.5468994200923052"
      ]
     },
     "execution_count": 43,
     "metadata": {},
     "output_type": "execute_result"
    }
   ],
   "source": [
    "layer1.forward(test_input)\n",
    "loss.forward(layer1.output, test_label)"
   ]
  },
  {
   "cell_type": "code",
   "execution_count": 44,
   "id": "0f5f96f0",
   "metadata": {},
   "outputs": [
    {
     "name": "stdout",
     "output_type": "stream",
     "text": [
      "label: 1 class: Trouser \n",
      "prediction: 1 class: Trouser\n"
     ]
    },
    {
     "data": {
      "image/png": "[encoded data removed]",
      "text/plain": [
       "<Figure size 432x288 with 1 Axes>"
      ]
     },
     "metadata": {
      "needs_background": "light"
     },
     "output_type": "display_data"
    }
   ],
   "source": [
    "test_label = np.argmax(test_label)\n",
    "test_pred = np.argmax(loss.activation.output)\n",
    "print(f'label: {test_label}',\n",
    "      f'class: {classes[test_label]}',\n",
    "      f'\\nprediction: {test_pred}',\n",
    "      f'class: {classes[test_pred]}')\n",
    "img = test_input.reshape((28, 28))\n",
    "plt.imshow(img, cmap='gray')\n",
    "plt.show()"
   ]
  }
 ],
 "metadata": {
  "kernelspec": {
   "display_name": "Python 3",
   "language": "python",
   "name": "python3"
  },
  "language_info": {
   "codemirror_mode": {
    "name": "ipython",
    "version": 3
   },
   "file_extension": ".py",
   "mimetype": "text/x-python",
   "name": "python",
   "nbconvert_exporter": "python",
   "pygments_lexer": "ipython3",
   "version": "3.9.5"
  }
 },
 "nbformat": 4,
 "nbformat_minor": 5
}

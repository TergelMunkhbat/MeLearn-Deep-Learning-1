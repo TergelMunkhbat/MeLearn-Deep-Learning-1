{
 "cells": [
  {
   "cell_type": "markdown",
   "id": "211f9c01",
   "metadata": {},
   "source": [
    "# Deep Learning - 1"
   ]
  },
  {
   "cell_type": "markdown",
   "id": "649f7822",
   "metadata": {},
   "source": [
    "## Chapter 4: Multi-layer Perceptron"
   ]
  },
  {
   "cell_type": "markdown",
   "id": "592d6d6e",
   "metadata": {},
   "source": [
    "### The simplest regularization - Early stopping"
   ]
  },
  {
   "cell_type": "markdown",
   "id": "b0a24843",
   "metadata": {},
   "source": [
    "---------------"
   ]
  },
  {
   "cell_type": "markdown",
   "id": "02f0ca82",
   "metadata": {},
   "source": [
    "### Import"
   ]
  },
  {
   "cell_type": "code",
   "execution_count": 1,
   "id": "fca357a3",
   "metadata": {},
   "outputs": [],
   "source": [
    "import numpy as np\n",
    "import os\n",
    "import cv2\n",
    "import matplotlib.pyplot as plt"
   ]
  },
  {
   "cell_type": "markdown",
   "id": "a0a494e6",
   "metadata": {},
   "source": [
    "<img src=\"images/layer.png\" alt=\"Drawing\" width=\"1000\"/>"
   ]
  },
  {
   "cell_type": "markdown",
   "id": "c2b879cc",
   "metadata": {},
   "source": [
    "### Model"
   ]
  },
  {
   "cell_type": "markdown",
   "id": "a83e1ef8",
   "metadata": {},
   "source": [
    "#### Neural network"
   ]
  },
  {
   "cell_type": "code",
   "execution_count": 2,
   "id": "d55c27a3",
   "metadata": {},
   "outputs": [],
   "source": [
    "class Layer:\n",
    "    \"\"\"Representing a neural network layer\"\"\"\n",
    "    \n",
    "    def __init__(self, n_inputs, n_outputs):\n",
    "        \"\"\"Initlize weights and bias\"\"\"\n",
    "        self.weights = np.random.randn(n_inputs, n_outputs)\n",
    "        self.biases = np.zeros((1, n_outputs))\n",
    "    \n",
    "    def forward(self, inputs):\n",
    "        \"\"\"\n",
    "        It multiplies the inputs by the weights \n",
    "        and then sums them, and then sums bias.\n",
    "        \"\"\"\n",
    "        #To calculate gradient, remembering input values\n",
    "        self.inputs = inputs\n",
    "        #Calculate outputs' values\n",
    "        self.output = np.dot(inputs, self.weights) + self.biases\n",
    "    \n",
    "    def backward(self, dvalues):\n",
    "        \"\"\"Gradient with respect to parameters and input\"\"\"\n",
    "        self.dweights = np.dot(self.inputs.T, dvalues)\n",
    "        self.dbiases = np.sum(dvalues, axis=0, keepdims=True)\n",
    "        self.dresults = np.dot(dvalues, self.weights.T)"
   ]
  },
  {
   "cell_type": "markdown",
   "id": "09103fd1",
   "metadata": {},
   "source": [
    "### Activation functions"
   ]
  },
  {
   "cell_type": "markdown",
   "id": "149c787f",
   "metadata": {},
   "source": [
    "#### Softmax Activation function"
   ]
  },
  {
   "cell_type": "markdown",
   "id": "a31d7786",
   "metadata": {},
   "source": [
    "<img src=\"images/softmax.png\" alt=\"Drawing\" width=\"500\"/>"
   ]
  },
  {
   "cell_type": "code",
   "execution_count": 3,
   "id": "820a4706",
   "metadata": {},
   "outputs": [],
   "source": [
    "class Activation_Softmax:\n",
    "    \"\"\"Softmax activation\"\"\"\n",
    "    \n",
    "    def forward(self, inputs):\n",
    "        \"\"\"Forward pass\"\"\"\n",
    "        \n",
    "        #Compute e^x for each element of inputs\n",
    "        #Due to the overflow error, \n",
    "        #Maximum value of per sample subtract from each row\n",
    "        exp_values = np.exp(inputs - np.max(inputs, axis=1,\n",
    "                                           keepdims=True))\n",
    "        \n",
    "        #Normalize them for each batch\n",
    "        self.output = exp_values / np.sum(exp_values, \n",
    "                                          axis=1, keepdims=True)\n",
    "    \n",
    "    def backward(self, dvalues):\n",
    "        \"\"\"Gradient softmax\"\"\"\n",
    "        \n",
    "        #Initialize an array\n",
    "        self.dresults = np.zeros(dvalues.shape)\n",
    "        \n",
    "        for i in range(len(dvalues)):\n",
    "            #Reshape the single output\n",
    "            single_output = self.output[i].reshape(-1, 1)\n",
    "            \n",
    "            #Calculate Jacobian matrix of the single output\n",
    "            jacobian_matrix = np.diagflat(single_output) - \\\n",
    "                                np.dot(single_output, single_output.T)\n",
    "            \n",
    "            #Multiply the Jacobian matrix by the loss function derivative\n",
    "            self.dresults[i] = np.dot(jacobian_matrix, dvalues[i])"
   ]
  },
  {
   "cell_type": "markdown",
   "id": "d5e25066",
   "metadata": {},
   "source": [
    "#### ReLU Activation function"
   ]
  },
  {
   "cell_type": "code",
   "execution_count": 4,
   "id": "000d3640",
   "metadata": {},
   "outputs": [],
   "source": [
    "class Activation_ReLU:\n",
    "    \"\"\"ReLU activation\"\"\"\n",
    "    \n",
    "    def forward(self, inputs):\n",
    "        \"\"\"Forward pass\"\"\"\n",
    "        \n",
    "        #To calculate gradient, remembering input values\n",
    "        self.inputs = inputs\n",
    "        \n",
    "        #Calculate outputs' values\n",
    "        self.output = np.maximum(0, inputs)\n",
    "        \n",
    "    def backward(self, dvalues):\n",
    "        \"\"\"Backward pass\"\"\"\n",
    "        \n",
    "        self.dresults = self.inputs > 0\n",
    "        self.dresults = self.dresults * dvalues"
   ]
  },
  {
   "cell_type": "markdown",
   "id": "325b26d3",
   "metadata": {},
   "source": [
    "### Loss"
   ]
  },
  {
   "cell_type": "markdown",
   "id": "b268858f",
   "metadata": {},
   "source": [
    "#### MSE"
   ]
  },
  {
   "cell_type": "code",
   "execution_count": 5,
   "id": "5529a656",
   "metadata": {},
   "outputs": [],
   "source": [
    "class Loss_MSE():\n",
    "    \"\"\"MSE Loss function\"\"\"\n",
    "    \n",
    "    def forward(self, y_pred, y_true):\n",
    "        \"\"\"Forward pass\"\"\"     \n",
    "        error = np.mean((y_pred - y_true) ** 2)\n",
    "        return error\n",
    "    \n",
    "    def backward(self, y_pred, y_true):\n",
    "        \"\"\"Derivative of MSE with respect to preds\"\"\"\n",
    "        \n",
    "        #Number of samples\n",
    "        samples = len(y_pred)\n",
    "        \n",
    "        #Number of output nodes\n",
    "        outputs = len(y_pred[0])\n",
    "        \n",
    "        #Derivative of MSE\n",
    "        self.dresults = 2 * (y_pred - y_true) / (outputs * samples)"
   ]
  },
  {
   "cell_type": "markdown",
   "id": "9a8e8970",
   "metadata": {},
   "source": [
    "#### Categorical Cross-entropy"
   ]
  },
  {
   "cell_type": "code",
   "execution_count": 6,
   "id": "07e2403a",
   "metadata": {},
   "outputs": [],
   "source": [
    "class Loss_CategoricalCrossEntropy():\n",
    "    \"\"\"Cross entropy Loss function\"\"\"\n",
    "    \n",
    "    def forward(self, y_pred, y_true):\n",
    "        \"\"\"Forward pass\"\"\"\n",
    "        y_pred += 1e-10\n",
    "        y_pred = np.clip(y_pred, None, 1)\n",
    "        true_prediction = np.sum(y_pred * y_true, axis=1)\n",
    "        error = np.mean(-np.log(true_prediction)) \n",
    "        return error\n",
    "    \n",
    "    def backward(self, y_pred, y_true):\n",
    "        \"\"\"Derivative of CCE with respect to preds\"\"\"\n",
    "        \n",
    "        #Number of samples\n",
    "        samples = len(y_pred)\n",
    "        \n",
    "        self.dresults = -y_true / (y_pred * samples)"
   ]
  },
  {
   "cell_type": "markdown",
   "id": "38650268",
   "metadata": {},
   "source": [
    "#### Categorical Cross-entropy + Softmax "
   ]
  },
  {
   "cell_type": "code",
   "execution_count": 7,
   "id": "24017a33",
   "metadata": {},
   "outputs": [],
   "source": [
    "class Loss_CategoricalCrossEntropy_Activation_SoftMax:\n",
    "    \"\"\"Cateogircal cross entropy loss and SoftMax function\"\"\"\n",
    "    \n",
    "    def __init__(self):\n",
    "        \"\"\"Initialize Softmax and CCE loss\"\"\"\n",
    "        self.activation = Activation_Softmax()\n",
    "        self.loss = Loss_CategoricalCrossEntropy()\n",
    "        \n",
    "    def forward(self, inputs, y_true):\n",
    "        \"\"\"Forward pass\"\"\"\n",
    "        self.activation.forward(inputs)\n",
    "        return self.loss.forward(self.activation.output, y_true)\n",
    "    \n",
    "    def backward(self, y_pred, y_true):\n",
    "        \"\"\"Gradient of Categorical cross entropy + Softmax activation\"\"\"\n",
    "        samples = len(y_pred)\n",
    "        \n",
    "        self.dresults = (y_pred - y_true) / samples        "
   ]
  },
  {
   "cell_type": "markdown",
   "id": "ae60fe79",
   "metadata": {},
   "source": [
    "### Accuracy"
   ]
  },
  {
   "cell_type": "code",
   "execution_count": 8,
   "id": "8e5b134b",
   "metadata": {},
   "outputs": [],
   "source": [
    "class Accuracy_Categorical:\n",
    "    \"\"\"Accuracy calculation for classification\"\"\"\n",
    "    \n",
    "    def calculate(self, y_pred, y_true):\n",
    "        \"\"\"Calculate the accuracy\"\"\"\n",
    "        \n",
    "        true = np.argmax(y_true, axis=1)\n",
    "        pred = np.argmax(y_pred, axis=1)\n",
    "        comparisons = true == pred\n",
    "        \n",
    "        accuracy = np.mean(comparisons)\n",
    "        \n",
    "        return accuracy"
   ]
  },
  {
   "cell_type": "markdown",
   "id": "3d926f58",
   "metadata": {},
   "source": [
    "### Optimizer"
   ]
  },
  {
   "cell_type": "markdown",
   "id": "aa8a3dfc",
   "metadata": {},
   "source": [
    "#### Gradient descent "
   ]
  },
  {
   "cell_type": "code",
   "execution_count": 9,
   "id": "e4d350dd",
   "metadata": {},
   "outputs": [],
   "source": [
    "class Optimizer_GD:\n",
    "    \"\"\"Gradient descent optimizer\"\"\"\n",
    "    \n",
    "    def __init__(self, alpha=1.):\n",
    "        \"\"\"Initialize hyperparameters\"\"\"\n",
    "        self.alpha = alpha\n",
    "\n",
    "    def update_parameters(self, layer):\n",
    "        \"\"\"Update parameters\"\"\"\n",
    "        weights_delta = layer.dweights * self.alpha\n",
    "        biases_delta = layer.dbiases * self.alpha\n",
    "        \n",
    "        #Update parameters\n",
    "        layer.weights -= weights_delta\n",
    "        layer.biases -= biases_delta"
   ]
  },
  {
   "cell_type": "markdown",
   "id": "3e6ba5dc",
   "metadata": {},
   "source": [
    "### Scaler"
   ]
  },
  {
   "cell_type": "markdown",
   "id": "9912b52d",
   "metadata": {},
   "source": [
    "#### Standard Scaler"
   ]
  },
  {
   "cell_type": "code",
   "execution_count": 10,
   "id": "b97eddea",
   "metadata": {},
   "outputs": [],
   "source": [
    "class Scaler_Standard:\n",
    "    \"\"\"Standard scaler\"\"\"\n",
    "    \n",
    "    def fit(self, data):\n",
    "        \"\"\"Find mean and std values\"\"\"\n",
    "        self.means = data.mean(axis=0)\n",
    "        self.stds = data.std(axis=0)\n",
    "        return self\n",
    "    \n",
    "    def transform(self, data):\n",
    "        \"\"\"Transforming data\"\"\"\n",
    "        return (data - self.means) / self.stds\n",
    "    \n",
    "    def fit_transform(self, data):\n",
    "        \"\"\"Fit and transform data\"\"\"\n",
    "        return self.fit(data).transform(data)"
   ]
  },
  {
   "cell_type": "markdown",
   "id": "6c850cf2",
   "metadata": {},
   "source": [
    "#### MinMax Scaler"
   ]
  },
  {
   "cell_type": "code",
   "execution_count": 11,
   "id": "7e5c1fdd",
   "metadata": {},
   "outputs": [],
   "source": [
    "class Scaler_MinMax:\n",
    "    \"\"\"MinMax scaler\"\"\"\n",
    "    \n",
    "    def __init__(self, feature_range=(0,1)):\n",
    "        \"\"\"Initialize the feature range\"\"\"\n",
    "        self.low, self.high = feature_range\n",
    "    \n",
    "    def fit(self, data):\n",
    "        \"\"\"Find min and max values\"\"\"\n",
    "        self.min = data.min(axis=0)\n",
    "        self.max = data.max(axis=0)\n",
    "        return self\n",
    "    \n",
    "    def transform(self, data):\n",
    "        \"\"\"Transforming data\"\"\"\n",
    "        data_std = (data - self.min) / (self.max - self.min)\n",
    "        return data_std * (self.high - self.low) + self.low\n",
    "    \n",
    "    def fit_transform(self, data):\n",
    "        \"\"\"Fit and transform data\"\"\"\n",
    "        return self.fit(data).transform(data)"
   ]
  },
  {
   "cell_type": "markdown",
   "id": "cfa52189",
   "metadata": {},
   "source": [
    "#### Robust Scaler"
   ]
  },
  {
   "cell_type": "code",
   "execution_count": 12,
   "id": "e867d610",
   "metadata": {},
   "outputs": [],
   "source": [
    "class Scaler_Robust:\n",
    "    \"\"\"Robust scaler\"\"\"\n",
    "    \n",
    "    def fit(self, data):\n",
    "        \"\"\"Find median and iqr values\"\"\"\n",
    "        self.medians = np.median(data, axis=0)\n",
    "        self.p75, self.p25 = np.percentile(data, [75 ,25], axis=0)\n",
    "        self.iqr = self.p75 - self.p25\n",
    "        return self\n",
    "    \n",
    "    def transform(self, data):\n",
    "        \"\"\"Transforming data\"\"\"\n",
    "        return (data - self.medians) / self.iqr\n",
    "    \n",
    "    def fit_transform(self, data):\n",
    "        \"\"\"Fit and transform data\"\"\"\n",
    "        return self.fit(data).transform(data)"
   ]
  },
  {
   "cell_type": "markdown",
   "id": "4d3c0507",
   "metadata": {},
   "source": [
    "---------------"
   ]
  },
  {
   "cell_type": "markdown",
   "id": "7059a12c",
   "metadata": {},
   "source": [
    "### Construct Data"
   ]
  },
  {
   "cell_type": "code",
   "execution_count": 13,
   "id": "b843abf7",
   "metadata": {},
   "outputs": [],
   "source": [
    "classes = ('T-shirt', 'Trouser', 'Pullover', 'Dress', 'Coat',\n",
    "           'Sandal', 'Shirt', 'Sneaker', 'Bag', 'Ankle boot')"
   ]
  },
  {
   "cell_type": "code",
   "execution_count": 14,
   "id": "03a14d1b",
   "metadata": {},
   "outputs": [],
   "source": [
    "def load_dataset(path):\n",
    "    \"\"\"\n",
    "    Load the MNIST fashion dataset\n",
    "    Convert the labels into one-hot vectors\n",
    "    \"\"\"\n",
    "\n",
    "    labels = os.listdir(os.path.join(path))\n",
    "    \n",
    "    X = []\n",
    "    Y = []\n",
    "    \n",
    "    for label in labels:\n",
    "        for file in os.listdir(os.path.join(path, label)):\n",
    "            image = cv2.imread(os.path.join(path, label, file),\n",
    "                                  cv2.IMREAD_UNCHANGED)\n",
    "            X.append(image)\n",
    "            Y.append(label)\n",
    "    \n",
    "    \n",
    "    X = np.array(X)\n",
    "    Y = np.array(Y).astype('uint8')\n",
    "    Y = np.eye(len(labels))[Y].astype('uint8')\n",
    "    \n",
    "    return X, Y"
   ]
  },
  {
   "cell_type": "code",
   "execution_count": 15,
   "id": "2b7862d7",
   "metadata": {},
   "outputs": [],
   "source": [
    "train_val_dataset, train_val_labels = load_dataset('../dataset/train')\n",
    "test_dataset, test_labels = load_dataset('../dataset/test')"
   ]
  },
  {
   "cell_type": "code",
   "execution_count": 16,
   "id": "a5b886cf",
   "metadata": {},
   "outputs": [
    {
     "data": {
      "text/plain": [
       "(60000, 28, 28)"
      ]
     },
     "execution_count": 16,
     "metadata": {},
     "output_type": "execute_result"
    }
   ],
   "source": [
    "train_val_dataset.shape"
   ]
  },
  {
   "cell_type": "markdown",
   "id": "829b3d72",
   "metadata": {},
   "source": [
    "#### Flatten the every image"
   ]
  },
  {
   "cell_type": "code",
   "execution_count": 17,
   "id": "cacffd6c",
   "metadata": {},
   "outputs": [],
   "source": [
    "train_val_dataset = train_val_dataset.reshape(len(train_val_dataset), -1)\n",
    "test_dataset = test_dataset.reshape(len(test_dataset), -1)"
   ]
  },
  {
   "cell_type": "code",
   "execution_count": 18,
   "id": "29d2ae4e",
   "metadata": {},
   "outputs": [
    {
     "data": {
      "text/plain": [
       "(60000, 784)"
      ]
     },
     "execution_count": 18,
     "metadata": {},
     "output_type": "execute_result"
    }
   ],
   "source": [
    "train_val_dataset.shape"
   ]
  },
  {
   "cell_type": "markdown",
   "id": "4516efe3",
   "metadata": {},
   "source": [
    "#### Data shuffling and splits to train and validation"
   ]
  },
  {
   "cell_type": "code",
   "execution_count": 19,
   "id": "4d885db9",
   "metadata": {},
   "outputs": [],
   "source": [
    "indexes = np.array(range(len(train_val_dataset)))\n",
    "np.random.shuffle(indexes)\n",
    "\n",
    "train_dataset = train_val_dataset[indexes[:50000]]\n",
    "train_labels = train_val_labels[indexes[:50000]]\n",
    "\n",
    "validation_dataset = train_val_dataset[indexes[50000:]]\n",
    "validation_labels = train_val_labels[indexes[50000:]]"
   ]
  },
  {
   "cell_type": "code",
   "execution_count": 20,
   "id": "81da162b",
   "metadata": {},
   "outputs": [
    {
     "data": {
      "text/plain": [
       "(10000, 784)"
      ]
     },
     "execution_count": 20,
     "metadata": {},
     "output_type": "execute_result"
    }
   ],
   "source": [
    "validation_dataset.shape"
   ]
  },
  {
   "cell_type": "markdown",
   "id": "66358c0c",
   "metadata": {},
   "source": [
    "### Data Pre-Processing"
   ]
  },
  {
   "cell_type": "code",
   "execution_count": 21,
   "id": "d1b2deb6",
   "metadata": {},
   "outputs": [],
   "source": [
    "scaler = Scaler_MinMax((-1,1))\n",
    "scaler.min = 0\n",
    "scaler.max = 255\n",
    "train_dataset = scaler.transform(train_dataset)\n",
    "test_dataset = scaler.transform(test_dataset)\n",
    "validation_dataset = scaler.transform(validation_dataset)"
   ]
  },
  {
   "cell_type": "code",
   "execution_count": 22,
   "id": "eef779a0",
   "metadata": {},
   "outputs": [
    {
     "data": {
      "text/plain": [
       "-1.0"
      ]
     },
     "execution_count": 22,
     "metadata": {},
     "output_type": "execute_result"
    }
   ],
   "source": [
    "train_dataset.min()"
   ]
  },
  {
   "cell_type": "markdown",
   "id": "8145680b",
   "metadata": {},
   "source": [
    "### Set Hyperparameters"
   ]
  },
  {
   "cell_type": "code",
   "execution_count": 23,
   "id": "eabaef6d",
   "metadata": {},
   "outputs": [],
   "source": [
    "max_epoch = 100\n",
    "alpha = 0.1\n",
    "batch_size = 128"
   ]
  },
  {
   "cell_type": "markdown",
   "id": "515d0a1b",
   "metadata": {},
   "source": [
    "### Initialize the model"
   ]
  },
  {
   "cell_type": "code",
   "execution_count": 24,
   "id": "4c5ac970",
   "metadata": {},
   "outputs": [],
   "source": [
    "layer1 = Layer(784, 512)\n",
    "activation1 = Activation_ReLU()\n",
    "layer2 = Layer(512, 10)"
   ]
  },
  {
   "cell_type": "markdown",
   "id": "06ccf4b5",
   "metadata": {},
   "source": [
    "### Initlize optimizer and loss function"
   ]
  },
  {
   "cell_type": "code",
   "execution_count": 25,
   "id": "329ded87",
   "metadata": {},
   "outputs": [],
   "source": [
    "loss = Loss_CategoricalCrossEntropy_Activation_SoftMax()\n",
    "accuracy = Accuracy_Categorical()\n",
    "optimizer = Optimizer_GD(alpha=alpha)"
   ]
  },
  {
   "cell_type": "markdown",
   "id": "440c16f0",
   "metadata": {},
   "source": [
    "### Training the model"
   ]
  },
  {
   "cell_type": "code",
   "execution_count": 26,
   "id": "e090a644",
   "metadata": {
    "scrolled": true
   },
   "outputs": [],
   "source": [
    "train_steps = len(train_dataset) // batch_size\n",
    "if train_steps * batch_size < len(train_dataset):\n",
    "    train_steps += 1"
   ]
  },
  {
   "cell_type": "code",
   "execution_count": 27,
   "id": "4e0a9c47",
   "metadata": {},
   "outputs": [],
   "source": [
    "valid_steps = len(validation_dataset) // batch_size\n",
    "if valid_steps * batch_size < len(validation_dataset):\n",
    "    valid_steps += 1"
   ]
  },
  {
   "cell_type": "code",
   "execution_count": 28,
   "id": "5bdc3928",
   "metadata": {},
   "outputs": [],
   "source": [
    "###To track train and valid error\n",
    "train_error_history = []\n",
    "valid_error_history = []"
   ]
  },
  {
   "cell_type": "code",
   "execution_count": 29,
   "id": "7e6898c3",
   "metadata": {
    "scrolled": true
   },
   "outputs": [
    {
     "name": "stdout",
     "output_type": "stream",
     "text": [
      "epoch: 0, Train error: 4.121, Train accuracy: 0.735 Validation error: 2.565, Validation accuracy: 0.753\n",
      "epoch: 1, Train error: 1.973, Train accuracy: 0.757 Validation error: 1.801, Validation accuracy: 0.755\n",
      "epoch: 2, Train error: 1.397, Train accuracy: 0.764 Validation error: 1.561, Validation accuracy: 0.751\n",
      "epoch: 3, Train error: 1.127, Train accuracy: 0.775 Validation error: 1.382, Validation accuracy: 0.766\n",
      "epoch: 4, Train error: 0.967, Train accuracy: 0.784 Validation error: 1.283, Validation accuracy: 0.774\n",
      "epoch: 5, Train error: 0.861, Train accuracy: 0.792 Validation error: 1.244, Validation accuracy: 0.769\n",
      "epoch: 6, Train error: 0.781, Train accuracy: 0.800 Validation error: 1.198, Validation accuracy: 0.776\n",
      "epoch: 7, Train error: 0.719, Train accuracy: 0.805 Validation error: 1.156, Validation accuracy: 0.786\n",
      "epoch: 8, Train error: 0.670, Train accuracy: 0.811 Validation error: 1.129, Validation accuracy: 0.788\n",
      "epoch: 9, Train error: 0.628, Train accuracy: 0.817 Validation error: 1.111, Validation accuracy: 0.792\n",
      "epoch: 10, Train error: 0.594, Train accuracy: 0.821 Validation error: 1.088, Validation accuracy: 0.794\n",
      "epoch: 11, Train error: 0.564, Train accuracy: 0.825 Validation error: 1.084, Validation accuracy: 0.796\n",
      "epoch: 12, Train error: 0.542, Train accuracy: 0.830 Validation error: 1.069, Validation accuracy: 0.798\n",
      "epoch: 13, Train error: 0.519, Train accuracy: 0.833 Validation error: 1.064, Validation accuracy: 0.800\n",
      "epoch: 14, Train error: 0.502, Train accuracy: 0.837 Validation error: 1.038, Validation accuracy: 0.800\n",
      "epoch: 15, Train error: 0.486, Train accuracy: 0.840 Validation error: 1.039, Validation accuracy: 0.801\n",
      "epoch: 16, Train error: 0.472, Train accuracy: 0.843 Validation error: 1.026, Validation accuracy: 0.805\n",
      "epoch: 17, Train error: 0.458, Train accuracy: 0.847 Validation error: 1.017, Validation accuracy: 0.806\n",
      "epoch: 18, Train error: 0.447, Train accuracy: 0.849 Validation error: 1.020, Validation accuracy: 0.807\n",
      "epoch: 19, Train error: 0.436, Train accuracy: 0.852 Validation error: 1.005, Validation accuracy: 0.811\n",
      "epoch: 20, Train error: 0.426, Train accuracy: 0.854 Validation error: 1.000, Validation accuracy: 0.812\n",
      "epoch: 21, Train error: 0.418, Train accuracy: 0.856 Validation error: 0.998, Validation accuracy: 0.813\n",
      "epoch: 22, Train error: 0.411, Train accuracy: 0.858 Validation error: 0.993, Validation accuracy: 0.814\n",
      "epoch: 23, Train error: 0.404, Train accuracy: 0.860 Validation error: 0.996, Validation accuracy: 0.814\n",
      "epoch: 24, Train error: 0.397, Train accuracy: 0.861 Validation error: 0.989, Validation accuracy: 0.815\n",
      "epoch: 25, Train error: 0.391, Train accuracy: 0.863 Validation error: 0.986, Validation accuracy: 0.815\n",
      "epoch: 26, Train error: 0.385, Train accuracy: 0.864 Validation error: 0.985, Validation accuracy: 0.817\n",
      "epoch: 27, Train error: 0.380, Train accuracy: 0.866 Validation error: 0.983, Validation accuracy: 0.818\n",
      "epoch: 28, Train error: 0.375, Train accuracy: 0.867 Validation error: 0.980, Validation accuracy: 0.819\n",
      "epoch: 29, Train error: 0.370, Train accuracy: 0.869 Validation error: 0.977, Validation accuracy: 0.819\n",
      "epoch: 30, Train error: 0.366, Train accuracy: 0.870 Validation error: 0.976, Validation accuracy: 0.820\n",
      "epoch: 31, Train error: 0.362, Train accuracy: 0.871 Validation error: 0.975, Validation accuracy: 0.819\n",
      "epoch: 32, Train error: 0.358, Train accuracy: 0.872 Validation error: 0.973, Validation accuracy: 0.819\n",
      "epoch: 33, Train error: 0.354, Train accuracy: 0.873 Validation error: 0.972, Validation accuracy: 0.821\n",
      "epoch: 34, Train error: 0.350, Train accuracy: 0.874 Validation error: 0.971, Validation accuracy: 0.821\n",
      "epoch: 35, Train error: 0.347, Train accuracy: 0.875 Validation error: 0.969, Validation accuracy: 0.821\n",
      "epoch: 36, Train error: 0.344, Train accuracy: 0.876 Validation error: 0.969, Validation accuracy: 0.823\n",
      "epoch: 37, Train error: 0.340, Train accuracy: 0.878 Validation error: 0.967, Validation accuracy: 0.822\n",
      "epoch: 38, Train error: 0.337, Train accuracy: 0.879 Validation error: 0.966, Validation accuracy: 0.822\n",
      "epoch: 39, Train error: 0.334, Train accuracy: 0.880 Validation error: 0.966, Validation accuracy: 0.823\n",
      "epoch: 40, Train error: 0.332, Train accuracy: 0.881 Validation error: 0.965, Validation accuracy: 0.823\n",
      "epoch: 41, Train error: 0.329, Train accuracy: 0.881 Validation error: 0.965, Validation accuracy: 0.823\n",
      "epoch: 42, Train error: 0.326, Train accuracy: 0.882 Validation error: 0.964, Validation accuracy: 0.823\n",
      "epoch: 43, Train error: 0.324, Train accuracy: 0.883 Validation error: 0.963, Validation accuracy: 0.823\n",
      "epoch: 44, Train error: 0.321, Train accuracy: 0.884 Validation error: 0.964, Validation accuracy: 0.824\n",
      "epoch: 45, Train error: 0.319, Train accuracy: 0.885 Validation error: 0.964, Validation accuracy: 0.824\n",
      "epoch: 46, Train error: 0.317, Train accuracy: 0.886 Validation error: 0.963, Validation accuracy: 0.825\n",
      "epoch: 47, Train error: 0.315, Train accuracy: 0.887 Validation error: 0.962, Validation accuracy: 0.824\n",
      "epoch: 48, Train error: 0.312, Train accuracy: 0.887 Validation error: 0.962, Validation accuracy: 0.825\n",
      "epoch: 49, Train error: 0.310, Train accuracy: 0.888 Validation error: 0.963, Validation accuracy: 0.825\n",
      "epoch: 50, Train error: 0.308, Train accuracy: 0.888 Validation error: 0.962, Validation accuracy: 0.825\n",
      "epoch: 51, Train error: 0.306, Train accuracy: 0.889 Validation error: 0.963, Validation accuracy: 0.826\n",
      "epoch: 52, Train error: 0.304, Train accuracy: 0.889 Validation error: 0.962, Validation accuracy: 0.827\n",
      "epoch: 53, Train error: 0.303, Train accuracy: 0.890 Validation error: 0.961, Validation accuracy: 0.827\n",
      "epoch: 54, Train error: 0.301, Train accuracy: 0.891 Validation error: 0.962, Validation accuracy: 0.827\n",
      "epoch: 55, Train error: 0.299, Train accuracy: 0.891 Validation error: 0.961, Validation accuracy: 0.827\n",
      "epoch: 56, Train error: 0.297, Train accuracy: 0.892 Validation error: 0.961, Validation accuracy: 0.827\n",
      "epoch: 57, Train error: 0.296, Train accuracy: 0.893 Validation error: 0.962, Validation accuracy: 0.827\n",
      "epoch: 58, Train error: 0.294, Train accuracy: 0.893 Validation error: 0.962, Validation accuracy: 0.828\n",
      "epoch: 59, Train error: 0.292, Train accuracy: 0.894 Validation error: 0.961, Validation accuracy: 0.828\n",
      "epoch: 60, Train error: 0.291, Train accuracy: 0.894 Validation error: 0.962, Validation accuracy: 0.828\n",
      "epoch: 61, Train error: 0.289, Train accuracy: 0.894 Validation error: 0.961, Validation accuracy: 0.828\n",
      "epoch: 62, Train error: 0.288, Train accuracy: 0.895 Validation error: 0.961, Validation accuracy: 0.829\n",
      "epoch: 63, Train error: 0.286, Train accuracy: 0.895 Validation error: 0.961, Validation accuracy: 0.829\n",
      "epoch: 64, Train error: 0.285, Train accuracy: 0.895 Validation error: 0.961, Validation accuracy: 0.829\n",
      "epoch: 65, Train error: 0.283, Train accuracy: 0.896 Validation error: 0.961, Validation accuracy: 0.830\n",
      "epoch: 66, Train error: 0.282, Train accuracy: 0.896 Validation error: 0.961, Validation accuracy: 0.830\n",
      "epoch: 67, Train error: 0.280, Train accuracy: 0.897 Validation error: 0.962, Validation accuracy: 0.831\n",
      "epoch: 68, Train error: 0.279, Train accuracy: 0.897 Validation error: 0.961, Validation accuracy: 0.831\n",
      "epoch: 69, Train error: 0.278, Train accuracy: 0.898 Validation error: 0.962, Validation accuracy: 0.831\n",
      "epoch: 70, Train error: 0.276, Train accuracy: 0.898 Validation error: 0.963, Validation accuracy: 0.831\n",
      "epoch: 71, Train error: 0.275, Train accuracy: 0.899 Validation error: 0.963, Validation accuracy: 0.832\n",
      "epoch: 72, Train error: 0.274, Train accuracy: 0.899 Validation error: 0.964, Validation accuracy: 0.832\n",
      "epoch: 73, Train error: 0.272, Train accuracy: 0.900 Validation error: 0.963, Validation accuracy: 0.832\n",
      "epoch: 74, Train error: 0.271, Train accuracy: 0.900 Validation error: 0.964, Validation accuracy: 0.833\n",
      "epoch: 75, Train error: 0.270, Train accuracy: 0.901 Validation error: 0.965, Validation accuracy: 0.833\n",
      "epoch: 76, Train error: 0.269, Train accuracy: 0.901 Validation error: 0.965, Validation accuracy: 0.833\n",
      "epoch: 77, Train error: 0.267, Train accuracy: 0.902 Validation error: 0.964, Validation accuracy: 0.834\n",
      "epoch: 78, Train error: 0.266, Train accuracy: 0.902 Validation error: 0.965, Validation accuracy: 0.833\n"
     ]
    },
    {
     "name": "stdout",
     "output_type": "stream",
     "text": [
      "epoch: 79, Train error: 0.265, Train accuracy: 0.902 Validation error: 0.966, Validation accuracy: 0.834\n",
      "epoch: 80, Train error: 0.264, Train accuracy: 0.903 Validation error: 0.967, Validation accuracy: 0.834\n",
      "epoch: 81, Train error: 0.263, Train accuracy: 0.903 Validation error: 0.966, Validation accuracy: 0.834\n",
      "epoch: 82, Train error: 0.262, Train accuracy: 0.904 Validation error: 0.966, Validation accuracy: 0.835\n",
      "epoch: 83, Train error: 0.261, Train accuracy: 0.904 Validation error: 0.968, Validation accuracy: 0.835\n",
      "epoch: 84, Train error: 0.260, Train accuracy: 0.905 Validation error: 0.967, Validation accuracy: 0.836\n",
      "epoch: 85, Train error: 0.259, Train accuracy: 0.906 Validation error: 0.968, Validation accuracy: 0.835\n",
      "epoch: 86, Train error: 0.257, Train accuracy: 0.906 Validation error: 0.967, Validation accuracy: 0.835\n",
      "epoch: 87, Train error: 0.256, Train accuracy: 0.906 Validation error: 0.968, Validation accuracy: 0.835\n",
      "epoch: 88, Train error: 0.255, Train accuracy: 0.907 Validation error: 0.968, Validation accuracy: 0.836\n",
      "epoch: 89, Train error: 0.254, Train accuracy: 0.907 Validation error: 0.968, Validation accuracy: 0.837\n",
      "epoch: 90, Train error: 0.253, Train accuracy: 0.908 Validation error: 0.967, Validation accuracy: 0.836\n",
      "epoch: 91, Train error: 0.252, Train accuracy: 0.908 Validation error: 0.968, Validation accuracy: 0.836\n",
      "epoch: 92, Train error: 0.251, Train accuracy: 0.908 Validation error: 0.968, Validation accuracy: 0.836\n",
      "epoch: 93, Train error: 0.250, Train accuracy: 0.908 Validation error: 0.968, Validation accuracy: 0.837\n",
      "epoch: 94, Train error: 0.250, Train accuracy: 0.909 Validation error: 0.969, Validation accuracy: 0.837\n",
      "epoch: 95, Train error: 0.249, Train accuracy: 0.909 Validation error: 0.969, Validation accuracy: 0.838\n",
      "epoch: 96, Train error: 0.248, Train accuracy: 0.909 Validation error: 0.969, Validation accuracy: 0.837\n",
      "epoch: 97, Train error: 0.247, Train accuracy: 0.910 Validation error: 0.969, Validation accuracy: 0.837\n",
      "epoch: 98, Train error: 0.246, Train accuracy: 0.910 Validation error: 0.969, Validation accuracy: 0.837\n",
      "epoch: 99, Train error: 0.245, Train accuracy: 0.910 Validation error: 0.969, Validation accuracy: 0.837\n"
     ]
    }
   ],
   "source": [
    "for epoch in range(max_epoch):\n",
    "    train_error = 0\n",
    "    valid_error = 0\n",
    "    train_accuracy = 0\n",
    "    valid_accuracy = 0\n",
    "    \n",
    "    for i in range(train_steps):\n",
    "        batch_start = i * batch_size\n",
    "        batch_end = (i+1) * batch_size\n",
    "        \n",
    "        input = train_dataset[batch_start:batch_end]\n",
    "        true = train_labels[batch_start:batch_end]\n",
    "        \n",
    "        #Forward pass\n",
    "        layer1.forward(input)\n",
    "        activation1.forward(layer1.output)\n",
    "        layer2.forward(activation1.output)\n",
    "        train_error += loss.forward(layer2.output, true) / train_steps\n",
    "        train_accuracy += accuracy.calculate(layer2.output, true) / train_steps\n",
    "        \n",
    "        #Backward pass\n",
    "        loss.backward(loss.activation.output, true)\n",
    "        layer2.backward(loss.dresults)\n",
    "        activation1.backward(layer2.dresults)\n",
    "        layer1.backward(activation1.dresults)\n",
    "\n",
    "\n",
    "        optimizer.update_parameters(layer2)\n",
    "        optimizer.update_parameters(layer1)\n",
    "    \n",
    "    for i in range(valid_steps):\n",
    "        batch_start = i * batch_size\n",
    "        batch_end = (i+1) * batch_size\n",
    "        \n",
    "        input = validation_dataset[batch_start:batch_end]\n",
    "        true = validation_labels[batch_start:batch_end]\n",
    "        \n",
    "        #Forward pass\n",
    "        layer1.forward(input)\n",
    "        activation1.forward(layer1.output)\n",
    "        layer2.forward(activation1.output)\n",
    "        valid_error += loss.forward(layer2.output, true) / valid_steps\n",
    "        valid_accuracy += accuracy.calculate(layer2.output, true) / valid_steps\n",
    "    \n",
    "    train_error_history.append(train_error)\n",
    "    valid_error_history.append(valid_error)\n",
    "    print(f'epoch: {epoch},',\n",
    "          f'Train error: {train_error:.3f},',\n",
    "          f'Train accuracy: {train_accuracy:.3f}',\n",
    "          f'Validation error: {valid_error:.3f},',\n",
    "          f'Validation accuracy: {valid_accuracy:.3f}')"
   ]
  },
  {
   "cell_type": "code",
   "execution_count": 30,
   "id": "1e4f9e83",
   "metadata": {},
   "outputs": [
    {
     "data": {
      "text/plain": [
       "<matplotlib.legend.Legend at 0x2a098fd2c70>"
      ]
     },
     "execution_count": 30,
     "metadata": {},
     "output_type": "execute_result"
    },
    {
     "data": {
      "image/png": "[encoded data removed]",
      "text/plain": [
       "<Figure size 432x288 with 1 Axes>"
      ]
     },
     "metadata": {
      "needs_background": "light"
     },
     "output_type": "display_data"
    }
   ],
   "source": [
    "plt.plot(train_error_history, label='training error')\n",
    "plt.plot(valid_error_history, label='validation error')\n",
    "plt.legend()"
   ]
  },
  {
   "cell_type": "markdown",
   "id": "3b236fa4",
   "metadata": {},
   "source": [
    "### Testing the model"
   ]
  },
  {
   "cell_type": "code",
   "execution_count": 31,
   "id": "3253f918",
   "metadata": {},
   "outputs": [],
   "source": [
    "test_steps = len(test_dataset) // batch_size\n",
    "if test_steps * batch_size < len(test_dataset):\n",
    "    test_steps += 1"
   ]
  },
  {
   "cell_type": "code",
   "execution_count": 32,
   "id": "66c60452",
   "metadata": {},
   "outputs": [],
   "source": [
    "test_error = 0\n",
    "test_accuracy = 0\n",
    "\n",
    "for i in range(test_steps):\n",
    "    batch_start = i * batch_size\n",
    "    batch_end = (i+1) * batch_size\n",
    "    \n",
    "    input = test_dataset[batch_start:batch_end]\n",
    "    true = test_labels[batch_start:batch_end]\n",
    "    \n",
    "    layer1.forward(input)\n",
    "    activation1.forward(layer1.output)\n",
    "    layer2.forward(activation1.output)\n",
    "    test_error += loss.forward(layer2.output, true) / test_steps\n",
    "    test_accuracy += accuracy.calculate(layer2.output, true) / test_steps"
   ]
  },
  {
   "cell_type": "code",
   "execution_count": 33,
   "id": "7df841a0",
   "metadata": {},
   "outputs": [
    {
     "name": "stdout",
     "output_type": "stream",
     "text": [
      "Test error: 1.011, Test accuracy: 0.827\n"
     ]
    }
   ],
   "source": [
    "print(f'Test error: {test_error:.3f},',\n",
    "      f'Test accuracy: {test_accuracy:.3f}')"
   ]
  },
  {
   "cell_type": "code",
   "execution_count": 55,
   "id": "e68d083d",
   "metadata": {},
   "outputs": [
    {
     "data": {
      "text/plain": [
       "3056"
      ]
     },
     "execution_count": 55,
     "metadata": {},
     "output_type": "execute_result"
    }
   ],
   "source": [
    "random_idx = np.random.randint(len(test_dataset))\n",
    "random_idx"
   ]
  },
  {
   "cell_type": "code",
   "execution_count": 56,
   "id": "ae004f4e",
   "metadata": {},
   "outputs": [],
   "source": [
    "test_input = test_dataset[random_idx]\n",
    "test_label = test_labels[random_idx]"
   ]
  },
  {
   "cell_type": "code",
   "execution_count": 57,
   "id": "fe60cf07",
   "metadata": {},
   "outputs": [
    {
     "data": {
      "text/plain": [
       "4.974969827525924e-05"
      ]
     },
     "execution_count": 57,
     "metadata": {},
     "output_type": "execute_result"
    }
   ],
   "source": [
    "layer1.forward(test_input)\n",
    "activation1.forward(layer1.output)\n",
    "layer2.forward(activation1.output)\n",
    "loss.forward(layer2.output, test_label)"
   ]
  },
  {
   "cell_type": "code",
   "execution_count": 58,
   "id": "0f5f96f0",
   "metadata": {},
   "outputs": [
    {
     "name": "stdout",
     "output_type": "stream",
     "text": [
      "true: 3 class: Dress \n",
      "pred: 3 class: Dress\n"
     ]
    },
    {
     "data": {
      "image/png": "[encoded data removed]",
      "text/plain": [
       "<Figure size 432x288 with 1 Axes>"
      ]
     },
     "metadata": {
      "needs_background": "light"
     },
     "output_type": "display_data"
    }
   ],
   "source": [
    "test_label = np.argmax(test_label)\n",
    "test_pred = np.argmax(loss.activation.output)\n",
    "print(f'true: {test_label}',\n",
    "      f'class: {classes[test_label]}',\n",
    "      f'\\npred: {test_pred}',\n",
    "      f'class: {classes[test_pred]}')\n",
    "img = test_input.reshape((28, 28))\n",
    "plt.imshow(img, cmap='gray')\n",
    "plt.show()"
   ]
  }
 ],
 "metadata": {
  "kernelspec": {
   "display_name": "Python 3",
   "language": "python",
   "name": "python3"
  },
  "language_info": {
   "codemirror_mode": {
    "name": "ipython",
    "version": 3
   },
   "file_extension": ".py",
   "mimetype": "text/x-python",
   "name": "python",
   "nbconvert_exporter": "python",
   "pygments_lexer": "ipython3",
   "version": "3.9.5"
  }
 },
 "nbformat": 4,
 "nbformat_minor": 5
}

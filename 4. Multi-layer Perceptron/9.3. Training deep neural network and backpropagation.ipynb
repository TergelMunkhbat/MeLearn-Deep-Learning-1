{
 "cells": [
  {
   "cell_type": "markdown",
   "id": "211f9c01",
   "metadata": {},
   "source": [
    "# Deep Learning - 1"
   ]
  },
  {
   "cell_type": "markdown",
   "id": "649f7822",
   "metadata": {},
   "source": [
    "## Chapter 4: Multi-layer Perceptron"
   ]
  },
  {
   "cell_type": "markdown",
   "id": "592d6d6e",
   "metadata": {},
   "source": [
    "### Training deep neural network and backpropagation"
   ]
  },
  {
   "cell_type": "markdown",
   "id": "b0a24843",
   "metadata": {},
   "source": [
    "---------------"
   ]
  },
  {
   "cell_type": "markdown",
   "id": "02f0ca82",
   "metadata": {},
   "source": [
    "### Import"
   ]
  },
  {
   "cell_type": "code",
   "execution_count": 1,
   "id": "fca357a3",
   "metadata": {},
   "outputs": [],
   "source": [
    "import numpy as np\n",
    "import os\n",
    "import cv2\n",
    "import matplotlib.pyplot as plt"
   ]
  },
  {
   "cell_type": "markdown",
   "id": "a0a494e6",
   "metadata": {},
   "source": [
    "<img src=\"images/layer.png\" alt=\"Drawing\" width=\"1000\"/>"
   ]
  },
  {
   "cell_type": "markdown",
   "id": "c2b879cc",
   "metadata": {},
   "source": [
    "### Model"
   ]
  },
  {
   "cell_type": "markdown",
   "id": "a83e1ef8",
   "metadata": {},
   "source": [
    "#### Neural network"
   ]
  },
  {
   "cell_type": "code",
   "execution_count": 2,
   "id": "d55c27a3",
   "metadata": {},
   "outputs": [],
   "source": [
    "class Layer:\n",
    "    \"\"\"Representing a neural network layer\"\"\"\n",
    "    \n",
    "    def __init__(self, n_inputs, n_outputs):\n",
    "        \"\"\"Initlize weights and bias\"\"\"\n",
    "        self.weights = np.random.randn(n_inputs, n_outputs)\n",
    "        self.biases = np.zeros((1, n_outputs))\n",
    "    \n",
    "    def forward(self, inputs):\n",
    "        \"\"\"\n",
    "        It multiplies the inputs by the weights \n",
    "        and then sums them, and then sums bias.\n",
    "        \"\"\"\n",
    "        #To calculate gradient, remembering input values\n",
    "        self.inputs = inputs\n",
    "        #Calculate outputs' values\n",
    "        self.output = np.dot(inputs, self.weights) + self.biases\n",
    "    \n",
    "    def backward(self, dvalues):\n",
    "        \"\"\"Gradient with respect to parameters and input\"\"\"\n",
    "        self.dweights = np.dot(self.inputs.T, dvalues)\n",
    "        self.dbiases = np.sum(dvalues, axis=0, keepdims=True)\n",
    "        self.dresults = np.dot(dvalues, self.weights.T)"
   ]
  },
  {
   "cell_type": "markdown",
   "id": "09103fd1",
   "metadata": {},
   "source": [
    "### Activation functions"
   ]
  },
  {
   "cell_type": "markdown",
   "id": "149c787f",
   "metadata": {},
   "source": [
    "#### Softmax Activation function"
   ]
  },
  {
   "cell_type": "markdown",
   "id": "a31d7786",
   "metadata": {},
   "source": [
    "<img src=\"images/softmax.png\" alt=\"Drawing\" width=\"500\"/>"
   ]
  },
  {
   "cell_type": "code",
   "execution_count": 3,
   "id": "820a4706",
   "metadata": {},
   "outputs": [],
   "source": [
    "class Activation_Softmax:\n",
    "    \"\"\"Softmax activation\"\"\"\n",
    "    \n",
    "    def forward(self, inputs):\n",
    "        \"\"\"Forward pass\"\"\"\n",
    "        \n",
    "        #Compute e^x for each element of inputs\n",
    "        #Due to the overflow error, \n",
    "        #Maximum value of per sample subtract from each row\n",
    "        exp_values = np.exp(inputs - np.max(inputs, axis=1,\n",
    "                                           keepdims=True))\n",
    "        \n",
    "        #Normalize them for each batch\n",
    "        self.output = exp_values / np.sum(exp_values, \n",
    "                                          axis=1, keepdims=True)\n",
    "    \n",
    "    def backward(self, dvalues):\n",
    "        \"\"\"Gradient softmax\"\"\"\n",
    "        \n",
    "        #Initialize an array\n",
    "        self.dresults = np.zeros(dvalues.shape)\n",
    "        \n",
    "        for i in range(len(dvalues)):\n",
    "            #Reshape the single output\n",
    "            single_output = self.output[i].reshape(-1, 1)\n",
    "            \n",
    "            #Calculate Jacobian matrix of the single output\n",
    "            jacobian_matrix = np.diagflat(single_output) - \\\n",
    "                                np.dot(single_output, single_output.T)\n",
    "            \n",
    "            #Multiply the Jacobian matrix by the loss function derivative\n",
    "            self.dresults[i] = np.dot(jacobian_matrix, dvalues[i])"
   ]
  },
  {
   "cell_type": "markdown",
   "id": "d5e25066",
   "metadata": {},
   "source": [
    "#### ReLU Activation function"
   ]
  },
  {
   "cell_type": "code",
   "execution_count": 4,
   "id": "000d3640",
   "metadata": {},
   "outputs": [],
   "source": [
    "class Activation_ReLU:\n",
    "    \"\"\"ReLU activation\"\"\"\n",
    "    \n",
    "    def forward(self, inputs):\n",
    "        \"\"\"Forward pass\"\"\"\n",
    "        \n",
    "        #To calculate gradient, remembering input values\n",
    "        self.inputs = inputs\n",
    "        \n",
    "        #Calculate outputs' values\n",
    "        self.output = np.maximum(0, inputs)\n",
    "        \n",
    "    def backward(self, dvalues):\n",
    "        \"\"\"Backward pass\"\"\"\n",
    "        \n",
    "        self.dresults = self.inputs > 0\n",
    "        self.dresults = self.dresults * dvalues"
   ]
  },
  {
   "cell_type": "markdown",
   "id": "325b26d3",
   "metadata": {},
   "source": [
    "### Loss"
   ]
  },
  {
   "cell_type": "markdown",
   "id": "b268858f",
   "metadata": {},
   "source": [
    "#### MSE"
   ]
  },
  {
   "cell_type": "code",
   "execution_count": 5,
   "id": "5529a656",
   "metadata": {},
   "outputs": [],
   "source": [
    "class Loss_MSE():\n",
    "    \"\"\"MSE Loss function\"\"\"\n",
    "    \n",
    "    def forward(self, y_pred, y_true):\n",
    "        \"\"\"Forward pass\"\"\"     \n",
    "        error = np.mean((y_pred - y_true) ** 2)\n",
    "        return error\n",
    "    \n",
    "    def backward(self, y_pred, y_true):\n",
    "        \"\"\"Derivative of MSE with respect to preds\"\"\"\n",
    "        \n",
    "        #Number of samples\n",
    "        samples = len(y_pred)\n",
    "        \n",
    "        #Number of output nodes\n",
    "        outputs = len(y_pred[0])\n",
    "        \n",
    "        #Derivative of MSE\n",
    "        self.dresults = 2 * (y_pred - y_true) / (outputs * samples)"
   ]
  },
  {
   "cell_type": "markdown",
   "id": "9a8e8970",
   "metadata": {},
   "source": [
    "#### Categorical Cross-entropy"
   ]
  },
  {
   "cell_type": "code",
   "execution_count": 6,
   "id": "07e2403a",
   "metadata": {},
   "outputs": [],
   "source": [
    "class Loss_CategoricalCrossEntropy():\n",
    "    \"\"\"Cross entropy Loss function\"\"\"\n",
    "    \n",
    "    def forward(self, y_pred, y_true):\n",
    "        \"\"\"Forward pass\"\"\"\n",
    "        y_pred += 1e-10\n",
    "        y_pred = np.clip(y_pred, None, 1)\n",
    "        true_prediction = np.sum(y_pred * y_true, axis=1)\n",
    "        error = np.mean(-np.log(true_prediction)) \n",
    "        return error\n",
    "    \n",
    "    def backward(self, y_pred, y_true):\n",
    "        \"\"\"Derivative of CCE with respect to preds\"\"\"\n",
    "        \n",
    "        #Number of samples\n",
    "        samples = len(y_pred)\n",
    "        \n",
    "        self.dresults = -y_true / (y_pred * samples)"
   ]
  },
  {
   "cell_type": "markdown",
   "id": "38650268",
   "metadata": {},
   "source": [
    "#### Categorical Cross-entropy + Softmax "
   ]
  },
  {
   "cell_type": "code",
   "execution_count": 7,
   "id": "24017a33",
   "metadata": {},
   "outputs": [],
   "source": [
    "class Loss_CategoricalCrossEntropy_Activation_SoftMax:\n",
    "    \"\"\"Cateogircal cross entropy loss and SoftMax function\"\"\"\n",
    "    \n",
    "    def __init__(self):\n",
    "        \"\"\"Initialize Softmax and CCE loss\"\"\"\n",
    "        self.activation = Activation_Softmax()\n",
    "        self.loss = Loss_CategoricalCrossEntropy()\n",
    "        \n",
    "    def forward(self, inputs, y_true):\n",
    "        \"\"\"Forward pass\"\"\"\n",
    "        self.activation.forward(inputs)\n",
    "        return self.loss.forward(self.activation.output, y_true)\n",
    "    \n",
    "    def backward(self, y_pred, y_true):\n",
    "        \"\"\"Gradient of Categorical cross entropy + Softmax activation\"\"\"\n",
    "        samples = len(y_pred)\n",
    "        \n",
    "        self.dresults = (y_pred - y_true) / samples        "
   ]
  },
  {
   "cell_type": "markdown",
   "id": "ae60fe79",
   "metadata": {},
   "source": [
    "### Accuracy"
   ]
  },
  {
   "cell_type": "code",
   "execution_count": 8,
   "id": "8e5b134b",
   "metadata": {},
   "outputs": [],
   "source": [
    "class Accuracy_Categorical:\n",
    "    \"\"\"Accuracy calculation for classification\"\"\"\n",
    "    \n",
    "    def calculate(self, y_pred, y_true):\n",
    "        \"\"\"Calculate the accuracy\"\"\"\n",
    "        \n",
    "        true = np.argmax(y_true, axis=1)\n",
    "        pred = np.argmax(y_pred, axis=1)\n",
    "        comparisons = true == pred\n",
    "        \n",
    "        accuracy = np.mean(comparisons)\n",
    "        \n",
    "        return accuracy"
   ]
  },
  {
   "cell_type": "markdown",
   "id": "3d926f58",
   "metadata": {},
   "source": [
    "### Optimizer"
   ]
  },
  {
   "cell_type": "markdown",
   "id": "aa8a3dfc",
   "metadata": {},
   "source": [
    "#### Gradient descent "
   ]
  },
  {
   "cell_type": "code",
   "execution_count": 9,
   "id": "e4d350dd",
   "metadata": {},
   "outputs": [],
   "source": [
    "class Optimizer_GD:\n",
    "    \"\"\"Gradient descent optimizer\"\"\"\n",
    "    \n",
    "    def __init__(self, alpha=1.):\n",
    "        \"\"\"Initialize hyperparameters\"\"\"\n",
    "        self.alpha = alpha\n",
    "\n",
    "    def update_parameters(self, layer):\n",
    "        \"\"\"Update parameters\"\"\"\n",
    "        weights_delta = layer.dweights * self.alpha\n",
    "        biases_delta = layer.dbiases * self.alpha\n",
    "        \n",
    "        #Update parameters\n",
    "        layer.weights -= weights_delta\n",
    "        layer.biases -= biases_delta"
   ]
  },
  {
   "cell_type": "markdown",
   "id": "3e6ba5dc",
   "metadata": {},
   "source": [
    "### Scaler"
   ]
  },
  {
   "cell_type": "markdown",
   "id": "9912b52d",
   "metadata": {},
   "source": [
    "#### Standard Scaler"
   ]
  },
  {
   "cell_type": "code",
   "execution_count": 10,
   "id": "b97eddea",
   "metadata": {},
   "outputs": [],
   "source": [
    "class Scaler_Standard:\n",
    "    \"\"\"Standard scaler\"\"\"\n",
    "    \n",
    "    def fit(self, data):\n",
    "        \"\"\"Find mean and std values\"\"\"\n",
    "        self.means = data.mean(axis=0)\n",
    "        self.stds = data.std(axis=0)\n",
    "        return self\n",
    "    \n",
    "    def transform(self, data):\n",
    "        \"\"\"Transforming data\"\"\"\n",
    "        return (data - self.means) / self.stds\n",
    "    \n",
    "    def fit_transform(self, data):\n",
    "        \"\"\"Fit and transform data\"\"\"\n",
    "        return self.fit(data).transform(data)"
   ]
  },
  {
   "cell_type": "markdown",
   "id": "6c850cf2",
   "metadata": {},
   "source": [
    "#### MinMax Scaler"
   ]
  },
  {
   "cell_type": "code",
   "execution_count": 11,
   "id": "7e5c1fdd",
   "metadata": {},
   "outputs": [],
   "source": [
    "class Scaler_MinMax:\n",
    "    \"\"\"MinMax scaler\"\"\"\n",
    "    \n",
    "    def __init__(self, feature_range=(0,1)):\n",
    "        \"\"\"Initialize the feature range\"\"\"\n",
    "        self.low, self.high = feature_range\n",
    "    \n",
    "    def fit(self, data):\n",
    "        \"\"\"Find min and max values\"\"\"\n",
    "        self.min = data.min(axis=0)\n",
    "        self.max = data.max(axis=0)\n",
    "        return self\n",
    "    \n",
    "    def transform(self, data):\n",
    "        \"\"\"Transforming data\"\"\"\n",
    "        data_std = (data - self.min) / (self.max - self.min)\n",
    "        return data_std * (self.high - self.low) + self.low\n",
    "    \n",
    "    def fit_transform(self, data):\n",
    "        \"\"\"Fit and transform data\"\"\"\n",
    "        return self.fit(data).transform(data)"
   ]
  },
  {
   "cell_type": "markdown",
   "id": "cfa52189",
   "metadata": {},
   "source": [
    "#### Robust Scaler"
   ]
  },
  {
   "cell_type": "code",
   "execution_count": 12,
   "id": "e867d610",
   "metadata": {},
   "outputs": [],
   "source": [
    "class Scaler_Robust:\n",
    "    \"\"\"Robust scaler\"\"\"\n",
    "    \n",
    "    def fit(self, data):\n",
    "        \"\"\"Find median and iqr values\"\"\"\n",
    "        self.medians = np.median(data, axis=0)\n",
    "        self.p75, self.p25 = np.percentile(data, [75 ,25], axis=0)\n",
    "        self.iqr = self.p75 - self.p25\n",
    "        return self\n",
    "    \n",
    "    def transform(self, data):\n",
    "        \"\"\"Transforming data\"\"\"\n",
    "        return (data - self.medians) / self.iqr\n",
    "    \n",
    "    def fit_transform(self, data):\n",
    "        \"\"\"Fit and transform data\"\"\"\n",
    "        return self.fit(data).transform(data)"
   ]
  },
  {
   "cell_type": "markdown",
   "id": "4d3c0507",
   "metadata": {},
   "source": [
    "---------------"
   ]
  },
  {
   "cell_type": "markdown",
   "id": "7059a12c",
   "metadata": {},
   "source": [
    "### Construct Data"
   ]
  },
  {
   "cell_type": "code",
   "execution_count": 13,
   "id": "b843abf7",
   "metadata": {},
   "outputs": [],
   "source": [
    "classes = ('T-shirt', 'Trouser', 'Pullover', 'Dress', 'Coat',\n",
    "           'Sandal', 'Shirt', 'Sneaker', 'Bag', 'Ankle boot')"
   ]
  },
  {
   "cell_type": "code",
   "execution_count": 14,
   "id": "03a14d1b",
   "metadata": {},
   "outputs": [],
   "source": [
    "def load_dataset(path):\n",
    "    \"\"\"\n",
    "    Load the MNIST fashion dataset\n",
    "    Convert the labels into one-hot vectors\n",
    "    \"\"\"\n",
    "\n",
    "    labels = os.listdir(os.path.join(path))\n",
    "    \n",
    "    X = []\n",
    "    Y = []\n",
    "    \n",
    "    for label in labels:\n",
    "        for file in os.listdir(os.path.join(path, label)):\n",
    "            image = cv2.imread(os.path.join(path, label, file),\n",
    "                                  cv2.IMREAD_UNCHANGED)\n",
    "            X.append(image)\n",
    "            Y.append(label)\n",
    "    \n",
    "    \n",
    "    X = np.array(X)\n",
    "    Y = np.array(Y).astype('uint8')\n",
    "    Y = np.eye(len(labels))[Y].astype('uint8')\n",
    "    \n",
    "    return X, Y"
   ]
  },
  {
   "cell_type": "code",
   "execution_count": 15,
   "id": "2b7862d7",
   "metadata": {},
   "outputs": [],
   "source": [
    "train_dataset, train_labels = load_dataset('../dataset/train')\n",
    "test_dataset, test_labels = load_dataset('../dataset/test')"
   ]
  },
  {
   "cell_type": "code",
   "execution_count": 16,
   "id": "a5b886cf",
   "metadata": {},
   "outputs": [
    {
     "data": {
      "text/plain": [
       "(60000, 28, 28)"
      ]
     },
     "execution_count": 16,
     "metadata": {},
     "output_type": "execute_result"
    }
   ],
   "source": [
    "train_dataset.shape"
   ]
  },
  {
   "cell_type": "markdown",
   "id": "829b3d72",
   "metadata": {},
   "source": [
    "#### Flatten the every image"
   ]
  },
  {
   "cell_type": "code",
   "execution_count": 17,
   "id": "cacffd6c",
   "metadata": {},
   "outputs": [],
   "source": [
    "train_dataset = train_dataset.reshape(len(train_dataset), -1)\n",
    "test_dataset = test_dataset.reshape(len(test_dataset), -1)"
   ]
  },
  {
   "cell_type": "code",
   "execution_count": 18,
   "id": "29d2ae4e",
   "metadata": {},
   "outputs": [
    {
     "data": {
      "text/plain": [
       "(10000, 784)"
      ]
     },
     "execution_count": 18,
     "metadata": {},
     "output_type": "execute_result"
    }
   ],
   "source": [
    "test_dataset.shape"
   ]
  },
  {
   "cell_type": "markdown",
   "id": "4516efe3",
   "metadata": {},
   "source": [
    "#### Data shuffling"
   ]
  },
  {
   "cell_type": "code",
   "execution_count": 19,
   "id": "4d885db9",
   "metadata": {},
   "outputs": [],
   "source": [
    "indexes = np.array(range(len(train_dataset)))\n",
    "np.random.shuffle(indexes)\n",
    "\n",
    "train_dataset = train_dataset[indexes]\n",
    "train_labels = train_labels[indexes]"
   ]
  },
  {
   "cell_type": "markdown",
   "id": "66358c0c",
   "metadata": {},
   "source": [
    "### Data Pre-Processing"
   ]
  },
  {
   "cell_type": "code",
   "execution_count": 20,
   "id": "d1b2deb6",
   "metadata": {},
   "outputs": [],
   "source": [
    "scaler = Scaler_MinMax((-1,1))\n",
    "scaler.min = 0\n",
    "scaler.max = 255\n",
    "train_dataset = scaler.transform(train_dataset)\n",
    "test_dataset = scaler.transform(test_dataset)"
   ]
  },
  {
   "cell_type": "code",
   "execution_count": 21,
   "id": "eef779a0",
   "metadata": {},
   "outputs": [
    {
     "data": {
      "text/plain": [
       "-1.0"
      ]
     },
     "execution_count": 21,
     "metadata": {},
     "output_type": "execute_result"
    }
   ],
   "source": [
    "train_dataset.min()"
   ]
  },
  {
   "cell_type": "markdown",
   "id": "8145680b",
   "metadata": {},
   "source": [
    "### Set Hyperparameters"
   ]
  },
  {
   "cell_type": "code",
   "execution_count": 26,
   "id": "eabaef6d",
   "metadata": {},
   "outputs": [],
   "source": [
    "max_epoch = 500\n",
    "alpha = 0.1\n",
    "batch_size = 128"
   ]
  },
  {
   "cell_type": "markdown",
   "id": "515d0a1b",
   "metadata": {},
   "source": [
    "### Initialize the model"
   ]
  },
  {
   "cell_type": "code",
   "execution_count": 23,
   "id": "4c5ac970",
   "metadata": {},
   "outputs": [],
   "source": [
    "layer1 = Layer(784, 512)\n",
    "activation1 = Activation_ReLU()\n",
    "layer2 = Layer(512, 10)"
   ]
  },
  {
   "cell_type": "markdown",
   "id": "06ccf4b5",
   "metadata": {},
   "source": [
    "### Initlize optimizer and loss function"
   ]
  },
  {
   "cell_type": "code",
   "execution_count": 24,
   "id": "329ded87",
   "metadata": {},
   "outputs": [],
   "source": [
    "loss = Loss_CategoricalCrossEntropy_Activation_SoftMax()\n",
    "accuracy = Accuracy_Categorical()\n",
    "optimizer = Optimizer_GD(alpha=alpha)"
   ]
  },
  {
   "cell_type": "markdown",
   "id": "440c16f0",
   "metadata": {},
   "source": [
    "### Training the model"
   ]
  },
  {
   "cell_type": "code",
   "execution_count": 25,
   "id": "e090a644",
   "metadata": {
    "scrolled": true
   },
   "outputs": [],
   "source": [
    "train_steps = len(train_dataset) // batch_size\n",
    "if train_steps * batch_size < len(train_dataset):\n",
    "    train_steps += 1"
   ]
  },
  {
   "cell_type": "code",
   "execution_count": 27,
   "id": "7e6898c3",
   "metadata": {
    "scrolled": true
   },
   "outputs": [
    {
     "name": "stdout",
     "output_type": "stream",
     "text": [
      "epoch: 0, Train error: 3.659, Train accuracy: 0.744\n",
      "epoch: 1, Train error: 1.730, Train accuracy: 0.758\n",
      "epoch: 2, Train error: 1.257, Train accuracy: 0.767\n",
      "epoch: 3, Train error: 1.037, Train accuracy: 0.776\n",
      "epoch: 4, Train error: 0.909, Train accuracy: 0.784\n",
      "epoch: 5, Train error: 0.817, Train accuracy: 0.793\n",
      "epoch: 6, Train error: 0.754, Train accuracy: 0.800\n",
      "epoch: 7, Train error: 0.699, Train accuracy: 0.807\n",
      "epoch: 8, Train error: 0.653, Train accuracy: 0.813\n",
      "epoch: 9, Train error: 0.615, Train accuracy: 0.818\n",
      "epoch: 10, Train error: 0.584, Train accuracy: 0.823\n",
      "epoch: 11, Train error: 0.558, Train accuracy: 0.827\n",
      "epoch: 12, Train error: 0.533, Train accuracy: 0.831\n",
      "epoch: 13, Train error: 0.517, Train accuracy: 0.835\n",
      "epoch: 14, Train error: 0.500, Train accuracy: 0.837\n",
      "epoch: 15, Train error: 0.484, Train accuracy: 0.841\n",
      "epoch: 16, Train error: 0.474, Train accuracy: 0.842\n",
      "epoch: 17, Train error: 0.460, Train accuracy: 0.846\n",
      "epoch: 18, Train error: 0.450, Train accuracy: 0.849\n",
      "epoch: 19, Train error: 0.440, Train accuracy: 0.852\n",
      "epoch: 20, Train error: 0.432, Train accuracy: 0.853\n",
      "epoch: 21, Train error: 0.424, Train accuracy: 0.855\n",
      "epoch: 22, Train error: 0.417, Train accuracy: 0.857\n",
      "epoch: 23, Train error: 0.413, Train accuracy: 0.858\n",
      "epoch: 24, Train error: 0.404, Train accuracy: 0.861\n",
      "epoch: 25, Train error: 0.399, Train accuracy: 0.862\n",
      "epoch: 26, Train error: 0.393, Train accuracy: 0.863\n",
      "epoch: 27, Train error: 0.388, Train accuracy: 0.865\n",
      "epoch: 28, Train error: 0.383, Train accuracy: 0.867\n",
      "epoch: 29, Train error: 0.379, Train accuracy: 0.868\n",
      "epoch: 30, Train error: 0.374, Train accuracy: 0.869\n",
      "epoch: 31, Train error: 0.370, Train accuracy: 0.871\n",
      "epoch: 32, Train error: 0.366, Train accuracy: 0.872\n",
      "epoch: 33, Train error: 0.362, Train accuracy: 0.873\n",
      "epoch: 34, Train error: 0.359, Train accuracy: 0.874\n",
      "epoch: 35, Train error: 0.356, Train accuracy: 0.875\n",
      "epoch: 36, Train error: 0.352, Train accuracy: 0.876\n",
      "epoch: 37, Train error: 0.349, Train accuracy: 0.877\n",
      "epoch: 38, Train error: 0.346, Train accuracy: 0.878\n",
      "epoch: 39, Train error: 0.344, Train accuracy: 0.878\n",
      "epoch: 40, Train error: 0.341, Train accuracy: 0.879\n",
      "epoch: 41, Train error: 0.338, Train accuracy: 0.880\n",
      "epoch: 42, Train error: 0.336, Train accuracy: 0.881\n",
      "epoch: 43, Train error: 0.333, Train accuracy: 0.881\n",
      "epoch: 44, Train error: 0.331, Train accuracy: 0.882\n",
      "epoch: 45, Train error: 0.329, Train accuracy: 0.882\n",
      "epoch: 46, Train error: 0.327, Train accuracy: 0.883\n",
      "epoch: 47, Train error: 0.324, Train accuracy: 0.884\n",
      "epoch: 48, Train error: 0.322, Train accuracy: 0.885\n",
      "epoch: 49, Train error: 0.320, Train accuracy: 0.885\n",
      "epoch: 50, Train error: 0.318, Train accuracy: 0.886\n",
      "epoch: 51, Train error: 0.316, Train accuracy: 0.887\n",
      "epoch: 52, Train error: 0.315, Train accuracy: 0.887\n",
      "epoch: 53, Train error: 0.313, Train accuracy: 0.888\n",
      "epoch: 54, Train error: 0.311, Train accuracy: 0.889\n",
      "epoch: 55, Train error: 0.309, Train accuracy: 0.889\n",
      "epoch: 56, Train error: 0.307, Train accuracy: 0.890\n",
      "epoch: 57, Train error: 0.306, Train accuracy: 0.890\n",
      "epoch: 58, Train error: 0.304, Train accuracy: 0.891\n",
      "epoch: 59, Train error: 0.302, Train accuracy: 0.891\n",
      "epoch: 60, Train error: 0.301, Train accuracy: 0.892\n",
      "epoch: 61, Train error: 0.299, Train accuracy: 0.892\n",
      "epoch: 62, Train error: 0.298, Train accuracy: 0.892\n",
      "epoch: 63, Train error: 0.296, Train accuracy: 0.893\n",
      "epoch: 64, Train error: 0.295, Train accuracy: 0.894\n",
      "epoch: 65, Train error: 0.293, Train accuracy: 0.894\n",
      "epoch: 66, Train error: 0.292, Train accuracy: 0.895\n",
      "epoch: 67, Train error: 0.290, Train accuracy: 0.895\n",
      "epoch: 68, Train error: 0.289, Train accuracy: 0.895\n",
      "epoch: 69, Train error: 0.288, Train accuracy: 0.896\n",
      "epoch: 70, Train error: 0.286, Train accuracy: 0.897\n",
      "epoch: 71, Train error: 0.285, Train accuracy: 0.897\n",
      "epoch: 72, Train error: 0.284, Train accuracy: 0.897\n",
      "epoch: 73, Train error: 0.283, Train accuracy: 0.898\n",
      "epoch: 74, Train error: 0.281, Train accuracy: 0.898\n",
      "epoch: 75, Train error: 0.280, Train accuracy: 0.899\n",
      "epoch: 76, Train error: 0.279, Train accuracy: 0.899\n",
      "epoch: 77, Train error: 0.278, Train accuracy: 0.900\n",
      "epoch: 78, Train error: 0.277, Train accuracy: 0.900\n",
      "epoch: 79, Train error: 0.275, Train accuracy: 0.901\n",
      "epoch: 80, Train error: 0.274, Train accuracy: 0.901\n",
      "epoch: 81, Train error: 0.273, Train accuracy: 0.901\n",
      "epoch: 82, Train error: 0.272, Train accuracy: 0.902\n",
      "epoch: 83, Train error: 0.271, Train accuracy: 0.902\n",
      "epoch: 84, Train error: 0.270, Train accuracy: 0.903\n",
      "epoch: 85, Train error: 0.269, Train accuracy: 0.903\n",
      "epoch: 86, Train error: 0.268, Train accuracy: 0.903\n",
      "epoch: 87, Train error: 0.267, Train accuracy: 0.904\n",
      "epoch: 88, Train error: 0.266, Train accuracy: 0.904\n",
      "epoch: 89, Train error: 0.264, Train accuracy: 0.905\n",
      "epoch: 90, Train error: 0.263, Train accuracy: 0.905\n",
      "epoch: 91, Train error: 0.262, Train accuracy: 0.905\n",
      "epoch: 92, Train error: 0.261, Train accuracy: 0.906\n",
      "epoch: 93, Train error: 0.260, Train accuracy: 0.906\n",
      "epoch: 94, Train error: 0.259, Train accuracy: 0.907\n",
      "epoch: 95, Train error: 0.258, Train accuracy: 0.907\n",
      "epoch: 96, Train error: 0.257, Train accuracy: 0.907\n",
      "epoch: 97, Train error: 0.257, Train accuracy: 0.908\n",
      "epoch: 98, Train error: 0.256, Train accuracy: 0.908\n",
      "epoch: 99, Train error: 0.255, Train accuracy: 0.908\n",
      "epoch: 100, Train error: 0.254, Train accuracy: 0.909\n",
      "epoch: 101, Train error: 0.253, Train accuracy: 0.909\n",
      "epoch: 102, Train error: 0.252, Train accuracy: 0.909\n",
      "epoch: 103, Train error: 0.251, Train accuracy: 0.910\n",
      "epoch: 104, Train error: 0.250, Train accuracy: 0.910\n",
      "epoch: 105, Train error: 0.249, Train accuracy: 0.910\n",
      "epoch: 106, Train error: 0.249, Train accuracy: 0.911\n",
      "epoch: 107, Train error: 0.248, Train accuracy: 0.911\n",
      "epoch: 108, Train error: 0.247, Train accuracy: 0.911\n",
      "epoch: 109, Train error: 0.246, Train accuracy: 0.912\n",
      "epoch: 110, Train error: 0.245, Train accuracy: 0.912\n",
      "epoch: 111, Train error: 0.244, Train accuracy: 0.912\n",
      "epoch: 112, Train error: 0.244, Train accuracy: 0.913\n",
      "epoch: 113, Train error: 0.243, Train accuracy: 0.913\n",
      "epoch: 114, Train error: 0.242, Train accuracy: 0.913\n",
      "epoch: 115, Train error: 0.241, Train accuracy: 0.914\n",
      "epoch: 116, Train error: 0.240, Train accuracy: 0.914\n",
      "epoch: 117, Train error: 0.240, Train accuracy: 0.914\n",
      "epoch: 118, Train error: 0.239, Train accuracy: 0.915\n",
      "epoch: 119, Train error: 0.238, Train accuracy: 0.915\n",
      "epoch: 120, Train error: 0.237, Train accuracy: 0.915\n",
      "epoch: 121, Train error: 0.237, Train accuracy: 0.915\n",
      "epoch: 122, Train error: 0.236, Train accuracy: 0.915\n",
      "epoch: 123, Train error: 0.235, Train accuracy: 0.916\n",
      "epoch: 124, Train error: 0.234, Train accuracy: 0.916\n",
      "epoch: 125, Train error: 0.234, Train accuracy: 0.916\n",
      "epoch: 126, Train error: 0.233, Train accuracy: 0.916\n",
      "epoch: 127, Train error: 0.232, Train accuracy: 0.917\n",
      "epoch: 128, Train error: 0.232, Train accuracy: 0.917\n",
      "epoch: 129, Train error: 0.231, Train accuracy: 0.917\n",
      "epoch: 130, Train error: 0.230, Train accuracy: 0.918\n",
      "epoch: 131, Train error: 0.229, Train accuracy: 0.918\n",
      "epoch: 132, Train error: 0.229, Train accuracy: 0.918\n",
      "epoch: 133, Train error: 0.228, Train accuracy: 0.919\n",
      "epoch: 134, Train error: 0.227, Train accuracy: 0.919\n",
      "epoch: 135, Train error: 0.227, Train accuracy: 0.919\n",
      "epoch: 136, Train error: 0.226, Train accuracy: 0.919\n",
      "epoch: 137, Train error: 0.225, Train accuracy: 0.920\n",
      "epoch: 138, Train error: 0.225, Train accuracy: 0.920\n",
      "epoch: 139, Train error: 0.224, Train accuracy: 0.920\n",
      "epoch: 140, Train error: 0.224, Train accuracy: 0.920\n",
      "epoch: 141, Train error: 0.223, Train accuracy: 0.921\n",
      "epoch: 142, Train error: 0.222, Train accuracy: 0.921\n",
      "epoch: 143, Train error: 0.222, Train accuracy: 0.921\n",
      "epoch: 144, Train error: 0.221, Train accuracy: 0.921\n",
      "epoch: 145, Train error: 0.220, Train accuracy: 0.922\n",
      "epoch: 146, Train error: 0.220, Train accuracy: 0.922\n",
      "epoch: 147, Train error: 0.219, Train accuracy: 0.922\n",
      "epoch: 148, Train error: 0.218, Train accuracy: 0.922\n",
      "epoch: 149, Train error: 0.218, Train accuracy: 0.922\n",
      "epoch: 150, Train error: 0.217, Train accuracy: 0.923\n",
      "epoch: 151, Train error: 0.217, Train accuracy: 0.923\n",
      "epoch: 152, Train error: 0.216, Train accuracy: 0.923\n",
      "epoch: 153, Train error: 0.215, Train accuracy: 0.923\n"
     ]
    },
    {
     "name": "stdout",
     "output_type": "stream",
     "text": [
      "epoch: 154, Train error: 0.215, Train accuracy: 0.923\n",
      "epoch: 155, Train error: 0.214, Train accuracy: 0.924\n",
      "epoch: 156, Train error: 0.214, Train accuracy: 0.924\n",
      "epoch: 157, Train error: 0.213, Train accuracy: 0.924\n",
      "epoch: 158, Train error: 0.212, Train accuracy: 0.925\n",
      "epoch: 159, Train error: 0.212, Train accuracy: 0.925\n",
      "epoch: 160, Train error: 0.211, Train accuracy: 0.925\n",
      "epoch: 161, Train error: 0.211, Train accuracy: 0.925\n",
      "epoch: 162, Train error: 0.210, Train accuracy: 0.926\n",
      "epoch: 163, Train error: 0.210, Train accuracy: 0.926\n",
      "epoch: 164, Train error: 0.209, Train accuracy: 0.926\n",
      "epoch: 165, Train error: 0.208, Train accuracy: 0.926\n",
      "epoch: 166, Train error: 0.208, Train accuracy: 0.927\n",
      "epoch: 167, Train error: 0.207, Train accuracy: 0.927\n",
      "epoch: 168, Train error: 0.207, Train accuracy: 0.927\n",
      "epoch: 169, Train error: 0.206, Train accuracy: 0.927\n",
      "epoch: 170, Train error: 0.206, Train accuracy: 0.927\n",
      "epoch: 171, Train error: 0.205, Train accuracy: 0.928\n",
      "epoch: 172, Train error: 0.205, Train accuracy: 0.928\n",
      "epoch: 173, Train error: 0.204, Train accuracy: 0.928\n",
      "epoch: 174, Train error: 0.204, Train accuracy: 0.928\n",
      "epoch: 175, Train error: 0.203, Train accuracy: 0.928\n",
      "epoch: 176, Train error: 0.202, Train accuracy: 0.929\n",
      "epoch: 177, Train error: 0.202, Train accuracy: 0.929\n",
      "epoch: 178, Train error: 0.201, Train accuracy: 0.929\n",
      "epoch: 179, Train error: 0.201, Train accuracy: 0.929\n",
      "epoch: 180, Train error: 0.200, Train accuracy: 0.929\n",
      "epoch: 181, Train error: 0.200, Train accuracy: 0.930\n",
      "epoch: 182, Train error: 0.199, Train accuracy: 0.930\n",
      "epoch: 183, Train error: 0.199, Train accuracy: 0.930\n",
      "epoch: 184, Train error: 0.198, Train accuracy: 0.930\n",
      "epoch: 185, Train error: 0.198, Train accuracy: 0.931\n",
      "epoch: 186, Train error: 0.197, Train accuracy: 0.931\n",
      "epoch: 187, Train error: 0.197, Train accuracy: 0.931\n",
      "epoch: 188, Train error: 0.196, Train accuracy: 0.931\n",
      "epoch: 189, Train error: 0.196, Train accuracy: 0.931\n",
      "epoch: 190, Train error: 0.195, Train accuracy: 0.931\n",
      "epoch: 191, Train error: 0.195, Train accuracy: 0.932\n",
      "epoch: 192, Train error: 0.194, Train accuracy: 0.932\n",
      "epoch: 193, Train error: 0.194, Train accuracy: 0.932\n",
      "epoch: 194, Train error: 0.193, Train accuracy: 0.932\n",
      "epoch: 195, Train error: 0.193, Train accuracy: 0.932\n",
      "epoch: 196, Train error: 0.192, Train accuracy: 0.932\n",
      "epoch: 197, Train error: 0.192, Train accuracy: 0.933\n",
      "epoch: 198, Train error: 0.191, Train accuracy: 0.933\n",
      "epoch: 199, Train error: 0.191, Train accuracy: 0.933\n",
      "epoch: 200, Train error: 0.190, Train accuracy: 0.933\n",
      "epoch: 201, Train error: 0.190, Train accuracy: 0.934\n",
      "epoch: 202, Train error: 0.189, Train accuracy: 0.934\n",
      "epoch: 203, Train error: 0.189, Train accuracy: 0.934\n",
      "epoch: 204, Train error: 0.189, Train accuracy: 0.934\n",
      "epoch: 205, Train error: 0.188, Train accuracy: 0.934\n",
      "epoch: 206, Train error: 0.188, Train accuracy: 0.934\n",
      "epoch: 207, Train error: 0.187, Train accuracy: 0.935\n",
      "epoch: 208, Train error: 0.187, Train accuracy: 0.935\n",
      "epoch: 209, Train error: 0.186, Train accuracy: 0.935\n",
      "epoch: 210, Train error: 0.186, Train accuracy: 0.935\n",
      "epoch: 211, Train error: 0.185, Train accuracy: 0.935\n",
      "epoch: 212, Train error: 0.185, Train accuracy: 0.935\n",
      "epoch: 213, Train error: 0.184, Train accuracy: 0.935\n",
      "epoch: 214, Train error: 0.184, Train accuracy: 0.935\n",
      "epoch: 215, Train error: 0.183, Train accuracy: 0.936\n",
      "epoch: 216, Train error: 0.183, Train accuracy: 0.936\n",
      "epoch: 217, Train error: 0.183, Train accuracy: 0.936\n",
      "epoch: 218, Train error: 0.182, Train accuracy: 0.936\n",
      "epoch: 219, Train error: 0.182, Train accuracy: 0.936\n",
      "epoch: 220, Train error: 0.181, Train accuracy: 0.937\n",
      "epoch: 221, Train error: 0.181, Train accuracy: 0.937\n",
      "epoch: 222, Train error: 0.180, Train accuracy: 0.937\n",
      "epoch: 223, Train error: 0.180, Train accuracy: 0.937\n",
      "epoch: 224, Train error: 0.180, Train accuracy: 0.937\n",
      "epoch: 225, Train error: 0.179, Train accuracy: 0.937\n",
      "epoch: 226, Train error: 0.179, Train accuracy: 0.937\n",
      "epoch: 227, Train error: 0.178, Train accuracy: 0.937\n",
      "epoch: 228, Train error: 0.178, Train accuracy: 0.938\n",
      "epoch: 229, Train error: 0.177, Train accuracy: 0.938\n",
      "epoch: 230, Train error: 0.177, Train accuracy: 0.938\n",
      "epoch: 231, Train error: 0.177, Train accuracy: 0.938\n",
      "epoch: 232, Train error: 0.176, Train accuracy: 0.938\n",
      "epoch: 233, Train error: 0.176, Train accuracy: 0.938\n",
      "epoch: 234, Train error: 0.175, Train accuracy: 0.938\n",
      "epoch: 235, Train error: 0.175, Train accuracy: 0.939\n",
      "epoch: 236, Train error: 0.175, Train accuracy: 0.939\n",
      "epoch: 237, Train error: 0.174, Train accuracy: 0.939\n",
      "epoch: 238, Train error: 0.174, Train accuracy: 0.939\n",
      "epoch: 239, Train error: 0.173, Train accuracy: 0.939\n",
      "epoch: 240, Train error: 0.173, Train accuracy: 0.939\n",
      "epoch: 241, Train error: 0.173, Train accuracy: 0.939\n",
      "epoch: 242, Train error: 0.172, Train accuracy: 0.939\n",
      "epoch: 243, Train error: 0.172, Train accuracy: 0.940\n",
      "epoch: 244, Train error: 0.171, Train accuracy: 0.940\n",
      "epoch: 245, Train error: 0.171, Train accuracy: 0.940\n",
      "epoch: 246, Train error: 0.171, Train accuracy: 0.940\n",
      "epoch: 247, Train error: 0.170, Train accuracy: 0.940\n",
      "epoch: 248, Train error: 0.170, Train accuracy: 0.940\n",
      "epoch: 249, Train error: 0.169, Train accuracy: 0.940\n",
      "epoch: 250, Train error: 0.169, Train accuracy: 0.941\n",
      "epoch: 251, Train error: 0.169, Train accuracy: 0.941\n",
      "epoch: 252, Train error: 0.168, Train accuracy: 0.941\n",
      "epoch: 253, Train error: 0.168, Train accuracy: 0.941\n",
      "epoch: 254, Train error: 0.168, Train accuracy: 0.941\n",
      "epoch: 255, Train error: 0.167, Train accuracy: 0.941\n",
      "epoch: 256, Train error: 0.167, Train accuracy: 0.941\n",
      "epoch: 257, Train error: 0.166, Train accuracy: 0.941\n",
      "epoch: 258, Train error: 0.166, Train accuracy: 0.942\n",
      "epoch: 259, Train error: 0.166, Train accuracy: 0.942\n",
      "epoch: 260, Train error: 0.165, Train accuracy: 0.942\n",
      "epoch: 261, Train error: 0.165, Train accuracy: 0.942\n",
      "epoch: 262, Train error: 0.165, Train accuracy: 0.942\n",
      "epoch: 263, Train error: 0.164, Train accuracy: 0.942\n",
      "epoch: 264, Train error: 0.164, Train accuracy: 0.942\n",
      "epoch: 265, Train error: 0.163, Train accuracy: 0.942\n",
      "epoch: 266, Train error: 0.163, Train accuracy: 0.943\n",
      "epoch: 267, Train error: 0.163, Train accuracy: 0.943\n",
      "epoch: 268, Train error: 0.162, Train accuracy: 0.943\n",
      "epoch: 269, Train error: 0.162, Train accuracy: 0.943\n",
      "epoch: 270, Train error: 0.162, Train accuracy: 0.943\n",
      "epoch: 271, Train error: 0.161, Train accuracy: 0.943\n",
      "epoch: 272, Train error: 0.161, Train accuracy: 0.943\n",
      "epoch: 273, Train error: 0.160, Train accuracy: 0.943\n",
      "epoch: 274, Train error: 0.160, Train accuracy: 0.943\n",
      "epoch: 275, Train error: 0.160, Train accuracy: 0.944\n",
      "epoch: 276, Train error: 0.159, Train accuracy: 0.944\n",
      "epoch: 277, Train error: 0.159, Train accuracy: 0.944\n",
      "epoch: 278, Train error: 0.159, Train accuracy: 0.944\n",
      "epoch: 279, Train error: 0.158, Train accuracy: 0.944\n",
      "epoch: 280, Train error: 0.158, Train accuracy: 0.945\n",
      "epoch: 281, Train error: 0.158, Train accuracy: 0.945\n",
      "epoch: 282, Train error: 0.157, Train accuracy: 0.945\n",
      "epoch: 283, Train error: 0.157, Train accuracy: 0.945\n",
      "epoch: 284, Train error: 0.157, Train accuracy: 0.945\n",
      "epoch: 285, Train error: 0.156, Train accuracy: 0.945\n",
      "epoch: 286, Train error: 0.156, Train accuracy: 0.945\n",
      "epoch: 287, Train error: 0.156, Train accuracy: 0.945\n",
      "epoch: 288, Train error: 0.155, Train accuracy: 0.946\n",
      "epoch: 289, Train error: 0.155, Train accuracy: 0.946\n",
      "epoch: 290, Train error: 0.155, Train accuracy: 0.946\n",
      "epoch: 291, Train error: 0.154, Train accuracy: 0.946\n",
      "epoch: 292, Train error: 0.154, Train accuracy: 0.946\n",
      "epoch: 293, Train error: 0.154, Train accuracy: 0.946\n",
      "epoch: 294, Train error: 0.153, Train accuracy: 0.946\n",
      "epoch: 295, Train error: 0.153, Train accuracy: 0.946\n",
      "epoch: 296, Train error: 0.153, Train accuracy: 0.947\n",
      "epoch: 297, Train error: 0.152, Train accuracy: 0.947\n",
      "epoch: 298, Train error: 0.152, Train accuracy: 0.947\n",
      "epoch: 299, Train error: 0.152, Train accuracy: 0.947\n",
      "epoch: 300, Train error: 0.151, Train accuracy: 0.947\n",
      "epoch: 301, Train error: 0.151, Train accuracy: 0.947\n",
      "epoch: 302, Train error: 0.151, Train accuracy: 0.947\n",
      "epoch: 303, Train error: 0.150, Train accuracy: 0.947\n",
      "epoch: 304, Train error: 0.150, Train accuracy: 0.947\n",
      "epoch: 305, Train error: 0.150, Train accuracy: 0.947\n"
     ]
    },
    {
     "name": "stdout",
     "output_type": "stream",
     "text": [
      "epoch: 306, Train error: 0.149, Train accuracy: 0.947\n",
      "epoch: 307, Train error: 0.149, Train accuracy: 0.948\n",
      "epoch: 308, Train error: 0.149, Train accuracy: 0.948\n",
      "epoch: 309, Train error: 0.148, Train accuracy: 0.948\n",
      "epoch: 310, Train error: 0.148, Train accuracy: 0.948\n",
      "epoch: 311, Train error: 0.148, Train accuracy: 0.948\n",
      "epoch: 312, Train error: 0.147, Train accuracy: 0.948\n",
      "epoch: 313, Train error: 0.147, Train accuracy: 0.948\n",
      "epoch: 314, Train error: 0.147, Train accuracy: 0.948\n",
      "epoch: 315, Train error: 0.146, Train accuracy: 0.949\n",
      "epoch: 316, Train error: 0.146, Train accuracy: 0.949\n",
      "epoch: 317, Train error: 0.146, Train accuracy: 0.949\n",
      "epoch: 318, Train error: 0.146, Train accuracy: 0.949\n",
      "epoch: 319, Train error: 0.145, Train accuracy: 0.949\n",
      "epoch: 320, Train error: 0.145, Train accuracy: 0.949\n",
      "epoch: 321, Train error: 0.145, Train accuracy: 0.949\n",
      "epoch: 322, Train error: 0.144, Train accuracy: 0.949\n",
      "epoch: 323, Train error: 0.144, Train accuracy: 0.950\n",
      "epoch: 324, Train error: 0.144, Train accuracy: 0.949\n",
      "epoch: 325, Train error: 0.143, Train accuracy: 0.950\n",
      "epoch: 326, Train error: 0.143, Train accuracy: 0.950\n",
      "epoch: 327, Train error: 0.143, Train accuracy: 0.950\n",
      "epoch: 328, Train error: 0.143, Train accuracy: 0.950\n",
      "epoch: 329, Train error: 0.142, Train accuracy: 0.950\n",
      "epoch: 330, Train error: 0.142, Train accuracy: 0.950\n",
      "epoch: 331, Train error: 0.142, Train accuracy: 0.950\n",
      "epoch: 332, Train error: 0.141, Train accuracy: 0.951\n",
      "epoch: 333, Train error: 0.141, Train accuracy: 0.951\n",
      "epoch: 334, Train error: 0.141, Train accuracy: 0.951\n",
      "epoch: 335, Train error: 0.140, Train accuracy: 0.951\n",
      "epoch: 336, Train error: 0.140, Train accuracy: 0.951\n",
      "epoch: 337, Train error: 0.140, Train accuracy: 0.951\n",
      "epoch: 338, Train error: 0.140, Train accuracy: 0.951\n",
      "epoch: 339, Train error: 0.139, Train accuracy: 0.951\n",
      "epoch: 340, Train error: 0.139, Train accuracy: 0.951\n",
      "epoch: 341, Train error: 0.139, Train accuracy: 0.952\n",
      "epoch: 342, Train error: 0.138, Train accuracy: 0.952\n",
      "epoch: 343, Train error: 0.138, Train accuracy: 0.952\n",
      "epoch: 344, Train error: 0.138, Train accuracy: 0.952\n",
      "epoch: 345, Train error: 0.138, Train accuracy: 0.952\n",
      "epoch: 346, Train error: 0.137, Train accuracy: 0.952\n",
      "epoch: 347, Train error: 0.137, Train accuracy: 0.952\n",
      "epoch: 348, Train error: 0.137, Train accuracy: 0.952\n",
      "epoch: 349, Train error: 0.137, Train accuracy: 0.952\n",
      "epoch: 350, Train error: 0.136, Train accuracy: 0.952\n",
      "epoch: 351, Train error: 0.136, Train accuracy: 0.952\n",
      "epoch: 352, Train error: 0.136, Train accuracy: 0.952\n",
      "epoch: 353, Train error: 0.135, Train accuracy: 0.953\n",
      "epoch: 354, Train error: 0.135, Train accuracy: 0.953\n",
      "epoch: 355, Train error: 0.135, Train accuracy: 0.953\n",
      "epoch: 356, Train error: 0.135, Train accuracy: 0.953\n",
      "epoch: 357, Train error: 0.134, Train accuracy: 0.953\n",
      "epoch: 358, Train error: 0.134, Train accuracy: 0.953\n",
      "epoch: 359, Train error: 0.134, Train accuracy: 0.953\n",
      "epoch: 360, Train error: 0.134, Train accuracy: 0.953\n",
      "epoch: 361, Train error: 0.133, Train accuracy: 0.953\n",
      "epoch: 362, Train error: 0.133, Train accuracy: 0.954\n",
      "epoch: 363, Train error: 0.133, Train accuracy: 0.954\n",
      "epoch: 364, Train error: 0.133, Train accuracy: 0.954\n",
      "epoch: 365, Train error: 0.132, Train accuracy: 0.954\n",
      "epoch: 366, Train error: 0.132, Train accuracy: 0.954\n",
      "epoch: 367, Train error: 0.132, Train accuracy: 0.954\n",
      "epoch: 368, Train error: 0.132, Train accuracy: 0.954\n",
      "epoch: 369, Train error: 0.131, Train accuracy: 0.954\n",
      "epoch: 370, Train error: 0.131, Train accuracy: 0.954\n",
      "epoch: 371, Train error: 0.131, Train accuracy: 0.955\n",
      "epoch: 372, Train error: 0.130, Train accuracy: 0.955\n",
      "epoch: 373, Train error: 0.130, Train accuracy: 0.955\n",
      "epoch: 374, Train error: 0.130, Train accuracy: 0.955\n",
      "epoch: 375, Train error: 0.130, Train accuracy: 0.955\n",
      "epoch: 376, Train error: 0.129, Train accuracy: 0.955\n",
      "epoch: 377, Train error: 0.129, Train accuracy: 0.955\n",
      "epoch: 378, Train error: 0.129, Train accuracy: 0.955\n",
      "epoch: 379, Train error: 0.129, Train accuracy: 0.955\n",
      "epoch: 380, Train error: 0.128, Train accuracy: 0.955\n",
      "epoch: 381, Train error: 0.128, Train accuracy: 0.955\n",
      "epoch: 382, Train error: 0.128, Train accuracy: 0.956\n",
      "epoch: 383, Train error: 0.128, Train accuracy: 0.956\n",
      "epoch: 384, Train error: 0.127, Train accuracy: 0.956\n",
      "epoch: 385, Train error: 0.127, Train accuracy: 0.956\n",
      "epoch: 386, Train error: 0.127, Train accuracy: 0.956\n",
      "epoch: 387, Train error: 0.127, Train accuracy: 0.956\n",
      "epoch: 388, Train error: 0.126, Train accuracy: 0.956\n",
      "epoch: 389, Train error: 0.126, Train accuracy: 0.956\n",
      "epoch: 390, Train error: 0.126, Train accuracy: 0.956\n",
      "epoch: 391, Train error: 0.126, Train accuracy: 0.956\n",
      "epoch: 392, Train error: 0.125, Train accuracy: 0.956\n",
      "epoch: 393, Train error: 0.125, Train accuracy: 0.957\n",
      "epoch: 394, Train error: 0.125, Train accuracy: 0.957\n",
      "epoch: 395, Train error: 0.125, Train accuracy: 0.957\n",
      "epoch: 396, Train error: 0.125, Train accuracy: 0.957\n",
      "epoch: 397, Train error: 0.124, Train accuracy: 0.957\n",
      "epoch: 398, Train error: 0.124, Train accuracy: 0.957\n",
      "epoch: 399, Train error: 0.124, Train accuracy: 0.957\n",
      "epoch: 400, Train error: 0.124, Train accuracy: 0.957\n",
      "epoch: 401, Train error: 0.123, Train accuracy: 0.957\n",
      "epoch: 402, Train error: 0.123, Train accuracy: 0.957\n",
      "epoch: 403, Train error: 0.123, Train accuracy: 0.957\n",
      "epoch: 404, Train error: 0.123, Train accuracy: 0.957\n",
      "epoch: 405, Train error: 0.122, Train accuracy: 0.958\n",
      "epoch: 406, Train error: 0.122, Train accuracy: 0.958\n",
      "epoch: 407, Train error: 0.122, Train accuracy: 0.958\n",
      "epoch: 408, Train error: 0.122, Train accuracy: 0.958\n",
      "epoch: 409, Train error: 0.121, Train accuracy: 0.958\n",
      "epoch: 410, Train error: 0.121, Train accuracy: 0.958\n",
      "epoch: 411, Train error: 0.121, Train accuracy: 0.958\n",
      "epoch: 412, Train error: 0.121, Train accuracy: 0.958\n",
      "epoch: 413, Train error: 0.121, Train accuracy: 0.958\n",
      "epoch: 414, Train error: 0.120, Train accuracy: 0.958\n",
      "epoch: 415, Train error: 0.120, Train accuracy: 0.958\n",
      "epoch: 416, Train error: 0.120, Train accuracy: 0.958\n",
      "epoch: 417, Train error: 0.120, Train accuracy: 0.959\n",
      "epoch: 418, Train error: 0.119, Train accuracy: 0.959\n",
      "epoch: 419, Train error: 0.119, Train accuracy: 0.959\n",
      "epoch: 420, Train error: 0.119, Train accuracy: 0.959\n",
      "epoch: 421, Train error: 0.119, Train accuracy: 0.959\n",
      "epoch: 422, Train error: 0.119, Train accuracy: 0.959\n",
      "epoch: 423, Train error: 0.118, Train accuracy: 0.959\n",
      "epoch: 424, Train error: 0.118, Train accuracy: 0.959\n",
      "epoch: 425, Train error: 0.118, Train accuracy: 0.959\n",
      "epoch: 426, Train error: 0.118, Train accuracy: 0.959\n",
      "epoch: 427, Train error: 0.117, Train accuracy: 0.959\n",
      "epoch: 428, Train error: 0.117, Train accuracy: 0.959\n",
      "epoch: 429, Train error: 0.117, Train accuracy: 0.959\n",
      "epoch: 430, Train error: 0.117, Train accuracy: 0.960\n",
      "epoch: 431, Train error: 0.117, Train accuracy: 0.960\n",
      "epoch: 432, Train error: 0.116, Train accuracy: 0.960\n",
      "epoch: 433, Train error: 0.116, Train accuracy: 0.960\n",
      "epoch: 434, Train error: 0.116, Train accuracy: 0.960\n",
      "epoch: 435, Train error: 0.116, Train accuracy: 0.960\n",
      "epoch: 436, Train error: 0.115, Train accuracy: 0.960\n",
      "epoch: 437, Train error: 0.115, Train accuracy: 0.960\n",
      "epoch: 438, Train error: 0.115, Train accuracy: 0.960\n",
      "epoch: 439, Train error: 0.115, Train accuracy: 0.960\n",
      "epoch: 440, Train error: 0.115, Train accuracy: 0.961\n",
      "epoch: 441, Train error: 0.114, Train accuracy: 0.960\n",
      "epoch: 442, Train error: 0.114, Train accuracy: 0.961\n",
      "epoch: 443, Train error: 0.114, Train accuracy: 0.961\n",
      "epoch: 444, Train error: 0.114, Train accuracy: 0.961\n",
      "epoch: 445, Train error: 0.114, Train accuracy: 0.961\n",
      "epoch: 446, Train error: 0.113, Train accuracy: 0.961\n",
      "epoch: 447, Train error: 0.113, Train accuracy: 0.961\n",
      "epoch: 448, Train error: 0.113, Train accuracy: 0.961\n",
      "epoch: 449, Train error: 0.113, Train accuracy: 0.961\n",
      "epoch: 450, Train error: 0.112, Train accuracy: 0.961\n",
      "epoch: 451, Train error: 0.112, Train accuracy: 0.961\n",
      "epoch: 452, Train error: 0.112, Train accuracy: 0.961\n",
      "epoch: 453, Train error: 0.112, Train accuracy: 0.961\n",
      "epoch: 454, Train error: 0.112, Train accuracy: 0.961\n",
      "epoch: 455, Train error: 0.111, Train accuracy: 0.961\n",
      "epoch: 456, Train error: 0.111, Train accuracy: 0.961\n",
      "epoch: 457, Train error: 0.111, Train accuracy: 0.961\n"
     ]
    },
    {
     "name": "stdout",
     "output_type": "stream",
     "text": [
      "epoch: 458, Train error: 0.111, Train accuracy: 0.962\n",
      "epoch: 459, Train error: 0.111, Train accuracy: 0.962\n",
      "epoch: 460, Train error: 0.110, Train accuracy: 0.962\n",
      "epoch: 461, Train error: 0.110, Train accuracy: 0.962\n",
      "epoch: 462, Train error: 0.110, Train accuracy: 0.962\n",
      "epoch: 463, Train error: 0.110, Train accuracy: 0.962\n",
      "epoch: 464, Train error: 0.109, Train accuracy: 0.962\n",
      "epoch: 465, Train error: 0.109, Train accuracy: 0.962\n",
      "epoch: 466, Train error: 0.109, Train accuracy: 0.962\n",
      "epoch: 467, Train error: 0.109, Train accuracy: 0.962\n",
      "epoch: 468, Train error: 0.109, Train accuracy: 0.962\n",
      "epoch: 469, Train error: 0.108, Train accuracy: 0.962\n",
      "epoch: 470, Train error: 0.108, Train accuracy: 0.963\n",
      "epoch: 471, Train error: 0.108, Train accuracy: 0.963\n",
      "epoch: 472, Train error: 0.108, Train accuracy: 0.963\n",
      "epoch: 473, Train error: 0.108, Train accuracy: 0.963\n",
      "epoch: 474, Train error: 0.108, Train accuracy: 0.963\n",
      "epoch: 475, Train error: 0.107, Train accuracy: 0.963\n",
      "epoch: 476, Train error: 0.107, Train accuracy: 0.963\n",
      "epoch: 477, Train error: 0.107, Train accuracy: 0.963\n",
      "epoch: 478, Train error: 0.107, Train accuracy: 0.963\n",
      "epoch: 479, Train error: 0.106, Train accuracy: 0.963\n",
      "epoch: 480, Train error: 0.106, Train accuracy: 0.964\n",
      "epoch: 481, Train error: 0.106, Train accuracy: 0.964\n",
      "epoch: 482, Train error: 0.106, Train accuracy: 0.964\n",
      "epoch: 483, Train error: 0.106, Train accuracy: 0.964\n",
      "epoch: 484, Train error: 0.106, Train accuracy: 0.964\n",
      "epoch: 485, Train error: 0.105, Train accuracy: 0.964\n",
      "epoch: 486, Train error: 0.105, Train accuracy: 0.964\n",
      "epoch: 487, Train error: 0.105, Train accuracy: 0.964\n",
      "epoch: 488, Train error: 0.105, Train accuracy: 0.964\n",
      "epoch: 489, Train error: 0.105, Train accuracy: 0.964\n",
      "epoch: 490, Train error: 0.104, Train accuracy: 0.964\n",
      "epoch: 491, Train error: 0.104, Train accuracy: 0.964\n",
      "epoch: 492, Train error: 0.104, Train accuracy: 0.964\n",
      "epoch: 493, Train error: 0.104, Train accuracy: 0.964\n",
      "epoch: 494, Train error: 0.104, Train accuracy: 0.964\n",
      "epoch: 495, Train error: 0.103, Train accuracy: 0.965\n",
      "epoch: 496, Train error: 0.103, Train accuracy: 0.965\n",
      "epoch: 497, Train error: 0.103, Train accuracy: 0.965\n",
      "epoch: 498, Train error: 0.103, Train accuracy: 0.965\n",
      "epoch: 499, Train error: 0.103, Train accuracy: 0.965\n"
     ]
    }
   ],
   "source": [
    "for epoch in range(max_epoch):\n",
    "    train_error = 0\n",
    "    train_accuracy = 0\n",
    "    \n",
    "    for i in range(train_steps):\n",
    "        batch_start = i * batch_size\n",
    "        batch_end = (i+1) * batch_size\n",
    "        \n",
    "        input = train_dataset[batch_start:batch_end]\n",
    "        true = train_labels[batch_start:batch_end]\n",
    "        \n",
    "        #Forward pass\n",
    "        layer1.forward(input)\n",
    "        activation1.forward(layer1.output)\n",
    "        layer2.forward(activation1.output)\n",
    "        train_error += loss.forward(layer2.output, true) / train_steps\n",
    "        train_accuracy += accuracy.calculate(layer2.output, true) / train_steps\n",
    "        \n",
    "        #Backward pass\n",
    "        loss.backward(loss.activation.output, true)\n",
    "        layer2.backward(loss.dresults)\n",
    "        activation1.backward(layer2.dresults)\n",
    "        layer1.backward(activation1.dresults)\n",
    "\n",
    "\n",
    "        optimizer.update_parameters(layer2)\n",
    "        optimizer.update_parameters(layer1)\n",
    "    \n",
    "    print(f'epoch: {epoch},',\n",
    "          f'Train error: {train_error:.3f},',\n",
    "          f'Train accuracy: {train_accuracy:.3f}')"
   ]
  },
  {
   "cell_type": "markdown",
   "id": "3b236fa4",
   "metadata": {},
   "source": [
    "### Testing the model"
   ]
  },
  {
   "cell_type": "code",
   "execution_count": 28,
   "id": "3253f918",
   "metadata": {},
   "outputs": [],
   "source": [
    "test_steps = len(test_dataset) // batch_size\n",
    "if test_steps * batch_size < len(test_dataset):\n",
    "    test_steps += 1"
   ]
  },
  {
   "cell_type": "code",
   "execution_count": 29,
   "id": "66c60452",
   "metadata": {},
   "outputs": [],
   "source": [
    "test_error = 0\n",
    "test_accuracy = 0\n",
    "\n",
    "for i in range(test_steps):\n",
    "    batch_start = i * batch_size\n",
    "    batch_end = (i+1) * batch_size\n",
    "    \n",
    "    input = test_dataset[batch_start:batch_end]\n",
    "    true = test_labels[batch_start:batch_end]\n",
    "    \n",
    "    layer1.forward(input)\n",
    "    activation1.forward(layer1.output)\n",
    "    layer2.forward(activation1.output)\n",
    "    test_error += loss.forward(layer2.output, true) / test_steps\n",
    "    test_accuracy += accuracy.calculate(layer2.output, true) / test_steps"
   ]
  },
  {
   "cell_type": "code",
   "execution_count": 30,
   "id": "7df841a0",
   "metadata": {},
   "outputs": [
    {
     "name": "stdout",
     "output_type": "stream",
     "text": [
      "Test error: 1.211, Test accuracy: 0.843\n"
     ]
    }
   ],
   "source": [
    "print(f'Test error: {test_error:.3f},',\n",
    "      f'Test accuracy: {test_accuracy:.3f}')"
   ]
  },
  {
   "cell_type": "code",
   "execution_count": 55,
   "id": "e68d083d",
   "metadata": {},
   "outputs": [
    {
     "data": {
      "text/plain": [
       "3056"
      ]
     },
     "execution_count": 55,
     "metadata": {},
     "output_type": "execute_result"
    }
   ],
   "source": [
    "random_idx = np.random.randint(len(test_dataset))\n",
    "random_idx"
   ]
  },
  {
   "cell_type": "code",
   "execution_count": 56,
   "id": "ae004f4e",
   "metadata": {},
   "outputs": [],
   "source": [
    "test_input = test_dataset[random_idx]\n",
    "test_label = test_labels[random_idx]"
   ]
  },
  {
   "cell_type": "code",
   "execution_count": 57,
   "id": "fe60cf07",
   "metadata": {},
   "outputs": [
    {
     "data": {
      "text/plain": [
       "4.974969827525924e-05"
      ]
     },
     "execution_count": 57,
     "metadata": {},
     "output_type": "execute_result"
    }
   ],
   "source": [
    "layer1.forward(test_input)\n",
    "activation1.forward(layer1.output)\n",
    "layer2.forward(activation1.output)\n",
    "loss.forward(layer2.output, test_label)"
   ]
  },
  {
   "cell_type": "code",
   "execution_count": 58,
   "id": "0f5f96f0",
   "metadata": {},
   "outputs": [
    {
     "name": "stdout",
     "output_type": "stream",
     "text": [
      "true: 3 class: Dress \n",
      "pred: 3 class: Dress\n"
     ]
    },
    {
     "data": {
      "image/png": "[encoded data removed]",
      "text/plain": [
       "<Figure size 432x288 with 1 Axes>"
      ]
     },
     "metadata": {
      "needs_background": "light"
     },
     "output_type": "display_data"
    }
   ],
   "source": [
    "test_label = np.argmax(test_label)\n",
    "test_pred = np.argmax(loss.activation.output)\n",
    "print(f'true: {test_label}',\n",
    "      f'class: {classes[test_label]}',\n",
    "      f'\\npred: {test_pred}',\n",
    "      f'class: {classes[test_pred]}')\n",
    "img = test_input.reshape((28, 28))\n",
    "plt.imshow(img, cmap='gray')\n",
    "plt.show()"
   ]
  }
 ],
 "metadata": {
  "kernelspec": {
   "display_name": "Python 3",
   "language": "python",
   "name": "python3"
  },
  "language_info": {
   "codemirror_mode": {
    "name": "ipython",
    "version": 3
   },
   "file_extension": ".py",
   "mimetype": "text/x-python",
   "name": "python",
   "nbconvert_exporter": "python",
   "pygments_lexer": "ipython3",
   "version": "3.9.5"
  }
 },
 "nbformat": 4,
 "nbformat_minor": 5
}

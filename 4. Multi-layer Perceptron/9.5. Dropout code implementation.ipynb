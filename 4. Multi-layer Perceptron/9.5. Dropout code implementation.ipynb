{
 "cells": [
  {
   "cell_type": "markdown",
   "id": "211f9c01",
   "metadata": {},
   "source": [
    "# Deep Learning - 1"
   ]
  },
  {
   "cell_type": "markdown",
   "id": "649f7822",
   "metadata": {},
   "source": [
    "## Chapter 4: Multi-layer Perceptron"
   ]
  },
  {
   "cell_type": "markdown",
   "id": "592d6d6e",
   "metadata": {},
   "source": [
    "### Dropout code implementation"
   ]
  },
  {
   "cell_type": "markdown",
   "id": "b0a24843",
   "metadata": {},
   "source": [
    "---------------"
   ]
  },
  {
   "cell_type": "markdown",
   "id": "02f0ca82",
   "metadata": {},
   "source": [
    "### Import"
   ]
  },
  {
   "cell_type": "code",
   "execution_count": 3,
   "id": "fca357a3",
   "metadata": {},
   "outputs": [],
   "source": [
    "import numpy as np\n",
    "import os\n",
    "import cv2\n",
    "import matplotlib.pyplot as plt"
   ]
  },
  {
   "cell_type": "markdown",
   "id": "a0a494e6",
   "metadata": {},
   "source": [
    "<img src=\"images/layer.png\" alt=\"Drawing\" width=\"1000\"/>"
   ]
  },
  {
   "cell_type": "markdown",
   "id": "c2b879cc",
   "metadata": {},
   "source": [
    "### Layer"
   ]
  },
  {
   "cell_type": "markdown",
   "id": "a83e1ef8",
   "metadata": {},
   "source": [
    "#### Linear layer"
   ]
  },
  {
   "cell_type": "code",
   "execution_count": 3,
   "id": "d55c27a3",
   "metadata": {},
   "outputs": [],
   "source": [
    "class Layer_Linear:\n",
    "    \"\"\"Representing a linear layer\"\"\"\n",
    "    \n",
    "    def __init__(self, n_inputs, n_outputs):\n",
    "        \"\"\"Initlize weights and bias\"\"\"\n",
    "        self.weights = np.random.randn(n_inputs, n_outputs)\n",
    "        self.biases = np.zeros((1, n_outputs))\n",
    "    \n",
    "    def forward(self, inputs):\n",
    "        \"\"\"\n",
    "        It multiplies the inputs by the weights \n",
    "        and then sums them, and then sums bias.\n",
    "        \"\"\"\n",
    "        #To calculate gradient, remembering input values\n",
    "        self.inputs = inputs\n",
    "        #Calculate outputs' values\n",
    "        self.output = np.dot(inputs, self.weights) + self.biases\n",
    "    \n",
    "    def backward(self, dvalues):\n",
    "        \"\"\"Gradient with respect to parameters\"\"\"\n",
    "        self.dweights = np.dot(self.inputs.T, dvalues)\n",
    "        self.dbiases = np.sum(dvalues, axis=0, keepdims=True)\n",
    "        self.dresults = np.dot(dvalues, self.weights.T)"
   ]
  },
  {
   "cell_type": "markdown",
   "id": "fea5bd07",
   "metadata": {},
   "source": [
    "#### Dropout layer"
   ]
  },
  {
   "cell_type": "code",
   "execution_count": 4,
   "id": "718a3976",
   "metadata": {},
   "outputs": [],
   "source": [
    "class Layer_Dropout:\n",
    "    \"\"\"Representing a dropout layer\"\"\"\n",
    "    \n",
    "    def __init__(self, rate):\n",
    "        \"\"\"Initlize the success rate of binomial distribution\"\"\"\n",
    "        self.rate = 1 - rate\n",
    "    \n",
    "    def forward(self, inputs):\n",
    "        \"\"\"\n",
    "        Generate the scaled mask and then\n",
    "        apply the mask to the inputs values\n",
    "        \"\"\"\n",
    "        #Generate the scaled mask\n",
    "        self.scaled_mask = np.random.binomial(1, self.rate,\n",
    "                                             size=inputs.shape) / self.rate\n",
    "        #Calculate outputs' values\n",
    "        self.output = inputs * self.scaled_mask"
   ]
  },
  {
   "cell_type": "code",
   "execution_count": 13,
   "id": "24c6ff17",
   "metadata": {},
   "outputs": [],
   "source": [
    "relu_output = np.array([[1, 2, 3],\n",
    "                        [4, 5, 6]])\n",
    "dropout1 = Layer_Dropout(0.5)\n",
    "dropout1.forward(relu_output)"
   ]
  },
  {
   "cell_type": "code",
   "execution_count": 14,
   "id": "f4021626",
   "metadata": {},
   "outputs": [
    {
     "data": {
      "text/plain": [
       "array([[ 0.,  0.,  6.],\n",
       "       [ 8., 10.,  0.]])"
      ]
     },
     "execution_count": 14,
     "metadata": {},
     "output_type": "execute_result"
    }
   ],
   "source": [
    "dropout1.output"
   ]
  },
  {
   "cell_type": "markdown",
   "id": "09103fd1",
   "metadata": {},
   "source": [
    "### Activation functions"
   ]
  },
  {
   "cell_type": "markdown",
   "id": "149c787f",
   "metadata": {},
   "source": [
    "#### Softmax Activation function"
   ]
  },
  {
   "cell_type": "markdown",
   "id": "a31d7786",
   "metadata": {},
   "source": [
    "<img src=\"images/softmax.png\" alt=\"Drawing\" width=\"500\"/>"
   ]
  },
  {
   "cell_type": "code",
   "execution_count": 4,
   "id": "820a4706",
   "metadata": {},
   "outputs": [],
   "source": [
    "class Activation_Softmax:\n",
    "    \"\"\"Softmax activation\"\"\"\n",
    "    \n",
    "    def forward(self, inputs):\n",
    "        \"\"\"Forward pass\"\"\"\n",
    "        \n",
    "        #Compute e^x for each element of inputs\n",
    "        #Due to the overflow error, \n",
    "        #Maximum value of per sample subtract from each row\n",
    "        exp_values = np.exp(inputs - np.max(inputs, axis=1,\n",
    "                                           keepdims=True))\n",
    "        \n",
    "        #Normalize them for each batch\n",
    "        self.output = exp_values / np.sum(exp_values, \n",
    "                                          axis=1, keepdims=True)\n",
    "    \n",
    "    def backward(self, dvalues):\n",
    "        \"\"\"Gradient softmax\"\"\"\n",
    "        \n",
    "        #Initialize an array\n",
    "        self.dresults = np.zeros(dvalues.shape)\n",
    "        \n",
    "        for i in range(len(dvalues)):\n",
    "            #Reshape the single output\n",
    "            single_output = self.output[i].reshape(-1, 1)\n",
    "            \n",
    "            #Calculate Jacobian matrix of the single output\n",
    "            jacobian_matrix = np.diagflat(single_output) - \\\n",
    "                                np.dot(single_output, single_output.T)\n",
    "            \n",
    "            #Multiply the Jacobian matrix by the loss function derivative\n",
    "            self.dresults[i] = np.dot(jacobian_matrix, dvalues[i])"
   ]
  },
  {
   "cell_type": "markdown",
   "id": "d5e25066",
   "metadata": {},
   "source": [
    "#### ReLU Activation function"
   ]
  },
  {
   "cell_type": "code",
   "execution_count": 5,
   "id": "000d3640",
   "metadata": {},
   "outputs": [],
   "source": [
    "class Activation_ReLU:\n",
    "    \"\"\"ReLU activation\"\"\"\n",
    "    \n",
    "    def forward(self, inputs):\n",
    "        \"\"\"Forward pass\"\"\"\n",
    "        \n",
    "        #To calculate gradient, remembering input values\n",
    "        self.inputs = inputs\n",
    "        \n",
    "        #Calculate outputs' values\n",
    "        self.output = np.maximum(0, inputs)\n",
    "        \n",
    "    def backward(self, dvalues):\n",
    "        \"\"\"Backward pass\"\"\"\n",
    "        \n",
    "        self.dresults = self.inputs > 0\n",
    "        self.dresults = self.dresults * dvalues"
   ]
  },
  {
   "cell_type": "markdown",
   "id": "325b26d3",
   "metadata": {},
   "source": [
    "### Loss"
   ]
  },
  {
   "cell_type": "markdown",
   "id": "b268858f",
   "metadata": {},
   "source": [
    "#### MSE"
   ]
  },
  {
   "cell_type": "code",
   "execution_count": 6,
   "id": "5529a656",
   "metadata": {},
   "outputs": [],
   "source": [
    "class Loss_MSE():\n",
    "    \"\"\"MSE Loss function\"\"\"\n",
    "    \n",
    "    def forward(self, y_pred, y_true):\n",
    "        \"\"\"Forward pass\"\"\"     \n",
    "        error = np.mean((y_pred - y_true) ** 2)\n",
    "        return error\n",
    "    \n",
    "    def backward(self, y_pred, y_true):\n",
    "        \"\"\"Derivative of MSE with respect to preds\"\"\"\n",
    "        \n",
    "        #Number of samples\n",
    "        samples = len(y_pred)\n",
    "        \n",
    "        #Number of output nodes\n",
    "        outputs = len(y_pred[0])\n",
    "        \n",
    "        #Derivative of MSE\n",
    "        self.dresults = 2 * (y_pred - y_true) / (outputs * samples)"
   ]
  },
  {
   "cell_type": "markdown",
   "id": "9a8e8970",
   "metadata": {},
   "source": [
    "#### Categorical Cross-entropy"
   ]
  },
  {
   "cell_type": "code",
   "execution_count": 7,
   "id": "07e2403a",
   "metadata": {},
   "outputs": [],
   "source": [
    "class Loss_CategoricalCrossEntropy():\n",
    "    \"\"\"Cross entropy Loss function\"\"\"\n",
    "    \n",
    "    def forward(self, y_pred, y_true):\n",
    "        \"\"\"Forward pass\"\"\"\n",
    "        y_pred += 1e-10\n",
    "        y_pred = np.clip(y_pred, None, 1)\n",
    "        true_prediction = np.sum(y_pred * y_true, axis=1)\n",
    "        error = np.mean(-np.log(true_prediction)) \n",
    "        return error\n",
    "    \n",
    "    def backward(self, y_pred, y_true):\n",
    "        \"\"\"Derivative of CCE with respect to preds\"\"\"\n",
    "        \n",
    "        #Number of samples\n",
    "        samples = len(y_pred)\n",
    "        \n",
    "        self.dresults = -y_true / (y_pred * samples)"
   ]
  },
  {
   "cell_type": "markdown",
   "id": "38650268",
   "metadata": {},
   "source": [
    "#### Categorical Cross-entropy + Softmax "
   ]
  },
  {
   "cell_type": "code",
   "execution_count": 8,
   "id": "24017a33",
   "metadata": {},
   "outputs": [],
   "source": [
    "class Loss_CategoricalCrossEntropy_Activation_SoftMax:\n",
    "    \"\"\"Cateogircal cross entropy loss and SoftMax function\"\"\"\n",
    "    \n",
    "    def __init__(self):\n",
    "        \"\"\"Initialize Softmax and CCE loss\"\"\"\n",
    "        self.activation = Activation_Softmax()\n",
    "        self.loss = Loss_CategoricalCrossEntropy()\n",
    "        \n",
    "    def forward(self, inputs, y_true):\n",
    "        \"\"\"Forward pass\"\"\"\n",
    "        self.activation.forward(inputs)\n",
    "        return self.loss.forward(self.activation.output, y_true)\n",
    "    \n",
    "    def backward(self, y_pred, y_true):\n",
    "        \"\"\"Gradient of Categorical cross entropy + Softmax activation\"\"\"\n",
    "        samples = len(y_pred)\n",
    "        \n",
    "        self.dresults = (y_pred - y_true) / samples        "
   ]
  },
  {
   "cell_type": "markdown",
   "id": "ae60fe79",
   "metadata": {},
   "source": [
    "### Accuracy"
   ]
  },
  {
   "cell_type": "code",
   "execution_count": 9,
   "id": "8e5b134b",
   "metadata": {},
   "outputs": [],
   "source": [
    "class Accuracy_Categorical:\n",
    "    \"\"\"Accuracy calculation for classification\"\"\"\n",
    "    \n",
    "    def calculate(self, y_pred, y_true):\n",
    "        \"\"\"Calculate the accuracy\"\"\"\n",
    "        \n",
    "        true = np.argmax(y_true, axis=1)\n",
    "        pred = np.argmax(y_pred, axis=1)\n",
    "        comparisons = true == pred\n",
    "        \n",
    "        accuracy = np.mean(comparisons)\n",
    "        \n",
    "        return accuracy"
   ]
  },
  {
   "cell_type": "markdown",
   "id": "3d926f58",
   "metadata": {},
   "source": [
    "### Optimizer"
   ]
  },
  {
   "cell_type": "markdown",
   "id": "aa8a3dfc",
   "metadata": {},
   "source": [
    "#### Gradient descent "
   ]
  },
  {
   "cell_type": "code",
   "execution_count": 10,
   "id": "e4d350dd",
   "metadata": {},
   "outputs": [],
   "source": [
    "class Optimizer_GD:\n",
    "    \"\"\"Gradient descent optimizer\"\"\"\n",
    "    \n",
    "    def __init__(self, alpha=1.):\n",
    "        \"\"\"Initialize hyperparameters\"\"\"\n",
    "        self.alpha = alpha\n",
    "\n",
    "    def update_parameters(self, layer):\n",
    "        \"\"\"Update parameters\"\"\"\n",
    "        weights_delta = layer.dweights * self.alpha\n",
    "        biases_delta = layer.dbiases * self.alpha\n",
    "        \n",
    "        #Update parameters\n",
    "        layer.weights -= weights_delta\n",
    "        layer.biases -= biases_delta"
   ]
  },
  {
   "cell_type": "markdown",
   "id": "3e6ba5dc",
   "metadata": {},
   "source": [
    "### Scaler"
   ]
  },
  {
   "cell_type": "markdown",
   "id": "9912b52d",
   "metadata": {},
   "source": [
    "#### Standard Scaler"
   ]
  },
  {
   "cell_type": "code",
   "execution_count": 11,
   "id": "b97eddea",
   "metadata": {},
   "outputs": [],
   "source": [
    "class Scaler_Standard:\n",
    "    \"\"\"Standard scaler\"\"\"\n",
    "    \n",
    "    def fit(self, data):\n",
    "        \"\"\"Find mean and std values\"\"\"\n",
    "        self.means = data.mean(axis=0)\n",
    "        self.stds = data.std(axis=0)\n",
    "        return self\n",
    "    \n",
    "    def transform(self, data):\n",
    "        \"\"\"Transforming data\"\"\"\n",
    "        return (data - self.means) / self.stds\n",
    "    \n",
    "    def fit_transform(self, data):\n",
    "        \"\"\"Fit and transform data\"\"\"\n",
    "        return self.fit(data).transform(data)"
   ]
  },
  {
   "cell_type": "markdown",
   "id": "6c850cf2",
   "metadata": {},
   "source": [
    "#### MinMax Scaler"
   ]
  },
  {
   "cell_type": "code",
   "execution_count": 12,
   "id": "7e5c1fdd",
   "metadata": {},
   "outputs": [],
   "source": [
    "class Scaler_MinMax:\n",
    "    \"\"\"MinMax scaler\"\"\"\n",
    "    \n",
    "    def __init__(self, feature_range=(0,1)):\n",
    "        \"\"\"Initialize the feature range\"\"\"\n",
    "        self.low, self.high = feature_range\n",
    "    \n",
    "    def fit(self, data):\n",
    "        \"\"\"Find min and max values\"\"\"\n",
    "        self.min = data.min(axis=0)\n",
    "        self.max = data.max(axis=0)\n",
    "        return self\n",
    "    \n",
    "    def transform(self, data):\n",
    "        \"\"\"Transforming data\"\"\"\n",
    "        data_std = (data - self.min) / (self.max - self.min)\n",
    "        return data_std * (self.high - self.low) + self.low\n",
    "    \n",
    "    def fit_transform(self, data):\n",
    "        \"\"\"Fit and transform data\"\"\"\n",
    "        return self.fit(data).transform(data)"
   ]
  },
  {
   "cell_type": "markdown",
   "id": "cfa52189",
   "metadata": {},
   "source": [
    "#### Robust Scaler"
   ]
  },
  {
   "cell_type": "code",
   "execution_count": 13,
   "id": "e867d610",
   "metadata": {},
   "outputs": [],
   "source": [
    "class Scaler_Robust:\n",
    "    \"\"\"Robust scaler\"\"\"\n",
    "    \n",
    "    def fit(self, data):\n",
    "        \"\"\"Find median and iqr values\"\"\"\n",
    "        self.medians = np.median(data, axis=0)\n",
    "        self.p75, self.p25 = np.percentile(data, [75 ,25], axis=0)\n",
    "        self.iqr = self.p75 - self.p25\n",
    "        return self\n",
    "    \n",
    "    def transform(self, data):\n",
    "        \"\"\"Transforming data\"\"\"\n",
    "        return (data - self.medians) / self.iqr\n",
    "    \n",
    "    def fit_transform(self, data):\n",
    "        \"\"\"Fit and transform data\"\"\"\n",
    "        return self.fit(data).transform(data)"
   ]
  },
  {
   "cell_type": "markdown",
   "id": "4d3c0507",
   "metadata": {},
   "source": [
    "---------------"
   ]
  },
  {
   "cell_type": "markdown",
   "id": "7059a12c",
   "metadata": {},
   "source": [
    "### Construct Data"
   ]
  },
  {
   "cell_type": "code",
   "execution_count": 14,
   "id": "b843abf7",
   "metadata": {},
   "outputs": [],
   "source": [
    "classes = ('T-shirt', 'Trouser', 'Pullover', 'Dress', 'Coat',\n",
    "           'Sandal', 'Shirt', 'Sneaker', 'Bag', 'Ankle boot')"
   ]
  },
  {
   "cell_type": "code",
   "execution_count": 15,
   "id": "03a14d1b",
   "metadata": {},
   "outputs": [],
   "source": [
    "def load_dataset(path):\n",
    "    \"\"\"\n",
    "    Load the MNIST fashion dataset\n",
    "    Convert the labels into one-hot vectors\n",
    "    \"\"\"\n",
    "\n",
    "    labels = os.listdir(os.path.join(path))\n",
    "    \n",
    "    X = []\n",
    "    Y = []\n",
    "    \n",
    "    for label in labels:\n",
    "        for file in os.listdir(os.path.join(path, label)):\n",
    "            image = cv2.imread(os.path.join(path, label, file),\n",
    "                                  cv2.IMREAD_UNCHANGED)\n",
    "            X.append(image)\n",
    "            Y.append(label)\n",
    "    \n",
    "    \n",
    "    X = np.array(X)\n",
    "    Y = np.array(Y).astype('uint8')\n",
    "    Y = np.eye(len(labels))[Y].astype('uint8')\n",
    "    \n",
    "    return X, Y"
   ]
  },
  {
   "cell_type": "code",
   "execution_count": 16,
   "id": "2b7862d7",
   "metadata": {},
   "outputs": [],
   "source": [
    "train_dataset, train_labels = load_dataset('../dataset/train')\n",
    "test_dataset, test_labels = load_dataset('../dataset/test')"
   ]
  },
  {
   "cell_type": "code",
   "execution_count": 17,
   "id": "a5b886cf",
   "metadata": {},
   "outputs": [
    {
     "data": {
      "text/plain": [
       "(60000, 28, 28)"
      ]
     },
     "execution_count": 17,
     "metadata": {},
     "output_type": "execute_result"
    }
   ],
   "source": [
    "train_dataset.shape"
   ]
  },
  {
   "cell_type": "markdown",
   "id": "829b3d72",
   "metadata": {},
   "source": [
    "#### Flatten the every image"
   ]
  },
  {
   "cell_type": "code",
   "execution_count": 18,
   "id": "cacffd6c",
   "metadata": {},
   "outputs": [],
   "source": [
    "train_dataset = train_dataset.reshape(len(train_dataset), -1)\n",
    "test_dataset = test_dataset.reshape(len(test_dataset), -1)"
   ]
  },
  {
   "cell_type": "code",
   "execution_count": 19,
   "id": "29d2ae4e",
   "metadata": {},
   "outputs": [
    {
     "data": {
      "text/plain": [
       "(10000, 784)"
      ]
     },
     "execution_count": 19,
     "metadata": {},
     "output_type": "execute_result"
    }
   ],
   "source": [
    "test_dataset.shape"
   ]
  },
  {
   "cell_type": "markdown",
   "id": "4516efe3",
   "metadata": {},
   "source": [
    "#### Data shuffling"
   ]
  },
  {
   "cell_type": "code",
   "execution_count": 20,
   "id": "4d885db9",
   "metadata": {},
   "outputs": [],
   "source": [
    "indexes = np.array(range(len(train_dataset)))\n",
    "np.random.shuffle(indexes)\n",
    "\n",
    "train_dataset = train_dataset[indexes]\n",
    "train_labels = train_labels[indexes]"
   ]
  },
  {
   "cell_type": "markdown",
   "id": "66358c0c",
   "metadata": {},
   "source": [
    "### Data Pre-Processing"
   ]
  },
  {
   "cell_type": "code",
   "execution_count": 22,
   "id": "d1b2deb6",
   "metadata": {},
   "outputs": [],
   "source": [
    "scaler = Scaler_MinMax((-1,1))\n",
    "scaler.min = 0\n",
    "scaler.max = 255\n",
    "train_dataset = scaler.transform(train_dataset)\n",
    "test_dataset = scaler.transform(test_dataset)"
   ]
  },
  {
   "cell_type": "code",
   "execution_count": 23,
   "id": "eef779a0",
   "metadata": {},
   "outputs": [
    {
     "data": {
      "text/plain": [
       "-1.0"
      ]
     },
     "execution_count": 23,
     "metadata": {},
     "output_type": "execute_result"
    }
   ],
   "source": [
    "train_dataset.min()"
   ]
  },
  {
   "cell_type": "markdown",
   "id": "8145680b",
   "metadata": {},
   "source": [
    "### Set Hyperparameters"
   ]
  },
  {
   "cell_type": "code",
   "execution_count": 47,
   "id": "eabaef6d",
   "metadata": {},
   "outputs": [],
   "source": [
    "max_epoch = 200\n",
    "alpha = 0.1\n",
    "batch_size = 128"
   ]
  },
  {
   "cell_type": "markdown",
   "id": "515d0a1b",
   "metadata": {},
   "source": [
    "### Initialize the model"
   ]
  },
  {
   "cell_type": "code",
   "execution_count": 48,
   "id": "4c5ac970",
   "metadata": {},
   "outputs": [],
   "source": [
    "layer1 = Layer_Linear(784, 512)\n",
    "activation1 = Activation_ReLU()\n",
    "layer2 = Layer_Linear(512, 10)"
   ]
  },
  {
   "cell_type": "markdown",
   "id": "06ccf4b5",
   "metadata": {},
   "source": [
    "### Initlize optimizer and loss function"
   ]
  },
  {
   "cell_type": "code",
   "execution_count": 49,
   "id": "329ded87",
   "metadata": {},
   "outputs": [],
   "source": [
    "loss = Loss_CategoricalCrossEntropy_Activation_SoftMax()\n",
    "accuracy = Accuracy_Categorical()\n",
    "optimizer = Optimizer_GD(alpha=alpha)"
   ]
  },
  {
   "cell_type": "markdown",
   "id": "440c16f0",
   "metadata": {},
   "source": [
    "### Training the model"
   ]
  },
  {
   "cell_type": "code",
   "execution_count": 50,
   "id": "e090a644",
   "metadata": {
    "scrolled": true
   },
   "outputs": [],
   "source": [
    "train_steps = len(train_dataset) // batch_size\n",
    "if train_steps * batch_size < len(train_dataset):\n",
    "    train_steps += 1"
   ]
  },
  {
   "cell_type": "code",
   "execution_count": 51,
   "id": "7e6898c3",
   "metadata": {
    "scrolled": true
   },
   "outputs": [
    {
     "name": "stdout",
     "output_type": "stream",
     "text": [
      "epoch: 0, Train error: 3.745, Train accuracy: 0.741\n",
      "epoch: 1, Train error: 1.704, Train accuracy: 0.761\n",
      "epoch: 2, Train error: 1.229, Train accuracy: 0.772\n",
      "epoch: 3, Train error: 1.011, Train accuracy: 0.782\n",
      "epoch: 4, Train error: 0.881, Train accuracy: 0.790\n",
      "epoch: 5, Train error: 0.788, Train accuracy: 0.798\n",
      "epoch: 6, Train error: 0.718, Train accuracy: 0.804\n",
      "epoch: 7, Train error: 0.666, Train accuracy: 0.810\n",
      "epoch: 8, Train error: 0.625, Train accuracy: 0.815\n",
      "epoch: 9, Train error: 0.594, Train accuracy: 0.820\n",
      "epoch: 10, Train error: 0.565, Train accuracy: 0.824\n",
      "epoch: 11, Train error: 0.540, Train accuracy: 0.828\n",
      "epoch: 12, Train error: 0.521, Train accuracy: 0.831\n",
      "epoch: 13, Train error: 0.504, Train accuracy: 0.834\n",
      "epoch: 14, Train error: 0.488, Train accuracy: 0.837\n",
      "epoch: 15, Train error: 0.476, Train accuracy: 0.840\n",
      "epoch: 16, Train error: 0.463, Train accuracy: 0.843\n",
      "epoch: 17, Train error: 0.453, Train accuracy: 0.846\n",
      "epoch: 18, Train error: 0.444, Train accuracy: 0.848\n",
      "epoch: 19, Train error: 0.437, Train accuracy: 0.849\n",
      "epoch: 20, Train error: 0.429, Train accuracy: 0.852\n",
      "epoch: 21, Train error: 0.421, Train accuracy: 0.854\n",
      "epoch: 22, Train error: 0.414, Train accuracy: 0.855\n",
      "epoch: 23, Train error: 0.408, Train accuracy: 0.857\n",
      "epoch: 24, Train error: 0.402, Train accuracy: 0.858\n",
      "epoch: 25, Train error: 0.397, Train accuracy: 0.860\n",
      "epoch: 26, Train error: 0.392, Train accuracy: 0.862\n",
      "epoch: 27, Train error: 0.388, Train accuracy: 0.863\n",
      "epoch: 28, Train error: 0.384, Train accuracy: 0.864\n",
      "epoch: 29, Train error: 0.379, Train accuracy: 0.866\n",
      "epoch: 30, Train error: 0.375, Train accuracy: 0.867\n",
      "epoch: 31, Train error: 0.372, Train accuracy: 0.867\n",
      "epoch: 32, Train error: 0.368, Train accuracy: 0.868\n",
      "epoch: 33, Train error: 0.365, Train accuracy: 0.869\n",
      "epoch: 34, Train error: 0.362, Train accuracy: 0.870\n",
      "epoch: 35, Train error: 0.359, Train accuracy: 0.872\n",
      "epoch: 36, Train error: 0.356, Train accuracy: 0.872\n",
      "epoch: 37, Train error: 0.353, Train accuracy: 0.873\n",
      "epoch: 38, Train error: 0.350, Train accuracy: 0.874\n",
      "epoch: 39, Train error: 0.348, Train accuracy: 0.875\n",
      "epoch: 40, Train error: 0.345, Train accuracy: 0.876\n",
      "epoch: 41, Train error: 0.343, Train accuracy: 0.876\n",
      "epoch: 42, Train error: 0.340, Train accuracy: 0.877\n",
      "epoch: 43, Train error: 0.338, Train accuracy: 0.878\n",
      "epoch: 44, Train error: 0.336, Train accuracy: 0.878\n",
      "epoch: 45, Train error: 0.333, Train accuracy: 0.879\n",
      "epoch: 46, Train error: 0.331, Train accuracy: 0.880\n",
      "epoch: 47, Train error: 0.329, Train accuracy: 0.881\n",
      "epoch: 48, Train error: 0.327, Train accuracy: 0.881\n",
      "epoch: 49, Train error: 0.325, Train accuracy: 0.882\n",
      "epoch: 50, Train error: 0.323, Train accuracy: 0.882\n",
      "epoch: 51, Train error: 0.322, Train accuracy: 0.883\n",
      "epoch: 52, Train error: 0.320, Train accuracy: 0.883\n",
      "epoch: 53, Train error: 0.318, Train accuracy: 0.884\n",
      "epoch: 54, Train error: 0.316, Train accuracy: 0.884\n",
      "epoch: 55, Train error: 0.315, Train accuracy: 0.885\n",
      "epoch: 56, Train error: 0.313, Train accuracy: 0.886\n",
      "epoch: 57, Train error: 0.311, Train accuracy: 0.886\n",
      "epoch: 58, Train error: 0.310, Train accuracy: 0.887\n",
      "epoch: 59, Train error: 0.308, Train accuracy: 0.887\n",
      "epoch: 60, Train error: 0.307, Train accuracy: 0.887\n",
      "epoch: 61, Train error: 0.305, Train accuracy: 0.888\n",
      "epoch: 62, Train error: 0.304, Train accuracy: 0.889\n",
      "epoch: 63, Train error: 0.302, Train accuracy: 0.889\n",
      "epoch: 64, Train error: 0.301, Train accuracy: 0.890\n",
      "epoch: 65, Train error: 0.299, Train accuracy: 0.891\n",
      "epoch: 66, Train error: 0.298, Train accuracy: 0.891\n",
      "epoch: 67, Train error: 0.297, Train accuracy: 0.892\n",
      "epoch: 68, Train error: 0.295, Train accuracy: 0.892\n",
      "epoch: 69, Train error: 0.294, Train accuracy: 0.893\n",
      "epoch: 70, Train error: 0.293, Train accuracy: 0.893\n",
      "epoch: 71, Train error: 0.291, Train accuracy: 0.894\n",
      "epoch: 72, Train error: 0.290, Train accuracy: 0.894\n",
      "epoch: 73, Train error: 0.289, Train accuracy: 0.895\n",
      "epoch: 74, Train error: 0.288, Train accuracy: 0.895\n",
      "epoch: 75, Train error: 0.286, Train accuracy: 0.895\n",
      "epoch: 76, Train error: 0.285, Train accuracy: 0.896\n",
      "epoch: 77, Train error: 0.284, Train accuracy: 0.896\n",
      "epoch: 78, Train error: 0.283, Train accuracy: 0.897\n",
      "epoch: 79, Train error: 0.282, Train accuracy: 0.897\n",
      "epoch: 80, Train error: 0.281, Train accuracy: 0.898\n",
      "epoch: 81, Train error: 0.280, Train accuracy: 0.898\n",
      "epoch: 82, Train error: 0.279, Train accuracy: 0.898\n",
      "epoch: 83, Train error: 0.277, Train accuracy: 0.899\n",
      "epoch: 84, Train error: 0.276, Train accuracy: 0.899\n",
      "epoch: 85, Train error: 0.275, Train accuracy: 0.900\n",
      "epoch: 86, Train error: 0.274, Train accuracy: 0.900\n",
      "epoch: 87, Train error: 0.273, Train accuracy: 0.900\n",
      "epoch: 88, Train error: 0.272, Train accuracy: 0.901\n",
      "epoch: 89, Train error: 0.271, Train accuracy: 0.901\n",
      "epoch: 90, Train error: 0.270, Train accuracy: 0.901\n",
      "epoch: 91, Train error: 0.269, Train accuracy: 0.902\n",
      "epoch: 92, Train error: 0.268, Train accuracy: 0.902\n",
      "epoch: 93, Train error: 0.267, Train accuracy: 0.903\n",
      "epoch: 94, Train error: 0.267, Train accuracy: 0.903\n",
      "epoch: 95, Train error: 0.266, Train accuracy: 0.903\n",
      "epoch: 96, Train error: 0.265, Train accuracy: 0.903\n",
      "epoch: 97, Train error: 0.264, Train accuracy: 0.904\n",
      "epoch: 98, Train error: 0.263, Train accuracy: 0.904\n",
      "epoch: 99, Train error: 0.262, Train accuracy: 0.905\n",
      "epoch: 100, Train error: 0.261, Train accuracy: 0.905\n",
      "epoch: 101, Train error: 0.260, Train accuracy: 0.905\n",
      "epoch: 102, Train error: 0.259, Train accuracy: 0.905\n",
      "epoch: 103, Train error: 0.258, Train accuracy: 0.906\n",
      "epoch: 104, Train error: 0.257, Train accuracy: 0.906\n",
      "epoch: 105, Train error: 0.257, Train accuracy: 0.907\n",
      "epoch: 106, Train error: 0.256, Train accuracy: 0.907\n",
      "epoch: 107, Train error: 0.255, Train accuracy: 0.907\n",
      "epoch: 108, Train error: 0.254, Train accuracy: 0.908\n",
      "epoch: 109, Train error: 0.253, Train accuracy: 0.908\n",
      "epoch: 110, Train error: 0.252, Train accuracy: 0.908\n",
      "epoch: 111, Train error: 0.252, Train accuracy: 0.909\n",
      "epoch: 112, Train error: 0.251, Train accuracy: 0.909\n",
      "epoch: 113, Train error: 0.250, Train accuracy: 0.909\n",
      "epoch: 114, Train error: 0.249, Train accuracy: 0.909\n",
      "epoch: 115, Train error: 0.248, Train accuracy: 0.910\n",
      "epoch: 116, Train error: 0.248, Train accuracy: 0.910\n",
      "epoch: 117, Train error: 0.247, Train accuracy: 0.910\n",
      "epoch: 118, Train error: 0.246, Train accuracy: 0.910\n",
      "epoch: 119, Train error: 0.245, Train accuracy: 0.911\n",
      "epoch: 120, Train error: 0.245, Train accuracy: 0.911\n",
      "epoch: 121, Train error: 0.244, Train accuracy: 0.911\n",
      "epoch: 122, Train error: 0.243, Train accuracy: 0.911\n",
      "epoch: 123, Train error: 0.242, Train accuracy: 0.912\n",
      "epoch: 124, Train error: 0.242, Train accuracy: 0.912\n",
      "epoch: 125, Train error: 0.241, Train accuracy: 0.912\n",
      "epoch: 126, Train error: 0.240, Train accuracy: 0.912\n",
      "epoch: 127, Train error: 0.240, Train accuracy: 0.913\n",
      "epoch: 128, Train error: 0.239, Train accuracy: 0.913\n",
      "epoch: 129, Train error: 0.238, Train accuracy: 0.913\n",
      "epoch: 130, Train error: 0.237, Train accuracy: 0.913\n",
      "epoch: 131, Train error: 0.237, Train accuracy: 0.914\n",
      "epoch: 132, Train error: 0.236, Train accuracy: 0.914\n",
      "epoch: 133, Train error: 0.235, Train accuracy: 0.914\n",
      "epoch: 134, Train error: 0.235, Train accuracy: 0.914\n",
      "epoch: 135, Train error: 0.234, Train accuracy: 0.915\n",
      "epoch: 136, Train error: 0.233, Train accuracy: 0.915\n",
      "epoch: 137, Train error: 0.233, Train accuracy: 0.915\n",
      "epoch: 138, Train error: 0.232, Train accuracy: 0.915\n",
      "epoch: 139, Train error: 0.231, Train accuracy: 0.916\n",
      "epoch: 140, Train error: 0.231, Train accuracy: 0.916\n",
      "epoch: 141, Train error: 0.230, Train accuracy: 0.916\n",
      "epoch: 142, Train error: 0.230, Train accuracy: 0.917\n",
      "epoch: 143, Train error: 0.229, Train accuracy: 0.917\n",
      "epoch: 144, Train error: 0.228, Train accuracy: 0.917\n",
      "epoch: 145, Train error: 0.228, Train accuracy: 0.917\n",
      "epoch: 146, Train error: 0.227, Train accuracy: 0.917\n",
      "epoch: 147, Train error: 0.226, Train accuracy: 0.918\n",
      "epoch: 148, Train error: 0.226, Train accuracy: 0.918\n",
      "epoch: 149, Train error: 0.225, Train accuracy: 0.918\n",
      "epoch: 150, Train error: 0.225, Train accuracy: 0.918\n",
      "epoch: 151, Train error: 0.224, Train accuracy: 0.919\n",
      "epoch: 152, Train error: 0.223, Train accuracy: 0.919\n",
      "epoch: 153, Train error: 0.223, Train accuracy: 0.919\n"
     ]
    },
    {
     "name": "stdout",
     "output_type": "stream",
     "text": [
      "epoch: 154, Train error: 0.222, Train accuracy: 0.919\n",
      "epoch: 155, Train error: 0.222, Train accuracy: 0.920\n",
      "epoch: 156, Train error: 0.221, Train accuracy: 0.920\n",
      "epoch: 157, Train error: 0.220, Train accuracy: 0.920\n",
      "epoch: 158, Train error: 0.220, Train accuracy: 0.920\n",
      "epoch: 159, Train error: 0.219, Train accuracy: 0.920\n",
      "epoch: 160, Train error: 0.219, Train accuracy: 0.921\n",
      "epoch: 161, Train error: 0.218, Train accuracy: 0.921\n",
      "epoch: 162, Train error: 0.217, Train accuracy: 0.921\n",
      "epoch: 163, Train error: 0.217, Train accuracy: 0.921\n",
      "epoch: 164, Train error: 0.216, Train accuracy: 0.922\n",
      "epoch: 165, Train error: 0.216, Train accuracy: 0.922\n",
      "epoch: 166, Train error: 0.215, Train accuracy: 0.922\n",
      "epoch: 167, Train error: 0.215, Train accuracy: 0.922\n",
      "epoch: 168, Train error: 0.214, Train accuracy: 0.922\n",
      "epoch: 169, Train error: 0.214, Train accuracy: 0.922\n",
      "epoch: 170, Train error: 0.213, Train accuracy: 0.923\n",
      "epoch: 171, Train error: 0.213, Train accuracy: 0.923\n",
      "epoch: 172, Train error: 0.212, Train accuracy: 0.923\n",
      "epoch: 173, Train error: 0.211, Train accuracy: 0.923\n",
      "epoch: 174, Train error: 0.211, Train accuracy: 0.924\n",
      "epoch: 175, Train error: 0.210, Train accuracy: 0.924\n",
      "epoch: 176, Train error: 0.210, Train accuracy: 0.924\n",
      "epoch: 177, Train error: 0.209, Train accuracy: 0.924\n",
      "epoch: 178, Train error: 0.209, Train accuracy: 0.924\n",
      "epoch: 179, Train error: 0.208, Train accuracy: 0.925\n",
      "epoch: 180, Train error: 0.208, Train accuracy: 0.925\n",
      "epoch: 181, Train error: 0.207, Train accuracy: 0.925\n",
      "epoch: 182, Train error: 0.207, Train accuracy: 0.925\n",
      "epoch: 183, Train error: 0.206, Train accuracy: 0.925\n",
      "epoch: 184, Train error: 0.205, Train accuracy: 0.925\n",
      "epoch: 185, Train error: 0.205, Train accuracy: 0.926\n",
      "epoch: 186, Train error: 0.204, Train accuracy: 0.926\n",
      "epoch: 187, Train error: 0.204, Train accuracy: 0.926\n",
      "epoch: 188, Train error: 0.203, Train accuracy: 0.926\n",
      "epoch: 189, Train error: 0.203, Train accuracy: 0.926\n",
      "epoch: 190, Train error: 0.202, Train accuracy: 0.926\n",
      "epoch: 191, Train error: 0.202, Train accuracy: 0.926\n",
      "epoch: 192, Train error: 0.201, Train accuracy: 0.927\n",
      "epoch: 193, Train error: 0.201, Train accuracy: 0.927\n",
      "epoch: 194, Train error: 0.200, Train accuracy: 0.927\n",
      "epoch: 195, Train error: 0.200, Train accuracy: 0.927\n",
      "epoch: 196, Train error: 0.199, Train accuracy: 0.928\n",
      "epoch: 197, Train error: 0.199, Train accuracy: 0.928\n",
      "epoch: 198, Train error: 0.198, Train accuracy: 0.928\n",
      "epoch: 199, Train error: 0.198, Train accuracy: 0.928\n"
     ]
    }
   ],
   "source": [
    "for epoch in range(max_epoch):\n",
    "    train_error = 0\n",
    "    train_accuracy = 0\n",
    "    \n",
    "    for i in range(train_steps):\n",
    "        batch_start = i * batch_size\n",
    "        batch_end = (i+1) * batch_size\n",
    "        \n",
    "        input = train_dataset[batch_start:batch_end]\n",
    "        true = train_labels[batch_start:batch_end]\n",
    "        \n",
    "        #Forward pass\n",
    "        layer1.forward(input)\n",
    "        activation1.forward(layer1.output)\n",
    "        layer2.forward(activation1.output)\n",
    "        train_error += loss.forward(layer2.output, true) / train_steps\n",
    "        train_accuracy += accuracy.calculate(layer2.output, true) / train_steps\n",
    "        \n",
    "        #Backward pass\n",
    "        loss.backward(loss.activation.output, true)\n",
    "        layer2.backward(loss.dresults)\n",
    "        activation1.backward(layer2.dresults)\n",
    "        layer1.backward(activation1.dresults)\n",
    "\n",
    "\n",
    "        optimizer.update_parameters(layer2)\n",
    "        optimizer.update_parameters(layer1)\n",
    "    \n",
    "    print(f'epoch: {epoch},',\n",
    "          f'Train error: {train_error:.3f},',\n",
    "          f'Train accuracy: {train_accuracy:.3f}')"
   ]
  },
  {
   "cell_type": "markdown",
   "id": "3b236fa4",
   "metadata": {},
   "source": [
    "### Testing the model"
   ]
  },
  {
   "cell_type": "code",
   "execution_count": 52,
   "id": "3253f918",
   "metadata": {},
   "outputs": [],
   "source": [
    "test_steps = len(test_dataset) // batch_size\n",
    "if test_steps * batch_size < len(test_dataset):\n",
    "    test_steps += 1"
   ]
  },
  {
   "cell_type": "code",
   "execution_count": 53,
   "id": "66c60452",
   "metadata": {},
   "outputs": [],
   "source": [
    "test_error = 0\n",
    "test_accuracy = 0\n",
    "\n",
    "for i in range(test_steps):\n",
    "    batch_start = i * batch_size\n",
    "    batch_end = (i+1) * batch_size\n",
    "    \n",
    "    input = test_dataset[batch_start:batch_end]\n",
    "    true = test_labels[batch_start:batch_end]\n",
    "    \n",
    "    layer1.forward(input)\n",
    "    activation1.forward(layer1.output)\n",
    "    layer2.forward(activation1.output)\n",
    "    test_error += loss.forward(layer2.output, true) / test_steps\n",
    "    test_accuracy += accuracy.calculate(layer2.output, true) / test_steps"
   ]
  },
  {
   "cell_type": "code",
   "execution_count": 54,
   "id": "7df841a0",
   "metadata": {},
   "outputs": [
    {
     "name": "stdout",
     "output_type": "stream",
     "text": [
      "Test error: 0.975, Test accuracy: 0.839\n"
     ]
    }
   ],
   "source": [
    "print(f'Test error: {test_error:.3f},',\n",
    "      f'Test accuracy: {test_accuracy:.3f}')"
   ]
  },
  {
   "cell_type": "code",
   "execution_count": 55,
   "id": "e68d083d",
   "metadata": {},
   "outputs": [
    {
     "data": {
      "text/plain": [
       "3056"
      ]
     },
     "execution_count": 55,
     "metadata": {},
     "output_type": "execute_result"
    }
   ],
   "source": [
    "random_idx = np.random.randint(len(test_dataset))\n",
    "random_idx"
   ]
  },
  {
   "cell_type": "code",
   "execution_count": 56,
   "id": "ae004f4e",
   "metadata": {},
   "outputs": [],
   "source": [
    "test_input = test_dataset[random_idx]\n",
    "test_label = test_labels[random_idx]"
   ]
  },
  {
   "cell_type": "code",
   "execution_count": 57,
   "id": "fe60cf07",
   "metadata": {},
   "outputs": [
    {
     "data": {
      "text/plain": [
       "4.974969827525924e-05"
      ]
     },
     "execution_count": 57,
     "metadata": {},
     "output_type": "execute_result"
    }
   ],
   "source": [
    "layer1.forward(test_input)\n",
    "activation1.forward(layer1.output)\n",
    "layer2.forward(activation1.output)\n",
    "loss.forward(layer2.output, test_label)"
   ]
  },
  {
   "cell_type": "code",
   "execution_count": 58,
   "id": "0f5f96f0",
   "metadata": {},
   "outputs": [
    {
     "name": "stdout",
     "output_type": "stream",
     "text": [
      "true: 3 class: Dress \n",
      "pred: 3 class: Dress\n"
     ]
    },
    {
     "data": {
      "image/png": "[encoded data removed]",
      "text/plain": [
       "<Figure size 432x288 with 1 Axes>"
      ]
     },
     "metadata": {
      "needs_background": "light"
     },
     "output_type": "display_data"
    }
   ],
   "source": [
    "test_label = np.argmax(test_label)\n",
    "test_pred = np.argmax(loss.activation.output)\n",
    "print(f'true: {test_label}',\n",
    "      f'class: {classes[test_label]}',\n",
    "      f'\\npred: {test_pred}',\n",
    "      f'class: {classes[test_pred]}')\n",
    "img = test_input.reshape((28, 28))\n",
    "plt.imshow(img, cmap='gray')\n",
    "plt.show()"
   ]
  }
 ],
 "metadata": {
  "kernelspec": {
   "display_name": "Python 3",
   "language": "python",
   "name": "python3"
  },
  "language_info": {
   "codemirror_mode": {
    "name": "ipython",
    "version": 3
   },
   "file_extension": ".py",
   "mimetype": "text/x-python",
   "name": "python",
   "nbconvert_exporter": "python",
   "pygments_lexer": "ipython3",
   "version": "3.9.5"
  }
 },
 "nbformat": 4,
 "nbformat_minor": 5
}

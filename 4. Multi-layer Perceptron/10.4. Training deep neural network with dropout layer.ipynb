{
 "cells": [
  {
   "cell_type": "markdown",
   "id": "211f9c01",
   "metadata": {},
   "source": [
    "# Deep Learning - 1"
   ]
  },
  {
   "cell_type": "markdown",
   "id": "649f7822",
   "metadata": {},
   "source": [
    "## Chapter 4: Multi-layer Perceptron"
   ]
  },
  {
   "cell_type": "markdown",
   "id": "592d6d6e",
   "metadata": {},
   "source": [
    "### Training deep neural network with dropout layer"
   ]
  },
  {
   "cell_type": "markdown",
   "id": "b0a24843",
   "metadata": {},
   "source": [
    "---------------"
   ]
  },
  {
   "cell_type": "markdown",
   "id": "02f0ca82",
   "metadata": {},
   "source": [
    "### Import"
   ]
  },
  {
   "cell_type": "code",
   "execution_count": 1,
   "id": "fca357a3",
   "metadata": {},
   "outputs": [],
   "source": [
    "import numpy as np\n",
    "import os\n",
    "import cv2\n",
    "import matplotlib.pyplot as plt"
   ]
  },
  {
   "cell_type": "markdown",
   "id": "a0a494e6",
   "metadata": {},
   "source": [
    "<img src=\"images/layer.png\" alt=\"Drawing\" width=\"1000\"/>"
   ]
  },
  {
   "cell_type": "markdown",
   "id": "c2b879cc",
   "metadata": {},
   "source": [
    "### Model"
   ]
  },
  {
   "cell_type": "markdown",
   "id": "a83e1ef8",
   "metadata": {},
   "source": [
    "#### Linear Layer"
   ]
  },
  {
   "cell_type": "code",
   "execution_count": 2,
   "id": "d55c27a3",
   "metadata": {},
   "outputs": [],
   "source": [
    "class Layer_Linear:\n",
    "    \"\"\"Representing a neural network layer\"\"\"\n",
    "    \n",
    "    def __init__(self, n_inputs, n_outputs):\n",
    "        \"\"\"Initlize weights and bias\"\"\"\n",
    "        self.weights = np.random.randn(n_inputs, n_outputs)\n",
    "        self.biases = np.zeros((1, n_outputs))\n",
    "    \n",
    "    def forward(self, inputs):\n",
    "        \"\"\"\n",
    "        It multiplies the inputs by the weights \n",
    "        and then sums them, and then sums bias.\n",
    "        \"\"\"\n",
    "        #To calculate gradient, remembering input values\n",
    "        self.inputs = inputs\n",
    "        #Calculate outputs' values\n",
    "        self.output = np.dot(inputs, self.weights) + self.biases\n",
    "    \n",
    "    def backward(self, dvalues):\n",
    "        \"\"\"Gradient with respect to parameters and input\"\"\"\n",
    "        self.dweights = np.dot(self.inputs.T, dvalues)\n",
    "        self.dbiases = np.sum(dvalues, axis=0, keepdims=True)\n",
    "        self.dresults = np.dot(dvalues, self.weights.T)"
   ]
  },
  {
   "cell_type": "markdown",
   "id": "a05a274b",
   "metadata": {},
   "source": [
    "#### Dropout Layer"
   ]
  },
  {
   "cell_type": "code",
   "execution_count": 3,
   "id": "efe7222d",
   "metadata": {},
   "outputs": [],
   "source": [
    "class Layer_Dropout:\n",
    "    \"\"\"Representing a dropout layer\"\"\"\n",
    "    \n",
    "    def __init__(self, rate):\n",
    "        \"\"\"Initlize the success rate of binomial distribution\"\"\"\n",
    "        self.rate = 1 - rate\n",
    "    \n",
    "    def forward(self, inputs):\n",
    "        \"\"\"\n",
    "        Generate the scaled mask and then\n",
    "        apply the mask to the inputs values\n",
    "        \"\"\"\n",
    "        #Generate the scaled mask\n",
    "        self.scaled_mask = np.random.binomial(1, self.rate,\n",
    "                                             size=inputs.shape) / self.rate\n",
    "        #Calculate outputs' values\n",
    "        self.output = inputs * self.scaled_mask\n",
    "        \n",
    "    def backward(self, dvalues):\n",
    "        \"\"\"\n",
    "        Gradient with respect to inputs, and then\n",
    "        multiply the dvalues accroding to the chain rule\n",
    "        \"\"\"\n",
    "        self.dresults = self.scaled_mask * dvalues    "
   ]
  },
  {
   "cell_type": "markdown",
   "id": "09103fd1",
   "metadata": {},
   "source": [
    "### Activation functions"
   ]
  },
  {
   "cell_type": "markdown",
   "id": "149c787f",
   "metadata": {},
   "source": [
    "#### Softmax Activation function"
   ]
  },
  {
   "cell_type": "markdown",
   "id": "a31d7786",
   "metadata": {},
   "source": [
    "<img src=\"images/softmax.png\" alt=\"Drawing\" width=\"500\"/>"
   ]
  },
  {
   "cell_type": "code",
   "execution_count": 4,
   "id": "820a4706",
   "metadata": {},
   "outputs": [],
   "source": [
    "class Activation_Softmax:\n",
    "    \"\"\"Softmax activation\"\"\"\n",
    "    \n",
    "    def forward(self, inputs):\n",
    "        \"\"\"Forward pass\"\"\"\n",
    "        \n",
    "        #Compute e^x for each element of inputs\n",
    "        #Due to the overflow error, \n",
    "        #Maximum value of per sample subtract from each row\n",
    "        exp_values = np.exp(inputs - np.max(inputs, axis=1,\n",
    "                                           keepdims=True))\n",
    "        \n",
    "        #Normalize them for each batch\n",
    "        self.output = exp_values / np.sum(exp_values, \n",
    "                                          axis=1, keepdims=True)\n",
    "    \n",
    "    def backward(self, dvalues):\n",
    "        \"\"\"Gradient softmax\"\"\"\n",
    "        \n",
    "        #Initialize an array\n",
    "        self.dresults = np.zeros(dvalues.shape)\n",
    "        \n",
    "        for i in range(len(dvalues)):\n",
    "            #Reshape the single output\n",
    "            single_output = self.output[i].reshape(-1, 1)\n",
    "            \n",
    "            #Calculate Jacobian matrix of the single output\n",
    "            jacobian_matrix = np.diagflat(single_output) - \\\n",
    "                                np.dot(single_output, single_output.T)\n",
    "            \n",
    "            #Multiply the Jacobian matrix by the loss function derivative\n",
    "            self.dresults[i] = np.dot(jacobian_matrix, dvalues[i])"
   ]
  },
  {
   "cell_type": "markdown",
   "id": "d5e25066",
   "metadata": {},
   "source": [
    "#### ReLU Activation function"
   ]
  },
  {
   "cell_type": "code",
   "execution_count": 5,
   "id": "000d3640",
   "metadata": {},
   "outputs": [],
   "source": [
    "class Activation_ReLU:\n",
    "    \"\"\"ReLU activation\"\"\"\n",
    "    \n",
    "    def forward(self, inputs):\n",
    "        \"\"\"Forward pass\"\"\"\n",
    "        \n",
    "        #To calculate gradient, remembering input values\n",
    "        self.inputs = inputs\n",
    "        \n",
    "        #Calculate outputs' values\n",
    "        self.output = np.maximum(0, inputs)\n",
    "        \n",
    "    def backward(self, dvalues):\n",
    "        \"\"\"Backward pass\"\"\"\n",
    "        \n",
    "        self.dresults = self.inputs > 0\n",
    "        self.dresults = self.dresults * dvalues"
   ]
  },
  {
   "cell_type": "markdown",
   "id": "325b26d3",
   "metadata": {},
   "source": [
    "### Loss"
   ]
  },
  {
   "cell_type": "markdown",
   "id": "b268858f",
   "metadata": {},
   "source": [
    "#### MSE"
   ]
  },
  {
   "cell_type": "code",
   "execution_count": 6,
   "id": "5529a656",
   "metadata": {},
   "outputs": [],
   "source": [
    "class Loss_MSE():\n",
    "    \"\"\"MSE Loss function\"\"\"\n",
    "    \n",
    "    def forward(self, y_pred, y_true):\n",
    "        \"\"\"Forward pass\"\"\"     \n",
    "        error = np.mean((y_pred - y_true) ** 2)\n",
    "        return error\n",
    "    \n",
    "    def backward(self, y_pred, y_true):\n",
    "        \"\"\"Derivative of MSE with respect to preds\"\"\"\n",
    "        \n",
    "        #Number of samples\n",
    "        samples = len(y_pred)\n",
    "        \n",
    "        #Number of output nodes\n",
    "        outputs = len(y_pred[0])\n",
    "        \n",
    "        #Derivative of MSE\n",
    "        self.dresults = 2 * (y_pred - y_true) / (outputs * samples)"
   ]
  },
  {
   "cell_type": "markdown",
   "id": "9a8e8970",
   "metadata": {},
   "source": [
    "#### Categorical Cross-entropy"
   ]
  },
  {
   "cell_type": "code",
   "execution_count": 7,
   "id": "07e2403a",
   "metadata": {},
   "outputs": [],
   "source": [
    "class Loss_CategoricalCrossEntropy():\n",
    "    \"\"\"Cross entropy Loss function\"\"\"\n",
    "    \n",
    "    def forward(self, y_pred, y_true):\n",
    "        \"\"\"Forward pass\"\"\"\n",
    "        y_pred += 1e-10\n",
    "        y_pred = np.clip(y_pred, None, 1)\n",
    "        true_prediction = np.sum(y_pred * y_true, axis=1)\n",
    "        error = np.mean(-np.log(true_prediction)) \n",
    "        return error\n",
    "    \n",
    "    def backward(self, y_pred, y_true):\n",
    "        \"\"\"Derivative of CCE with respect to preds\"\"\"\n",
    "        \n",
    "        #Number of samples\n",
    "        samples = len(y_pred)\n",
    "        \n",
    "        self.dresults = -y_true / (y_pred * samples)"
   ]
  },
  {
   "cell_type": "markdown",
   "id": "38650268",
   "metadata": {},
   "source": [
    "#### Categorical Cross-entropy + Softmax "
   ]
  },
  {
   "cell_type": "code",
   "execution_count": 8,
   "id": "24017a33",
   "metadata": {},
   "outputs": [],
   "source": [
    "class Loss_CategoricalCrossEntropy_Activation_SoftMax:\n",
    "    \"\"\"Cateogircal cross entropy loss and SoftMax function\"\"\"\n",
    "    \n",
    "    def __init__(self):\n",
    "        \"\"\"Initialize Softmax and CCE loss\"\"\"\n",
    "        self.activation = Activation_Softmax()\n",
    "        self.loss = Loss_CategoricalCrossEntropy()\n",
    "        \n",
    "    def forward(self, inputs, y_true):\n",
    "        \"\"\"Forward pass\"\"\"\n",
    "        self.activation.forward(inputs)\n",
    "        return self.loss.forward(self.activation.output, y_true)\n",
    "    \n",
    "    def backward(self, y_pred, y_true):\n",
    "        \"\"\"Gradient of Categorical cross entropy + Softmax activation\"\"\"\n",
    "        samples = len(y_pred)\n",
    "        \n",
    "        self.dresults = (y_pred - y_true) / samples        "
   ]
  },
  {
   "cell_type": "markdown",
   "id": "ae60fe79",
   "metadata": {},
   "source": [
    "### Accuracy"
   ]
  },
  {
   "cell_type": "code",
   "execution_count": 9,
   "id": "8e5b134b",
   "metadata": {},
   "outputs": [],
   "source": [
    "class Accuracy_Categorical:\n",
    "    \"\"\"Accuracy calculation for classification\"\"\"\n",
    "    \n",
    "    def calculate(self, y_pred, y_true):\n",
    "        \"\"\"Calculate the accuracy\"\"\"\n",
    "        \n",
    "        true = np.argmax(y_true, axis=1)\n",
    "        pred = np.argmax(y_pred, axis=1)\n",
    "        comparisons = true == pred\n",
    "        \n",
    "        accuracy = np.mean(comparisons)\n",
    "        \n",
    "        return accuracy"
   ]
  },
  {
   "cell_type": "markdown",
   "id": "3d926f58",
   "metadata": {},
   "source": [
    "### Optimizer"
   ]
  },
  {
   "cell_type": "markdown",
   "id": "aa8a3dfc",
   "metadata": {},
   "source": [
    "#### Gradient descent "
   ]
  },
  {
   "cell_type": "code",
   "execution_count": 10,
   "id": "e4d350dd",
   "metadata": {},
   "outputs": [],
   "source": [
    "class Optimizer_GD:\n",
    "    \"\"\"Gradient descent optimizer\"\"\"\n",
    "    \n",
    "    def __init__(self, alpha=1.):\n",
    "        \"\"\"Initialize hyperparameters\"\"\"\n",
    "        self.alpha = alpha\n",
    "\n",
    "    def update_parameters(self, layer):\n",
    "        \"\"\"Update parameters\"\"\"\n",
    "        weights_delta = layer.dweights * self.alpha\n",
    "        biases_delta = layer.dbiases * self.alpha\n",
    "        \n",
    "        #Update parameters\n",
    "        layer.weights -= weights_delta\n",
    "        layer.biases -= biases_delta"
   ]
  },
  {
   "cell_type": "markdown",
   "id": "3e6ba5dc",
   "metadata": {},
   "source": [
    "### Scaler"
   ]
  },
  {
   "cell_type": "markdown",
   "id": "9912b52d",
   "metadata": {},
   "source": [
    "#### Standard Scaler"
   ]
  },
  {
   "cell_type": "code",
   "execution_count": 11,
   "id": "b97eddea",
   "metadata": {},
   "outputs": [],
   "source": [
    "class Scaler_Standard:\n",
    "    \"\"\"Standard scaler\"\"\"\n",
    "    \n",
    "    def fit(self, data):\n",
    "        \"\"\"Find mean and std values\"\"\"\n",
    "        self.means = data.mean(axis=0)\n",
    "        self.stds = data.std(axis=0)\n",
    "        return self\n",
    "    \n",
    "    def transform(self, data):\n",
    "        \"\"\"Transforming data\"\"\"\n",
    "        return (data - self.means) / self.stds\n",
    "    \n",
    "    def fit_transform(self, data):\n",
    "        \"\"\"Fit and transform data\"\"\"\n",
    "        return self.fit(data).transform(data)"
   ]
  },
  {
   "cell_type": "markdown",
   "id": "6c850cf2",
   "metadata": {},
   "source": [
    "#### MinMax Scaler"
   ]
  },
  {
   "cell_type": "code",
   "execution_count": 12,
   "id": "7e5c1fdd",
   "metadata": {},
   "outputs": [],
   "source": [
    "class Scaler_MinMax:\n",
    "    \"\"\"MinMax scaler\"\"\"\n",
    "    \n",
    "    def __init__(self, feature_range=(0,1)):\n",
    "        \"\"\"Initialize the feature range\"\"\"\n",
    "        self.low, self.high = feature_range\n",
    "    \n",
    "    def fit(self, data):\n",
    "        \"\"\"Find min and max values\"\"\"\n",
    "        self.min = data.min(axis=0)\n",
    "        self.max = data.max(axis=0)\n",
    "        return self\n",
    "    \n",
    "    def transform(self, data):\n",
    "        \"\"\"Transforming data\"\"\"\n",
    "        data_std = (data - self.min) / (self.max - self.min)\n",
    "        return data_std * (self.high - self.low) + self.low\n",
    "    \n",
    "    def fit_transform(self, data):\n",
    "        \"\"\"Fit and transform data\"\"\"\n",
    "        return self.fit(data).transform(data)"
   ]
  },
  {
   "cell_type": "markdown",
   "id": "cfa52189",
   "metadata": {},
   "source": [
    "#### Robust Scaler"
   ]
  },
  {
   "cell_type": "code",
   "execution_count": 13,
   "id": "e867d610",
   "metadata": {},
   "outputs": [],
   "source": [
    "class Scaler_Robust:\n",
    "    \"\"\"Robust scaler\"\"\"\n",
    "    \n",
    "    def fit(self, data):\n",
    "        \"\"\"Find median and iqr values\"\"\"\n",
    "        self.medians = np.median(data, axis=0)\n",
    "        self.p75, self.p25 = np.percentile(data, [75 ,25], axis=0)\n",
    "        self.iqr = self.p75 - self.p25\n",
    "        return self\n",
    "    \n",
    "    def transform(self, data):\n",
    "        \"\"\"Transforming data\"\"\"\n",
    "        return (data - self.medians) / self.iqr\n",
    "    \n",
    "    def fit_transform(self, data):\n",
    "        \"\"\"Fit and transform data\"\"\"\n",
    "        return self.fit(data).transform(data)"
   ]
  },
  {
   "cell_type": "markdown",
   "id": "4d3c0507",
   "metadata": {},
   "source": [
    "---------------"
   ]
  },
  {
   "cell_type": "markdown",
   "id": "7059a12c",
   "metadata": {},
   "source": [
    "### Construct Data"
   ]
  },
  {
   "cell_type": "code",
   "execution_count": 14,
   "id": "b843abf7",
   "metadata": {},
   "outputs": [],
   "source": [
    "classes = ('T-shirt', 'Trouser', 'Pullover', 'Dress', 'Coat',\n",
    "           'Sandal', 'Shirt', 'Sneaker', 'Bag', 'Ankle boot')"
   ]
  },
  {
   "cell_type": "code",
   "execution_count": 15,
   "id": "03a14d1b",
   "metadata": {},
   "outputs": [],
   "source": [
    "def load_dataset(path):\n",
    "    \"\"\"\n",
    "    Load the MNIST fashion dataset\n",
    "    Convert the labels into one-hot vectors\n",
    "    \"\"\"\n",
    "\n",
    "    labels = os.listdir(os.path.join(path))\n",
    "    \n",
    "    X = []\n",
    "    Y = []\n",
    "    \n",
    "    for label in labels:\n",
    "        for file in os.listdir(os.path.join(path, label)):\n",
    "            image = cv2.imread(os.path.join(path, label, file),\n",
    "                                  cv2.IMREAD_UNCHANGED)\n",
    "            X.append(image)\n",
    "            Y.append(label)\n",
    "    \n",
    "    \n",
    "    X = np.array(X)\n",
    "    Y = np.array(Y).astype('uint8')\n",
    "    Y = np.eye(len(labels))[Y].astype('uint8')\n",
    "    \n",
    "    return X, Y"
   ]
  },
  {
   "cell_type": "code",
   "execution_count": 16,
   "id": "2b7862d7",
   "metadata": {},
   "outputs": [],
   "source": [
    "train_val_dataset, train_val_labels = load_dataset('../dataset/train')\n",
    "test_dataset, test_labels = load_dataset('../dataset/test')"
   ]
  },
  {
   "cell_type": "code",
   "execution_count": 17,
   "id": "a5b886cf",
   "metadata": {},
   "outputs": [
    {
     "data": {
      "text/plain": [
       "(60000, 28, 28)"
      ]
     },
     "execution_count": 17,
     "metadata": {},
     "output_type": "execute_result"
    }
   ],
   "source": [
    "train_val_dataset.shape"
   ]
  },
  {
   "cell_type": "markdown",
   "id": "829b3d72",
   "metadata": {},
   "source": [
    "#### Flatten the every image"
   ]
  },
  {
   "cell_type": "code",
   "execution_count": 18,
   "id": "cacffd6c",
   "metadata": {},
   "outputs": [],
   "source": [
    "train_val_dataset = train_val_dataset.reshape(len(train_val_dataset), -1)\n",
    "test_dataset = test_dataset.reshape(len(test_dataset), -1)"
   ]
  },
  {
   "cell_type": "code",
   "execution_count": 19,
   "id": "29d2ae4e",
   "metadata": {},
   "outputs": [
    {
     "data": {
      "text/plain": [
       "(60000, 784)"
      ]
     },
     "execution_count": 19,
     "metadata": {},
     "output_type": "execute_result"
    }
   ],
   "source": [
    "train_val_dataset.shape"
   ]
  },
  {
   "cell_type": "markdown",
   "id": "4516efe3",
   "metadata": {},
   "source": [
    "#### Data shuffling and splits to train and validation"
   ]
  },
  {
   "cell_type": "code",
   "execution_count": 20,
   "id": "4d885db9",
   "metadata": {},
   "outputs": [],
   "source": [
    "indexes = np.array(range(len(train_val_dataset)))\n",
    "np.random.shuffle(indexes)\n",
    "\n",
    "train_dataset = train_val_dataset[indexes[:50000]]\n",
    "train_labels = train_val_labels[indexes[:50000]]\n",
    "\n",
    "validation_dataset = train_val_dataset[indexes[50000:]]\n",
    "validation_labels = train_val_labels[indexes[50000:]]"
   ]
  },
  {
   "cell_type": "code",
   "execution_count": 21,
   "id": "81da162b",
   "metadata": {},
   "outputs": [
    {
     "data": {
      "text/plain": [
       "(10000, 784)"
      ]
     },
     "execution_count": 21,
     "metadata": {},
     "output_type": "execute_result"
    }
   ],
   "source": [
    "validation_dataset.shape"
   ]
  },
  {
   "cell_type": "markdown",
   "id": "66358c0c",
   "metadata": {},
   "source": [
    "### Data Pre-Processing"
   ]
  },
  {
   "cell_type": "code",
   "execution_count": 22,
   "id": "d1b2deb6",
   "metadata": {},
   "outputs": [],
   "source": [
    "scaler = Scaler_MinMax((-1,1))\n",
    "scaler.min = 0\n",
    "scaler.max = 255\n",
    "train_dataset = scaler.transform(train_dataset)\n",
    "test_dataset = scaler.transform(test_dataset)\n",
    "validation_dataset = scaler.transform(validation_dataset)"
   ]
  },
  {
   "cell_type": "code",
   "execution_count": 23,
   "id": "eef779a0",
   "metadata": {},
   "outputs": [
    {
     "data": {
      "text/plain": [
       "-1.0"
      ]
     },
     "execution_count": 23,
     "metadata": {},
     "output_type": "execute_result"
    }
   ],
   "source": [
    "train_dataset.min()"
   ]
  },
  {
   "cell_type": "markdown",
   "id": "8145680b",
   "metadata": {},
   "source": [
    "### Set Hyperparameters"
   ]
  },
  {
   "cell_type": "code",
   "execution_count": 24,
   "id": "eabaef6d",
   "metadata": {},
   "outputs": [],
   "source": [
    "max_epoch = 500\n",
    "alpha = 0.1\n",
    "batch_size = 128"
   ]
  },
  {
   "cell_type": "markdown",
   "id": "515d0a1b",
   "metadata": {},
   "source": [
    "### Initialize the model"
   ]
  },
  {
   "cell_type": "code",
   "execution_count": 26,
   "id": "4c5ac970",
   "metadata": {},
   "outputs": [],
   "source": [
    "layer1 = Layer_Linear(784, 512)\n",
    "activation1 = Activation_ReLU()\n",
    "dropout1 = Layer_Dropout(0.25)\n",
    "layer2 = Layer_Linear(512, 10)"
   ]
  },
  {
   "cell_type": "markdown",
   "id": "06ccf4b5",
   "metadata": {},
   "source": [
    "### Initlize optimizer and loss function"
   ]
  },
  {
   "cell_type": "code",
   "execution_count": 27,
   "id": "329ded87",
   "metadata": {},
   "outputs": [],
   "source": [
    "loss = Loss_CategoricalCrossEntropy_Activation_SoftMax()\n",
    "accuracy = Accuracy_Categorical()\n",
    "optimizer = Optimizer_GD(alpha=alpha)"
   ]
  },
  {
   "cell_type": "markdown",
   "id": "440c16f0",
   "metadata": {},
   "source": [
    "### Training the model"
   ]
  },
  {
   "cell_type": "code",
   "execution_count": 28,
   "id": "e090a644",
   "metadata": {
    "scrolled": true
   },
   "outputs": [],
   "source": [
    "train_steps = len(train_dataset) // batch_size\n",
    "if train_steps * batch_size < len(train_dataset):\n",
    "    train_steps += 1"
   ]
  },
  {
   "cell_type": "code",
   "execution_count": 29,
   "id": "4e0a9c47",
   "metadata": {},
   "outputs": [],
   "source": [
    "valid_steps = len(validation_dataset) // batch_size\n",
    "if valid_steps * batch_size < len(validation_dataset):\n",
    "    valid_steps += 1"
   ]
  },
  {
   "cell_type": "code",
   "execution_count": 30,
   "id": "5bdc3928",
   "metadata": {},
   "outputs": [],
   "source": [
    "###To track train and valid error\n",
    "train_error_history = []\n",
    "valid_error_history = []"
   ]
  },
  {
   "cell_type": "code",
   "execution_count": 31,
   "id": "7e6898c3",
   "metadata": {
    "scrolled": true
   },
   "outputs": [
    {
     "name": "stdout",
     "output_type": "stream",
     "text": [
      "epoch: 0, Train error: 4.228, Train accuracy: 0.707 Validation error: 2.059, Validation accuracy: 0.742\n",
      "epoch: 1, Train error: 1.980, Train accuracy: 0.707 Validation error: 1.393, Validation accuracy: 0.734\n",
      "epoch: 2, Train error: 1.462, Train accuracy: 0.705 Validation error: 1.202, Validation accuracy: 0.736\n",
      "epoch: 3, Train error: 1.241, Train accuracy: 0.714 Validation error: 1.130, Validation accuracy: 0.736\n",
      "epoch: 4, Train error: 1.106, Train accuracy: 0.724 Validation error: 1.017, Validation accuracy: 0.750\n",
      "epoch: 5, Train error: 1.017, Train accuracy: 0.730 Validation error: 0.984, Validation accuracy: 0.757\n",
      "epoch: 6, Train error: 0.941, Train accuracy: 0.739 Validation error: 0.939, Validation accuracy: 0.754\n",
      "epoch: 7, Train error: 0.885, Train accuracy: 0.747 Validation error: 0.877, Validation accuracy: 0.775\n",
      "epoch: 8, Train error: 0.851, Train accuracy: 0.750 Validation error: 0.866, Validation accuracy: 0.777\n",
      "epoch: 9, Train error: 0.812, Train accuracy: 0.755 Validation error: 0.843, Validation accuracy: 0.776\n",
      "epoch: 10, Train error: 0.792, Train accuracy: 0.762 Validation error: 0.828, Validation accuracy: 0.778\n",
      "epoch: 11, Train error: 0.769, Train accuracy: 0.765 Validation error: 0.813, Validation accuracy: 0.784\n",
      "epoch: 12, Train error: 0.743, Train accuracy: 0.768 Validation error: 0.791, Validation accuracy: 0.786\n",
      "epoch: 13, Train error: 0.724, Train accuracy: 0.772 Validation error: 0.778, Validation accuracy: 0.789\n",
      "epoch: 14, Train error: 0.710, Train accuracy: 0.775 Validation error: 0.788, Validation accuracy: 0.787\n",
      "epoch: 15, Train error: 0.690, Train accuracy: 0.778 Validation error: 0.778, Validation accuracy: 0.789\n",
      "epoch: 16, Train error: 0.682, Train accuracy: 0.781 Validation error: 0.769, Validation accuracy: 0.795\n",
      "epoch: 17, Train error: 0.671, Train accuracy: 0.782 Validation error: 0.763, Validation accuracy: 0.791\n",
      "epoch: 18, Train error: 0.659, Train accuracy: 0.784 Validation error: 0.749, Validation accuracy: 0.798\n",
      "epoch: 19, Train error: 0.637, Train accuracy: 0.789 Validation error: 0.750, Validation accuracy: 0.793\n",
      "epoch: 20, Train error: 0.640, Train accuracy: 0.789 Validation error: 0.749, Validation accuracy: 0.797\n",
      "epoch: 21, Train error: 0.636, Train accuracy: 0.789 Validation error: 0.727, Validation accuracy: 0.802\n",
      "epoch: 22, Train error: 0.626, Train accuracy: 0.793 Validation error: 0.771, Validation accuracy: 0.792\n",
      "epoch: 23, Train error: 0.603, Train accuracy: 0.797 Validation error: 0.734, Validation accuracy: 0.803\n",
      "epoch: 24, Train error: 0.604, Train accuracy: 0.796 Validation error: 0.722, Validation accuracy: 0.807\n",
      "epoch: 25, Train error: 0.593, Train accuracy: 0.798 Validation error: 0.721, Validation accuracy: 0.803\n",
      "epoch: 26, Train error: 0.593, Train accuracy: 0.799 Validation error: 0.725, Validation accuracy: 0.801\n",
      "epoch: 27, Train error: 0.579, Train accuracy: 0.799 Validation error: 0.728, Validation accuracy: 0.800\n",
      "epoch: 28, Train error: 0.584, Train accuracy: 0.803 Validation error: 0.704, Validation accuracy: 0.809\n",
      "epoch: 29, Train error: 0.574, Train accuracy: 0.803 Validation error: 0.705, Validation accuracy: 0.805\n",
      "epoch: 30, Train error: 0.562, Train accuracy: 0.807 Validation error: 0.697, Validation accuracy: 0.808\n",
      "epoch: 31, Train error: 0.559, Train accuracy: 0.808 Validation error: 0.696, Validation accuracy: 0.807\n",
      "epoch: 32, Train error: 0.556, Train accuracy: 0.808 Validation error: 0.693, Validation accuracy: 0.811\n",
      "epoch: 33, Train error: 0.548, Train accuracy: 0.810 Validation error: 0.688, Validation accuracy: 0.813\n",
      "epoch: 34, Train error: 0.546, Train accuracy: 0.808 Validation error: 0.686, Validation accuracy: 0.811\n",
      "epoch: 35, Train error: 0.538, Train accuracy: 0.814 Validation error: 0.707, Validation accuracy: 0.808\n",
      "epoch: 36, Train error: 0.537, Train accuracy: 0.814 Validation error: 0.692, Validation accuracy: 0.810\n",
      "epoch: 37, Train error: 0.531, Train accuracy: 0.815 Validation error: 0.676, Validation accuracy: 0.816\n",
      "epoch: 38, Train error: 0.526, Train accuracy: 0.816 Validation error: 0.680, Validation accuracy: 0.816\n",
      "epoch: 39, Train error: 0.521, Train accuracy: 0.816 Validation error: 0.666, Validation accuracy: 0.818\n",
      "epoch: 40, Train error: 0.521, Train accuracy: 0.819 Validation error: 0.676, Validation accuracy: 0.817\n",
      "epoch: 41, Train error: 0.520, Train accuracy: 0.818 Validation error: 0.673, Validation accuracy: 0.815\n",
      "epoch: 42, Train error: 0.515, Train accuracy: 0.818 Validation error: 0.676, Validation accuracy: 0.812\n",
      "epoch: 43, Train error: 0.521, Train accuracy: 0.816 Validation error: 0.666, Validation accuracy: 0.816\n",
      "epoch: 44, Train error: 0.511, Train accuracy: 0.820 Validation error: 0.665, Validation accuracy: 0.817\n",
      "epoch: 45, Train error: 0.506, Train accuracy: 0.821 Validation error: 0.676, Validation accuracy: 0.818\n",
      "epoch: 46, Train error: 0.499, Train accuracy: 0.823 Validation error: 0.673, Validation accuracy: 0.815\n",
      "epoch: 47, Train error: 0.496, Train accuracy: 0.823 Validation error: 0.670, Validation accuracy: 0.819\n",
      "epoch: 48, Train error: 0.502, Train accuracy: 0.822 Validation error: 0.670, Validation accuracy: 0.817\n",
      "epoch: 49, Train error: 0.495, Train accuracy: 0.822 Validation error: 0.668, Validation accuracy: 0.813\n",
      "epoch: 50, Train error: 0.491, Train accuracy: 0.826 Validation error: 0.665, Validation accuracy: 0.815\n",
      "epoch: 51, Train error: 0.490, Train accuracy: 0.826 Validation error: 0.670, Validation accuracy: 0.816\n",
      "epoch: 52, Train error: 0.489, Train accuracy: 0.828 Validation error: 0.659, Validation accuracy: 0.815\n",
      "epoch: 53, Train error: 0.484, Train accuracy: 0.828 Validation error: 0.655, Validation accuracy: 0.822\n",
      "epoch: 54, Train error: 0.480, Train accuracy: 0.829 Validation error: 0.664, Validation accuracy: 0.817\n",
      "epoch: 55, Train error: 0.480, Train accuracy: 0.827 Validation error: 0.659, Validation accuracy: 0.819\n",
      "epoch: 56, Train error: 0.481, Train accuracy: 0.829 Validation error: 0.658, Validation accuracy: 0.823\n",
      "epoch: 57, Train error: 0.480, Train accuracy: 0.828 Validation error: 0.660, Validation accuracy: 0.822\n",
      "epoch: 58, Train error: 0.475, Train accuracy: 0.829 Validation error: 0.645, Validation accuracy: 0.823\n",
      "epoch: 59, Train error: 0.473, Train accuracy: 0.830 Validation error: 0.662, Validation accuracy: 0.819\n",
      "epoch: 60, Train error: 0.470, Train accuracy: 0.833 Validation error: 0.657, Validation accuracy: 0.821\n",
      "epoch: 61, Train error: 0.475, Train accuracy: 0.830 Validation error: 0.642, Validation accuracy: 0.826\n",
      "epoch: 62, Train error: 0.468, Train accuracy: 0.833 Validation error: 0.644, Validation accuracy: 0.828\n",
      "epoch: 63, Train error: 0.460, Train accuracy: 0.834 Validation error: 0.643, Validation accuracy: 0.829\n",
      "epoch: 64, Train error: 0.463, Train accuracy: 0.836 Validation error: 0.642, Validation accuracy: 0.823\n",
      "epoch: 65, Train error: 0.460, Train accuracy: 0.836 Validation error: 0.638, Validation accuracy: 0.825\n",
      "epoch: 66, Train error: 0.456, Train accuracy: 0.836 Validation error: 0.649, Validation accuracy: 0.822\n",
      "epoch: 67, Train error: 0.459, Train accuracy: 0.836 Validation error: 0.643, Validation accuracy: 0.824\n",
      "epoch: 68, Train error: 0.457, Train accuracy: 0.837 Validation error: 0.636, Validation accuracy: 0.825\n",
      "epoch: 69, Train error: 0.448, Train accuracy: 0.839 Validation error: 0.640, Validation accuracy: 0.828\n",
      "epoch: 70, Train error: 0.454, Train accuracy: 0.838 Validation error: 0.644, Validation accuracy: 0.825\n",
      "epoch: 71, Train error: 0.452, Train accuracy: 0.837 Validation error: 0.636, Validation accuracy: 0.830\n",
      "epoch: 72, Train error: 0.447, Train accuracy: 0.839 Validation error: 0.642, Validation accuracy: 0.827\n",
      "epoch: 73, Train error: 0.446, Train accuracy: 0.839 Validation error: 0.651, Validation accuracy: 0.827\n",
      "epoch: 74, Train error: 0.447, Train accuracy: 0.840 Validation error: 0.642, Validation accuracy: 0.826\n",
      "epoch: 75, Train error: 0.447, Train accuracy: 0.839 Validation error: 0.641, Validation accuracy: 0.827\n",
      "epoch: 76, Train error: 0.444, Train accuracy: 0.838 Validation error: 0.633, Validation accuracy: 0.829\n",
      "epoch: 77, Train error: 0.442, Train accuracy: 0.840 Validation error: 0.642, Validation accuracy: 0.827\n",
      "epoch: 78, Train error: 0.442, Train accuracy: 0.839 Validation error: 0.631, Validation accuracy: 0.829\n"
     ]
    },
    {
     "name": "stdout",
     "output_type": "stream",
     "text": [
      "epoch: 79, Train error: 0.436, Train accuracy: 0.843 Validation error: 0.628, Validation accuracy: 0.830\n",
      "epoch: 80, Train error: 0.437, Train accuracy: 0.843 Validation error: 0.639, Validation accuracy: 0.825\n",
      "epoch: 81, Train error: 0.430, Train accuracy: 0.845 Validation error: 0.635, Validation accuracy: 0.827\n",
      "epoch: 82, Train error: 0.431, Train accuracy: 0.845 Validation error: 0.628, Validation accuracy: 0.833\n",
      "epoch: 83, Train error: 0.432, Train accuracy: 0.843 Validation error: 0.627, Validation accuracy: 0.834\n",
      "epoch: 84, Train error: 0.435, Train accuracy: 0.844 Validation error: 0.630, Validation accuracy: 0.827\n",
      "epoch: 85, Train error: 0.430, Train accuracy: 0.845 Validation error: 0.631, Validation accuracy: 0.830\n",
      "epoch: 86, Train error: 0.426, Train accuracy: 0.848 Validation error: 0.632, Validation accuracy: 0.828\n",
      "epoch: 87, Train error: 0.425, Train accuracy: 0.845 Validation error: 0.644, Validation accuracy: 0.826\n",
      "epoch: 88, Train error: 0.426, Train accuracy: 0.847 Validation error: 0.625, Validation accuracy: 0.830\n",
      "epoch: 89, Train error: 0.426, Train accuracy: 0.846 Validation error: 0.626, Validation accuracy: 0.833\n",
      "epoch: 90, Train error: 0.425, Train accuracy: 0.846 Validation error: 0.625, Validation accuracy: 0.834\n",
      "epoch: 91, Train error: 0.424, Train accuracy: 0.846 Validation error: 0.628, Validation accuracy: 0.834\n",
      "epoch: 92, Train error: 0.422, Train accuracy: 0.849 Validation error: 0.633, Validation accuracy: 0.832\n",
      "epoch: 93, Train error: 0.425, Train accuracy: 0.846 Validation error: 0.629, Validation accuracy: 0.830\n",
      "epoch: 94, Train error: 0.421, Train accuracy: 0.847 Validation error: 0.631, Validation accuracy: 0.830\n",
      "epoch: 95, Train error: 0.420, Train accuracy: 0.848 Validation error: 0.625, Validation accuracy: 0.832\n",
      "epoch: 96, Train error: 0.414, Train accuracy: 0.849 Validation error: 0.620, Validation accuracy: 0.835\n",
      "epoch: 97, Train error: 0.418, Train accuracy: 0.851 Validation error: 0.631, Validation accuracy: 0.835\n",
      "epoch: 98, Train error: 0.419, Train accuracy: 0.849 Validation error: 0.624, Validation accuracy: 0.835\n",
      "epoch: 99, Train error: 0.408, Train accuracy: 0.851 Validation error: 0.621, Validation accuracy: 0.837\n",
      "epoch: 100, Train error: 0.413, Train accuracy: 0.851 Validation error: 0.628, Validation accuracy: 0.835\n",
      "epoch: 101, Train error: 0.413, Train accuracy: 0.850 Validation error: 0.614, Validation accuracy: 0.837\n",
      "epoch: 102, Train error: 0.410, Train accuracy: 0.852 Validation error: 0.627, Validation accuracy: 0.832\n",
      "epoch: 103, Train error: 0.406, Train accuracy: 0.852 Validation error: 0.628, Validation accuracy: 0.832\n",
      "epoch: 104, Train error: 0.410, Train accuracy: 0.852 Validation error: 0.620, Validation accuracy: 0.837\n",
      "epoch: 105, Train error: 0.408, Train accuracy: 0.851 Validation error: 0.623, Validation accuracy: 0.836\n",
      "epoch: 106, Train error: 0.404, Train accuracy: 0.853 Validation error: 0.621, Validation accuracy: 0.835\n",
      "epoch: 107, Train error: 0.408, Train accuracy: 0.852 Validation error: 0.628, Validation accuracy: 0.835\n",
      "epoch: 108, Train error: 0.402, Train accuracy: 0.853 Validation error: 0.629, Validation accuracy: 0.833\n",
      "epoch: 109, Train error: 0.404, Train accuracy: 0.854 Validation error: 0.621, Validation accuracy: 0.836\n",
      "epoch: 110, Train error: 0.397, Train accuracy: 0.855 Validation error: 0.625, Validation accuracy: 0.836\n",
      "epoch: 111, Train error: 0.398, Train accuracy: 0.855 Validation error: 0.629, Validation accuracy: 0.831\n",
      "epoch: 112, Train error: 0.403, Train accuracy: 0.854 Validation error: 0.624, Validation accuracy: 0.835\n",
      "epoch: 113, Train error: 0.398, Train accuracy: 0.856 Validation error: 0.618, Validation accuracy: 0.838\n",
      "epoch: 114, Train error: 0.398, Train accuracy: 0.856 Validation error: 0.623, Validation accuracy: 0.837\n",
      "epoch: 115, Train error: 0.399, Train accuracy: 0.856 Validation error: 0.624, Validation accuracy: 0.832\n",
      "epoch: 116, Train error: 0.396, Train accuracy: 0.855 Validation error: 0.630, Validation accuracy: 0.834\n",
      "epoch: 117, Train error: 0.391, Train accuracy: 0.859 Validation error: 0.614, Validation accuracy: 0.836\n",
      "epoch: 118, Train error: 0.393, Train accuracy: 0.856 Validation error: 0.620, Validation accuracy: 0.835\n",
      "epoch: 119, Train error: 0.389, Train accuracy: 0.857 Validation error: 0.623, Validation accuracy: 0.837\n",
      "epoch: 120, Train error: 0.392, Train accuracy: 0.859 Validation error: 0.630, Validation accuracy: 0.836\n",
      "epoch: 121, Train error: 0.390, Train accuracy: 0.859 Validation error: 0.624, Validation accuracy: 0.838\n",
      "epoch: 122, Train error: 0.388, Train accuracy: 0.856 Validation error: 0.618, Validation accuracy: 0.840\n",
      "epoch: 123, Train error: 0.388, Train accuracy: 0.859 Validation error: 0.621, Validation accuracy: 0.836\n",
      "epoch: 124, Train error: 0.392, Train accuracy: 0.857 Validation error: 0.619, Validation accuracy: 0.836\n",
      "epoch: 125, Train error: 0.391, Train accuracy: 0.858 Validation error: 0.628, Validation accuracy: 0.836\n",
      "epoch: 126, Train error: 0.386, Train accuracy: 0.859 Validation error: 0.624, Validation accuracy: 0.837\n",
      "epoch: 127, Train error: 0.388, Train accuracy: 0.860 Validation error: 0.611, Validation accuracy: 0.839\n",
      "epoch: 128, Train error: 0.383, Train accuracy: 0.861 Validation error: 0.624, Validation accuracy: 0.836\n",
      "epoch: 129, Train error: 0.382, Train accuracy: 0.860 Validation error: 0.623, Validation accuracy: 0.838\n",
      "epoch: 130, Train error: 0.386, Train accuracy: 0.860 Validation error: 0.621, Validation accuracy: 0.839\n",
      "epoch: 131, Train error: 0.382, Train accuracy: 0.861 Validation error: 0.620, Validation accuracy: 0.839\n",
      "epoch: 132, Train error: 0.379, Train accuracy: 0.863 Validation error: 0.615, Validation accuracy: 0.837\n",
      "epoch: 133, Train error: 0.384, Train accuracy: 0.861 Validation error: 0.614, Validation accuracy: 0.839\n",
      "epoch: 134, Train error: 0.385, Train accuracy: 0.861 Validation error: 0.620, Validation accuracy: 0.837\n",
      "epoch: 135, Train error: 0.380, Train accuracy: 0.860 Validation error: 0.623, Validation accuracy: 0.840\n",
      "epoch: 136, Train error: 0.379, Train accuracy: 0.861 Validation error: 0.618, Validation accuracy: 0.838\n",
      "epoch: 137, Train error: 0.379, Train accuracy: 0.863 Validation error: 0.616, Validation accuracy: 0.843\n",
      "epoch: 138, Train error: 0.384, Train accuracy: 0.862 Validation error: 0.624, Validation accuracy: 0.840\n",
      "epoch: 139, Train error: 0.377, Train accuracy: 0.863 Validation error: 0.619, Validation accuracy: 0.839\n",
      "epoch: 140, Train error: 0.374, Train accuracy: 0.864 Validation error: 0.624, Validation accuracy: 0.838\n",
      "epoch: 141, Train error: 0.375, Train accuracy: 0.863 Validation error: 0.623, Validation accuracy: 0.839\n",
      "epoch: 142, Train error: 0.374, Train accuracy: 0.862 Validation error: 0.614, Validation accuracy: 0.839\n",
      "epoch: 143, Train error: 0.371, Train accuracy: 0.865 Validation error: 0.623, Validation accuracy: 0.840\n",
      "epoch: 144, Train error: 0.372, Train accuracy: 0.864 Validation error: 0.620, Validation accuracy: 0.841\n",
      "epoch: 145, Train error: 0.370, Train accuracy: 0.864 Validation error: 0.615, Validation accuracy: 0.840\n",
      "epoch: 146, Train error: 0.372, Train accuracy: 0.863 Validation error: 0.614, Validation accuracy: 0.842\n",
      "epoch: 147, Train error: 0.375, Train accuracy: 0.863 Validation error: 0.620, Validation accuracy: 0.842\n",
      "epoch: 148, Train error: 0.372, Train accuracy: 0.865 Validation error: 0.616, Validation accuracy: 0.843\n",
      "epoch: 149, Train error: 0.366, Train accuracy: 0.866 Validation error: 0.618, Validation accuracy: 0.841\n",
      "epoch: 150, Train error: 0.368, Train accuracy: 0.866 Validation error: 0.618, Validation accuracy: 0.839\n",
      "epoch: 151, Train error: 0.370, Train accuracy: 0.864 Validation error: 0.613, Validation accuracy: 0.843\n",
      "epoch: 152, Train error: 0.365, Train accuracy: 0.866 Validation error: 0.621, Validation accuracy: 0.843\n",
      "epoch: 153, Train error: 0.364, Train accuracy: 0.867 Validation error: 0.615, Validation accuracy: 0.842\n",
      "epoch: 154, Train error: 0.367, Train accuracy: 0.865 Validation error: 0.616, Validation accuracy: 0.841\n",
      "epoch: 155, Train error: 0.368, Train accuracy: 0.866 Validation error: 0.612, Validation accuracy: 0.845\n",
      "epoch: 156, Train error: 0.360, Train accuracy: 0.868 Validation error: 0.616, Validation accuracy: 0.843\n"
     ]
    },
    {
     "name": "stdout",
     "output_type": "stream",
     "text": [
      "epoch: 157, Train error: 0.367, Train accuracy: 0.865 Validation error: 0.613, Validation accuracy: 0.844\n",
      "epoch: 158, Train error: 0.361, Train accuracy: 0.867 Validation error: 0.621, Validation accuracy: 0.839\n",
      "epoch: 159, Train error: 0.362, Train accuracy: 0.867 Validation error: 0.617, Validation accuracy: 0.842\n",
      "epoch: 160, Train error: 0.363, Train accuracy: 0.866 Validation error: 0.612, Validation accuracy: 0.842\n",
      "epoch: 161, Train error: 0.359, Train accuracy: 0.868 Validation error: 0.619, Validation accuracy: 0.844\n",
      "epoch: 162, Train error: 0.361, Train accuracy: 0.867 Validation error: 0.614, Validation accuracy: 0.842\n",
      "epoch: 163, Train error: 0.359, Train accuracy: 0.868 Validation error: 0.620, Validation accuracy: 0.843\n",
      "epoch: 164, Train error: 0.361, Train accuracy: 0.867 Validation error: 0.615, Validation accuracy: 0.843\n",
      "epoch: 165, Train error: 0.360, Train accuracy: 0.868 Validation error: 0.614, Validation accuracy: 0.843\n",
      "epoch: 166, Train error: 0.360, Train accuracy: 0.869 Validation error: 0.616, Validation accuracy: 0.842\n",
      "epoch: 167, Train error: 0.361, Train accuracy: 0.867 Validation error: 0.615, Validation accuracy: 0.844\n",
      "epoch: 168, Train error: 0.360, Train accuracy: 0.868 Validation error: 0.616, Validation accuracy: 0.842\n",
      "epoch: 169, Train error: 0.352, Train accuracy: 0.869 Validation error: 0.616, Validation accuracy: 0.844\n",
      "epoch: 170, Train error: 0.356, Train accuracy: 0.870 Validation error: 0.612, Validation accuracy: 0.847\n",
      "epoch: 171, Train error: 0.352, Train accuracy: 0.870 Validation error: 0.617, Validation accuracy: 0.845\n",
      "epoch: 172, Train error: 0.355, Train accuracy: 0.869 Validation error: 0.624, Validation accuracy: 0.844\n",
      "epoch: 173, Train error: 0.353, Train accuracy: 0.871 Validation error: 0.613, Validation accuracy: 0.846\n",
      "epoch: 174, Train error: 0.353, Train accuracy: 0.869 Validation error: 0.614, Validation accuracy: 0.845\n",
      "epoch: 175, Train error: 0.352, Train accuracy: 0.869 Validation error: 0.615, Validation accuracy: 0.846\n",
      "epoch: 176, Train error: 0.354, Train accuracy: 0.869 Validation error: 0.615, Validation accuracy: 0.845\n",
      "epoch: 177, Train error: 0.356, Train accuracy: 0.869 Validation error: 0.618, Validation accuracy: 0.844\n",
      "epoch: 178, Train error: 0.349, Train accuracy: 0.872 Validation error: 0.619, Validation accuracy: 0.846\n",
      "epoch: 179, Train error: 0.351, Train accuracy: 0.871 Validation error: 0.616, Validation accuracy: 0.843\n",
      "epoch: 180, Train error: 0.351, Train accuracy: 0.871 Validation error: 0.615, Validation accuracy: 0.846\n",
      "epoch: 181, Train error: 0.351, Train accuracy: 0.871 Validation error: 0.620, Validation accuracy: 0.842\n",
      "epoch: 182, Train error: 0.348, Train accuracy: 0.872 Validation error: 0.612, Validation accuracy: 0.846\n",
      "epoch: 183, Train error: 0.347, Train accuracy: 0.870 Validation error: 0.614, Validation accuracy: 0.846\n",
      "epoch: 184, Train error: 0.349, Train accuracy: 0.873 Validation error: 0.622, Validation accuracy: 0.847\n",
      "epoch: 185, Train error: 0.344, Train accuracy: 0.873 Validation error: 0.611, Validation accuracy: 0.847\n",
      "epoch: 186, Train error: 0.342, Train accuracy: 0.873 Validation error: 0.614, Validation accuracy: 0.846\n",
      "epoch: 187, Train error: 0.349, Train accuracy: 0.872 Validation error: 0.614, Validation accuracy: 0.846\n",
      "epoch: 188, Train error: 0.346, Train accuracy: 0.872 Validation error: 0.614, Validation accuracy: 0.845\n",
      "epoch: 189, Train error: 0.346, Train accuracy: 0.872 Validation error: 0.612, Validation accuracy: 0.847\n",
      "epoch: 190, Train error: 0.344, Train accuracy: 0.873 Validation error: 0.613, Validation accuracy: 0.847\n",
      "epoch: 191, Train error: 0.345, Train accuracy: 0.872 Validation error: 0.613, Validation accuracy: 0.848\n",
      "epoch: 192, Train error: 0.342, Train accuracy: 0.874 Validation error: 0.616, Validation accuracy: 0.849\n",
      "epoch: 193, Train error: 0.345, Train accuracy: 0.873 Validation error: 0.621, Validation accuracy: 0.842\n",
      "epoch: 194, Train error: 0.343, Train accuracy: 0.874 Validation error: 0.613, Validation accuracy: 0.848\n",
      "epoch: 195, Train error: 0.342, Train accuracy: 0.872 Validation error: 0.613, Validation accuracy: 0.849\n",
      "epoch: 196, Train error: 0.338, Train accuracy: 0.875 Validation error: 0.616, Validation accuracy: 0.847\n",
      "epoch: 197, Train error: 0.341, Train accuracy: 0.873 Validation error: 0.622, Validation accuracy: 0.848\n",
      "epoch: 198, Train error: 0.339, Train accuracy: 0.877 Validation error: 0.619, Validation accuracy: 0.846\n",
      "epoch: 199, Train error: 0.337, Train accuracy: 0.875 Validation error: 0.611, Validation accuracy: 0.850\n",
      "epoch: 200, Train error: 0.337, Train accuracy: 0.876 Validation error: 0.613, Validation accuracy: 0.850\n",
      "epoch: 201, Train error: 0.337, Train accuracy: 0.876 Validation error: 0.618, Validation accuracy: 0.849\n",
      "epoch: 202, Train error: 0.338, Train accuracy: 0.875 Validation error: 0.615, Validation accuracy: 0.844\n",
      "epoch: 203, Train error: 0.336, Train accuracy: 0.878 Validation error: 0.609, Validation accuracy: 0.850\n",
      "epoch: 204, Train error: 0.336, Train accuracy: 0.875 Validation error: 0.613, Validation accuracy: 0.849\n",
      "epoch: 205, Train error: 0.337, Train accuracy: 0.876 Validation error: 0.610, Validation accuracy: 0.848\n",
      "epoch: 206, Train error: 0.336, Train accuracy: 0.875 Validation error: 0.614, Validation accuracy: 0.848\n",
      "epoch: 207, Train error: 0.334, Train accuracy: 0.876 Validation error: 0.616, Validation accuracy: 0.847\n",
      "epoch: 208, Train error: 0.338, Train accuracy: 0.876 Validation error: 0.617, Validation accuracy: 0.849\n",
      "epoch: 209, Train error: 0.338, Train accuracy: 0.875 Validation error: 0.622, Validation accuracy: 0.847\n",
      "epoch: 210, Train error: 0.336, Train accuracy: 0.876 Validation error: 0.616, Validation accuracy: 0.847\n",
      "epoch: 211, Train error: 0.331, Train accuracy: 0.878 Validation error: 0.613, Validation accuracy: 0.850\n",
      "epoch: 212, Train error: 0.337, Train accuracy: 0.877 Validation error: 0.616, Validation accuracy: 0.848\n",
      "epoch: 213, Train error: 0.333, Train accuracy: 0.877 Validation error: 0.622, Validation accuracy: 0.847\n",
      "epoch: 214, Train error: 0.333, Train accuracy: 0.877 Validation error: 0.609, Validation accuracy: 0.849\n",
      "epoch: 215, Train error: 0.329, Train accuracy: 0.878 Validation error: 0.608, Validation accuracy: 0.851\n",
      "epoch: 216, Train error: 0.332, Train accuracy: 0.878 Validation error: 0.615, Validation accuracy: 0.848\n",
      "epoch: 217, Train error: 0.336, Train accuracy: 0.875 Validation error: 0.621, Validation accuracy: 0.849\n",
      "epoch: 218, Train error: 0.327, Train accuracy: 0.879 Validation error: 0.616, Validation accuracy: 0.848\n",
      "epoch: 219, Train error: 0.331, Train accuracy: 0.877 Validation error: 0.609, Validation accuracy: 0.850\n",
      "epoch: 220, Train error: 0.330, Train accuracy: 0.877 Validation error: 0.613, Validation accuracy: 0.851\n",
      "epoch: 221, Train error: 0.335, Train accuracy: 0.877 Validation error: 0.611, Validation accuracy: 0.850\n",
      "epoch: 222, Train error: 0.328, Train accuracy: 0.880 Validation error: 0.623, Validation accuracy: 0.851\n",
      "epoch: 223, Train error: 0.332, Train accuracy: 0.877 Validation error: 0.610, Validation accuracy: 0.851\n",
      "epoch: 224, Train error: 0.324, Train accuracy: 0.880 Validation error: 0.610, Validation accuracy: 0.852\n",
      "epoch: 225, Train error: 0.327, Train accuracy: 0.880 Validation error: 0.617, Validation accuracy: 0.849\n",
      "epoch: 226, Train error: 0.328, Train accuracy: 0.879 Validation error: 0.624, Validation accuracy: 0.847\n",
      "epoch: 227, Train error: 0.327, Train accuracy: 0.879 Validation error: 0.620, Validation accuracy: 0.849\n",
      "epoch: 228, Train error: 0.326, Train accuracy: 0.881 Validation error: 0.622, Validation accuracy: 0.848\n",
      "epoch: 229, Train error: 0.330, Train accuracy: 0.878 Validation error: 0.612, Validation accuracy: 0.851\n",
      "epoch: 230, Train error: 0.327, Train accuracy: 0.878 Validation error: 0.610, Validation accuracy: 0.849\n",
      "epoch: 231, Train error: 0.328, Train accuracy: 0.879 Validation error: 0.619, Validation accuracy: 0.849\n",
      "epoch: 232, Train error: 0.323, Train accuracy: 0.881 Validation error: 0.615, Validation accuracy: 0.849\n",
      "epoch: 233, Train error: 0.325, Train accuracy: 0.879 Validation error: 0.613, Validation accuracy: 0.851\n",
      "epoch: 234, Train error: 0.318, Train accuracy: 0.882 Validation error: 0.614, Validation accuracy: 0.850\n"
     ]
    },
    {
     "name": "stdout",
     "output_type": "stream",
     "text": [
      "epoch: 235, Train error: 0.322, Train accuracy: 0.883 Validation error: 0.612, Validation accuracy: 0.852\n",
      "epoch: 236, Train error: 0.323, Train accuracy: 0.881 Validation error: 0.615, Validation accuracy: 0.848\n",
      "epoch: 237, Train error: 0.323, Train accuracy: 0.880 Validation error: 0.615, Validation accuracy: 0.850\n",
      "epoch: 238, Train error: 0.321, Train accuracy: 0.881 Validation error: 0.615, Validation accuracy: 0.847\n",
      "epoch: 239, Train error: 0.318, Train accuracy: 0.883 Validation error: 0.619, Validation accuracy: 0.848\n",
      "epoch: 240, Train error: 0.318, Train accuracy: 0.883 Validation error: 0.614, Validation accuracy: 0.852\n",
      "epoch: 241, Train error: 0.320, Train accuracy: 0.881 Validation error: 0.613, Validation accuracy: 0.851\n",
      "epoch: 242, Train error: 0.318, Train accuracy: 0.881 Validation error: 0.609, Validation accuracy: 0.853\n",
      "epoch: 243, Train error: 0.319, Train accuracy: 0.883 Validation error: 0.625, Validation accuracy: 0.849\n",
      "epoch: 244, Train error: 0.322, Train accuracy: 0.881 Validation error: 0.611, Validation accuracy: 0.851\n",
      "epoch: 245, Train error: 0.320, Train accuracy: 0.881 Validation error: 0.623, Validation accuracy: 0.853\n",
      "epoch: 246, Train error: 0.318, Train accuracy: 0.882 Validation error: 0.612, Validation accuracy: 0.852\n",
      "epoch: 247, Train error: 0.316, Train accuracy: 0.884 Validation error: 0.611, Validation accuracy: 0.850\n",
      "epoch: 248, Train error: 0.318, Train accuracy: 0.883 Validation error: 0.608, Validation accuracy: 0.854\n",
      "epoch: 249, Train error: 0.317, Train accuracy: 0.883 Validation error: 0.613, Validation accuracy: 0.852\n",
      "epoch: 250, Train error: 0.313, Train accuracy: 0.884 Validation error: 0.616, Validation accuracy: 0.852\n",
      "epoch: 251, Train error: 0.317, Train accuracy: 0.883 Validation error: 0.618, Validation accuracy: 0.852\n",
      "epoch: 252, Train error: 0.320, Train accuracy: 0.881 Validation error: 0.618, Validation accuracy: 0.853\n",
      "epoch: 253, Train error: 0.317, Train accuracy: 0.883 Validation error: 0.616, Validation accuracy: 0.855\n",
      "epoch: 254, Train error: 0.316, Train accuracy: 0.884 Validation error: 0.612, Validation accuracy: 0.850\n",
      "epoch: 255, Train error: 0.314, Train accuracy: 0.884 Validation error: 0.613, Validation accuracy: 0.853\n",
      "epoch: 256, Train error: 0.315, Train accuracy: 0.883 Validation error: 0.615, Validation accuracy: 0.852\n",
      "epoch: 257, Train error: 0.314, Train accuracy: 0.883 Validation error: 0.627, Validation accuracy: 0.848\n",
      "epoch: 258, Train error: 0.311, Train accuracy: 0.885 Validation error: 0.626, Validation accuracy: 0.848\n",
      "epoch: 259, Train error: 0.312, Train accuracy: 0.884 Validation error: 0.619, Validation accuracy: 0.852\n",
      "epoch: 260, Train error: 0.310, Train accuracy: 0.885 Validation error: 0.622, Validation accuracy: 0.852\n",
      "epoch: 261, Train error: 0.316, Train accuracy: 0.882 Validation error: 0.608, Validation accuracy: 0.854\n",
      "epoch: 262, Train error: 0.313, Train accuracy: 0.884 Validation error: 0.615, Validation accuracy: 0.850\n",
      "epoch: 263, Train error: 0.310, Train accuracy: 0.884 Validation error: 0.616, Validation accuracy: 0.852\n",
      "epoch: 264, Train error: 0.315, Train accuracy: 0.883 Validation error: 0.614, Validation accuracy: 0.852\n",
      "epoch: 265, Train error: 0.311, Train accuracy: 0.884 Validation error: 0.617, Validation accuracy: 0.851\n",
      "epoch: 266, Train error: 0.309, Train accuracy: 0.885 Validation error: 0.611, Validation accuracy: 0.852\n",
      "epoch: 267, Train error: 0.308, Train accuracy: 0.885 Validation error: 0.611, Validation accuracy: 0.855\n",
      "epoch: 268, Train error: 0.309, Train accuracy: 0.885 Validation error: 0.618, Validation accuracy: 0.852\n",
      "epoch: 269, Train error: 0.310, Train accuracy: 0.886 Validation error: 0.616, Validation accuracy: 0.850\n",
      "epoch: 270, Train error: 0.308, Train accuracy: 0.886 Validation error: 0.616, Validation accuracy: 0.852\n",
      "epoch: 271, Train error: 0.307, Train accuracy: 0.886 Validation error: 0.614, Validation accuracy: 0.855\n",
      "epoch: 272, Train error: 0.310, Train accuracy: 0.886 Validation error: 0.618, Validation accuracy: 0.851\n",
      "epoch: 273, Train error: 0.307, Train accuracy: 0.887 Validation error: 0.616, Validation accuracy: 0.853\n",
      "epoch: 274, Train error: 0.301, Train accuracy: 0.888 Validation error: 0.608, Validation accuracy: 0.856\n",
      "epoch: 275, Train error: 0.307, Train accuracy: 0.884 Validation error: 0.612, Validation accuracy: 0.854\n",
      "epoch: 276, Train error: 0.308, Train accuracy: 0.886 Validation error: 0.616, Validation accuracy: 0.853\n",
      "epoch: 277, Train error: 0.302, Train accuracy: 0.887 Validation error: 0.618, Validation accuracy: 0.852\n",
      "epoch: 278, Train error: 0.307, Train accuracy: 0.887 Validation error: 0.616, Validation accuracy: 0.853\n",
      "epoch: 279, Train error: 0.308, Train accuracy: 0.886 Validation error: 0.614, Validation accuracy: 0.854\n",
      "epoch: 280, Train error: 0.305, Train accuracy: 0.887 Validation error: 0.625, Validation accuracy: 0.848\n",
      "epoch: 281, Train error: 0.307, Train accuracy: 0.887 Validation error: 0.610, Validation accuracy: 0.855\n",
      "epoch: 282, Train error: 0.308, Train accuracy: 0.884 Validation error: 0.619, Validation accuracy: 0.852\n",
      "epoch: 283, Train error: 0.305, Train accuracy: 0.886 Validation error: 0.609, Validation accuracy: 0.854\n",
      "epoch: 284, Train error: 0.301, Train accuracy: 0.888 Validation error: 0.623, Validation accuracy: 0.852\n",
      "epoch: 285, Train error: 0.304, Train accuracy: 0.888 Validation error: 0.610, Validation accuracy: 0.853\n",
      "epoch: 286, Train error: 0.302, Train accuracy: 0.888 Validation error: 0.625, Validation accuracy: 0.853\n",
      "epoch: 287, Train error: 0.305, Train accuracy: 0.887 Validation error: 0.618, Validation accuracy: 0.854\n",
      "epoch: 288, Train error: 0.304, Train accuracy: 0.886 Validation error: 0.612, Validation accuracy: 0.854\n",
      "epoch: 289, Train error: 0.303, Train accuracy: 0.887 Validation error: 0.619, Validation accuracy: 0.854\n",
      "epoch: 290, Train error: 0.302, Train accuracy: 0.887 Validation error: 0.618, Validation accuracy: 0.852\n",
      "epoch: 291, Train error: 0.303, Train accuracy: 0.888 Validation error: 0.620, Validation accuracy: 0.855\n",
      "epoch: 292, Train error: 0.305, Train accuracy: 0.888 Validation error: 0.616, Validation accuracy: 0.854\n",
      "epoch: 293, Train error: 0.300, Train accuracy: 0.888 Validation error: 0.616, Validation accuracy: 0.854\n",
      "epoch: 294, Train error: 0.301, Train accuracy: 0.888 Validation error: 0.613, Validation accuracy: 0.854\n",
      "epoch: 295, Train error: 0.299, Train accuracy: 0.888 Validation error: 0.623, Validation accuracy: 0.851\n",
      "epoch: 296, Train error: 0.300, Train accuracy: 0.889 Validation error: 0.613, Validation accuracy: 0.855\n",
      "epoch: 297, Train error: 0.300, Train accuracy: 0.889 Validation error: 0.622, Validation accuracy: 0.856\n",
      "epoch: 298, Train error: 0.300, Train accuracy: 0.889 Validation error: 0.626, Validation accuracy: 0.853\n",
      "epoch: 299, Train error: 0.301, Train accuracy: 0.887 Validation error: 0.624, Validation accuracy: 0.853\n",
      "epoch: 300, Train error: 0.301, Train accuracy: 0.889 Validation error: 0.627, Validation accuracy: 0.854\n",
      "epoch: 301, Train error: 0.301, Train accuracy: 0.890 Validation error: 0.621, Validation accuracy: 0.855\n",
      "epoch: 302, Train error: 0.296, Train accuracy: 0.891 Validation error: 0.616, Validation accuracy: 0.856\n",
      "epoch: 303, Train error: 0.297, Train accuracy: 0.889 Validation error: 0.624, Validation accuracy: 0.852\n",
      "epoch: 304, Train error: 0.296, Train accuracy: 0.889 Validation error: 0.619, Validation accuracy: 0.855\n",
      "epoch: 305, Train error: 0.297, Train accuracy: 0.891 Validation error: 0.622, Validation accuracy: 0.855\n",
      "epoch: 306, Train error: 0.299, Train accuracy: 0.888 Validation error: 0.618, Validation accuracy: 0.856\n",
      "epoch: 307, Train error: 0.298, Train accuracy: 0.890 Validation error: 0.621, Validation accuracy: 0.855\n",
      "epoch: 308, Train error: 0.298, Train accuracy: 0.888 Validation error: 0.620, Validation accuracy: 0.853\n",
      "epoch: 309, Train error: 0.296, Train accuracy: 0.891 Validation error: 0.626, Validation accuracy: 0.852\n",
      "epoch: 310, Train error: 0.295, Train accuracy: 0.891 Validation error: 0.620, Validation accuracy: 0.857\n",
      "epoch: 311, Train error: 0.292, Train accuracy: 0.891 Validation error: 0.617, Validation accuracy: 0.854\n",
      "epoch: 312, Train error: 0.298, Train accuracy: 0.888 Validation error: 0.616, Validation accuracy: 0.854\n"
     ]
    },
    {
     "name": "stdout",
     "output_type": "stream",
     "text": [
      "epoch: 313, Train error: 0.296, Train accuracy: 0.891 Validation error: 0.616, Validation accuracy: 0.856\n",
      "epoch: 314, Train error: 0.295, Train accuracy: 0.890 Validation error: 0.631, Validation accuracy: 0.852\n",
      "epoch: 315, Train error: 0.295, Train accuracy: 0.890 Validation error: 0.624, Validation accuracy: 0.852\n",
      "epoch: 316, Train error: 0.296, Train accuracy: 0.891 Validation error: 0.619, Validation accuracy: 0.854\n",
      "epoch: 317, Train error: 0.292, Train accuracy: 0.892 Validation error: 0.621, Validation accuracy: 0.854\n",
      "epoch: 318, Train error: 0.291, Train accuracy: 0.892 Validation error: 0.623, Validation accuracy: 0.854\n",
      "epoch: 319, Train error: 0.293, Train accuracy: 0.891 Validation error: 0.623, Validation accuracy: 0.855\n",
      "epoch: 320, Train error: 0.298, Train accuracy: 0.890 Validation error: 0.619, Validation accuracy: 0.852\n",
      "epoch: 321, Train error: 0.289, Train accuracy: 0.892 Validation error: 0.622, Validation accuracy: 0.856\n",
      "epoch: 322, Train error: 0.294, Train accuracy: 0.893 Validation error: 0.618, Validation accuracy: 0.854\n",
      "epoch: 323, Train error: 0.291, Train accuracy: 0.890 Validation error: 0.625, Validation accuracy: 0.855\n",
      "epoch: 324, Train error: 0.290, Train accuracy: 0.891 Validation error: 0.624, Validation accuracy: 0.853\n",
      "epoch: 325, Train error: 0.290, Train accuracy: 0.890 Validation error: 0.623, Validation accuracy: 0.855\n",
      "epoch: 326, Train error: 0.292, Train accuracy: 0.893 Validation error: 0.632, Validation accuracy: 0.852\n",
      "epoch: 327, Train error: 0.291, Train accuracy: 0.892 Validation error: 0.622, Validation accuracy: 0.856\n",
      "epoch: 328, Train error: 0.289, Train accuracy: 0.893 Validation error: 0.628, Validation accuracy: 0.853\n",
      "epoch: 329, Train error: 0.289, Train accuracy: 0.892 Validation error: 0.622, Validation accuracy: 0.854\n",
      "epoch: 330, Train error: 0.294, Train accuracy: 0.889 Validation error: 0.620, Validation accuracy: 0.851\n",
      "epoch: 331, Train error: 0.284, Train accuracy: 0.894 Validation error: 0.620, Validation accuracy: 0.857\n",
      "epoch: 332, Train error: 0.288, Train accuracy: 0.893 Validation error: 0.620, Validation accuracy: 0.854\n",
      "epoch: 333, Train error: 0.289, Train accuracy: 0.892 Validation error: 0.618, Validation accuracy: 0.855\n",
      "epoch: 334, Train error: 0.284, Train accuracy: 0.892 Validation error: 0.629, Validation accuracy: 0.851\n",
      "epoch: 335, Train error: 0.285, Train accuracy: 0.892 Validation error: 0.617, Validation accuracy: 0.857\n",
      "epoch: 336, Train error: 0.289, Train accuracy: 0.892 Validation error: 0.626, Validation accuracy: 0.856\n",
      "epoch: 337, Train error: 0.287, Train accuracy: 0.893 Validation error: 0.622, Validation accuracy: 0.854\n",
      "epoch: 338, Train error: 0.286, Train accuracy: 0.893 Validation error: 0.624, Validation accuracy: 0.857\n",
      "epoch: 339, Train error: 0.286, Train accuracy: 0.893 Validation error: 0.621, Validation accuracy: 0.859\n",
      "epoch: 340, Train error: 0.286, Train accuracy: 0.893 Validation error: 0.622, Validation accuracy: 0.855\n",
      "epoch: 341, Train error: 0.285, Train accuracy: 0.894 Validation error: 0.618, Validation accuracy: 0.855\n",
      "epoch: 342, Train error: 0.285, Train accuracy: 0.895 Validation error: 0.620, Validation accuracy: 0.854\n",
      "epoch: 343, Train error: 0.288, Train accuracy: 0.893 Validation error: 0.617, Validation accuracy: 0.856\n",
      "epoch: 344, Train error: 0.285, Train accuracy: 0.895 Validation error: 0.622, Validation accuracy: 0.854\n",
      "epoch: 345, Train error: 0.285, Train accuracy: 0.896 Validation error: 0.617, Validation accuracy: 0.858\n",
      "epoch: 346, Train error: 0.285, Train accuracy: 0.894 Validation error: 0.628, Validation accuracy: 0.858\n",
      "epoch: 347, Train error: 0.287, Train accuracy: 0.894 Validation error: 0.629, Validation accuracy: 0.857\n",
      "epoch: 348, Train error: 0.281, Train accuracy: 0.893 Validation error: 0.622, Validation accuracy: 0.856\n",
      "epoch: 349, Train error: 0.283, Train accuracy: 0.894 Validation error: 0.625, Validation accuracy: 0.854\n",
      "epoch: 350, Train error: 0.284, Train accuracy: 0.893 Validation error: 0.626, Validation accuracy: 0.856\n",
      "epoch: 351, Train error: 0.286, Train accuracy: 0.893 Validation error: 0.625, Validation accuracy: 0.855\n",
      "epoch: 352, Train error: 0.281, Train accuracy: 0.894 Validation error: 0.619, Validation accuracy: 0.858\n",
      "epoch: 353, Train error: 0.284, Train accuracy: 0.894 Validation error: 0.627, Validation accuracy: 0.857\n",
      "epoch: 354, Train error: 0.279, Train accuracy: 0.896 Validation error: 0.629, Validation accuracy: 0.856\n",
      "epoch: 355, Train error: 0.284, Train accuracy: 0.894 Validation error: 0.617, Validation accuracy: 0.858\n",
      "epoch: 356, Train error: 0.277, Train accuracy: 0.897 Validation error: 0.628, Validation accuracy: 0.858\n",
      "epoch: 357, Train error: 0.281, Train accuracy: 0.896 Validation error: 0.624, Validation accuracy: 0.856\n",
      "epoch: 358, Train error: 0.279, Train accuracy: 0.895 Validation error: 0.633, Validation accuracy: 0.853\n",
      "epoch: 359, Train error: 0.279, Train accuracy: 0.895 Validation error: 0.618, Validation accuracy: 0.858\n",
      "epoch: 360, Train error: 0.280, Train accuracy: 0.897 Validation error: 0.623, Validation accuracy: 0.856\n",
      "epoch: 361, Train error: 0.283, Train accuracy: 0.895 Validation error: 0.619, Validation accuracy: 0.859\n",
      "epoch: 362, Train error: 0.280, Train accuracy: 0.896 Validation error: 0.622, Validation accuracy: 0.858\n",
      "epoch: 363, Train error: 0.280, Train accuracy: 0.896 Validation error: 0.617, Validation accuracy: 0.857\n",
      "epoch: 364, Train error: 0.275, Train accuracy: 0.897 Validation error: 0.630, Validation accuracy: 0.856\n",
      "epoch: 365, Train error: 0.272, Train accuracy: 0.897 Validation error: 0.626, Validation accuracy: 0.855\n",
      "epoch: 366, Train error: 0.278, Train accuracy: 0.896 Validation error: 0.613, Validation accuracy: 0.859\n",
      "epoch: 367, Train error: 0.278, Train accuracy: 0.895 Validation error: 0.623, Validation accuracy: 0.857\n",
      "epoch: 368, Train error: 0.280, Train accuracy: 0.894 Validation error: 0.630, Validation accuracy: 0.855\n",
      "epoch: 369, Train error: 0.276, Train accuracy: 0.897 Validation error: 0.627, Validation accuracy: 0.853\n",
      "epoch: 370, Train error: 0.281, Train accuracy: 0.895 Validation error: 0.627, Validation accuracy: 0.858\n",
      "epoch: 371, Train error: 0.275, Train accuracy: 0.897 Validation error: 0.623, Validation accuracy: 0.857\n",
      "epoch: 372, Train error: 0.279, Train accuracy: 0.895 Validation error: 0.629, Validation accuracy: 0.854\n",
      "epoch: 373, Train error: 0.278, Train accuracy: 0.896 Validation error: 0.625, Validation accuracy: 0.856\n",
      "epoch: 374, Train error: 0.276, Train accuracy: 0.896 Validation error: 0.627, Validation accuracy: 0.856\n",
      "epoch: 375, Train error: 0.275, Train accuracy: 0.897 Validation error: 0.627, Validation accuracy: 0.857\n",
      "epoch: 376, Train error: 0.279, Train accuracy: 0.896 Validation error: 0.626, Validation accuracy: 0.857\n",
      "epoch: 377, Train error: 0.271, Train accuracy: 0.900 Validation error: 0.627, Validation accuracy: 0.857\n",
      "epoch: 378, Train error: 0.276, Train accuracy: 0.897 Validation error: 0.621, Validation accuracy: 0.859\n",
      "epoch: 379, Train error: 0.280, Train accuracy: 0.896 Validation error: 0.620, Validation accuracy: 0.859\n",
      "epoch: 380, Train error: 0.271, Train accuracy: 0.898 Validation error: 0.625, Validation accuracy: 0.860\n",
      "epoch: 381, Train error: 0.278, Train accuracy: 0.896 Validation error: 0.625, Validation accuracy: 0.859\n",
      "epoch: 382, Train error: 0.276, Train accuracy: 0.897 Validation error: 0.626, Validation accuracy: 0.858\n",
      "epoch: 383, Train error: 0.271, Train accuracy: 0.900 Validation error: 0.629, Validation accuracy: 0.857\n",
      "epoch: 384, Train error: 0.273, Train accuracy: 0.899 Validation error: 0.628, Validation accuracy: 0.857\n",
      "epoch: 385, Train error: 0.275, Train accuracy: 0.898 Validation error: 0.628, Validation accuracy: 0.859\n",
      "epoch: 386, Train error: 0.274, Train accuracy: 0.898 Validation error: 0.621, Validation accuracy: 0.862\n",
      "epoch: 387, Train error: 0.275, Train accuracy: 0.898 Validation error: 0.634, Validation accuracy: 0.855\n",
      "epoch: 388, Train error: 0.272, Train accuracy: 0.898 Validation error: 0.636, Validation accuracy: 0.857\n",
      "epoch: 389, Train error: 0.273, Train accuracy: 0.899 Validation error: 0.634, Validation accuracy: 0.854\n",
      "epoch: 390, Train error: 0.271, Train accuracy: 0.897 Validation error: 0.631, Validation accuracy: 0.855\n"
     ]
    },
    {
     "name": "stdout",
     "output_type": "stream",
     "text": [
      "epoch: 391, Train error: 0.274, Train accuracy: 0.898 Validation error: 0.633, Validation accuracy: 0.856\n",
      "epoch: 392, Train error: 0.273, Train accuracy: 0.898 Validation error: 0.634, Validation accuracy: 0.856\n",
      "epoch: 393, Train error: 0.271, Train accuracy: 0.900 Validation error: 0.635, Validation accuracy: 0.857\n",
      "epoch: 394, Train error: 0.270, Train accuracy: 0.898 Validation error: 0.637, Validation accuracy: 0.855\n",
      "epoch: 395, Train error: 0.271, Train accuracy: 0.899 Validation error: 0.641, Validation accuracy: 0.857\n",
      "epoch: 396, Train error: 0.269, Train accuracy: 0.899 Validation error: 0.639, Validation accuracy: 0.857\n",
      "epoch: 397, Train error: 0.273, Train accuracy: 0.899 Validation error: 0.629, Validation accuracy: 0.858\n",
      "epoch: 398, Train error: 0.266, Train accuracy: 0.899 Validation error: 0.633, Validation accuracy: 0.857\n",
      "epoch: 399, Train error: 0.271, Train accuracy: 0.899 Validation error: 0.626, Validation accuracy: 0.860\n",
      "epoch: 400, Train error: 0.271, Train accuracy: 0.898 Validation error: 0.633, Validation accuracy: 0.858\n",
      "epoch: 401, Train error: 0.271, Train accuracy: 0.900 Validation error: 0.627, Validation accuracy: 0.858\n",
      "epoch: 402, Train error: 0.270, Train accuracy: 0.899 Validation error: 0.631, Validation accuracy: 0.857\n",
      "epoch: 403, Train error: 0.266, Train accuracy: 0.899 Validation error: 0.634, Validation accuracy: 0.858\n",
      "epoch: 404, Train error: 0.267, Train accuracy: 0.899 Validation error: 0.645, Validation accuracy: 0.855\n",
      "epoch: 405, Train error: 0.269, Train accuracy: 0.901 Validation error: 0.636, Validation accuracy: 0.857\n",
      "epoch: 406, Train error: 0.270, Train accuracy: 0.899 Validation error: 0.629, Validation accuracy: 0.858\n",
      "epoch: 407, Train error: 0.267, Train accuracy: 0.901 Validation error: 0.628, Validation accuracy: 0.856\n",
      "epoch: 408, Train error: 0.273, Train accuracy: 0.898 Validation error: 0.627, Validation accuracy: 0.859\n",
      "epoch: 409, Train error: 0.266, Train accuracy: 0.901 Validation error: 0.638, Validation accuracy: 0.858\n",
      "epoch: 410, Train error: 0.270, Train accuracy: 0.900 Validation error: 0.633, Validation accuracy: 0.857\n",
      "epoch: 411, Train error: 0.269, Train accuracy: 0.900 Validation error: 0.633, Validation accuracy: 0.856\n",
      "epoch: 412, Train error: 0.270, Train accuracy: 0.900 Validation error: 0.633, Validation accuracy: 0.859\n",
      "epoch: 413, Train error: 0.266, Train accuracy: 0.901 Validation error: 0.636, Validation accuracy: 0.858\n",
      "epoch: 414, Train error: 0.267, Train accuracy: 0.900 Validation error: 0.630, Validation accuracy: 0.860\n",
      "epoch: 415, Train error: 0.263, Train accuracy: 0.902 Validation error: 0.633, Validation accuracy: 0.860\n",
      "epoch: 416, Train error: 0.265, Train accuracy: 0.901 Validation error: 0.634, Validation accuracy: 0.858\n",
      "epoch: 417, Train error: 0.267, Train accuracy: 0.901 Validation error: 0.632, Validation accuracy: 0.858\n",
      "epoch: 418, Train error: 0.263, Train accuracy: 0.901 Validation error: 0.643, Validation accuracy: 0.857\n",
      "epoch: 419, Train error: 0.264, Train accuracy: 0.902 Validation error: 0.638, Validation accuracy: 0.857\n",
      "epoch: 420, Train error: 0.267, Train accuracy: 0.899 Validation error: 0.629, Validation accuracy: 0.862\n",
      "epoch: 421, Train error: 0.267, Train accuracy: 0.900 Validation error: 0.628, Validation accuracy: 0.860\n",
      "epoch: 422, Train error: 0.266, Train accuracy: 0.901 Validation error: 0.639, Validation accuracy: 0.860\n",
      "epoch: 423, Train error: 0.264, Train accuracy: 0.902 Validation error: 0.632, Validation accuracy: 0.859\n",
      "epoch: 424, Train error: 0.263, Train accuracy: 0.902 Validation error: 0.637, Validation accuracy: 0.858\n",
      "epoch: 425, Train error: 0.263, Train accuracy: 0.902 Validation error: 0.644, Validation accuracy: 0.861\n",
      "epoch: 426, Train error: 0.265, Train accuracy: 0.902 Validation error: 0.636, Validation accuracy: 0.860\n",
      "epoch: 427, Train error: 0.261, Train accuracy: 0.901 Validation error: 0.631, Validation accuracy: 0.860\n",
      "epoch: 428, Train error: 0.261, Train accuracy: 0.902 Validation error: 0.629, Validation accuracy: 0.858\n",
      "epoch: 429, Train error: 0.262, Train accuracy: 0.901 Validation error: 0.637, Validation accuracy: 0.859\n",
      "epoch: 430, Train error: 0.261, Train accuracy: 0.903 Validation error: 0.641, Validation accuracy: 0.859\n",
      "epoch: 431, Train error: 0.265, Train accuracy: 0.901 Validation error: 0.635, Validation accuracy: 0.859\n",
      "epoch: 432, Train error: 0.268, Train accuracy: 0.900 Validation error: 0.641, Validation accuracy: 0.860\n",
      "epoch: 433, Train error: 0.263, Train accuracy: 0.901 Validation error: 0.644, Validation accuracy: 0.859\n",
      "epoch: 434, Train error: 0.264, Train accuracy: 0.901 Validation error: 0.633, Validation accuracy: 0.858\n",
      "epoch: 435, Train error: 0.261, Train accuracy: 0.902 Validation error: 0.642, Validation accuracy: 0.858\n",
      "epoch: 436, Train error: 0.261, Train accuracy: 0.903 Validation error: 0.638, Validation accuracy: 0.857\n",
      "epoch: 437, Train error: 0.263, Train accuracy: 0.901 Validation error: 0.637, Validation accuracy: 0.859\n",
      "epoch: 438, Train error: 0.261, Train accuracy: 0.902 Validation error: 0.637, Validation accuracy: 0.860\n",
      "epoch: 439, Train error: 0.261, Train accuracy: 0.903 Validation error: 0.636, Validation accuracy: 0.859\n",
      "epoch: 440, Train error: 0.258, Train accuracy: 0.903 Validation error: 0.638, Validation accuracy: 0.858\n",
      "epoch: 441, Train error: 0.258, Train accuracy: 0.903 Validation error: 0.634, Validation accuracy: 0.862\n",
      "epoch: 442, Train error: 0.263, Train accuracy: 0.904 Validation error: 0.640, Validation accuracy: 0.860\n",
      "epoch: 443, Train error: 0.261, Train accuracy: 0.905 Validation error: 0.647, Validation accuracy: 0.858\n",
      "epoch: 444, Train error: 0.258, Train accuracy: 0.904 Validation error: 0.634, Validation accuracy: 0.861\n",
      "epoch: 445, Train error: 0.260, Train accuracy: 0.903 Validation error: 0.655, Validation accuracy: 0.855\n",
      "epoch: 446, Train error: 0.257, Train accuracy: 0.903 Validation error: 0.635, Validation accuracy: 0.858\n",
      "epoch: 447, Train error: 0.260, Train accuracy: 0.903 Validation error: 0.644, Validation accuracy: 0.857\n",
      "epoch: 448, Train error: 0.257, Train accuracy: 0.903 Validation error: 0.650, Validation accuracy: 0.855\n",
      "epoch: 449, Train error: 0.260, Train accuracy: 0.903 Validation error: 0.644, Validation accuracy: 0.858\n",
      "epoch: 450, Train error: 0.259, Train accuracy: 0.904 Validation error: 0.635, Validation accuracy: 0.861\n",
      "epoch: 451, Train error: 0.260, Train accuracy: 0.902 Validation error: 0.638, Validation accuracy: 0.859\n",
      "epoch: 452, Train error: 0.257, Train accuracy: 0.903 Validation error: 0.640, Validation accuracy: 0.857\n",
      "epoch: 453, Train error: 0.255, Train accuracy: 0.904 Validation error: 0.646, Validation accuracy: 0.858\n",
      "epoch: 454, Train error: 0.257, Train accuracy: 0.903 Validation error: 0.652, Validation accuracy: 0.858\n",
      "epoch: 455, Train error: 0.254, Train accuracy: 0.904 Validation error: 0.645, Validation accuracy: 0.858\n",
      "epoch: 456, Train error: 0.261, Train accuracy: 0.903 Validation error: 0.642, Validation accuracy: 0.857\n",
      "epoch: 457, Train error: 0.256, Train accuracy: 0.904 Validation error: 0.644, Validation accuracy: 0.858\n",
      "epoch: 458, Train error: 0.255, Train accuracy: 0.904 Validation error: 0.647, Validation accuracy: 0.859\n",
      "epoch: 459, Train error: 0.252, Train accuracy: 0.906 Validation error: 0.646, Validation accuracy: 0.859\n",
      "epoch: 460, Train error: 0.256, Train accuracy: 0.904 Validation error: 0.641, Validation accuracy: 0.860\n",
      "epoch: 461, Train error: 0.255, Train accuracy: 0.905 Validation error: 0.647, Validation accuracy: 0.859\n",
      "epoch: 462, Train error: 0.257, Train accuracy: 0.905 Validation error: 0.645, Validation accuracy: 0.858\n",
      "epoch: 463, Train error: 0.255, Train accuracy: 0.906 Validation error: 0.648, Validation accuracy: 0.861\n",
      "epoch: 464, Train error: 0.256, Train accuracy: 0.904 Validation error: 0.645, Validation accuracy: 0.860\n",
      "epoch: 465, Train error: 0.256, Train accuracy: 0.904 Validation error: 0.640, Validation accuracy: 0.862\n",
      "epoch: 466, Train error: 0.250, Train accuracy: 0.906 Validation error: 0.650, Validation accuracy: 0.859\n",
      "epoch: 467, Train error: 0.258, Train accuracy: 0.903 Validation error: 0.647, Validation accuracy: 0.860\n",
      "epoch: 468, Train error: 0.255, Train accuracy: 0.905 Validation error: 0.643, Validation accuracy: 0.861\n"
     ]
    },
    {
     "name": "stdout",
     "output_type": "stream",
     "text": [
      "epoch: 469, Train error: 0.253, Train accuracy: 0.905 Validation error: 0.650, Validation accuracy: 0.858\n",
      "epoch: 470, Train error: 0.252, Train accuracy: 0.905 Validation error: 0.643, Validation accuracy: 0.862\n",
      "epoch: 471, Train error: 0.252, Train accuracy: 0.904 Validation error: 0.651, Validation accuracy: 0.858\n",
      "epoch: 472, Train error: 0.254, Train accuracy: 0.903 Validation error: 0.648, Validation accuracy: 0.857\n",
      "epoch: 473, Train error: 0.255, Train accuracy: 0.906 Validation error: 0.643, Validation accuracy: 0.860\n",
      "epoch: 474, Train error: 0.254, Train accuracy: 0.905 Validation error: 0.640, Validation accuracy: 0.861\n",
      "epoch: 475, Train error: 0.253, Train accuracy: 0.905 Validation error: 0.652, Validation accuracy: 0.858\n",
      "epoch: 476, Train error: 0.251, Train accuracy: 0.907 Validation error: 0.637, Validation accuracy: 0.860\n",
      "epoch: 477, Train error: 0.252, Train accuracy: 0.906 Validation error: 0.642, Validation accuracy: 0.861\n",
      "epoch: 478, Train error: 0.252, Train accuracy: 0.906 Validation error: 0.646, Validation accuracy: 0.858\n",
      "epoch: 479, Train error: 0.254, Train accuracy: 0.905 Validation error: 0.642, Validation accuracy: 0.860\n",
      "epoch: 480, Train error: 0.255, Train accuracy: 0.905 Validation error: 0.640, Validation accuracy: 0.860\n",
      "epoch: 481, Train error: 0.252, Train accuracy: 0.906 Validation error: 0.642, Validation accuracy: 0.860\n",
      "epoch: 482, Train error: 0.248, Train accuracy: 0.906 Validation error: 0.641, Validation accuracy: 0.859\n",
      "epoch: 483, Train error: 0.250, Train accuracy: 0.906 Validation error: 0.646, Validation accuracy: 0.863\n",
      "epoch: 484, Train error: 0.255, Train accuracy: 0.904 Validation error: 0.645, Validation accuracy: 0.858\n",
      "epoch: 485, Train error: 0.250, Train accuracy: 0.907 Validation error: 0.645, Validation accuracy: 0.861\n",
      "epoch: 486, Train error: 0.249, Train accuracy: 0.905 Validation error: 0.635, Validation accuracy: 0.861\n",
      "epoch: 487, Train error: 0.249, Train accuracy: 0.908 Validation error: 0.639, Validation accuracy: 0.861\n",
      "epoch: 488, Train error: 0.249, Train accuracy: 0.906 Validation error: 0.646, Validation accuracy: 0.861\n",
      "epoch: 489, Train error: 0.249, Train accuracy: 0.907 Validation error: 0.652, Validation accuracy: 0.860\n",
      "epoch: 490, Train error: 0.247, Train accuracy: 0.908 Validation error: 0.644, Validation accuracy: 0.860\n",
      "epoch: 491, Train error: 0.251, Train accuracy: 0.906 Validation error: 0.647, Validation accuracy: 0.858\n",
      "epoch: 492, Train error: 0.246, Train accuracy: 0.907 Validation error: 0.649, Validation accuracy: 0.860\n",
      "epoch: 493, Train error: 0.249, Train accuracy: 0.907 Validation error: 0.652, Validation accuracy: 0.859\n",
      "epoch: 494, Train error: 0.249, Train accuracy: 0.908 Validation error: 0.655, Validation accuracy: 0.858\n",
      "epoch: 495, Train error: 0.249, Train accuracy: 0.905 Validation error: 0.655, Validation accuracy: 0.859\n",
      "epoch: 496, Train error: 0.246, Train accuracy: 0.907 Validation error: 0.650, Validation accuracy: 0.857\n",
      "epoch: 497, Train error: 0.247, Train accuracy: 0.908 Validation error: 0.647, Validation accuracy: 0.861\n",
      "epoch: 498, Train error: 0.247, Train accuracy: 0.908 Validation error: 0.654, Validation accuracy: 0.861\n",
      "epoch: 499, Train error: 0.249, Train accuracy: 0.907 Validation error: 0.652, Validation accuracy: 0.860\n"
     ]
    }
   ],
   "source": [
    "for epoch in range(max_epoch):\n",
    "    train_error = 0\n",
    "    valid_error = 0\n",
    "    train_accuracy = 0\n",
    "    valid_accuracy = 0\n",
    "    \n",
    "    for i in range(train_steps):\n",
    "        batch_start = i * batch_size\n",
    "        batch_end = (i+1) * batch_size\n",
    "        \n",
    "        input = train_dataset[batch_start:batch_end]\n",
    "        true = train_labels[batch_start:batch_end]\n",
    "        \n",
    "        #Forward pass\n",
    "        layer1.forward(input)\n",
    "        activation1.forward(layer1.output)\n",
    "        dropout1.forward(activation1.output)\n",
    "        layer2.forward(dropout1.output)\n",
    "        train_error += loss.forward(layer2.output, true) / train_steps\n",
    "        train_accuracy += accuracy.calculate(layer2.output, true) / train_steps\n",
    "        \n",
    "        #Backward pass\n",
    "        loss.backward(loss.activation.output, true)\n",
    "        layer2.backward(loss.dresults)\n",
    "        dropout1.backward(layer2.dresults)\n",
    "        activation1.backward(dropout1.dresults)\n",
    "        layer1.backward(activation1.dresults)\n",
    "\n",
    "\n",
    "        optimizer.update_parameters(layer2)\n",
    "        optimizer.update_parameters(layer1)\n",
    "    \n",
    "    for i in range(valid_steps):\n",
    "        batch_start = i * batch_size\n",
    "        batch_end = (i+1) * batch_size\n",
    "        \n",
    "        input = validation_dataset[batch_start:batch_end]\n",
    "        true = validation_labels[batch_start:batch_end]\n",
    "        \n",
    "        #Forward pass\n",
    "        layer1.forward(input)\n",
    "        activation1.forward(layer1.output)\n",
    "        layer2.forward(activation1.output)\n",
    "        valid_error += loss.forward(layer2.output, true) / valid_steps\n",
    "        valid_accuracy += accuracy.calculate(layer2.output, true) / valid_steps\n",
    "    \n",
    "    train_error_history.append(train_error)\n",
    "    valid_error_history.append(valid_error)\n",
    "    print(f'epoch: {epoch},',\n",
    "          f'Train error: {train_error:.3f},',\n",
    "          f'Train accuracy: {train_accuracy:.3f}',\n",
    "          f'Validation error: {valid_error:.3f},',\n",
    "          f'Validation accuracy: {valid_accuracy:.3f}')"
   ]
  },
  {
   "cell_type": "code",
   "execution_count": 36,
   "id": "1e4f9e83",
   "metadata": {},
   "outputs": [
    {
     "data": {
      "text/plain": [
       "<matplotlib.legend.Legend at 0x1f87f24f8b0>"
      ]
     },
     "execution_count": 36,
     "metadata": {},
     "output_type": "execute_result"
    },
    {
     "data": {
      "image/png": "[encoded data removed]",
      "text/plain": [
       "<Figure size 432x288 with 1 Axes>"
      ]
     },
     "metadata": {
      "needs_background": "light"
     },
     "output_type": "display_data"
    }
   ],
   "source": [
    "# plt.plot(train_error_history, label='training error')\n",
    "plt.plot(valid_error_history, label='validation error')\n",
    "plt.legend()"
   ]
  },
  {
   "cell_type": "markdown",
   "id": "3b236fa4",
   "metadata": {},
   "source": [
    "### Testing the model"
   ]
  },
  {
   "cell_type": "code",
   "execution_count": 33,
   "id": "3253f918",
   "metadata": {},
   "outputs": [],
   "source": [
    "test_steps = len(test_dataset) // batch_size\n",
    "if test_steps * batch_size < len(test_dataset):\n",
    "    test_steps += 1"
   ]
  },
  {
   "cell_type": "code",
   "execution_count": 34,
   "id": "66c60452",
   "metadata": {},
   "outputs": [],
   "source": [
    "test_error = 0\n",
    "test_accuracy = 0\n",
    "\n",
    "for i in range(test_steps):\n",
    "    batch_start = i * batch_size\n",
    "    batch_end = (i+1) * batch_size\n",
    "    \n",
    "    input = test_dataset[batch_start:batch_end]\n",
    "    true = test_labels[batch_start:batch_end]\n",
    "    \n",
    "    layer1.forward(input)\n",
    "    activation1.forward(layer1.output)\n",
    "    layer2.forward(activation1.output)\n",
    "    test_error += loss.forward(layer2.output, true) / test_steps\n",
    "    test_accuracy += accuracy.calculate(layer2.output, true) / test_steps"
   ]
  },
  {
   "cell_type": "code",
   "execution_count": 35,
   "id": "d8902639",
   "metadata": {},
   "outputs": [
    {
     "name": "stdout",
     "output_type": "stream",
     "text": [
      "Test error: 0.714, Test accuracy: 0.851\n"
     ]
    }
   ],
   "source": [
    "print(f'Test error: {test_error:.3f},',\n",
    "      f'Test accuracy: {test_accuracy:.3f}')"
   ]
  },
  {
   "cell_type": "code",
   "execution_count": null,
   "id": "cb7c8f5a",
   "metadata": {},
   "outputs": [],
   "source": []
  }
 ],
 "metadata": {
  "kernelspec": {
   "display_name": "Python 3",
   "language": "python",
   "name": "python3"
  },
  "language_info": {
   "codemirror_mode": {
    "name": "ipython",
    "version": 3
   },
   "file_extension": ".py",
   "mimetype": "text/x-python",
   "name": "python",
   "nbconvert_exporter": "python",
   "pygments_lexer": "ipython3",
   "version": "3.9.5"
  }
 },
 "nbformat": 4,
 "nbformat_minor": 5
}
